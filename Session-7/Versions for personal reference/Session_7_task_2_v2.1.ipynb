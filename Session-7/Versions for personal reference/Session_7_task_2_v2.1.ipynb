{
  "nbformat": 4,
  "nbformat_minor": 0,
  "metadata": {
    "colab": {
      "name": "Copy of Session 7-task 2.ipynb",
      "version": "0.3.2",
      "provenance": [],
      "collapsed_sections": []
    },
    "kernelspec": {
      "name": "python3",
      "display_name": "Python 3"
    },
    "accelerator": "GPU"
  },
  "cells": [
    {
      "cell_type": "markdown",
      "metadata": {
        "id": "3v6PxkXd6a3s",
        "colab_type": "text"
      },
      "source": [
        "Session 7 Task 2\n",
        "\n",
        "Problem statement:\n",
        "Design this network (CIFAR10):\n",
        "1. Image result for eNAS network architecture\n",
        "2. The lines you see are the skip-connections. You need to add them\n",
        "3. Train for 100 Epochs (add BN and ReLU after every layer)\n",
        "4. Submit the results\n"
      ]
    },
    {
      "cell_type": "markdown",
      "metadata": {
        "id": "USsdQoEx0Ano",
        "colab_type": "text"
      },
      "source": [
        "Importing al necessary keras, matplot, numpy libs"
      ]
    },
    {
      "cell_type": "code",
      "metadata": {
        "id": "KkwXnw9OfHZl",
        "colab_type": "code",
        "outputId": "b49d43b7-2be6-4ea3-e311-395296f4a281",
        "colab": {
          "base_uri": "https://localhost:8080/",
          "height": 34
        }
      },
      "source": [
        "from keras import backend as K\n",
        "import time\n",
        "import matplotlib.pyplot as plt\n",
        "import numpy as np\n",
        "% matplotlib inline\n",
        "np.random.seed(2017) \n",
        "from keras.models import Sequential\n",
        "from keras.layers.convolutional import Convolution2D, MaxPooling2D, SeparableConv2D, DepthwiseConv2D\n",
        "from keras.layers import Activation, Flatten, Dense, Dropout\n",
        "from keras.layers.normalization import BatchNormalization\n",
        "from keras.utils import np_utils"
      ],
      "execution_count": 1,
      "outputs": [
        {
          "output_type": "stream",
          "text": [
            "Using TensorFlow backend.\n"
          ],
          "name": "stderr"
        }
      ]
    },
    {
      "cell_type": "code",
      "metadata": {
        "id": "Sz0fn7CXQ7Qh",
        "colab_type": "code",
        "outputId": "80bbf13e-52ad-4046-9de9-ffe0f7ac09df",
        "colab": {
          "base_uri": "https://localhost:8080/",
          "height": 34
        }
      },
      "source": [
        "#preparing check point for saving weights via callback\n",
        "from google.colab import drive\n",
        "from keras.callbacks import CSVLogger\n",
        "from keras.callbacks import ModelCheckpoint\n",
        "\n",
        "drive.mount('/content/gdrive')"
      ],
      "execution_count": 2,
      "outputs": [
        {
          "output_type": "stream",
          "text": [
            "Drive already mounted at /content/gdrive; to attempt to forcibly remount, call drive.mount(\"/content/gdrive\", force_remount=True).\n"
          ],
          "name": "stdout"
        }
      ]
    },
    {
      "cell_type": "markdown",
      "metadata": {
        "id": "QKYjmn05z9aa",
        "colab_type": "text"
      },
      "source": [
        "Importing, loading data in train and test"
      ]
    },
    {
      "cell_type": "code",
      "metadata": {
        "id": "NHpnoCHZfO8g",
        "colab_type": "code",
        "colab": {}
      },
      "source": [
        "from keras.datasets import cifar10\n",
        "(train_features, train_labels), (test_features, test_labels) = cifar10.load_data()\n",
        "num_train, img_channels, img_rows, img_cols =  train_features.shape\n",
        "num_test, _, _, _ =  test_features.shape\n",
        "num_classes = len(np.unique(train_labels))"
      ],
      "execution_count": 0,
      "outputs": []
    },
    {
      "cell_type": "markdown",
      "metadata": {
        "id": "AqiK87Da0HXr",
        "colab_type": "text"
      },
      "source": [
        "Viewsing train data for labels."
      ]
    },
    {
      "cell_type": "code",
      "metadata": {
        "id": "14HyBUXdfS6G",
        "colab_type": "code",
        "outputId": "29e38eaf-6c35-40c5-e348-be535de3c617",
        "colab": {
          "base_uri": "https://localhost:8080/",
          "height": 213
        }
      },
      "source": [
        "class_names = ['airplane','automobile','bird','cat','deer',\n",
        "               'dog','frog','horse','ship','truck']\n",
        "fig = plt.figure(figsize=(8,3))\n",
        "for i in range(num_classes):\n",
        "    ax = fig.add_subplot(2, 5, 1 + i, xticks=[], yticks=[])\n",
        "    idx = np.where(train_labels[:]==i)[0]\n",
        "    features_idx = train_features[idx,::]\n",
        "    img_num = np.random.randint(features_idx.shape[0])\n",
        "    im = features_idx[img_num]\n",
        "    ax.set_title(class_names[i])\n",
        "    plt.imshow(im)\n",
        "plt.show()"
      ],
      "execution_count": 4,
      "outputs": [
        {
          "output_type": "display_data",
          "data": {
            "image/png": "[encoded data removed]",
            "text/plain": [
              "<Figure size 576x216 with 10 Axes>"
            ]
          },
          "metadata": {
            "tags": []
          }
        }
      ]
    },
    {
      "cell_type": "markdown",
      "metadata": {
        "id": "XrOuZ6Qz0R_L",
        "colab_type": "text"
      },
      "source": [
        "Defigning function to plot model training validation accuracy and loss"
      ]
    },
    {
      "cell_type": "code",
      "metadata": {
        "id": "bmfsk76-fadV",
        "colab_type": "code",
        "colab": {}
      },
      "source": [
        "def plot_model_history(model_history):\n",
        "    fig, axs = plt.subplots(1,2,figsize=(15,5))\n",
        "    # summarize history for accuracy\n",
        "    axs[0].plot(range(1,len(model_history.history['acc'])+1),model_history.history['acc'])\n",
        "    axs[0].plot(range(1,len(model_history.history['val_acc'])+1),model_history.history['val_acc'])\n",
        "    axs[0].set_title('Model Accuracy')\n",
        "    axs[0].set_ylabel('Accuracy')\n",
        "    axs[0].set_xlabel('Epoch')\n",
        "    axs[0].set_xticks(np.arange(1,len(model_history.history['acc'])+1),len(model_history.history['acc'])/10)\n",
        "    axs[0].legend(['train', 'val'], loc='best')\n",
        "    # summarize history for loss\n",
        "    axs[1].plot(range(1,len(model_history.history['loss'])+1),model_history.history['loss'])\n",
        "    axs[1].plot(range(1,len(model_history.history['val_loss'])+1),model_history.history['val_loss'])\n",
        "    axs[1].set_title('Model Loss')\n",
        "    axs[1].set_ylabel('Loss')\n",
        "    axs[1].set_xlabel('Epoch')\n",
        "    axs[1].set_xticks(np.arange(1,len(model_history.history['loss'])+1),len(model_history.history['loss'])/10)\n",
        "    axs[1].legend(['train', 'val'], loc='best')\n",
        "    plt.show()"
      ],
      "execution_count": 0,
      "outputs": []
    },
    {
      "cell_type": "markdown",
      "metadata": {
        "id": "4Mn7RV2U0uQ6",
        "colab_type": "text"
      },
      "source": [
        "Defining function to find and return accracy of trained model in percentage"
      ]
    },
    {
      "cell_type": "code",
      "metadata": {
        "id": "YJMT4rjgfdZz",
        "colab_type": "code",
        "colab": {}
      },
      "source": [
        "def accuracy(test_x, test_y, model):\n",
        "    result = model.predict(test_x)\n",
        "    predicted_class = np.argmax(result, axis=1)\n",
        "    true_class = np.argmax(test_y, axis=1)\n",
        "    num_correct = np.sum(predicted_class == true_class) \n",
        "    accuracy = float(num_correct)/result.shape[0]\n",
        "    return (accuracy * 100)"
      ],
      "execution_count": 0,
      "outputs": []
    },
    {
      "cell_type": "markdown",
      "metadata": {
        "id": "0OPhvx4602Cz",
        "colab_type": "text"
      },
      "source": [
        "Normalizing train and test data \n",
        "Converting labels from 1-D to 2-D with leangth of second dimention is num_class"
      ]
    },
    {
      "cell_type": "code",
      "metadata": {
        "id": "T5c5nDvxm6zR",
        "colab_type": "code",
        "colab": {}
      },
      "source": [
        "train_features = train_features.astype('float32')/255\n",
        "test_features = test_features.astype('float32')/255\n",
        "# convert class labels to binary class labels\n",
        "train_labels = np_utils.to_categorical(train_labels, num_classes)\n",
        "test_labels = np_utils.to_categorical(test_labels, num_classes)"
      ],
      "execution_count": 0,
      "outputs": []
    },
    {
      "cell_type": "markdown",
      "metadata": {
        "id": "vP0nihOX1Yac",
        "colab_type": "text"
      },
      "source": [
        "Defining ENAS network arch"
      ]
    },
    {
      "cell_type": "code",
      "metadata": {
        "id": "E54Zpn9wVHb-",
        "colab_type": "code",
        "colab": {
          "base_uri": "https://localhost:8080/",
          "height": 292
        },
        "outputId": "aafa51df-bac1-4da5-e34a-30cdd3070eb0"
      },
      "source": [
        "#Defining model\n",
        "\n",
        "#importing necessary modules\n",
        "from keras.models import Model\n",
        "from keras.layers import Input, Flatten, Conv2D\n",
        "from keras.layers.merge import concatenate\n",
        "\n",
        "# input layer\n",
        "visible = Input(shape=(32,32,3))\n",
        "\n",
        "# layer1 Sep 5x5 \n",
        "layer11 = Conv2D(32, (3, 3), padding=\"same\", activation='relu') (visible)\n",
        "layer12 = Conv2D(32, (3, 1), padding=\"same\", activation='relu') (layer11)\n",
        "layer1 = Conv2D(32, (1, 3), padding=\"same\", activation='relu') (layer12)\n",
        "layer1 = (BatchNormalization())(layer1) \n",
        "\n",
        "# layer2 conv 5x5\n",
        "layer21 = Conv2D(32, (3, 3), padding=\"same\", activation='relu') (layer1)\n",
        "layer2 = Conv2D(32, (3, 3), padding=\"same\", activation='relu') (layer21)\n",
        "layer2 = (BatchNormalization())(layer2) \n",
        "\n",
        "# layer3 conc 5x5\n",
        "layer31 = Conv2D(32, (3, 3), padding=\"same\", activation='relu') (layer2)\n",
        "layer3 = Conv2D(32, (3, 3), padding=\"same\", activation='relu') (layer31)\n",
        "layer3 = (BatchNormalization())(layer3) \n",
        "\n",
        "# layer4 Sep 5x5 from 1\n",
        "layer41 = Conv2D(32, (3, 3), padding=\"same\", activation='relu') (concatenate([layer1, layer3]))\n",
        "layer42 = Conv2D(32, (3, 1), padding=\"same\", activation='relu') (layer41)\n",
        "layer4 = Conv2D(32, (1, 3), padding=\"same\", activation='relu') (layer42)\n",
        "layer4 = (BatchNormalization())(layer4) \n",
        "\n",
        "# pool1 maxpooling skip from 1\n",
        "btl_nek1 = Conv2D(16, (1, 1), padding=\"same\", activation='relu') (concatenate([layer1, layer4]))\n",
        "pool1 = MaxPooling2D(pool_size=(2, 2), padding=\"same\", strides=1) (btl_nek1)\n",
        "\n",
        "# layer5 sep 3x3 \n",
        "layer51 = Conv2D(32, (3, 1), padding=\"same\", activation='relu') (pool1)\n",
        "layer5 = Conv2D(32, (1, 3), padding=\"same\", activation='relu') (layer51)\n",
        "layer5 = (BatchNormalization())(layer5) \n",
        "\n",
        "# layer6 conv 5x5 skip from 1,4\n",
        "layer61 = Conv2D(32, (3, 3), padding=\"same\", activation='relu') (concatenate([layer1, layer4, layer5]))\n",
        "layer6 = Conv2D(32, (3, 3), padding=\"same\", activation='relu') (layer61)\n",
        "layer6 = (BatchNormalization())(layer6) \n",
        "\n",
        "# layer7 sep 3x3 skip from 3,4,5\n",
        "layer71 = Conv2D(32, (3, 1), padding=\"same\", activation='relu') (concatenate([layer3, layer4, layer5, layer6]))\n",
        "layer7 = Conv2D(32, (1, 3), padding=\"same\", activation='relu') (layer71)\n",
        "layer7 = (BatchNormalization())(layer7) \n",
        "\n",
        "# layer8 sep 5x5 skip from 1,3,4,5,6\n",
        "layer81 = Conv2D(32, (3, 3), padding=\"same\", activation='relu') (concatenate([layer1, layer3, layer4, layer5, layer6, layer7]))\n",
        "layer82 = Conv2D(32, (3, 1), padding=\"same\", activation='relu') (layer81)\n",
        "layer8 = Conv2D(32, (1, 3), padding=\"same\", activation='relu') (layer82)\n",
        "layer8 = (BatchNormalization())(layer8) \n",
        "\n",
        "# pool2 maxpooling skip from 1,4,5,7\n",
        "btl_nek10 = Conv2D(16, (1, 1), padding=\"same\", activation='relu') (concatenate([layer1, layer4, layer5, layer7, layer8]))\n",
        "pool2 = MaxPooling2D(pool_size=(2, 2), padding=\"same\", strides=1) (btl_nek10)\n",
        "\n",
        "# layer9 conv 5x5 skip from 6\n",
        "layer91 = Conv2D(32, (3, 3), padding=\"same\", activation='relu') (concatenate([layer6, pool2]))\n",
        "layer9 = Conv2D(32, (3, 3), padding=\"same\", activation='relu') (layer91)\n",
        "layer9 = (BatchNormalization())(layer9) \n",
        "\n",
        "# layer10 sep 5x5 skip from 1,2,4,7\n",
        "layer101 = Conv2D(32, (3, 3), padding=\"same\", activation='relu') (concatenate([layer1, layer2, layer4, layer7, layer9]))\n",
        "layer102 = Conv2D(32, (3, 1), padding=\"same\", activation='relu') (layer101)\n",
        "layer10 = Conv2D(32, (1, 3), padding=\"same\", activation='relu') (layer102)\n",
        "layer10 = (BatchNormalization())(layer10) \n",
        "\n",
        "# layer11 conv 3x3 skip from 2,3,5,9\n",
        "layer11 = Conv2D(32, (3, 3), padding=\"same\", activation='relu') (concatenate([layer2, layer3, layer5, layer9, layer10]))\n",
        "layer11 = (BatchNormalization())(layer11) \n",
        "  \n",
        "# layer12 sep 5x5 skip from 3,4,5,7,10\n",
        "layer121 = Conv2D(32, (3, 3), padding=\"same\", activation='relu') (concatenate([layer3, layer4, layer5, layer7, layer10, layer11]))\n",
        "layer122 = Conv2D(32, (3, 1), padding=\"same\", activation='relu') (layer121)\n",
        "layer12 = Conv2D(32, (1, 3), padding=\"same\") (layer122)\n",
        "layer12 = (BatchNormalization())(layer12) \n",
        "\n",
        "# last part skip from 4,8,12\n",
        "flat = Flatten()(concatenate([layer4, layer7, layer10, layer12]))\n",
        "last = Dense(10)(flat)\n",
        "output = Dense(10, activation='softmax')(last)\n",
        "model = Model(inputs=visible, outputs=output)"
      ],
      "execution_count": 8,
      "outputs": [
        {
          "output_type": "stream",
          "text": [
            "WARNING: Logging before flag parsing goes to stderr.\n",
            "W0616 10:19:13.007233 139871098079104 deprecation_wrapper.py:119] From /usr/local/lib/python3.6/dist-packages/keras/backend/tensorflow_backend.py:74: The name tf.get_default_graph is deprecated. Please use tf.compat.v1.get_default_graph instead.\n",
            "\n",
            "W0616 10:19:13.048682 139871098079104 deprecation_wrapper.py:119] From /usr/local/lib/python3.6/dist-packages/keras/backend/tensorflow_backend.py:517: The name tf.placeholder is deprecated. Please use tf.compat.v1.placeholder instead.\n",
            "\n",
            "W0616 10:19:13.057359 139871098079104 deprecation_wrapper.py:119] From /usr/local/lib/python3.6/dist-packages/keras/backend/tensorflow_backend.py:4138: The name tf.random_uniform is deprecated. Please use tf.random.uniform instead.\n",
            "\n",
            "W0616 10:19:13.162026 139871098079104 deprecation_wrapper.py:119] From /usr/local/lib/python3.6/dist-packages/keras/backend/tensorflow_backend.py:174: The name tf.get_default_session is deprecated. Please use tf.compat.v1.get_default_session instead.\n",
            "\n",
            "W0616 10:19:13.166854 139871098079104 deprecation_wrapper.py:119] From /usr/local/lib/python3.6/dist-packages/keras/backend/tensorflow_backend.py:181: The name tf.ConfigProto is deprecated. Please use tf.compat.v1.ConfigProto instead.\n",
            "\n",
            "W0616 10:19:14.745224 139871098079104 deprecation_wrapper.py:119] From /usr/local/lib/python3.6/dist-packages/keras/backend/tensorflow_backend.py:1834: The name tf.nn.fused_batch_norm is deprecated. Please use tf.compat.v1.nn.fused_batch_norm instead.\n",
            "\n",
            "W0616 10:19:15.604502 139871098079104 deprecation_wrapper.py:119] From /usr/local/lib/python3.6/dist-packages/keras/backend/tensorflow_backend.py:3976: The name tf.nn.max_pool is deprecated. Please use tf.nn.max_pool2d instead.\n",
            "\n"
          ],
          "name": "stderr"
        }
      ]
    },
    {
      "cell_type": "code",
      "metadata": {
        "id": "wvVs5tC8mR6Q",
        "colab_type": "code",
        "outputId": "5f2bab79-1c5f-46ae-dcf5-c05f0d02487d",
        "colab": {
          "base_uri": "https://localhost:8080/",
          "height": 2703
        }
      },
      "source": [
        "model.summary()"
      ],
      "execution_count": 9,
      "outputs": [
        {
          "output_type": "stream",
          "text": [
            "__________________________________________________________________________________________________\n",
            "Layer (type)                    Output Shape         Param #     Connected to                     \n",
            "==================================================================================================\n",
            "input_1 (InputLayer)            (None, 32, 32, 3)    0                                            \n",
            "__________________________________________________________________________________________________\n",
            "conv2d_1 (Conv2D)               (None, 32, 32, 32)   896         input_1[0][0]                    \n",
            "__________________________________________________________________________________________________\n",
            "conv2d_2 (Conv2D)               (None, 32, 32, 32)   3104        conv2d_1[0][0]                   \n",
            "__________________________________________________________________________________________________\n",
            "conv2d_3 (Conv2D)               (None, 32, 32, 32)   3104        conv2d_2[0][0]                   \n",
            "__________________________________________________________________________________________________\n",
            "batch_normalization_1 (BatchNor (None, 32, 32, 32)   128         conv2d_3[0][0]                   \n",
            "__________________________________________________________________________________________________\n",
            "conv2d_4 (Conv2D)               (None, 32, 32, 32)   9248        batch_normalization_1[0][0]      \n",
            "__________________________________________________________________________________________________\n",
            "conv2d_5 (Conv2D)               (None, 32, 32, 32)   9248        conv2d_4[0][0]                   \n",
            "__________________________________________________________________________________________________\n",
            "batch_normalization_2 (BatchNor (None, 32, 32, 32)   128         conv2d_5[0][0]                   \n",
            "__________________________________________________________________________________________________\n",
            "conv2d_6 (Conv2D)               (None, 32, 32, 32)   9248        batch_normalization_2[0][0]      \n",
            "__________________________________________________________________________________________________\n",
            "conv2d_7 (Conv2D)               (None, 32, 32, 32)   9248        conv2d_6[0][0]                   \n",
            "__________________________________________________________________________________________________\n",
            "batch_normalization_3 (BatchNor (None, 32, 32, 32)   128         conv2d_7[0][0]                   \n",
            "__________________________________________________________________________________________________\n",
            "concatenate_1 (Concatenate)     (None, 32, 32, 64)   0           batch_normalization_1[0][0]      \n",
            "                                                                 batch_normalization_3[0][0]      \n",
            "__________________________________________________________________________________________________\n",
            "conv2d_8 (Conv2D)               (None, 32, 32, 32)   18464       concatenate_1[0][0]              \n",
            "__________________________________________________________________________________________________\n",
            "conv2d_9 (Conv2D)               (None, 32, 32, 32)   3104        conv2d_8[0][0]                   \n",
            "__________________________________________________________________________________________________\n",
            "conv2d_10 (Conv2D)              (None, 32, 32, 32)   3104        conv2d_9[0][0]                   \n",
            "__________________________________________________________________________________________________\n",
            "batch_normalization_4 (BatchNor (None, 32, 32, 32)   128         conv2d_10[0][0]                  \n",
            "__________________________________________________________________________________________________\n",
            "concatenate_2 (Concatenate)     (None, 32, 32, 64)   0           batch_normalization_1[0][0]      \n",
            "                                                                 batch_normalization_4[0][0]      \n",
            "__________________________________________________________________________________________________\n",
            "conv2d_11 (Conv2D)              (None, 32, 32, 16)   1040        concatenate_2[0][0]              \n",
            "__________________________________________________________________________________________________\n",
            "max_pooling2d_1 (MaxPooling2D)  (None, 32, 32, 16)   0           conv2d_11[0][0]                  \n",
            "__________________________________________________________________________________________________\n",
            "conv2d_12 (Conv2D)              (None, 32, 32, 32)   1568        max_pooling2d_1[0][0]            \n",
            "__________________________________________________________________________________________________\n",
            "conv2d_13 (Conv2D)              (None, 32, 32, 32)   3104        conv2d_12[0][0]                  \n",
            "__________________________________________________________________________________________________\n",
            "batch_normalization_5 (BatchNor (None, 32, 32, 32)   128         conv2d_13[0][0]                  \n",
            "__________________________________________________________________________________________________\n",
            "concatenate_3 (Concatenate)     (None, 32, 32, 96)   0           batch_normalization_1[0][0]      \n",
            "                                                                 batch_normalization_4[0][0]      \n",
            "                                                                 batch_normalization_5[0][0]      \n",
            "__________________________________________________________________________________________________\n",
            "conv2d_14 (Conv2D)              (None, 32, 32, 32)   27680       concatenate_3[0][0]              \n",
            "__________________________________________________________________________________________________\n",
            "conv2d_15 (Conv2D)              (None, 32, 32, 32)   9248        conv2d_14[0][0]                  \n",
            "__________________________________________________________________________________________________\n",
            "batch_normalization_6 (BatchNor (None, 32, 32, 32)   128         conv2d_15[0][0]                  \n",
            "__________________________________________________________________________________________________\n",
            "concatenate_4 (Concatenate)     (None, 32, 32, 128)  0           batch_normalization_3[0][0]      \n",
            "                                                                 batch_normalization_4[0][0]      \n",
            "                                                                 batch_normalization_5[0][0]      \n",
            "                                                                 batch_normalization_6[0][0]      \n",
            "__________________________________________________________________________________________________\n",
            "conv2d_16 (Conv2D)              (None, 32, 32, 32)   12320       concatenate_4[0][0]              \n",
            "__________________________________________________________________________________________________\n",
            "conv2d_17 (Conv2D)              (None, 32, 32, 32)   3104        conv2d_16[0][0]                  \n",
            "__________________________________________________________________________________________________\n",
            "batch_normalization_7 (BatchNor (None, 32, 32, 32)   128         conv2d_17[0][0]                  \n",
            "__________________________________________________________________________________________________\n",
            "concatenate_5 (Concatenate)     (None, 32, 32, 192)  0           batch_normalization_1[0][0]      \n",
            "                                                                 batch_normalization_3[0][0]      \n",
            "                                                                 batch_normalization_4[0][0]      \n",
            "                                                                 batch_normalization_5[0][0]      \n",
            "                                                                 batch_normalization_6[0][0]      \n",
            "                                                                 batch_normalization_7[0][0]      \n",
            "__________________________________________________________________________________________________\n",
            "conv2d_18 (Conv2D)              (None, 32, 32, 32)   55328       concatenate_5[0][0]              \n",
            "__________________________________________________________________________________________________\n",
            "conv2d_19 (Conv2D)              (None, 32, 32, 32)   3104        conv2d_18[0][0]                  \n",
            "__________________________________________________________________________________________________\n",
            "conv2d_20 (Conv2D)              (None, 32, 32, 32)   3104        conv2d_19[0][0]                  \n",
            "__________________________________________________________________________________________________\n",
            "batch_normalization_8 (BatchNor (None, 32, 32, 32)   128         conv2d_20[0][0]                  \n",
            "__________________________________________________________________________________________________\n",
            "concatenate_6 (Concatenate)     (None, 32, 32, 160)  0           batch_normalization_1[0][0]      \n",
            "                                                                 batch_normalization_4[0][0]      \n",
            "                                                                 batch_normalization_5[0][0]      \n",
            "                                                                 batch_normalization_7[0][0]      \n",
            "                                                                 batch_normalization_8[0][0]      \n",
            "__________________________________________________________________________________________________\n",
            "conv2d_21 (Conv2D)              (None, 32, 32, 16)   2576        concatenate_6[0][0]              \n",
            "__________________________________________________________________________________________________\n",
            "max_pooling2d_2 (MaxPooling2D)  (None, 32, 32, 16)   0           conv2d_21[0][0]                  \n",
            "__________________________________________________________________________________________________\n",
            "concatenate_7 (Concatenate)     (None, 32, 32, 48)   0           batch_normalization_6[0][0]      \n",
            "                                                                 max_pooling2d_2[0][0]            \n",
            "__________________________________________________________________________________________________\n",
            "conv2d_22 (Conv2D)              (None, 32, 32, 32)   13856       concatenate_7[0][0]              \n",
            "__________________________________________________________________________________________________\n",
            "conv2d_23 (Conv2D)              (None, 32, 32, 32)   9248        conv2d_22[0][0]                  \n",
            "__________________________________________________________________________________________________\n",
            "batch_normalization_9 (BatchNor (None, 32, 32, 32)   128         conv2d_23[0][0]                  \n",
            "__________________________________________________________________________________________________\n",
            "concatenate_8 (Concatenate)     (None, 32, 32, 160)  0           batch_normalization_1[0][0]      \n",
            "                                                                 batch_normalization_2[0][0]      \n",
            "                                                                 batch_normalization_4[0][0]      \n",
            "                                                                 batch_normalization_7[0][0]      \n",
            "                                                                 batch_normalization_9[0][0]      \n",
            "__________________________________________________________________________________________________\n",
            "conv2d_24 (Conv2D)              (None, 32, 32, 32)   46112       concatenate_8[0][0]              \n",
            "__________________________________________________________________________________________________\n",
            "conv2d_25 (Conv2D)              (None, 32, 32, 32)   3104        conv2d_24[0][0]                  \n",
            "__________________________________________________________________________________________________\n",
            "conv2d_26 (Conv2D)              (None, 32, 32, 32)   3104        conv2d_25[0][0]                  \n",
            "__________________________________________________________________________________________________\n",
            "batch_normalization_10 (BatchNo (None, 32, 32, 32)   128         conv2d_26[0][0]                  \n",
            "__________________________________________________________________________________________________\n",
            "concatenate_9 (Concatenate)     (None, 32, 32, 160)  0           batch_normalization_2[0][0]      \n",
            "                                                                 batch_normalization_3[0][0]      \n",
            "                                                                 batch_normalization_5[0][0]      \n",
            "                                                                 batch_normalization_9[0][0]      \n",
            "                                                                 batch_normalization_10[0][0]     \n",
            "__________________________________________________________________________________________________\n",
            "conv2d_27 (Conv2D)              (None, 32, 32, 32)   46112       concatenate_9[0][0]              \n",
            "__________________________________________________________________________________________________\n",
            "batch_normalization_11 (BatchNo (None, 32, 32, 32)   128         conv2d_27[0][0]                  \n",
            "__________________________________________________________________________________________________\n",
            "concatenate_10 (Concatenate)    (None, 32, 32, 192)  0           batch_normalization_3[0][0]      \n",
            "                                                                 batch_normalization_4[0][0]      \n",
            "                                                                 batch_normalization_5[0][0]      \n",
            "                                                                 batch_normalization_7[0][0]      \n",
            "                                                                 batch_normalization_10[0][0]     \n",
            "                                                                 batch_normalization_11[0][0]     \n",
            "__________________________________________________________________________________________________\n",
            "conv2d_28 (Conv2D)              (None, 32, 32, 32)   55328       concatenate_10[0][0]             \n",
            "__________________________________________________________________________________________________\n",
            "conv2d_29 (Conv2D)              (None, 32, 32, 32)   3104        conv2d_28[0][0]                  \n",
            "__________________________________________________________________________________________________\n",
            "conv2d_30 (Conv2D)              (None, 32, 32, 32)   3104        conv2d_29[0][0]                  \n",
            "__________________________________________________________________________________________________\n",
            "batch_normalization_12 (BatchNo (None, 32, 32, 32)   128         conv2d_30[0][0]                  \n",
            "__________________________________________________________________________________________________\n",
            "concatenate_11 (Concatenate)    (None, 32, 32, 128)  0           batch_normalization_4[0][0]      \n",
            "                                                                 batch_normalization_7[0][0]      \n",
            "                                                                 batch_normalization_10[0][0]     \n",
            "                                                                 batch_normalization_12[0][0]     \n",
            "__________________________________________________________________________________________________\n",
            "flatten_1 (Flatten)             (None, 131072)       0           concatenate_11[0][0]             \n",
            "__________________________________________________________________________________________________\n",
            "dense_1 (Dense)                 (None, 10)           1310730     flatten_1[0][0]                  \n",
            "__________________________________________________________________________________________________\n",
            "dense_2 (Dense)                 (None, 10)           110         dense_1[0][0]                    \n",
            "==================================================================================================\n",
            "Total params: 1,686,392\n",
            "Trainable params: 1,685,624\n",
            "Non-trainable params: 768\n",
            "__________________________________________________________________________________________________\n"
          ],
          "name": "stdout"
        }
      ]
    },
    {
      "cell_type": "code",
      "metadata": {
        "id": "cSOb2lkJfhVq",
        "colab_type": "code",
        "colab": {
          "base_uri": "https://localhost:8080/",
          "height": 71
        },
        "outputId": "596e1b11-f599-46b0-8994-532b51ed0b2e"
      },
      "source": [
        "#Adding lr rate scheduling and model saving\n",
        "from keras.optimizers import Adam\n",
        "from keras.callbacks import LearningRateScheduler, ModelCheckpoint\n",
        "def scheduler(epoch, lr):\n",
        "  return round(0.001 * 1/(1 + 0.319 * epoch), 10)\n",
        "\n",
        "filepath=\"/content/gdrive/My Drive/Weights/Session7Task2_final_weights-improvement-{epoch:02d}-{val_acc:.4f}.hdf5\"\n",
        "checkpoint = ModelCheckpoint(filepath, monitor='val_acc', verbose=1, save_best_only=True, mode='max')\n",
        "\n",
        "callback_list = [checkpoint] #[LearningRateScheduler(scheduler, verbose=1), checkpoint]\n",
        "\n",
        "# Compile the model\n",
        "model.compile(optimizer=Adam(lr=0.001), loss='categorical_crossentropy', metrics=['accuracy'])\n"
      ],
      "execution_count": 10,
      "outputs": [
        {
          "output_type": "stream",
          "text": [
            "W0616 10:19:38.073337 139871098079104 deprecation_wrapper.py:119] From /usr/local/lib/python3.6/dist-packages/keras/optimizers.py:790: The name tf.train.Optimizer is deprecated. Please use tf.compat.v1.train.Optimizer instead.\n",
            "\n"
          ],
          "name": "stderr"
        }
      ]
    },
    {
      "cell_type": "markdown",
      "metadata": {
        "id": "8AMDfxfB15FD",
        "colab_type": "text"
      },
      "source": [
        "Training for Epochs = 100"
      ]
    },
    {
      "cell_type": "code",
      "metadata": {
        "id": "5oK_V7WyfsXX",
        "colab_type": "code",
        "colab": {}
      },
      "source": [
        "from keras.preprocessing.image import ImageDataGenerator\n",
        "\n",
        "datagen = ImageDataGenerator(featurewise_center=False,  # set input mean to 0 over the dataset\n",
        "        samplewise_center=False,  # set each sample mean to 0\n",
        "        featurewise_std_normalization=False,  # divide inputs by dataset std\n",
        "        samplewise_std_normalization=False,  # divide each input by its std\n",
        "        zca_whitening=False,  # apply ZCA whitening\n",
        "        zca_epsilon=1e-06,  # epsilon for ZCA whitening\n",
        "        rotation_range=0,  # randomly rotate images in 0 to 180 degrees\n",
        "        width_shift_range=0.1,  # randomly shift images horizontally\n",
        "        height_shift_range=0.1,  # randomly shift images vertically\n",
        "        shear_range=0.,  # set range for random shear\n",
        "        zoom_range=0.,  # set range for random zoom\n",
        "        channel_shift_range=0.,  # set range for random channel shifts\n",
        "        # set mode for filling points outside the input boundaries\n",
        "        fill_mode='nearest',\n",
        "        cval=0.,  # value used for fill_mode = \"constant\"\n",
        "        horizontal_flip=True,  # randomly flip images\n",
        "        vertical_flip=False,  # randomly flip images\n",
        "        # set rescaling factor (applied before any other transformation)\n",
        "        rescale=None,\n",
        "        # set function that will be applied on each input\n",
        "        preprocessing_function=None,\n",
        "        # image data format, either \"channels_first\" or \"channels_last\"\n",
        "        data_format=None,\n",
        "        # fraction of images reserved for validation (strictly between 0 and 1)\n",
        "        validation_split=0.0)\n",
        "\n",
        "\n",
        "# train the model\n",
        "start = time.time()\n",
        "# Train the model\n",
        "model_info = model.fit_generator(datagen.flow(train_features, train_labels, batch_size = 32),\n",
        "                                 samples_per_epoch = train_features.shape[0], nb_epoch = 10, \n",
        "                                 validation_data = (test_features, test_labels), verbose=1, \n",
        "                                 callbacks=callback_list)\n",
        "end = time.time()\n",
        "print (\"Model took %0.2f seconds to train\"%(end - start))\n",
        "# plot model history\n",
        "plot_model_history(model_info)\n",
        "# compute test accuracy\n",
        "print (\"Accuracy on test data is: %0.2f\"%accuracy(test_features, test_labels, model))"
      ],
      "execution_count": 0,
      "outputs": []
    },
    {
      "cell_type": "code",
      "metadata": {
        "id": "34Un_HGe4mY1",
        "colab_type": "code",
        "colab": {
          "base_uri": "https://localhost:8080/",
          "height": 1832
        },
        "outputId": "5d973a1f-e792-4ca7-e5f3-66c6fd832d61"
      },
      "source": [
        "# train the model\n",
        "start = time.time()\n",
        "# Train the model\n",
        "model_info = model.fit_generator(datagen.flow(train_features, train_labels, batch_size = 32),\n",
        "                                 samples_per_epoch = train_features.shape[0], nb_epoch = 20, \n",
        "                                 validation_data = (test_features, test_labels), verbose=1, \n",
        "                                 callbacks=callback_list)\n",
        "end = time.time()\n",
        "print (\"Model took %0.2f seconds to train\"%(end - start))\n",
        "# plot model history\n",
        "plot_model_history(model_info)\n",
        "# compute test accuracy\n",
        "print (\"Accuracy on test data is: %0.2f\"%accuracy(test_features, test_labels, model))"
      ],
      "execution_count": 12,
      "outputs": [
        {
          "output_type": "stream",
          "text": [
            "Epoch 1/20\n",
            "\r   1/1562 [..............................] - ETA: 2:57 - loss: 13.5996 - acc: 0.1562"
          ],
          "name": "stdout"
        },
        {
          "output_type": "stream",
          "text": [
            "/usr/local/lib/python3.6/dist-packages/ipykernel_launcher.py:6: UserWarning: The semantics of the Keras 2 argument `steps_per_epoch` is not the same as the Keras 1 argument `samples_per_epoch`. `steps_per_epoch` is the number of batches to draw from the generator at each epoch. Basically steps_per_epoch = samples_per_epoch/batch_size. Similarly `nb_val_samples`->`validation_steps` and `val_samples`->`steps` arguments have changed. Update your method calls accordingly.\n",
            "  \n",
            "/usr/local/lib/python3.6/dist-packages/ipykernel_launcher.py:6: UserWarning: Update your `fit_generator` call to the Keras 2 API: `fit_generator(<keras_pre..., validation_data=(array([[[..., verbose=1, callbacks=[<keras.ca..., steps_per_epoch=1562, epochs=20)`\n",
            "  \n"
          ],
          "name": "stderr"
        },
        {
          "output_type": "stream",
          "text": [
            "1562/1562 [==============================] - 144s 92ms/step - loss: 12.7953 - acc: 0.2055 - val_loss: 13.2990 - val_acc: 0.1747\n",
            "\n",
            "Epoch 00001: val_acc did not improve from 0.27650\n",
            "Epoch 2/20\n",
            "1562/1562 [==============================] - 82s 52ms/step - loss: 12.9115 - acc: 0.1983 - val_loss: 12.2047 - val_acc: 0.2426\n",
            "\n",
            "Epoch 00002: val_acc did not improve from 0.27650\n",
            "Epoch 3/20\n",
            "1562/1562 [==============================] - 127s 81ms/step - loss: 12.5059 - acc: 0.2236 - val_loss: 12.2830 - val_acc: 0.2376\n",
            "\n",
            "Epoch 00003: val_acc did not improve from 0.27650\n",
            "Epoch 4/20\n",
            "1562/1562 [==============================] - 158s 101ms/step - loss: 12.7250 - acc: 0.2098 - val_loss: 12.8618 - val_acc: 0.2010\n",
            "\n",
            "Epoch 00004: val_acc did not improve from 0.27650\n",
            "Epoch 5/20\n",
            "1562/1562 [==============================] - 157s 101ms/step - loss: 12.6231 - acc: 0.2162 - val_loss: 12.6593 - val_acc: 0.2141\n",
            "\n",
            "Epoch 00005: val_acc did not improve from 0.27650\n",
            "Epoch 6/20\n",
            "1562/1562 [==============================] - 158s 101ms/step - loss: 12.2203 - acc: 0.2410 - val_loss: 11.6967 - val_acc: 0.2737\n",
            "\n",
            "Epoch 00006: val_acc did not improve from 0.27650\n",
            "Epoch 7/20\n",
            "1562/1562 [==============================] - 126s 81ms/step - loss: 12.0018 - acc: 0.2548 - val_loss: 11.7721 - val_acc: 0.2690\n",
            "\n",
            "Epoch 00007: val_acc did not improve from 0.27650\n",
            "Epoch 8/20\n",
            "1562/1562 [==============================] - 82s 52ms/step - loss: 12.1598 - acc: 0.2450 - val_loss: 12.1036 - val_acc: 0.2484\n",
            "\n",
            "Epoch 00008: val_acc did not improve from 0.27650\n",
            "Epoch 9/20\n",
            "1562/1562 [==============================] - 82s 52ms/step - loss: 12.0777 - acc: 0.2501 - val_loss: 12.7150 - val_acc: 0.2105\n",
            "\n",
            "Epoch 00009: val_acc did not improve from 0.27650\n",
            "Epoch 10/20\n",
            "1562/1562 [==============================] - 81s 52ms/step - loss: 12.8187 - acc: 0.2038 - val_loss: 14.4292 - val_acc: 0.1046\n",
            "\n",
            "Epoch 00010: val_acc did not improve from 0.27650\n",
            "Epoch 11/20\n",
            "1562/1562 [==============================] - 82s 52ms/step - loss: 12.9638 - acc: 0.1949 - val_loss: 12.5494 - val_acc: 0.2207\n",
            "\n",
            "Epoch 00011: val_acc did not improve from 0.27650\n",
            "Epoch 12/20\n",
            "1562/1562 [==============================] - 82s 52ms/step - loss: 12.7966 - acc: 0.2056 - val_loss: 12.4573 - val_acc: 0.2268\n",
            "\n",
            "Epoch 00012: val_acc did not improve from 0.27650\n",
            "Epoch 13/20\n",
            "1562/1562 [==============================] - 81s 52ms/step - loss: 12.7647 - acc: 0.2076 - val_loss: 12.2799 - val_acc: 0.2378\n",
            "\n",
            "Epoch 00013: val_acc did not improve from 0.27650\n",
            "Epoch 14/20\n",
            "1562/1562 [==============================] - 81s 52ms/step - loss: 12.5500 - acc: 0.2209 - val_loss: 12.6941 - val_acc: 0.2120\n",
            "\n",
            "Epoch 00014: val_acc did not improve from 0.27650\n",
            "Epoch 15/20\n",
            "1562/1562 [==============================] - 83s 53ms/step - loss: 12.3404 - acc: 0.2340 - val_loss: 11.7713 - val_acc: 0.2693\n",
            "\n",
            "Epoch 00015: val_acc did not improve from 0.27650\n",
            "Epoch 16/20\n",
            "1562/1562 [==============================] - 156s 100ms/step - loss: 12.1415 - acc: 0.2463 - val_loss: 11.8187 - val_acc: 0.2662\n",
            "\n",
            "Epoch 00016: val_acc did not improve from 0.27650\n",
            "Epoch 17/20\n",
            "1562/1562 [==============================] - 153s 98ms/step - loss: 12.0392 - acc: 0.2528 - val_loss: 11.8442 - val_acc: 0.2649\n",
            "\n",
            "Epoch 00017: val_acc did not improve from 0.27650\n",
            "Epoch 18/20\n",
            "1562/1562 [==============================] - 158s 101ms/step - loss: 12.1373 - acc: 0.2466 - val_loss: 11.8071 - val_acc: 0.2671\n",
            "\n",
            "Epoch 00018: val_acc did not improve from 0.27650\n",
            "Epoch 19/20\n",
            "1562/1562 [==============================] - 158s 101ms/step - loss: 12.0124 - acc: 0.2544 - val_loss: 11.7776 - val_acc: 0.2691\n",
            "\n",
            "Epoch 00019: val_acc did not improve from 0.27650\n",
            "Epoch 20/20\n",
            "1562/1562 [==============================] - 158s 101ms/step - loss: 12.0905 - acc: 0.2496 - val_loss: 12.1569 - val_acc: 0.2456\n",
            "\n",
            "Epoch 00020: val_acc did not improve from 0.27650\n",
            "Model took 2387.79 seconds to train\n"
          ],
          "name": "stdout"
        },
        {
          "output_type": "display_data",
          "data": {
            "image/png": "[encoded data removed]",
            "text/plain": [
              "<Figure size 1080x360 with 2 Axes>"
            ]
          },
          "metadata": {
            "tags": []
          }
        },
        {
          "output_type": "stream",
          "text": [
            "Accuracy on test data is: 24.56\n"
          ],
          "name": "stdout"
        }
      ]
    }
  ]
}