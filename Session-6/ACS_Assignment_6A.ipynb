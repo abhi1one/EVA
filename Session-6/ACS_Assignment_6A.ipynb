{
  "nbformat": 4,
  "nbformat_minor": 0,
  "metadata": {
    "colab": {
      "name": "ACS-Assignment 6A_v2.ipynb",
      "version": "0.3.2",
      "provenance": [],
      "collapsed_sections": []
    },
    "kernelspec": {
      "name": "python3",
      "display_name": "Python 3"
    },
    "accelerator": "GPU"
  },
  "cells": [
    {
      "cell_type": "markdown",
      "metadata": {
        "id": "3v6PxkXd6a3s",
        "colab_type": "text"
      },
      "source": [
        "Assignment 6 vesrion 2\n",
        "* Step 1: Removing all Dense layers and updating model for receptive field with 1x1\n",
        "* Step 2: Removing / updating dropout places and fixing model arch; settingborder_mode='same' for all convolutions\n",
        "* Step 3: Adding batch norm to address high overfitting\n",
        "* Step 4: adding lr rate and model saving and reducing traing to 50 epochs\n",
        "\n",
        "*Results*\n",
        "* Base Accuracy: 82.73\n",
        "* Version 2 Step 1 Val Accuracy: 82.74\n",
        "* Version 2 Step 2 Val acc:81.32 ; Train Acc:.9807 ; High overfitting\n",
        "* Version 2 Step 3 Val acc:83.89 ; Train Acc:.9926 ; High overfitting\n",
        "* Version 2 Step 4 Val acc:83.37 ; Train Acc:.9954 ; High overfitting"
      ]
    },
    {
      "cell_type": "markdown",
      "metadata": {
        "id": "USsdQoEx0Ano",
        "colab_type": "text"
      },
      "source": [
        "Importing al necessary keras, matplot, numpy libs"
      ]
    },
    {
      "cell_type": "code",
      "metadata": {
        "id": "KkwXnw9OfHZl",
        "colab_type": "code",
        "colab": {
          "base_uri": "https://localhost:8080/",
          "height": 34
        },
        "outputId": "29a44c21-9f16-4f64-8b8b-7d45c3a33346"
      },
      "source": [
        "from keras import backend as K\n",
        "import time\n",
        "import matplotlib.pyplot as plt\n",
        "import numpy as np\n",
        "% matplotlib inline\n",
        "np.random.seed(2017) \n",
        "from keras.models import Sequential\n",
        "from keras.layers.convolutional import Convolution2D, MaxPooling2D\n",
        "from keras.layers import Activation, Flatten, Dense, Dropout\n",
        "from keras.layers.normalization import BatchNormalization\n",
        "from keras.utils import np_utils"
      ],
      "execution_count": 2,
      "outputs": [
        {
          "output_type": "stream",
          "text": [
            "Using TensorFlow backend.\n"
          ],
          "name": "stderr"
        }
      ]
    },
    {
      "cell_type": "code",
      "metadata": {
        "id": "Sz0fn7CXQ7Qh",
        "colab_type": "code",
        "colab": {
          "base_uri": "https://localhost:8080/",
          "height": 122
        },
        "outputId": "de4a56f2-6536-41da-ce60-f445fcf6845a"
      },
      "source": [
        "#preparing check point for saving weights via callback\n",
        "from google.colab import drive\n",
        "from keras.callbacks import CSVLogger\n",
        "from keras.callbacks import ModelCheckpoint\n",
        "\n",
        "drive.mount('/content/gdrive')"
      ],
      "execution_count": 28,
      "outputs": [
        {
          "output_type": "stream",
          "text": [
            "Go to this URL in a browser: https://accounts.google.com/o/oauth2/auth?client_id=947318989803-6bn6qk8qdgf4n4g3pfee6491hc0brc4i.apps.googleusercontent.com&redirect_uri=urn%3Aietf%3Awg%3Aoauth%3A2.0%3Aoob&scope=email%20https%3A%2F%2Fwww.googleapis.com%2Fauth%2Fdocs.test%20https%3A%2F%2Fwww.googleapis.com%2Fauth%2Fdrive%20https%3A%2F%2Fwww.googleapis.com%2Fauth%2Fdrive.photos.readonly%20https%3A%2F%2Fwww.googleapis.com%2Fauth%2Fpeopleapi.readonly&response_type=code\n",
            "\n",
            "Enter your authorization code:\n",
            "··········\n",
            "Mounted at /content/gdrive\n"
          ],
          "name": "stdout"
        }
      ]
    },
    {
      "cell_type": "markdown",
      "metadata": {
        "id": "QKYjmn05z9aa",
        "colab_type": "text"
      },
      "source": [
        "Importing, loading data in train and test"
      ]
    },
    {
      "cell_type": "code",
      "metadata": {
        "id": "NHpnoCHZfO8g",
        "colab_type": "code",
        "colab": {}
      },
      "source": [
        "from keras.datasets import cifar10\n",
        "(train_features, train_labels), (test_features, test_labels) = cifar10.load_data()\n",
        "num_train, img_channels, img_rows, img_cols =  train_features.shape\n",
        "num_test, _, _, _ =  test_features.shape\n",
        "num_classes = len(np.unique(train_labels))"
      ],
      "execution_count": 0,
      "outputs": []
    },
    {
      "cell_type": "markdown",
      "metadata": {
        "id": "AqiK87Da0HXr",
        "colab_type": "text"
      },
      "source": [
        "Viewsing train data for labels."
      ]
    },
    {
      "cell_type": "code",
      "metadata": {
        "id": "14HyBUXdfS6G",
        "colab_type": "code",
        "outputId": "f3afcd29-3d27-4328-9675-ce51ebeb9e1e",
        "colab": {
          "base_uri": "https://localhost:8080/",
          "height": 213
        }
      },
      "source": [
        "class_names = ['airplane','automobile','bird','cat','deer',\n",
        "               'dog','frog','horse','ship','truck']\n",
        "fig = plt.figure(figsize=(8,3))\n",
        "for i in range(num_classes):\n",
        "    ax = fig.add_subplot(2, 5, 1 + i, xticks=[], yticks=[])\n",
        "    idx = np.where(train_labels[:]==i)[0]\n",
        "    features_idx = train_features[idx,::]\n",
        "    img_num = np.random.randint(features_idx.shape[0])\n",
        "    im = features_idx[img_num]\n",
        "    ax.set_title(class_names[i])\n",
        "    plt.imshow(im)\n",
        "plt.show()"
      ],
      "execution_count": 4,
      "outputs": [
        {
          "output_type": "display_data",
          "data": {
            "image/png": "[encoded data removed]",
            "text/plain": [
              "<Figure size 576x216 with 10 Axes>"
            ]
          },
          "metadata": {
            "tags": []
          }
        }
      ]
    },
    {
      "cell_type": "markdown",
      "metadata": {
        "id": "XrOuZ6Qz0R_L",
        "colab_type": "text"
      },
      "source": [
        "Defigning function to plot model training validation accuracy and loss"
      ]
    },
    {
      "cell_type": "code",
      "metadata": {
        "id": "bmfsk76-fadV",
        "colab_type": "code",
        "colab": {}
      },
      "source": [
        "def plot_model_history(model_history):\n",
        "    fig, axs = plt.subplots(1,2,figsize=(15,5))\n",
        "    # summarize history for accuracy\n",
        "    axs[0].plot(range(1,len(model_history.history['acc'])+1),model_history.history['acc'])\n",
        "    axs[0].plot(range(1,len(model_history.history['val_acc'])+1),model_history.history['val_acc'])\n",
        "    axs[0].set_title('Model Accuracy')\n",
        "    axs[0].set_ylabel('Accuracy')\n",
        "    axs[0].set_xlabel('Epoch')\n",
        "    axs[0].set_xticks(np.arange(1,len(model_history.history['acc'])+1),len(model_history.history['acc'])/10)\n",
        "    axs[0].legend(['train', 'val'], loc='best')\n",
        "    # summarize history for loss\n",
        "    axs[1].plot(range(1,len(model_history.history['loss'])+1),model_history.history['loss'])\n",
        "    axs[1].plot(range(1,len(model_history.history['val_loss'])+1),model_history.history['val_loss'])\n",
        "    axs[1].set_title('Model Loss')\n",
        "    axs[1].set_ylabel('Loss')\n",
        "    axs[1].set_xlabel('Epoch')\n",
        "    axs[1].set_xticks(np.arange(1,len(model_history.history['loss'])+1),len(model_history.history['loss'])/10)\n",
        "    axs[1].legend(['train', 'val'], loc='best')\n",
        "    plt.show()"
      ],
      "execution_count": 0,
      "outputs": []
    },
    {
      "cell_type": "markdown",
      "metadata": {
        "id": "4Mn7RV2U0uQ6",
        "colab_type": "text"
      },
      "source": [
        "Defining function to find and return accracy of trained model in percentage"
      ]
    },
    {
      "cell_type": "code",
      "metadata": {
        "id": "YJMT4rjgfdZz",
        "colab_type": "code",
        "colab": {}
      },
      "source": [
        "def accuracy(test_x, test_y, model):\n",
        "    result = model.predict(test_x)\n",
        "    predicted_class = np.argmax(result, axis=1)\n",
        "    true_class = np.argmax(test_y, axis=1)\n",
        "    num_correct = np.sum(predicted_class == true_class) \n",
        "    accuracy = float(num_correct)/result.shape[0]\n",
        "    return (accuracy * 100)"
      ],
      "execution_count": 0,
      "outputs": []
    },
    {
      "cell_type": "markdown",
      "metadata": {
        "id": "0OPhvx4602Cz",
        "colab_type": "text"
      },
      "source": [
        "Normalizing train and test data \n",
        "Converting labels from 1-D to 2-D with leangth of second dimention is num_class"
      ]
    },
    {
      "cell_type": "code",
      "metadata": {
        "id": "T5c5nDvxm6zR",
        "colab_type": "code",
        "colab": {}
      },
      "source": [
        "train_features = train_features.astype('float32')/255\n",
        "test_features = test_features.astype('float32')/255\n",
        "# convert class labels to binary class labels\n",
        "train_labels = np_utils.to_categorical(train_labels, num_classes)\n",
        "test_labels = np_utils.to_categorical(test_labels, num_classes)"
      ],
      "execution_count": 0,
      "outputs": []
    },
    {
      "cell_type": "markdown",
      "metadata": {
        "id": "vP0nihOX1Yac",
        "colab_type": "text"
      },
      "source": [
        "Defigning Model and Compiling Model\n",
        "\n",
        "Applying step 2 changes."
      ]
    },
    {
      "cell_type": "code",
      "metadata": {
        "id": "cSOb2lkJfhVq",
        "colab_type": "code",
        "outputId": "c0e195ff-cc44-4b48-d941-9b1d76bd6356",
        "colab": {
          "base_uri": "https://localhost:8080/",
          "height": 190
        }
      },
      "source": [
        "# Define the model\n",
        "model = Sequential()\n",
        "model.add(Convolution2D(48, 3, 3, border_mode='same', input_shape=(32, 32, 3))) #RF 3X3\n",
        "model.add(Activation('relu'))\n",
        "model.add(BatchNormalization())\n",
        "\n",
        "model.add(Convolution2D(48, 3, 3, border_mode='same')) #RF 5X5\n",
        "model.add(Activation('relu'))\n",
        "model.add(BatchNormalization())\n",
        "\n",
        "model.add(MaxPooling2D(pool_size=(2, 2))) #RF 10X10\n",
        "#Dropout post maxpooling is not help ful; should move this to conv with 14x14\n",
        "#model.add(Dropout(0.25))\n",
        "\n",
        "model.add(Convolution2D(96, 3, 3, border_mode='same')) #RF 12X12\n",
        "model.add(Activation('relu'))\n",
        "model.add(BatchNormalization())\n",
        "\n",
        "model.add(Convolution2D(96, 3, 3, border_mode='same')) #RF 14X14\n",
        "model.add(Activation('relu'))\n",
        "model.add(BatchNormalization())\n",
        "\n",
        "model.add(Dropout(0.25))\n",
        "\n",
        "model.add(MaxPooling2D(pool_size=(2, 2))) #RF 28X28\n",
        "#Dropout post maxpooling is not help ful; should move this to conv with 30x30\n",
        "#model.add(Dropout(0.25))\n",
        "\n",
        "model.add(Convolution2D(192, 3, 3, border_mode='same')) #RF 30X30\n",
        "model.add(Activation('relu'))\n",
        "model.add(BatchNormalization())\n",
        "\n",
        "model.add(Dropout(0.25))\n",
        "\n",
        "model.add(Convolution2D(192, 3, 3, border_mode='same')) #RF 32X32\n",
        "model.add(Activation('relu'))\n",
        "model.add(BatchNormalization())\n",
        "\n",
        "#removing this as it doesn't seem logical to have maxpooling and dropout here\n",
        "'''\n",
        "model.add(MaxPooling2D(pool_size=(2, 2))) #RF 64X64\n",
        "model.add(Dropout(0.25))\n",
        "'''\n",
        "\n",
        "'''\n",
        "model.add(Flatten())\n",
        "model.add(Dense(512))\n",
        "model.add(Activation('relu'))\n",
        "\n",
        "model.add(Dropout(0.5))\n",
        "model.add(Dense(256))\n",
        "model.add(Activation('relu'))\n",
        "\n",
        "model.add(Dropout(0.5))\n",
        "model.add(Dense(num_classes, activation='softmax'))\n",
        "'''\n",
        "\n",
        "model.add(Convolution2D(10, 1)) \n",
        "#model.add(BatchNormalization())\n",
        "\n",
        "model.add(Convolution2D(10, 8)) \n",
        "\n",
        "\n",
        "model.add(Flatten())\n",
        "model.add(Activation('softmax'))\n",
        "\n",
        "#Adding lr rate scheduling and model saving\n",
        "from keras.optimizers import Adam\n",
        "from keras.callbacks import LearningRateScheduler, ModelCheckpoint\n",
        "def scheduler(epoch, lr):\n",
        "  return round(0.01 * 1/(1 + 0.319 * epoch), 10)\n",
        "\n",
        "filepath=\"/content/gdrive/My Drive/Weights/Assignment6A_v2_final_weights-improvement-{epoch:02d}-{val_acc:.4f}.hdf5\"\n",
        "checkpoint = ModelCheckpoint(filepath, monitor='val_acc', verbose=1, save_best_only=True, mode='max')\n",
        "\n",
        "callback_list = [LearningRateScheduler(scheduler, verbose=1), checkpoint]\n",
        "\n",
        "# Compile the model\n",
        "model.compile(optimizer=Adam(lr=0.01), loss='categorical_crossentropy', metrics=['accuracy'])\n"
      ],
      "execution_count": 29,
      "outputs": [
        {
          "output_type": "stream",
          "text": [
            "/usr/local/lib/python3.6/dist-packages/ipykernel_launcher.py:2: UserWarning: Update your `Conv2D` call to the Keras 2 API: `Conv2D(48, (3, 3), input_shape=(32, 32, 3..., padding=\"same\")`\n",
            "  \n",
            "/usr/local/lib/python3.6/dist-packages/ipykernel_launcher.py:6: UserWarning: Update your `Conv2D` call to the Keras 2 API: `Conv2D(48, (3, 3), padding=\"same\")`\n",
            "  \n",
            "/usr/local/lib/python3.6/dist-packages/ipykernel_launcher.py:14: UserWarning: Update your `Conv2D` call to the Keras 2 API: `Conv2D(96, (3, 3), padding=\"same\")`\n",
            "  \n",
            "/usr/local/lib/python3.6/dist-packages/ipykernel_launcher.py:18: UserWarning: Update your `Conv2D` call to the Keras 2 API: `Conv2D(96, (3, 3), padding=\"same\")`\n",
            "/usr/local/lib/python3.6/dist-packages/ipykernel_launcher.py:28: UserWarning: Update your `Conv2D` call to the Keras 2 API: `Conv2D(192, (3, 3), padding=\"same\")`\n",
            "/usr/local/lib/python3.6/dist-packages/ipykernel_launcher.py:34: UserWarning: Update your `Conv2D` call to the Keras 2 API: `Conv2D(192, (3, 3), padding=\"same\")`\n"
          ],
          "name": "stderr"
        }
      ]
    },
    {
      "cell_type": "code",
      "metadata": {
        "id": "wvVs5tC8mR6Q",
        "colab_type": "code",
        "outputId": "70a853bc-a2da-485c-8274-85d09eafb8ec",
        "colab": {
          "base_uri": "https://localhost:8080/",
          "height": 1020
        }
      },
      "source": [
        "model.summary()"
      ],
      "execution_count": 30,
      "outputs": [
        {
          "output_type": "stream",
          "text": [
            "_________________________________________________________________\n",
            "Layer (type)                 Output Shape              Param #   \n",
            "=================================================================\n",
            "conv2d_65 (Conv2D)           (None, 32, 32, 48)        1344      \n",
            "_________________________________________________________________\n",
            "activation_57 (Activation)   (None, 32, 32, 48)        0         \n",
            "_________________________________________________________________\n",
            "batch_normalization_13 (Batc (None, 32, 32, 48)        192       \n",
            "_________________________________________________________________\n",
            "conv2d_66 (Conv2D)           (None, 32, 32, 48)        20784     \n",
            "_________________________________________________________________\n",
            "activation_58 (Activation)   (None, 32, 32, 48)        0         \n",
            "_________________________________________________________________\n",
            "batch_normalization_14 (Batc (None, 32, 32, 48)        192       \n",
            "_________________________________________________________________\n",
            "max_pooling2d_18 (MaxPooling (None, 16, 16, 48)        0         \n",
            "_________________________________________________________________\n",
            "conv2d_67 (Conv2D)           (None, 16, 16, 96)        41568     \n",
            "_________________________________________________________________\n",
            "activation_59 (Activation)   (None, 16, 16, 96)        0         \n",
            "_________________________________________________________________\n",
            "batch_normalization_15 (Batc (None, 16, 16, 96)        384       \n",
            "_________________________________________________________________\n",
            "conv2d_68 (Conv2D)           (None, 16, 16, 96)        83040     \n",
            "_________________________________________________________________\n",
            "activation_60 (Activation)   (None, 16, 16, 96)        0         \n",
            "_________________________________________________________________\n",
            "batch_normalization_16 (Batc (None, 16, 16, 96)        384       \n",
            "_________________________________________________________________\n",
            "dropout_18 (Dropout)         (None, 16, 16, 96)        0         \n",
            "_________________________________________________________________\n",
            "max_pooling2d_19 (MaxPooling (None, 8, 8, 96)          0         \n",
            "_________________________________________________________________\n",
            "conv2d_69 (Conv2D)           (None, 8, 8, 192)         166080    \n",
            "_________________________________________________________________\n",
            "activation_61 (Activation)   (None, 8, 8, 192)         0         \n",
            "_________________________________________________________________\n",
            "batch_normalization_17 (Batc (None, 8, 8, 192)         768       \n",
            "_________________________________________________________________\n",
            "dropout_19 (Dropout)         (None, 8, 8, 192)         0         \n",
            "_________________________________________________________________\n",
            "conv2d_70 (Conv2D)           (None, 8, 8, 192)         331968    \n",
            "_________________________________________________________________\n",
            "activation_62 (Activation)   (None, 8, 8, 192)         0         \n",
            "_________________________________________________________________\n",
            "batch_normalization_18 (Batc (None, 8, 8, 192)         768       \n",
            "_________________________________________________________________\n",
            "conv2d_71 (Conv2D)           (None, 8, 8, 10)          1930      \n",
            "_________________________________________________________________\n",
            "conv2d_72 (Conv2D)           (None, 1, 1, 10)          6410      \n",
            "_________________________________________________________________\n",
            "flatten_9 (Flatten)          (None, 10)                0         \n",
            "_________________________________________________________________\n",
            "activation_63 (Activation)   (None, 10)                0         \n",
            "=================================================================\n",
            "Total params: 655,812\n",
            "Trainable params: 654,468\n",
            "Non-trainable params: 1,344\n",
            "_________________________________________________________________\n"
          ],
          "name": "stdout"
        }
      ]
    },
    {
      "cell_type": "markdown",
      "metadata": {
        "id": "8AMDfxfB15FD",
        "colab_type": "text"
      },
      "source": [
        "Training for Epochs = 100 and comparing with Base accuracy is 82.73 \n",
        "Reducing training epochs to 50"
      ]
    },
    {
      "cell_type": "code",
      "metadata": {
        "id": "5oK_V7WyfsXX",
        "colab_type": "code",
        "outputId": "6899bc3f-61d3-403b-f322-aab2c996bec2",
        "colab": {
          "base_uri": "https://localhost:8080/",
          "height": 5572
        }
      },
      "source": [
        "from keras.preprocessing.image import ImageDataGenerator\n",
        "\n",
        "datagen = ImageDataGenerator(zoom_range=0.0, \n",
        "                             horizontal_flip=False)\n",
        "\n",
        "\n",
        "# train the model\n",
        "start = time.time()\n",
        "# Train the model\n",
        "model_info = model.fit_generator(datagen.flow(train_features, train_labels, batch_size = 128),\n",
        "                                 samples_per_epoch = train_features.shape[0], nb_epoch = 50, \n",
        "                                 validation_data = (test_features, test_labels), verbose=1, \n",
        "                                 callbacks=callback_list)\n",
        "end = time.time()\n",
        "print (\"Model took %0.2f seconds to train\"%(end - start))\n",
        "# plot model history\n",
        "plot_model_history(model_info)\n",
        "# compute test accuracy\n",
        "print (\"Accuracy on test data is: %0.2f\"%accuracy(test_features, test_labels, model))"
      ],
      "execution_count": 31,
      "outputs": [
        {
          "output_type": "stream",
          "text": [
            "/usr/local/lib/python3.6/dist-packages/ipykernel_launcher.py:13: UserWarning: The semantics of the Keras 2 argument `steps_per_epoch` is not the same as the Keras 1 argument `samples_per_epoch`. `steps_per_epoch` is the number of batches to draw from the generator at each epoch. Basically steps_per_epoch = samples_per_epoch/batch_size. Similarly `nb_val_samples`->`validation_steps` and `val_samples`->`steps` arguments have changed. Update your method calls accordingly.\n",
            "  del sys.path[0]\n",
            "/usr/local/lib/python3.6/dist-packages/ipykernel_launcher.py:13: UserWarning: Update your `fit_generator` call to the Keras 2 API: `fit_generator(<keras_pre..., validation_data=(array([[[..., verbose=1, callbacks=[<keras.ca..., steps_per_epoch=390, epochs=50)`\n",
            "  del sys.path[0]\n"
          ],
          "name": "stderr"
        },
        {
          "output_type": "stream",
          "text": [
            "Epoch 1/50\n",
            "\n",
            "Epoch 00001: LearningRateScheduler setting learning rate to 0.01.\n",
            "390/390 [==============================] - 18s 46ms/step - loss: 1.5903 - acc: 0.4566 - val_loss: 2.2061 - val_acc: 0.3741\n",
            "\n",
            "Epoch 00001: val_acc improved from -inf to 0.37410, saving model to /content/gdrive/My Drive/Weights/Assignment6A_v2_final_weights-improvement-01-0.3741.hdf5\n",
            "Epoch 2/50\n",
            "\n",
            "Epoch 00002: LearningRateScheduler setting learning rate to 0.0075815011.\n",
            "390/390 [==============================] - 14s 37ms/step - loss: 1.0016 - acc: 0.6508 - val_loss: 0.9976 - val_acc: 0.6391\n",
            "\n",
            "Epoch 00002: val_acc improved from 0.37410 to 0.63910, saving model to /content/gdrive/My Drive/Weights/Assignment6A_v2_final_weights-improvement-02-0.6391.hdf5\n",
            "Epoch 3/50\n",
            "\n",
            "Epoch 00003: LearningRateScheduler setting learning rate to 0.0061050061.\n",
            "390/390 [==============================] - 14s 37ms/step - loss: 0.7598 - acc: 0.7342 - val_loss: 0.8607 - val_acc: 0.7046\n",
            "\n",
            "Epoch 00003: val_acc improved from 0.63910 to 0.70460, saving model to /content/gdrive/My Drive/Weights/Assignment6A_v2_final_weights-improvement-03-0.7046.hdf5\n",
            "Epoch 4/50\n",
            "\n",
            "Epoch 00004: LearningRateScheduler setting learning rate to 0.005109862.\n",
            "390/390 [==============================] - 14s 37ms/step - loss: 0.6300 - acc: 0.7786 - val_loss: 0.8851 - val_acc: 0.6996\n",
            "\n",
            "Epoch 00004: val_acc did not improve from 0.70460\n",
            "Epoch 5/50\n",
            "\n",
            "Epoch 00005: LearningRateScheduler setting learning rate to 0.0043936731.\n",
            "390/390 [==============================] - 14s 36ms/step - loss: 0.5402 - acc: 0.8101 - val_loss: 0.6877 - val_acc: 0.7617\n",
            "\n",
            "Epoch 00005: val_acc improved from 0.70460 to 0.76170, saving model to /content/gdrive/My Drive/Weights/Assignment6A_v2_final_weights-improvement-05-0.7617.hdf5\n",
            "Epoch 6/50\n",
            "\n",
            "Epoch 00006: LearningRateScheduler setting learning rate to 0.0038535645.\n",
            "390/390 [==============================] - 14s 37ms/step - loss: 0.4660 - acc: 0.8367 - val_loss: 0.6986 - val_acc: 0.7748\n",
            "\n",
            "Epoch 00006: val_acc improved from 0.76170 to 0.77480, saving model to /content/gdrive/My Drive/Weights/Assignment6A_v2_final_weights-improvement-06-0.7748.hdf5\n",
            "Epoch 7/50\n",
            "\n",
            "Epoch 00007: LearningRateScheduler setting learning rate to 0.003431709.\n",
            "390/390 [==============================] - 14s 37ms/step - loss: 0.4040 - acc: 0.8564 - val_loss: 0.6454 - val_acc: 0.7878\n",
            "\n",
            "Epoch 00007: val_acc improved from 0.77480 to 0.78780, saving model to /content/gdrive/My Drive/Weights/Assignment6A_v2_final_weights-improvement-07-0.7878.hdf5\n",
            "Epoch 8/50\n",
            "\n",
            "Epoch 00008: LearningRateScheduler setting learning rate to 0.0030931024.\n",
            "390/390 [==============================] - 14s 37ms/step - loss: 0.3464 - acc: 0.8780 - val_loss: 0.6995 - val_acc: 0.7838\n",
            "\n",
            "Epoch 00008: val_acc did not improve from 0.78780\n",
            "Epoch 9/50\n",
            "\n",
            "Epoch 00009: LearningRateScheduler setting learning rate to 0.0028153153.\n",
            "390/390 [==============================] - 14s 37ms/step - loss: 0.2954 - acc: 0.8944 - val_loss: 0.6332 - val_acc: 0.8086\n",
            "\n",
            "Epoch 00009: val_acc improved from 0.78780 to 0.80860, saving model to /content/gdrive/My Drive/Weights/Assignment6A_v2_final_weights-improvement-09-0.8086.hdf5\n",
            "Epoch 10/50\n",
            "\n",
            "Epoch 00010: LearningRateScheduler setting learning rate to 0.0025833118.\n",
            "390/390 [==============================] - 14s 37ms/step - loss: 0.2483 - acc: 0.9110 - val_loss: 0.6963 - val_acc: 0.8044\n",
            "\n",
            "Epoch 00010: val_acc did not improve from 0.80860\n",
            "Epoch 11/50\n",
            "\n",
            "Epoch 00011: LearningRateScheduler setting learning rate to 0.0023866348.\n",
            "390/390 [==============================] - 14s 37ms/step - loss: 0.2075 - acc: 0.9255 - val_loss: 0.7116 - val_acc: 0.7948\n",
            "\n",
            "Epoch 00011: val_acc did not improve from 0.80860\n",
            "Epoch 12/50\n",
            "\n",
            "Epoch 00012: LearningRateScheduler setting learning rate to 0.0022177866.\n",
            "390/390 [==============================] - 14s 37ms/step - loss: 0.1764 - acc: 0.9368 - val_loss: 0.7760 - val_acc: 0.7890\n",
            "\n",
            "Epoch 00012: val_acc did not improve from 0.80860\n",
            "Epoch 13/50\n",
            "\n",
            "Epoch 00013: LearningRateScheduler setting learning rate to 0.002071251.\n",
            "390/390 [==============================] - 14s 37ms/step - loss: 0.1481 - acc: 0.9461 - val_loss: 0.7478 - val_acc: 0.8129\n",
            "\n",
            "Epoch 00013: val_acc improved from 0.80860 to 0.81290, saving model to /content/gdrive/My Drive/Weights/Assignment6A_v2_final_weights-improvement-13-0.8129.hdf5\n",
            "Epoch 14/50\n",
            "\n",
            "Epoch 00014: LearningRateScheduler setting learning rate to 0.0019428793.\n",
            "390/390 [==============================] - 14s 37ms/step - loss: 0.1251 - acc: 0.9543 - val_loss: 0.7589 - val_acc: 0.8156\n",
            "\n",
            "Epoch 00014: val_acc improved from 0.81290 to 0.81560, saving model to /content/gdrive/My Drive/Weights/Assignment6A_v2_final_weights-improvement-14-0.8156.hdf5\n",
            "Epoch 15/50\n",
            "\n",
            "Epoch 00015: LearningRateScheduler setting learning rate to 0.0018294914.\n",
            "390/390 [==============================] - 14s 37ms/step - loss: 0.1051 - acc: 0.9614 - val_loss: 0.8097 - val_acc: 0.8093\n",
            "\n",
            "Epoch 00015: val_acc did not improve from 0.81560\n",
            "Epoch 16/50\n",
            "\n",
            "Epoch 00016: LearningRateScheduler setting learning rate to 0.0017286085.\n",
            "390/390 [==============================] - 14s 37ms/step - loss: 0.0963 - acc: 0.9655 - val_loss: 0.7901 - val_acc: 0.8189\n",
            "\n",
            "Epoch 00016: val_acc improved from 0.81560 to 0.81890, saving model to /content/gdrive/My Drive/Weights/Assignment6A_v2_final_weights-improvement-16-0.8189.hdf5\n",
            "Epoch 17/50\n",
            "\n",
            "Epoch 00017: LearningRateScheduler setting learning rate to 0.00163827.\n",
            "390/390 [==============================] - 14s 37ms/step - loss: 0.0764 - acc: 0.9733 - val_loss: 0.8974 - val_acc: 0.8058\n",
            "\n",
            "Epoch 00017: val_acc did not improve from 0.81890\n",
            "Epoch 18/50\n",
            "\n",
            "Epoch 00018: LearningRateScheduler setting learning rate to 0.0015569049.\n",
            "390/390 [==============================] - 14s 37ms/step - loss: 0.0742 - acc: 0.9737 - val_loss: 0.8911 - val_acc: 0.8117\n",
            "\n",
            "Epoch 00018: val_acc did not improve from 0.81890\n",
            "Epoch 19/50\n",
            "\n",
            "Epoch 00019: LearningRateScheduler setting learning rate to 0.0014832394.\n",
            "390/390 [==============================] - 15s 37ms/step - loss: 0.0649 - acc: 0.9771 - val_loss: 0.8819 - val_acc: 0.8219\n",
            "\n",
            "Epoch 00019: val_acc improved from 0.81890 to 0.82190, saving model to /content/gdrive/My Drive/Weights/Assignment6A_v2_final_weights-improvement-19-0.8219.hdf5\n",
            "Epoch 20/50\n",
            "\n",
            "Epoch 00020: LearningRateScheduler setting learning rate to 0.00141623.\n",
            "390/390 [==============================] - 14s 37ms/step - loss: 0.0689 - acc: 0.9752 - val_loss: 0.8769 - val_acc: 0.8176\n",
            "\n",
            "Epoch 00020: val_acc did not improve from 0.82190\n",
            "Epoch 21/50\n",
            "\n",
            "Epoch 00021: LearningRateScheduler setting learning rate to 0.0013550136.\n",
            "390/390 [==============================] - 14s 37ms/step - loss: 0.0543 - acc: 0.9810 - val_loss: 0.8645 - val_acc: 0.8245\n",
            "\n",
            "Epoch 00021: val_acc improved from 0.82190 to 0.82450, saving model to /content/gdrive/My Drive/Weights/Assignment6A_v2_final_weights-improvement-21-0.8245.hdf5\n",
            "Epoch 22/50\n",
            "\n",
            "Epoch 00022: LearningRateScheduler setting learning rate to 0.00129887.\n",
            "390/390 [==============================] - 14s 37ms/step - loss: 0.0509 - acc: 0.9820 - val_loss: 0.9702 - val_acc: 0.8124\n",
            "\n",
            "Epoch 00022: val_acc did not improve from 0.82450\n",
            "Epoch 23/50\n",
            "\n",
            "Epoch 00023: LearningRateScheduler setting learning rate to 0.0012471938.\n",
            "390/390 [==============================] - 14s 37ms/step - loss: 0.0469 - acc: 0.9836 - val_loss: 0.9353 - val_acc: 0.8188\n",
            "\n",
            "Epoch 00023: val_acc did not improve from 0.82450\n",
            "Epoch 24/50\n",
            "\n",
            "Epoch 00024: LearningRateScheduler setting learning rate to 0.0011994722.\n",
            "390/390 [==============================] - 14s 37ms/step - loss: 0.0409 - acc: 0.9847 - val_loss: 0.9142 - val_acc: 0.8266\n",
            "\n",
            "Epoch 00024: val_acc improved from 0.82450 to 0.82660, saving model to /content/gdrive/My Drive/Weights/Assignment6A_v2_final_weights-improvement-24-0.8266.hdf5\n",
            "Epoch 25/50\n",
            "\n",
            "Epoch 00025: LearningRateScheduler setting learning rate to 0.001155268.\n",
            "390/390 [==============================] - 14s 37ms/step - loss: 0.0399 - acc: 0.9862 - val_loss: 0.9521 - val_acc: 0.8164\n",
            "\n",
            "Epoch 00025: val_acc did not improve from 0.82660\n",
            "Epoch 26/50\n",
            "\n",
            "Epoch 00026: LearningRateScheduler setting learning rate to 0.0011142061.\n",
            "390/390 [==============================] - 14s 37ms/step - loss: 0.0371 - acc: 0.9872 - val_loss: 0.9171 - val_acc: 0.8256\n",
            "\n",
            "Epoch 00026: val_acc did not improve from 0.82660\n",
            "Epoch 27/50\n",
            "\n",
            "Epoch 00027: LearningRateScheduler setting learning rate to 0.001075963.\n",
            "390/390 [==============================] - 14s 36ms/step - loss: 0.0361 - acc: 0.9871 - val_loss: 0.9719 - val_acc: 0.8224\n",
            "\n",
            "Epoch 00027: val_acc did not improve from 0.82660\n",
            "Epoch 28/50\n",
            "\n",
            "Epoch 00028: LearningRateScheduler setting learning rate to 0.001040258.\n",
            "390/390 [==============================] - 14s 37ms/step - loss: 0.0345 - acc: 0.9879 - val_loss: 0.9343 - val_acc: 0.8300\n",
            "\n",
            "Epoch 00028: val_acc improved from 0.82660 to 0.83000, saving model to /content/gdrive/My Drive/Weights/Assignment6A_v2_final_weights-improvement-28-0.8300.hdf5\n",
            "Epoch 29/50\n",
            "\n",
            "Epoch 00029: LearningRateScheduler setting learning rate to 0.0010068466.\n",
            "390/390 [==============================] - 14s 37ms/step - loss: 0.0339 - acc: 0.9880 - val_loss: 1.0385 - val_acc: 0.8200\n",
            "\n",
            "Epoch 00029: val_acc did not improve from 0.83000\n",
            "Epoch 30/50\n",
            "\n",
            "Epoch 00030: LearningRateScheduler setting learning rate to 0.0009755146.\n",
            "390/390 [==============================] - 14s 37ms/step - loss: 0.0309 - acc: 0.9890 - val_loss: 0.9355 - val_acc: 0.8322\n",
            "\n",
            "Epoch 00030: val_acc improved from 0.83000 to 0.83220, saving model to /content/gdrive/My Drive/Weights/Assignment6A_v2_final_weights-improvement-30-0.8322.hdf5\n",
            "Epoch 31/50\n",
            "\n",
            "Epoch 00031: LearningRateScheduler setting learning rate to 0.0009460738.\n",
            "390/390 [==============================] - 14s 37ms/step - loss: 0.0244 - acc: 0.9914 - val_loss: 0.9731 - val_acc: 0.8295\n",
            "\n",
            "Epoch 00031: val_acc did not improve from 0.83220\n",
            "Epoch 32/50\n",
            "\n",
            "Epoch 00032: LearningRateScheduler setting learning rate to 0.000918358.\n",
            "390/390 [==============================] - 14s 37ms/step - loss: 0.0255 - acc: 0.9912 - val_loss: 0.9679 - val_acc: 0.8256\n",
            "\n",
            "Epoch 00032: val_acc did not improve from 0.83220\n",
            "Epoch 33/50\n",
            "\n",
            "Epoch 00033: LearningRateScheduler setting learning rate to 0.0008922198.\n",
            "390/390 [==============================] - 14s 37ms/step - loss: 0.0255 - acc: 0.9910 - val_loss: 0.9714 - val_acc: 0.8306\n",
            "\n",
            "Epoch 00033: val_acc did not improve from 0.83220\n",
            "Epoch 34/50\n",
            "\n",
            "Epoch 00034: LearningRateScheduler setting learning rate to 0.0008675284.\n",
            "390/390 [==============================] - 14s 37ms/step - loss: 0.0249 - acc: 0.9917 - val_loss: 0.9711 - val_acc: 0.8280\n",
            "\n",
            "Epoch 00034: val_acc did not improve from 0.83220\n",
            "Epoch 35/50\n",
            "\n",
            "Epoch 00035: LearningRateScheduler setting learning rate to 0.0008441668.\n",
            "390/390 [==============================] - 14s 37ms/step - loss: 0.0262 - acc: 0.9908 - val_loss: 0.9826 - val_acc: 0.8315\n",
            "\n",
            "Epoch 00035: val_acc did not improve from 0.83220\n",
            "Epoch 36/50\n",
            "\n",
            "Epoch 00036: LearningRateScheduler setting learning rate to 0.0008220304.\n",
            "390/390 [==============================] - 14s 37ms/step - loss: 0.0248 - acc: 0.9913 - val_loss: 0.9922 - val_acc: 0.8290\n",
            "\n",
            "Epoch 00036: val_acc did not improve from 0.83220\n",
            "Epoch 37/50\n",
            "\n",
            "Epoch 00037: LearningRateScheduler setting learning rate to 0.0008010253.\n",
            "390/390 [==============================] - 14s 37ms/step - loss: 0.0191 - acc: 0.9932 - val_loss: 1.0060 - val_acc: 0.8293\n",
            "\n",
            "Epoch 00037: val_acc did not improve from 0.83220\n",
            "Epoch 38/50\n",
            "\n",
            "Epoch 00038: LearningRateScheduler setting learning rate to 0.0007810669.\n",
            "390/390 [==============================] - 14s 37ms/step - loss: 0.0197 - acc: 0.9934 - val_loss: 1.0219 - val_acc: 0.8272\n",
            "\n",
            "Epoch 00038: val_acc did not improve from 0.83220\n",
            "Epoch 39/50\n",
            "\n",
            "Epoch 00039: LearningRateScheduler setting learning rate to 0.000762079.\n",
            "390/390 [==============================] - 14s 37ms/step - loss: 0.0206 - acc: 0.9929 - val_loss: 1.0343 - val_acc: 0.8287\n",
            "\n",
            "Epoch 00039: val_acc did not improve from 0.83220\n",
            "Epoch 40/50\n",
            "\n",
            "Epoch 00040: LearningRateScheduler setting learning rate to 0.0007439923.\n",
            "390/390 [==============================] - 14s 37ms/step - loss: 0.0192 - acc: 0.9932 - val_loss: 1.0487 - val_acc: 0.8305\n",
            "\n",
            "Epoch 00040: val_acc did not improve from 0.83220\n",
            "Epoch 41/50\n",
            "\n",
            "Epoch 00041: LearningRateScheduler setting learning rate to 0.0007267442.\n",
            "390/390 [==============================] - 14s 37ms/step - loss: 0.0175 - acc: 0.9940 - val_loss: 1.0711 - val_acc: 0.8197\n",
            "\n",
            "Epoch 00041: val_acc did not improve from 0.83220\n",
            "Epoch 42/50\n",
            "\n",
            "Epoch 00042: LearningRateScheduler setting learning rate to 0.0007102777.\n",
            "390/390 [==============================] - 14s 37ms/step - loss: 0.0183 - acc: 0.9934 - val_loss: 1.0124 - val_acc: 0.8301\n",
            "\n",
            "Epoch 00042: val_acc did not improve from 0.83220\n",
            "Epoch 43/50\n",
            "\n",
            "Epoch 00043: LearningRateScheduler setting learning rate to 0.0006945409.\n",
            "390/390 [==============================] - 14s 37ms/step - loss: 0.0162 - acc: 0.9941 - val_loss: 1.0193 - val_acc: 0.8312\n",
            "\n",
            "Epoch 00043: val_acc did not improve from 0.83220\n",
            "Epoch 44/50\n",
            "\n",
            "Epoch 00044: LearningRateScheduler setting learning rate to 0.0006794863.\n",
            "390/390 [==============================] - 14s 37ms/step - loss: 0.0153 - acc: 0.9946 - val_loss: 1.0363 - val_acc: 0.8271\n",
            "\n",
            "Epoch 00044: val_acc did not improve from 0.83220\n",
            "Epoch 45/50\n",
            "\n",
            "Epoch 00045: LearningRateScheduler setting learning rate to 0.0006650705.\n",
            "390/390 [==============================] - 14s 37ms/step - loss: 0.0150 - acc: 0.9946 - val_loss: 1.0427 - val_acc: 0.8343\n",
            "\n",
            "Epoch 00045: val_acc improved from 0.83220 to 0.83430, saving model to /content/gdrive/My Drive/Weights/Assignment6A_v2_final_weights-improvement-45-0.8343.hdf5\n",
            "Epoch 46/50\n",
            "\n",
            "Epoch 00046: LearningRateScheduler setting learning rate to 0.0006512537.\n",
            "390/390 [==============================] - 14s 37ms/step - loss: 0.0165 - acc: 0.9944 - val_loss: 1.0191 - val_acc: 0.8338\n",
            "\n",
            "Epoch 00046: val_acc did not improve from 0.83430\n",
            "Epoch 47/50\n",
            "\n",
            "Epoch 00047: LearningRateScheduler setting learning rate to 0.0006379992.\n",
            "390/390 [==============================] - 14s 37ms/step - loss: 0.0136 - acc: 0.9949 - val_loss: 1.0512 - val_acc: 0.8317\n",
            "\n",
            "Epoch 00047: val_acc did not improve from 0.83430\n",
            "Epoch 48/50\n",
            "\n",
            "Epoch 00048: LearningRateScheduler setting learning rate to 0.0006252736.\n",
            "390/390 [==============================] - 14s 37ms/step - loss: 0.0152 - acc: 0.9947 - val_loss: 1.0504 - val_acc: 0.8338\n",
            "\n",
            "Epoch 00048: val_acc did not improve from 0.83430\n",
            "Epoch 49/50\n",
            "\n",
            "Epoch 00049: LearningRateScheduler setting learning rate to 0.0006130456.\n",
            "390/390 [==============================] - 14s 37ms/step - loss: 0.0136 - acc: 0.9956 - val_loss: 1.0240 - val_acc: 0.8354\n",
            "\n",
            "Epoch 00049: val_acc improved from 0.83430 to 0.83540, saving model to /content/gdrive/My Drive/Weights/Assignment6A_v2_final_weights-improvement-49-0.8354.hdf5\n",
            "Epoch 50/50\n",
            "\n",
            "Epoch 00050: LearningRateScheduler setting learning rate to 0.0006012868.\n",
            "390/390 [==============================] - 14s 37ms/step - loss: 0.0136 - acc: 0.9954 - val_loss: 1.0681 - val_acc: 0.8337\n",
            "\n",
            "Epoch 00050: val_acc did not improve from 0.83540\n",
            "Model took 727.86 seconds to train\n"
          ],
          "name": "stdout"
        },
        {
          "output_type": "display_data",
          "data": {
            "image/png": "[encoded data removed]",
            "text/plain": [
              "<Figure size 1080x360 with 2 Axes>"
            ]
          },
          "metadata": {
            "tags": []
          }
        },
        {
          "output_type": "stream",
          "text": [
            "Accuracy on test data is: 83.37\n"
          ],
          "name": "stdout"
        }
      ]
    }
  ]
}