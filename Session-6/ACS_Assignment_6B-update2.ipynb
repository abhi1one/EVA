{
  "nbformat": 4,
  "nbformat_minor": 0,
  "metadata": {
    "colab": {
      "name": "ACS-Assignment 6B.ipynb",
      "version": "0.3.2",
      "provenance": [],
      "collapsed_sections": []
    },
    "kernelspec": {
      "name": "python3",
      "display_name": "Python 3"
    },
    "accelerator": "GPU"
  },
  "cells": [
    {
      "cell_type": "markdown",
      "metadata": {
        "id": "3v6PxkXd6a3s",
        "colab_type": "text"
      },
      "source": [
        "Assignment 6B\n",
        "\n",
        "\n",
        "1. Normal Convolution\n",
        "2. Separable Convolution \n",
        "3. Depthwise Convolution\n",
        "4. Grouped Convolution (use 3x3, 5x5 only)\n",
        "5. Grouped Convolution (use 3x3 only, one with dilation = 1, and another with dilation = 2) \n",
        "\n",
        "Must use all of the 5 above at least once\n",
        "Train this new model for 50 epochs. \n",
        "\n",
        "Implimenting DepthwiseConv2D in the model to do depthwise convolution as suggested. \n",
        "\n",
        "09-06-2019: \n",
        "On further evaluation based on comments on groups on telegram and rereading DepthwiseConv2D and SeparableConv2d; seems SeparableConv2d is the right choice for depthwise layer we are trying to impliment. replacing same and resubmitting\n"
      ]
    },
    {
      "cell_type": "markdown",
      "metadata": {
        "id": "USsdQoEx0Ano",
        "colab_type": "text"
      },
      "source": [
        "Importing al necessary keras, matplot, numpy libs"
      ]
    },
    {
      "cell_type": "code",
      "metadata": {
        "id": "KkwXnw9OfHZl",
        "colab_type": "code",
        "outputId": "1fe857d0-02bf-4cc7-b987-e75b61fe7263",
        "colab": {
          "base_uri": "https://localhost:8080/",
          "height": 34
        }
      },
      "source": [
        "from keras import backend as K\n",
        "import time\n",
        "import matplotlib.pyplot as plt\n",
        "import numpy as np\n",
        "% matplotlib inline\n",
        "np.random.seed(2017) \n",
        "from keras.models import Sequential\n",
        "from keras.layers.convolutional import Convolution2D, MaxPooling2D, SeparableConv2D, DepthwiseConv2D\n",
        "from keras.layers import Activation, Flatten, Dense, Dropout\n",
        "from keras.layers.normalization import BatchNormalization\n",
        "from keras.utils import np_utils"
      ],
      "execution_count": 1,
      "outputs": [
        {
          "output_type": "stream",
          "text": [
            "Using TensorFlow backend.\n"
          ],
          "name": "stderr"
        }
      ]
    },
    {
      "cell_type": "code",
      "metadata": {
        "id": "Sz0fn7CXQ7Qh",
        "colab_type": "code",
        "outputId": "cec46391-2b54-4ec7-bb95-f99d1cca2131",
        "colab": {
          "base_uri": "https://localhost:8080/",
          "height": 122
        }
      },
      "source": [
        "#preparing check point for saving weights via callback\n",
        "from google.colab import drive\n",
        "from keras.callbacks import CSVLogger\n",
        "from keras.callbacks import ModelCheckpoint\n",
        "\n",
        "drive.mount('/content/gdrive')"
      ],
      "execution_count": 2,
      "outputs": [
        {
          "output_type": "stream",
          "text": [
            "Go to this URL in a browser: https://accounts.google.com/o/oauth2/auth?client_id=947318989803-6bn6qk8qdgf4n4g3pfee6491hc0brc4i.apps.googleusercontent.com&redirect_uri=urn%3Aietf%3Awg%3Aoauth%3A2.0%3Aoob&scope=email%20https%3A%2F%2Fwww.googleapis.com%2Fauth%2Fdocs.test%20https%3A%2F%2Fwww.googleapis.com%2Fauth%2Fdrive%20https%3A%2F%2Fwww.googleapis.com%2Fauth%2Fdrive.photos.readonly%20https%3A%2F%2Fwww.googleapis.com%2Fauth%2Fpeopleapi.readonly&response_type=code\n",
            "\n",
            "Enter your authorization code:\n",
            "··········\n",
            "Mounted at /content/gdrive\n"
          ],
          "name": "stdout"
        }
      ]
    },
    {
      "cell_type": "markdown",
      "metadata": {
        "id": "QKYjmn05z9aa",
        "colab_type": "text"
      },
      "source": [
        "Importing, loading data in train and test"
      ]
    },
    {
      "cell_type": "code",
      "metadata": {
        "id": "NHpnoCHZfO8g",
        "colab_type": "code",
        "colab": {
          "base_uri": "https://localhost:8080/",
          "height": 51
        },
        "outputId": "171cfc20-3f1b-41fc-f582-e61dc253ae03"
      },
      "source": [
        "from keras.datasets import cifar10\n",
        "(train_features, train_labels), (test_features, test_labels) = cifar10.load_data()\n",
        "num_train, img_channels, img_rows, img_cols =  train_features.shape\n",
        "num_test, _, _, _ =  test_features.shape\n",
        "num_classes = len(np.unique(train_labels))"
      ],
      "execution_count": 3,
      "outputs": [
        {
          "output_type": "stream",
          "text": [
            "Downloading data from https://www.cs.toronto.edu/~kriz/cifar-10-python.tar.gz\n",
            "170500096/170498071 [==============================] - 2s 0us/step\n"
          ],
          "name": "stdout"
        }
      ]
    },
    {
      "cell_type": "markdown",
      "metadata": {
        "id": "AqiK87Da0HXr",
        "colab_type": "text"
      },
      "source": [
        "Viewsing train data for labels."
      ]
    },
    {
      "cell_type": "code",
      "metadata": {
        "id": "14HyBUXdfS6G",
        "colab_type": "code",
        "outputId": "6b6569fa-b56c-4b5b-e701-f1bb8194ff15",
        "colab": {
          "base_uri": "https://localhost:8080/",
          "height": 213
        }
      },
      "source": [
        "class_names = ['airplane','automobile','bird','cat','deer',\n",
        "               'dog','frog','horse','ship','truck']\n",
        "fig = plt.figure(figsize=(8,3))\n",
        "for i in range(num_classes):\n",
        "    ax = fig.add_subplot(2, 5, 1 + i, xticks=[], yticks=[])\n",
        "    idx = np.where(train_labels[:]==i)[0]\n",
        "    features_idx = train_features[idx,::]\n",
        "    img_num = np.random.randint(features_idx.shape[0])\n",
        "    im = features_idx[img_num]\n",
        "    ax.set_title(class_names[i])\n",
        "    plt.imshow(im)\n",
        "plt.show()"
      ],
      "execution_count": 4,
      "outputs": [
        {
          "output_type": "display_data",
          "data": {
            "image/png": "[encoded data removed]",
            "text/plain": [
              "<Figure size 576x216 with 10 Axes>"
            ]
          },
          "metadata": {
            "tags": []
          }
        }
      ]
    },
    {
      "cell_type": "markdown",
      "metadata": {
        "id": "XrOuZ6Qz0R_L",
        "colab_type": "text"
      },
      "source": [
        "Defigning function to plot model training validation accuracy and loss"
      ]
    },
    {
      "cell_type": "code",
      "metadata": {
        "id": "bmfsk76-fadV",
        "colab_type": "code",
        "colab": {}
      },
      "source": [
        "def plot_model_history(model_history):\n",
        "    fig, axs = plt.subplots(1,2,figsize=(15,5))\n",
        "    # summarize history for accuracy\n",
        "    axs[0].plot(range(1,len(model_history.history['acc'])+1),model_history.history['acc'])\n",
        "    axs[0].plot(range(1,len(model_history.history['val_acc'])+1),model_history.history['val_acc'])\n",
        "    axs[0].set_title('Model Accuracy')\n",
        "    axs[0].set_ylabel('Accuracy')\n",
        "    axs[0].set_xlabel('Epoch')\n",
        "    axs[0].set_xticks(np.arange(1,len(model_history.history['acc'])+1),len(model_history.history['acc'])/10)\n",
        "    axs[0].legend(['train', 'val'], loc='best')\n",
        "    # summarize history for loss\n",
        "    axs[1].plot(range(1,len(model_history.history['loss'])+1),model_history.history['loss'])\n",
        "    axs[1].plot(range(1,len(model_history.history['val_loss'])+1),model_history.history['val_loss'])\n",
        "    axs[1].set_title('Model Loss')\n",
        "    axs[1].set_ylabel('Loss')\n",
        "    axs[1].set_xlabel('Epoch')\n",
        "    axs[1].set_xticks(np.arange(1,len(model_history.history['loss'])+1),len(model_history.history['loss'])/10)\n",
        "    axs[1].legend(['train', 'val'], loc='best')\n",
        "    plt.show()"
      ],
      "execution_count": 0,
      "outputs": []
    },
    {
      "cell_type": "markdown",
      "metadata": {
        "id": "4Mn7RV2U0uQ6",
        "colab_type": "text"
      },
      "source": [
        "Defining function to find and return accracy of trained model in percentage"
      ]
    },
    {
      "cell_type": "code",
      "metadata": {
        "id": "YJMT4rjgfdZz",
        "colab_type": "code",
        "colab": {}
      },
      "source": [
        "def accuracy(test_x, test_y, model):\n",
        "    result = model.predict(test_x)\n",
        "    predicted_class = np.argmax(result, axis=1)\n",
        "    true_class = np.argmax(test_y, axis=1)\n",
        "    num_correct = np.sum(predicted_class == true_class) \n",
        "    accuracy = float(num_correct)/result.shape[0]\n",
        "    return (accuracy * 100)"
      ],
      "execution_count": 0,
      "outputs": []
    },
    {
      "cell_type": "markdown",
      "metadata": {
        "id": "0OPhvx4602Cz",
        "colab_type": "text"
      },
      "source": [
        "Normalizing train and test data \n",
        "Converting labels from 1-D to 2-D with leangth of second dimention is num_class"
      ]
    },
    {
      "cell_type": "code",
      "metadata": {
        "id": "T5c5nDvxm6zR",
        "colab_type": "code",
        "colab": {}
      },
      "source": [
        "train_features = train_features.astype('float32')/255\n",
        "test_features = test_features.astype('float32')/255\n",
        "# convert class labels to binary class labels\n",
        "train_labels = np_utils.to_categorical(train_labels, num_classes)\n",
        "test_labels = np_utils.to_categorical(test_labels, num_classes)"
      ],
      "execution_count": 0,
      "outputs": []
    },
    {
      "cell_type": "markdown",
      "metadata": {
        "id": "vP0nihOX1Yac",
        "colab_type": "text"
      },
      "source": [
        "Defining Model and Compiling Model (converting model building form Sequential to Functional)\n",
        "\n",
        "Changing model to including following 5 types of layers\n",
        "1. Normal Convolution\n",
        "2. Separable Convolution - https://www.programcreek.com/python/example/89684/keras.layers.SeparableConv2D\n",
        "3. Depthwise Convolution\n",
        "4. Grouped Convolution (use 3x3, 5x5 only)\n",
        "5. Grouped Convolution (use 3x3 only, one with dilation = 1, and another with dilation = 2) \n",
        "\n",
        "Regerence:\n",
        "1. https://github.com/changtimwu/changtimwu.github.com/issues/70\n",
        "2. https://towardsdatascience.com/a-comprehensive-introduction-to-different-types-of-convolutions-in-deep-learning-669281e58215\n",
        "3. https://machinelearningmastery.com/keras-functional-api-deep-learning/\n"
      ]
    },
    {
      "cell_type": "code",
      "metadata": {
        "id": "E54Zpn9wVHb-",
        "colab_type": "code",
        "colab": {}
      },
      "source": [
        "#Defining model\n",
        "\n",
        "#importing necessary modules\n",
        "from keras.models import Model\n",
        "from keras.layers import Input, Flatten, Conv2D\n",
        "from keras.layers.merge import concatenate\n",
        "\n",
        "# input layer\n",
        "visible = Input(shape=(32,32,3))\n",
        "\n",
        "# 1st Normal layer\n",
        "conv1 = Conv2D(48, (3, 3), padding=\"same\", activation='relu') (visible)\n",
        "\n",
        "# 2nd Seperable layer\n",
        "sep_conv31 = Conv2D(48, (3, 1), padding=\"same\", activation='relu') (conv1)\n",
        "sep_conv13 = Conv2D(48, (1, 3), padding=\"same\", activation='relu') (sep_conv31)\n",
        "\n",
        "#maxpooling\n",
        "pool1 = MaxPooling2D(pool_size=(2, 2))(sep_conv13)\n",
        "\n",
        "# 3rd Depthwise layer\n",
        "# Replacing this implimentation with keras method DepthwiseConv2D\n",
        "'''\n",
        "dep_conv1 = Conv2D(1, (3, 3), padding=\"same\", activation='relu') (pool1)\n",
        "dep_conv2 = Conv2D(96, (1, 1), padding=\"same\", activation='relu') (dep_conv1)\n",
        "'''\n",
        "#dep_conv2 = DepthwiseConv2D((3, 3), padding=\"same\", depth_multiplier=1, strides=(1,1), use_bias=False) (pool1)\n",
        "\n",
        "'''09-06-2019: On further evaluation based on comments on groups on telegram and rereading DepthwiseConv2D and SeparableConv2d;\n",
        "seems SeparableConv2d is the right choice for depthwise layer we are trying to impliment. replacing same and resubmitting'''\n",
        "dep_conv2 = SeparableConv2D(96, (3, 3), padding=\"same\", depth_multiplier=1, strides=(1,1), use_bias=False) (pool1)\n",
        "\n",
        "#maxpooling\n",
        "pool2 = MaxPooling2D(pool_size=(2, 2))(dep_conv2)\n",
        "\n",
        "#4th Grouped Convolution (use 3x3, 5x5 only)\n",
        "# first feature extractor\n",
        "grp_conv1 = Conv2D(96, (3, 3), padding=\"same\", activation='relu')(pool2)\n",
        "# second feature extractor\n",
        "grp_conv2 = Conv2D(96, (3, 3), padding=\"same\", activation='relu')(pool2)\n",
        "# merge feature extractors\n",
        "grp_merge = concatenate([grp_conv1, grp_conv2])\n",
        "\n",
        "#5th Grouped Convolution (use 3x3 only, one with dilation = 1, and another with dilation = 2)\n",
        "# first feature extractor\n",
        "grp_dl1_conv1 = Conv2D(96, (3, 3), padding=\"same\", dilation_rate=(1, 1), activation='relu')(grp_merge)\n",
        "# second feature extractor\n",
        "grp_dl2_conv2 = Conv2D(96, (3, 3), padding=\"same\", dilation_rate=(2, 2), activation='relu')(grp_merge)\n",
        "# merge feature extractors\n",
        "grp_dl_merge = concatenate([grp_dl1_conv1, grp_dl2_conv2])\n",
        "\n",
        "#\n",
        "flat = Flatten()(grp_dl_merge)\n",
        "hidden1 = Dense(10, activation='relu')(flat)\n",
        "output = Dense(10, activation='softmax')(hidden1)\n",
        "model = Model(inputs=visible, outputs=output)"
      ],
      "execution_count": 0,
      "outputs": []
    },
    {
      "cell_type": "code",
      "metadata": {
        "id": "wvVs5tC8mR6Q",
        "colab_type": "code",
        "outputId": "3acd5d22-8013-46d7-f3c7-b9bfc80cd28a",
        "colab": {
          "base_uri": "https://localhost:8080/",
          "height": 714
        }
      },
      "source": [
        "model.summary()"
      ],
      "execution_count": 10,
      "outputs": [
        {
          "output_type": "stream",
          "text": [
            "__________________________________________________________________________________________________\n",
            "Layer (type)                    Output Shape         Param #     Connected to                     \n",
            "==================================================================================================\n",
            "input_2 (InputLayer)            (None, 32, 32, 3)    0                                            \n",
            "__________________________________________________________________________________________________\n",
            "conv2d_4 (Conv2D)               (None, 32, 32, 48)   1344        input_2[0][0]                    \n",
            "__________________________________________________________________________________________________\n",
            "conv2d_5 (Conv2D)               (None, 32, 32, 48)   6960        conv2d_4[0][0]                   \n",
            "__________________________________________________________________________________________________\n",
            "conv2d_6 (Conv2D)               (None, 32, 32, 48)   6960        conv2d_5[0][0]                   \n",
            "__________________________________________________________________________________________________\n",
            "max_pooling2d_2 (MaxPooling2D)  (None, 16, 16, 48)   0           conv2d_6[0][0]                   \n",
            "__________________________________________________________________________________________________\n",
            "separable_conv2d_1 (SeparableCo (None, 16, 16, 96)   5040        max_pooling2d_2[0][0]            \n",
            "__________________________________________________________________________________________________\n",
            "max_pooling2d_3 (MaxPooling2D)  (None, 8, 8, 96)     0           separable_conv2d_1[0][0]         \n",
            "__________________________________________________________________________________________________\n",
            "conv2d_7 (Conv2D)               (None, 8, 8, 96)     83040       max_pooling2d_3[0][0]            \n",
            "__________________________________________________________________________________________________\n",
            "conv2d_8 (Conv2D)               (None, 8, 8, 96)     83040       max_pooling2d_3[0][0]            \n",
            "__________________________________________________________________________________________________\n",
            "concatenate_1 (Concatenate)     (None, 8, 8, 192)    0           conv2d_7[0][0]                   \n",
            "                                                                 conv2d_8[0][0]                   \n",
            "__________________________________________________________________________________________________\n",
            "conv2d_9 (Conv2D)               (None, 8, 8, 96)     165984      concatenate_1[0][0]              \n",
            "__________________________________________________________________________________________________\n",
            "conv2d_10 (Conv2D)              (None, 8, 8, 96)     165984      concatenate_1[0][0]              \n",
            "__________________________________________________________________________________________________\n",
            "concatenate_2 (Concatenate)     (None, 8, 8, 192)    0           conv2d_9[0][0]                   \n",
            "                                                                 conv2d_10[0][0]                  \n",
            "__________________________________________________________________________________________________\n",
            "flatten_1 (Flatten)             (None, 12288)        0           concatenate_2[0][0]              \n",
            "__________________________________________________________________________________________________\n",
            "dense_1 (Dense)                 (None, 10)           122890      flatten_1[0][0]                  \n",
            "__________________________________________________________________________________________________\n",
            "dense_2 (Dense)                 (None, 10)           110         dense_1[0][0]                    \n",
            "==================================================================================================\n",
            "Total params: 641,352\n",
            "Trainable params: 641,352\n",
            "Non-trainable params: 0\n",
            "__________________________________________________________________________________________________\n"
          ],
          "name": "stdout"
        }
      ]
    },
    {
      "cell_type": "code",
      "metadata": {
        "id": "cSOb2lkJfhVq",
        "colab_type": "code",
        "colab": {}
      },
      "source": [
        "\n",
        "#Adding lr rate scheduling and model saving\n",
        "from keras.optimizers import Adam\n",
        "from keras.callbacks import LearningRateScheduler, ModelCheckpoint\n",
        "def scheduler(epoch, lr):\n",
        "  return round(0.01 * 1/(1 + 0.319 * epoch), 10)\n",
        "\n",
        "filepath=\"/content/gdrive/My Drive/Weights/Assignment6B_v1_final_weights-improvement-{epoch:02d}-{val_acc:.4f}.hdf5\"\n",
        "checkpoint = ModelCheckpoint(filepath, monitor='val_acc', verbose=1, save_best_only=True, mode='max')\n",
        "\n",
        "callback_list = [LearningRateScheduler(scheduler, verbose=1), checkpoint]\n",
        "\n",
        "# Compile the model\n",
        "model.compile(optimizer=Adam(lr=0.01), loss='categorical_crossentropy', metrics=['accuracy'])\n"
      ],
      "execution_count": 0,
      "outputs": []
    },
    {
      "cell_type": "markdown",
      "metadata": {
        "id": "8AMDfxfB15FD",
        "colab_type": "text"
      },
      "source": [
        "Training for Epochs = 100 and comparing with Base accuracy is 82.73 \n",
        "Reducing training epochs to 50"
      ]
    },
    {
      "cell_type": "code",
      "metadata": {
        "id": "5oK_V7WyfsXX",
        "colab_type": "code",
        "outputId": "a411dbad-9009-404d-d0c4-2762d7802fe4",
        "colab": {
          "base_uri": "https://localhost:8080/",
          "height": 5623
        }
      },
      "source": [
        "from keras.preprocessing.image import ImageDataGenerator\n",
        "\n",
        "datagen = ImageDataGenerator(zoom_range=0.0, \n",
        "                             horizontal_flip=False)\n",
        "\n",
        "\n",
        "# train the model\n",
        "start = time.time()\n",
        "# Train the model\n",
        "model_info = model.fit_generator(datagen.flow(train_features, train_labels, batch_size = 128),\n",
        "                                 samples_per_epoch = train_features.shape[0], nb_epoch = 50, \n",
        "                                 validation_data = (test_features, test_labels), verbose=1, \n",
        "                                 callbacks=callback_list)\n",
        "end = time.time()\n",
        "print (\"Model took %0.2f seconds to train\"%(end - start))\n",
        "# plot model history\n",
        "plot_model_history(model_info)\n",
        "# compute test accuracy\n",
        "print (\"Accuracy on test data is: %0.2f\"%accuracy(test_features, test_labels, model))"
      ],
      "execution_count": 12,
      "outputs": [
        {
          "output_type": "stream",
          "text": [
            "WARNING:tensorflow:From /usr/local/lib/python3.6/dist-packages/tensorflow/python/ops/math_ops.py:3066: to_int32 (from tensorflow.python.ops.math_ops) is deprecated and will be removed in a future version.\n",
            "Instructions for updating:\n",
            "Use tf.cast instead.\n"
          ],
          "name": "stdout"
        },
        {
          "output_type": "stream",
          "text": [
            "/usr/local/lib/python3.6/dist-packages/ipykernel_launcher.py:13: UserWarning: The semantics of the Keras 2 argument `steps_per_epoch` is not the same as the Keras 1 argument `samples_per_epoch`. `steps_per_epoch` is the number of batches to draw from the generator at each epoch. Basically steps_per_epoch = samples_per_epoch/batch_size. Similarly `nb_val_samples`->`validation_steps` and `val_samples`->`steps` arguments have changed. Update your method calls accordingly.\n",
            "  del sys.path[0]\n",
            "/usr/local/lib/python3.6/dist-packages/ipykernel_launcher.py:13: UserWarning: Update your `fit_generator` call to the Keras 2 API: `fit_generator(<keras_pre..., validation_data=(array([[[..., verbose=1, callbacks=[<keras.ca..., steps_per_epoch=390, epochs=50)`\n",
            "  del sys.path[0]\n"
          ],
          "name": "stderr"
        },
        {
          "output_type": "stream",
          "text": [
            "Epoch 1/50\n",
            "\n",
            "Epoch 00001: LearningRateScheduler setting learning rate to 0.01.\n",
            "390/390 [==============================] - 16s 40ms/step - loss: 2.3111 - acc: 0.0967 - val_loss: 2.3034 - val_acc: 0.1000\n",
            "\n",
            "Epoch 00001: val_acc improved from -inf to 0.10000, saving model to /content/gdrive/My Drive/Weights/Assignment6B_v1_final_weights-improvement-01-0.1000.hdf5\n",
            "Epoch 2/50\n",
            "\n",
            "Epoch 00002: LearningRateScheduler setting learning rate to 0.0075815011.\n",
            "390/390 [==============================] - 9s 23ms/step - loss: 2.3032 - acc: 0.0999 - val_loss: 2.3027 - val_acc: 0.1000\n",
            "\n",
            "Epoch 00002: val_acc did not improve from 0.10000\n",
            "Epoch 3/50\n",
            "\n",
            "Epoch 00003: LearningRateScheduler setting learning rate to 0.0061050061.\n",
            "390/390 [==============================] - 9s 23ms/step - loss: 2.3031 - acc: 0.0973 - val_loss: 2.3027 - val_acc: 0.1000\n",
            "\n",
            "Epoch 00003: val_acc did not improve from 0.10000\n",
            "Epoch 4/50\n",
            "\n",
            "Epoch 00004: LearningRateScheduler setting learning rate to 0.005109862.\n",
            "390/390 [==============================] - 9s 23ms/step - loss: 2.3029 - acc: 0.0980 - val_loss: 2.3029 - val_acc: 0.1000\n",
            "\n",
            "Epoch 00004: val_acc did not improve from 0.10000\n",
            "Epoch 5/50\n",
            "\n",
            "Epoch 00005: LearningRateScheduler setting learning rate to 0.0043936731.\n",
            "390/390 [==============================] - 9s 23ms/step - loss: 2.3029 - acc: 0.1003 - val_loss: 2.3028 - val_acc: 0.1000\n",
            "\n",
            "Epoch 00005: val_acc did not improve from 0.10000\n",
            "Epoch 6/50\n",
            "\n",
            "Epoch 00006: LearningRateScheduler setting learning rate to 0.0038535645.\n",
            "390/390 [==============================] - 9s 23ms/step - loss: 2.3029 - acc: 0.0990 - val_loss: 2.3028 - val_acc: 0.1000\n",
            "\n",
            "Epoch 00006: val_acc did not improve from 0.10000\n",
            "Epoch 7/50\n",
            "\n",
            "Epoch 00007: LearningRateScheduler setting learning rate to 0.003431709.\n",
            "390/390 [==============================] - 9s 23ms/step - loss: 2.3029 - acc: 0.0992 - val_loss: 2.3028 - val_acc: 0.1000\n",
            "\n",
            "Epoch 00007: val_acc did not improve from 0.10000\n",
            "Epoch 8/50\n",
            "\n",
            "Epoch 00008: LearningRateScheduler setting learning rate to 0.0030931024.\n",
            "390/390 [==============================] - 9s 23ms/step - loss: 2.3029 - acc: 0.0987 - val_loss: 2.3027 - val_acc: 0.1000\n",
            "\n",
            "Epoch 00008: val_acc did not improve from 0.10000\n",
            "Epoch 9/50\n",
            "\n",
            "Epoch 00009: LearningRateScheduler setting learning rate to 0.0028153153.\n",
            "390/390 [==============================] - 9s 23ms/step - loss: 2.3029 - acc: 0.0990 - val_loss: 2.3027 - val_acc: 0.1000\n",
            "\n",
            "Epoch 00009: val_acc did not improve from 0.10000\n",
            "Epoch 10/50\n",
            "\n",
            "Epoch 00010: LearningRateScheduler setting learning rate to 0.0025833118.\n",
            "390/390 [==============================] - 9s 23ms/step - loss: 2.3028 - acc: 0.0997 - val_loss: 2.3027 - val_acc: 0.1000\n",
            "\n",
            "Epoch 00010: val_acc did not improve from 0.10000\n",
            "Epoch 11/50\n",
            "\n",
            "Epoch 00011: LearningRateScheduler setting learning rate to 0.0023866348.\n",
            "390/390 [==============================] - 9s 23ms/step - loss: 2.3028 - acc: 0.0997 - val_loss: 2.3027 - val_acc: 0.1000\n",
            "\n",
            "Epoch 00011: val_acc did not improve from 0.10000\n",
            "Epoch 12/50\n",
            "\n",
            "Epoch 00012: LearningRateScheduler setting learning rate to 0.0022177866.\n",
            "390/390 [==============================] - 9s 23ms/step - loss: 2.3028 - acc: 0.0985 - val_loss: 2.3026 - val_acc: 0.1000\n",
            "\n",
            "Epoch 00012: val_acc did not improve from 0.10000\n",
            "Epoch 13/50\n",
            "\n",
            "Epoch 00013: LearningRateScheduler setting learning rate to 0.002071251.\n",
            "390/390 [==============================] - 9s 23ms/step - loss: 2.3028 - acc: 0.0982 - val_loss: 2.3026 - val_acc: 0.1000\n",
            "\n",
            "Epoch 00013: val_acc did not improve from 0.10000\n",
            "Epoch 14/50\n",
            "\n",
            "Epoch 00014: LearningRateScheduler setting learning rate to 0.0019428793.\n",
            "390/390 [==============================] - 9s 23ms/step - loss: 2.3028 - acc: 0.0993 - val_loss: 2.3026 - val_acc: 0.1000\n",
            "\n",
            "Epoch 00014: val_acc did not improve from 0.10000\n",
            "Epoch 15/50\n",
            "\n",
            "Epoch 00015: LearningRateScheduler setting learning rate to 0.0018294914.\n",
            "390/390 [==============================] - 9s 23ms/step - loss: 2.3028 - acc: 0.0960 - val_loss: 2.3026 - val_acc: 0.1000\n",
            "\n",
            "Epoch 00015: val_acc did not improve from 0.10000\n",
            "Epoch 16/50\n",
            "\n",
            "Epoch 00016: LearningRateScheduler setting learning rate to 0.0017286085.\n",
            "390/390 [==============================] - 9s 23ms/step - loss: 2.3028 - acc: 0.0981 - val_loss: 2.3026 - val_acc: 0.1000\n",
            "\n",
            "Epoch 00016: val_acc did not improve from 0.10000\n",
            "Epoch 17/50\n",
            "\n",
            "Epoch 00017: LearningRateScheduler setting learning rate to 0.00163827.\n",
            "390/390 [==============================] - 9s 23ms/step - loss: 2.3027 - acc: 0.1002 - val_loss: 2.3026 - val_acc: 0.1000\n",
            "\n",
            "Epoch 00017: val_acc did not improve from 0.10000\n",
            "Epoch 18/50\n",
            "\n",
            "Epoch 00018: LearningRateScheduler setting learning rate to 0.0015569049.\n",
            "390/390 [==============================] - 9s 24ms/step - loss: 2.3027 - acc: 0.0971 - val_loss: 2.3026 - val_acc: 0.1000\n",
            "\n",
            "Epoch 00018: val_acc did not improve from 0.10000\n",
            "Epoch 19/50\n",
            "\n",
            "Epoch 00019: LearningRateScheduler setting learning rate to 0.0014832394.\n",
            "390/390 [==============================] - 9s 24ms/step - loss: 2.3027 - acc: 0.0966 - val_loss: 2.3026 - val_acc: 0.1000\n",
            "\n",
            "Epoch 00019: val_acc did not improve from 0.10000\n",
            "Epoch 20/50\n",
            "\n",
            "Epoch 00020: LearningRateScheduler setting learning rate to 0.00141623.\n",
            "390/390 [==============================] - 9s 24ms/step - loss: 2.3027 - acc: 0.0971 - val_loss: 2.3026 - val_acc: 0.1000\n",
            "\n",
            "Epoch 00020: val_acc did not improve from 0.10000\n",
            "Epoch 21/50\n",
            "\n",
            "Epoch 00021: LearningRateScheduler setting learning rate to 0.0013550136.\n",
            "390/390 [==============================] - 9s 24ms/step - loss: 2.3027 - acc: 0.0986 - val_loss: 2.3026 - val_acc: 0.1000\n",
            "\n",
            "Epoch 00021: val_acc did not improve from 0.10000\n",
            "Epoch 22/50\n",
            "\n",
            "Epoch 00022: LearningRateScheduler setting learning rate to 0.00129887.\n",
            "390/390 [==============================] - 9s 23ms/step - loss: 2.3027 - acc: 0.0989 - val_loss: 2.3026 - val_acc: 0.1000\n",
            "\n",
            "Epoch 00022: val_acc did not improve from 0.10000\n",
            "Epoch 23/50\n",
            "\n",
            "Epoch 00023: LearningRateScheduler setting learning rate to 0.0012471938.\n",
            "390/390 [==============================] - 9s 24ms/step - loss: 2.3027 - acc: 0.0983 - val_loss: 2.3026 - val_acc: 0.1000\n",
            "\n",
            "Epoch 00023: val_acc did not improve from 0.10000\n",
            "Epoch 24/50\n",
            "\n",
            "Epoch 00024: LearningRateScheduler setting learning rate to 0.0011994722.\n",
            "390/390 [==============================] - 9s 24ms/step - loss: 2.3027 - acc: 0.1004 - val_loss: 2.3026 - val_acc: 0.1000\n",
            "\n",
            "Epoch 00024: val_acc did not improve from 0.10000\n",
            "Epoch 25/50\n",
            "\n",
            "Epoch 00025: LearningRateScheduler setting learning rate to 0.001155268.\n",
            "390/390 [==============================] - 9s 24ms/step - loss: 2.3027 - acc: 0.0974 - val_loss: 2.3026 - val_acc: 0.1000\n",
            "\n",
            "Epoch 00025: val_acc did not improve from 0.10000\n",
            "Epoch 26/50\n",
            "\n",
            "Epoch 00026: LearningRateScheduler setting learning rate to 0.0011142061.\n",
            "390/390 [==============================] - 9s 24ms/step - loss: 2.3027 - acc: 0.0987 - val_loss: 2.3026 - val_acc: 0.1000\n",
            "\n",
            "Epoch 00026: val_acc did not improve from 0.10000\n",
            "Epoch 27/50\n",
            "\n",
            "Epoch 00027: LearningRateScheduler setting learning rate to 0.001075963.\n",
            "390/390 [==============================] - 9s 24ms/step - loss: 2.3027 - acc: 0.0965 - val_loss: 2.3026 - val_acc: 0.1000\n",
            "\n",
            "Epoch 00027: val_acc did not improve from 0.10000\n",
            "Epoch 28/50\n",
            "\n",
            "Epoch 00028: LearningRateScheduler setting learning rate to 0.001040258.\n",
            "390/390 [==============================] - 9s 24ms/step - loss: 2.3027 - acc: 0.0962 - val_loss: 2.3026 - val_acc: 0.1000\n",
            "\n",
            "Epoch 00028: val_acc did not improve from 0.10000\n",
            "Epoch 29/50\n",
            "\n",
            "Epoch 00029: LearningRateScheduler setting learning rate to 0.0010068466.\n",
            "390/390 [==============================] - 9s 24ms/step - loss: 2.3027 - acc: 0.0986 - val_loss: 2.3026 - val_acc: 0.1000\n",
            "\n",
            "Epoch 00029: val_acc did not improve from 0.10000\n",
            "Epoch 30/50\n",
            "\n",
            "Epoch 00030: LearningRateScheduler setting learning rate to 0.0009755146.\n",
            "390/390 [==============================] - 9s 24ms/step - loss: 2.3027 - acc: 0.0984 - val_loss: 2.3026 - val_acc: 0.1000\n",
            "\n",
            "Epoch 00030: val_acc did not improve from 0.10000\n",
            "Epoch 31/50\n",
            "\n",
            "Epoch 00031: LearningRateScheduler setting learning rate to 0.0009460738.\n",
            "390/390 [==============================] - 9s 24ms/step - loss: 2.3027 - acc: 0.0974 - val_loss: 2.3026 - val_acc: 0.1000\n",
            "\n",
            "Epoch 00031: val_acc did not improve from 0.10000\n",
            "Epoch 32/50\n",
            "\n",
            "Epoch 00032: LearningRateScheduler setting learning rate to 0.000918358.\n",
            "390/390 [==============================] - 9s 24ms/step - loss: 2.3027 - acc: 0.0967 - val_loss: 2.3026 - val_acc: 0.1000\n",
            "\n",
            "Epoch 00032: val_acc did not improve from 0.10000\n",
            "Epoch 33/50\n",
            "\n",
            "Epoch 00033: LearningRateScheduler setting learning rate to 0.0008922198.\n",
            "390/390 [==============================] - 9s 24ms/step - loss: 2.3027 - acc: 0.0978 - val_loss: 2.3026 - val_acc: 0.1000\n",
            "\n",
            "Epoch 00033: val_acc did not improve from 0.10000\n",
            "Epoch 34/50\n",
            "\n",
            "Epoch 00034: LearningRateScheduler setting learning rate to 0.0008675284.\n",
            "390/390 [==============================] - 9s 24ms/step - loss: 2.3027 - acc: 0.0958 - val_loss: 2.3026 - val_acc: 0.1000\n",
            "\n",
            "Epoch 00034: val_acc did not improve from 0.10000\n",
            "Epoch 35/50\n",
            "\n",
            "Epoch 00035: LearningRateScheduler setting learning rate to 0.0008441668.\n",
            "390/390 [==============================] - 9s 24ms/step - loss: 2.3027 - acc: 0.0982 - val_loss: 2.3026 - val_acc: 0.1000\n",
            "\n",
            "Epoch 00035: val_acc did not improve from 0.10000\n",
            "Epoch 36/50\n",
            "\n",
            "Epoch 00036: LearningRateScheduler setting learning rate to 0.0008220304.\n",
            "390/390 [==============================] - 9s 24ms/step - loss: 2.3027 - acc: 0.0968 - val_loss: 2.3026 - val_acc: 0.1000\n",
            "\n",
            "Epoch 00036: val_acc did not improve from 0.10000\n",
            "Epoch 37/50\n",
            "\n",
            "Epoch 00037: LearningRateScheduler setting learning rate to 0.0008010253.\n",
            "390/390 [==============================] - 9s 24ms/step - loss: 2.3027 - acc: 0.0978 - val_loss: 2.3026 - val_acc: 0.1000\n",
            "\n",
            "Epoch 00037: val_acc did not improve from 0.10000\n",
            "Epoch 38/50\n",
            "\n",
            "Epoch 00038: LearningRateScheduler setting learning rate to 0.0007810669.\n",
            "390/390 [==============================] - 9s 24ms/step - loss: 2.3027 - acc: 0.0970 - val_loss: 2.3026 - val_acc: 0.1000\n",
            "\n",
            "Epoch 00038: val_acc did not improve from 0.10000\n",
            "Epoch 39/50\n",
            "\n",
            "Epoch 00039: LearningRateScheduler setting learning rate to 0.000762079.\n",
            "390/390 [==============================] - 9s 24ms/step - loss: 2.3027 - acc: 0.0992 - val_loss: 2.3026 - val_acc: 0.1000\n",
            "\n",
            "Epoch 00039: val_acc did not improve from 0.10000\n",
            "Epoch 40/50\n",
            "\n",
            "Epoch 00040: LearningRateScheduler setting learning rate to 0.0007439923.\n",
            "390/390 [==============================] - 9s 24ms/step - loss: 2.3027 - acc: 0.0960 - val_loss: 2.3026 - val_acc: 0.1000\n",
            "\n",
            "Epoch 00040: val_acc did not improve from 0.10000\n",
            "Epoch 41/50\n",
            "\n",
            "Epoch 00041: LearningRateScheduler setting learning rate to 0.0007267442.\n",
            "390/390 [==============================] - 9s 24ms/step - loss: 2.3027 - acc: 0.0997 - val_loss: 2.3026 - val_acc: 0.1000\n",
            "\n",
            "Epoch 00041: val_acc did not improve from 0.10000\n",
            "Epoch 42/50\n",
            "\n",
            "Epoch 00042: LearningRateScheduler setting learning rate to 0.0007102777.\n",
            "390/390 [==============================] - 9s 24ms/step - loss: 2.3027 - acc: 0.0977 - val_loss: 2.3026 - val_acc: 0.1000\n",
            "\n",
            "Epoch 00042: val_acc did not improve from 0.10000\n",
            "Epoch 43/50\n",
            "\n",
            "Epoch 00043: LearningRateScheduler setting learning rate to 0.0006945409.\n",
            "390/390 [==============================] - 9s 24ms/step - loss: 2.3027 - acc: 0.0973 - val_loss: 2.3026 - val_acc: 0.1000\n",
            "\n",
            "Epoch 00043: val_acc did not improve from 0.10000\n",
            "Epoch 44/50\n",
            "\n",
            "Epoch 00044: LearningRateScheduler setting learning rate to 0.0006794863.\n",
            "390/390 [==============================] - 9s 24ms/step - loss: 2.3027 - acc: 0.0990 - val_loss: 2.3026 - val_acc: 0.1000\n",
            "\n",
            "Epoch 00044: val_acc did not improve from 0.10000\n",
            "Epoch 45/50\n",
            "\n",
            "Epoch 00045: LearningRateScheduler setting learning rate to 0.0006650705.\n",
            "390/390 [==============================] - 9s 24ms/step - loss: 2.3027 - acc: 0.0970 - val_loss: 2.3026 - val_acc: 0.1000\n",
            "\n",
            "Epoch 00045: val_acc did not improve from 0.10000\n",
            "Epoch 46/50\n",
            "\n",
            "Epoch 00046: LearningRateScheduler setting learning rate to 0.0006512537.\n",
            "390/390 [==============================] - 9s 24ms/step - loss: 2.3027 - acc: 0.0953 - val_loss: 2.3026 - val_acc: 0.1000\n",
            "\n",
            "Epoch 00046: val_acc did not improve from 0.10000\n",
            "Epoch 47/50\n",
            "\n",
            "Epoch 00047: LearningRateScheduler setting learning rate to 0.0006379992.\n",
            "390/390 [==============================] - 9s 24ms/step - loss: 2.3027 - acc: 0.0984 - val_loss: 2.3026 - val_acc: 0.1000\n",
            "\n",
            "Epoch 00047: val_acc did not improve from 0.10000\n",
            "Epoch 48/50\n",
            "\n",
            "Epoch 00048: LearningRateScheduler setting learning rate to 0.0006252736.\n",
            "390/390 [==============================] - 9s 24ms/step - loss: 2.3026 - acc: 0.0994 - val_loss: 2.3026 - val_acc: 0.1000\n",
            "\n",
            "Epoch 00048: val_acc did not improve from 0.10000\n",
            "Epoch 49/50\n",
            "\n",
            "Epoch 00049: LearningRateScheduler setting learning rate to 0.0006130456.\n",
            "390/390 [==============================] - 9s 24ms/step - loss: 2.3027 - acc: 0.0963 - val_loss: 2.3026 - val_acc: 0.1000\n",
            "\n",
            "Epoch 00049: val_acc did not improve from 0.10000\n",
            "Epoch 50/50\n",
            "\n",
            "Epoch 00050: LearningRateScheduler setting learning rate to 0.0006012868.\n",
            "390/390 [==============================] - 9s 24ms/step - loss: 2.3026 - acc: 0.0989 - val_loss: 2.3026 - val_acc: 0.1000\n",
            "\n",
            "Epoch 00050: val_acc did not improve from 0.10000\n",
            "Model took 467.30 seconds to train\n"
          ],
          "name": "stdout"
        },
        {
          "output_type": "display_data",
          "data": {
            "image/png": "[encoded data removed]",
            "text/plain": [
              "<Figure size 1080x360 with 2 Axes>"
            ]
          },
          "metadata": {
            "tags": []
          }
        },
        {
          "output_type": "stream",
          "text": [
            "Accuracy on test data is: 10.00\n"
          ],
          "name": "stdout"
        }
      ]
    }
  ]
}