{
  "nbformat": 4,
  "nbformat_minor": 0,
  "metadata": {
    "colab": {
      "name": "ACS-Assignment 6A_v3.ipynb",
      "version": "0.3.2",
      "provenance": [],
      "collapsed_sections": []
    },
    "kernelspec": {
      "name": "python3",
      "display_name": "Python 3"
    },
    "accelerator": "GPU"
  },
  "cells": [
    {
      "cell_type": "markdown",
      "metadata": {
        "id": "3v6PxkXd6a3s",
        "colab_type": "text"
      },
      "source": [
        "Assignment 6 vesrion 3 [updating network arch for bottleneck layer]\n",
        "* Step 1: Removing all Dense layers and updating model for receptive field with 1x1\n",
        "* Step 2: Removing / updating dropout places and fixing model arch; settingborder_mode='same' for all convolutions\n",
        "* Step 3: Adding batch norm to address high overfitting\n",
        "* Step 4: adding lr rate and model saving and reducing traing to 50 epochs\n",
        "\n",
        "*Results*\n",
        "* Base Accuracy: 82.73\n",
        "* Version 2 Step 1 Val Accuracy: 82.74\n",
        "* Version 2 Step 2 Val acc:81.32 ; Train Acc:.9807 ; High overfitting\n",
        "* Version 2 Step 3 Val acc:83.89 ; Train Acc:.9926 ; High overfitting\n",
        "* Version 2 Step 4 Val acc:83.37 ; Train Acc:.9954 ; High overfitting\n",
        "\n",
        "* Version 3 first run Val acc: 84.2;\n",
        "* Version 3 Second run Val acc: 85.2;"
      ]
    },
    {
      "cell_type": "markdown",
      "metadata": {
        "id": "USsdQoEx0Ano",
        "colab_type": "text"
      },
      "source": [
        "Importing al necessary keras, matplot, numpy libs"
      ]
    },
    {
      "cell_type": "code",
      "metadata": {
        "id": "KkwXnw9OfHZl",
        "colab_type": "code",
        "outputId": "99c58878-1d03-4df4-89b0-78b8177a66eb",
        "colab": {
          "base_uri": "https://localhost:8080/",
          "height": 34
        }
      },
      "source": [
        "from keras import backend as K\n",
        "import time\n",
        "import matplotlib.pyplot as plt\n",
        "import numpy as np\n",
        "% matplotlib inline\n",
        "np.random.seed(2017) \n",
        "from keras.models import Sequential\n",
        "from keras.layers.convolutional import Convolution2D, MaxPooling2D\n",
        "from keras.layers import Activation, Flatten, Dense, Dropout\n",
        "from keras.layers.normalization import BatchNormalization\n",
        "from keras.utils import np_utils"
      ],
      "execution_count": 1,
      "outputs": [
        {
          "output_type": "stream",
          "text": [
            "Using TensorFlow backend.\n"
          ],
          "name": "stderr"
        }
      ]
    },
    {
      "cell_type": "code",
      "metadata": {
        "id": "Sz0fn7CXQ7Qh",
        "colab_type": "code",
        "outputId": "e8d67bd4-e764-425e-80f0-2d75aecb619a",
        "colab": {
          "base_uri": "https://localhost:8080/",
          "height": 122
        }
      },
      "source": [
        "#preparing check point for saving weights via callback\n",
        "from google.colab import drive\n",
        "from keras.callbacks import CSVLogger\n",
        "from keras.callbacks import ModelCheckpoint\n",
        "\n",
        "drive.mount('/content/gdrive')"
      ],
      "execution_count": 2,
      "outputs": [
        {
          "output_type": "stream",
          "text": [
            "Go to this URL in a browser: https://accounts.google.com/o/oauth2/auth?client_id=947318989803-6bn6qk8qdgf4n4g3pfee6491hc0brc4i.apps.googleusercontent.com&redirect_uri=urn%3Aietf%3Awg%3Aoauth%3A2.0%3Aoob&scope=email%20https%3A%2F%2Fwww.googleapis.com%2Fauth%2Fdocs.test%20https%3A%2F%2Fwww.googleapis.com%2Fauth%2Fdrive%20https%3A%2F%2Fwww.googleapis.com%2Fauth%2Fdrive.photos.readonly%20https%3A%2F%2Fwww.googleapis.com%2Fauth%2Fpeopleapi.readonly&response_type=code\n",
            "\n",
            "Enter your authorization code:\n",
            "··········\n",
            "Mounted at /content/gdrive\n"
          ],
          "name": "stdout"
        }
      ]
    },
    {
      "cell_type": "markdown",
      "metadata": {
        "id": "QKYjmn05z9aa",
        "colab_type": "text"
      },
      "source": [
        "Importing, loading data in train and test"
      ]
    },
    {
      "cell_type": "code",
      "metadata": {
        "id": "NHpnoCHZfO8g",
        "colab_type": "code",
        "colab": {
          "base_uri": "https://localhost:8080/",
          "height": 51
        },
        "outputId": "8e9e54e3-40ca-4bcd-b71e-0d7d47e2a2fc"
      },
      "source": [
        "from keras.datasets import cifar10\n",
        "(train_features, train_labels), (test_features, test_labels) = cifar10.load_data()\n",
        "num_train, img_channels, img_rows, img_cols =  train_features.shape\n",
        "num_test, _, _, _ =  test_features.shape\n",
        "num_classes = len(np.unique(train_labels))"
      ],
      "execution_count": 3,
      "outputs": [
        {
          "output_type": "stream",
          "text": [
            "Downloading data from https://www.cs.toronto.edu/~kriz/cifar-10-python.tar.gz\n",
            "170500096/170498071 [==============================] - 2s 0us/step\n"
          ],
          "name": "stdout"
        }
      ]
    },
    {
      "cell_type": "markdown",
      "metadata": {
        "id": "AqiK87Da0HXr",
        "colab_type": "text"
      },
      "source": [
        "Viewsing train data for labels."
      ]
    },
    {
      "cell_type": "code",
      "metadata": {
        "id": "14HyBUXdfS6G",
        "colab_type": "code",
        "outputId": "9f907101-e14a-4b14-f916-6ce144739cd9",
        "colab": {
          "base_uri": "https://localhost:8080/",
          "height": 213
        }
      },
      "source": [
        "class_names = ['airplane','automobile','bird','cat','deer',\n",
        "               'dog','frog','horse','ship','truck']\n",
        "fig = plt.figure(figsize=(8,3))\n",
        "for i in range(num_classes):\n",
        "    ax = fig.add_subplot(2, 5, 1 + i, xticks=[], yticks=[])\n",
        "    idx = np.where(train_labels[:]==i)[0]\n",
        "    features_idx = train_features[idx,::]\n",
        "    img_num = np.random.randint(features_idx.shape[0])\n",
        "    im = features_idx[img_num]\n",
        "    ax.set_title(class_names[i])\n",
        "    plt.imshow(im)\n",
        "plt.show()"
      ],
      "execution_count": 4,
      "outputs": [
        {
          "output_type": "display_data",
          "data": {
            "image/png": "[encoded data removed]",
            "text/plain": [
              "<Figure size 576x216 with 10 Axes>"
            ]
          },
          "metadata": {
            "tags": []
          }
        }
      ]
    },
    {
      "cell_type": "markdown",
      "metadata": {
        "id": "XrOuZ6Qz0R_L",
        "colab_type": "text"
      },
      "source": [
        "Defigning function to plot model training validation accuracy and loss"
      ]
    },
    {
      "cell_type": "code",
      "metadata": {
        "id": "bmfsk76-fadV",
        "colab_type": "code",
        "colab": {}
      },
      "source": [
        "def plot_model_history(model_history):\n",
        "    fig, axs = plt.subplots(1,2,figsize=(15,5))\n",
        "    # summarize history for accuracy\n",
        "    axs[0].plot(range(1,len(model_history.history['acc'])+1),model_history.history['acc'])\n",
        "    axs[0].plot(range(1,len(model_history.history['val_acc'])+1),model_history.history['val_acc'])\n",
        "    axs[0].set_title('Model Accuracy')\n",
        "    axs[0].set_ylabel('Accuracy')\n",
        "    axs[0].set_xlabel('Epoch')\n",
        "    axs[0].set_xticks(np.arange(1,len(model_history.history['acc'])+1),len(model_history.history['acc'])/10)\n",
        "    axs[0].legend(['train', 'val'], loc='best')\n",
        "    # summarize history for loss\n",
        "    axs[1].plot(range(1,len(model_history.history['loss'])+1),model_history.history['loss'])\n",
        "    axs[1].plot(range(1,len(model_history.history['val_loss'])+1),model_history.history['val_loss'])\n",
        "    axs[1].set_title('Model Loss')\n",
        "    axs[1].set_ylabel('Loss')\n",
        "    axs[1].set_xlabel('Epoch')\n",
        "    axs[1].set_xticks(np.arange(1,len(model_history.history['loss'])+1),len(model_history.history['loss'])/10)\n",
        "    axs[1].legend(['train', 'val'], loc='best')\n",
        "    plt.show()"
      ],
      "execution_count": 0,
      "outputs": []
    },
    {
      "cell_type": "markdown",
      "metadata": {
        "id": "4Mn7RV2U0uQ6",
        "colab_type": "text"
      },
      "source": [
        "Defining function to find and return accracy of trained model in percentage"
      ]
    },
    {
      "cell_type": "code",
      "metadata": {
        "id": "YJMT4rjgfdZz",
        "colab_type": "code",
        "colab": {}
      },
      "source": [
        "def accuracy(test_x, test_y, model):\n",
        "    result = model.predict(test_x)\n",
        "    predicted_class = np.argmax(result, axis=1)\n",
        "    true_class = np.argmax(test_y, axis=1)\n",
        "    num_correct = np.sum(predicted_class == true_class) \n",
        "    accuracy = float(num_correct)/result.shape[0]\n",
        "    return (accuracy * 100)"
      ],
      "execution_count": 0,
      "outputs": []
    },
    {
      "cell_type": "markdown",
      "metadata": {
        "id": "0OPhvx4602Cz",
        "colab_type": "text"
      },
      "source": [
        "Normalizing train and test data \n",
        "Converting labels from 1-D to 2-D with leangth of second dimention is num_class"
      ]
    },
    {
      "cell_type": "code",
      "metadata": {
        "id": "T5c5nDvxm6zR",
        "colab_type": "code",
        "colab": {}
      },
      "source": [
        "train_features = train_features.astype('float32')/255\n",
        "test_features = test_features.astype('float32')/255\n",
        "# convert class labels to binary class labels\n",
        "train_labels = np_utils.to_categorical(train_labels, num_classes)\n",
        "test_labels = np_utils.to_categorical(test_labels, num_classes)"
      ],
      "execution_count": 0,
      "outputs": []
    },
    {
      "cell_type": "markdown",
      "metadata": {
        "id": "vP0nihOX1Yac",
        "colab_type": "text"
      },
      "source": [
        "Defigning Model and Compiling Model\n",
        "\n",
        "Applying step 2 changes."
      ]
    },
    {
      "cell_type": "code",
      "metadata": {
        "id": "cSOb2lkJfhVq",
        "colab_type": "code",
        "outputId": "3b4a908b-36c2-4ca0-ea19-0253f9e82ab5",
        "colab": {
          "base_uri": "https://localhost:8080/",
          "height": 190
        }
      },
      "source": [
        "# Define the model\n",
        "model = Sequential()\n",
        "model.add(Convolution2D(48, 3, 3, border_mode='same', input_shape=(32, 32, 3))) #RF 3X3\n",
        "model.add(Activation('relu'))\n",
        "model.add(BatchNormalization())\n",
        "\n",
        "model.add(Convolution2D(48, 3, 3, border_mode='same')) #RF 5X5\n",
        "model.add(Activation('relu'))\n",
        "model.add(BatchNormalization())\n",
        "\n",
        "model.add(MaxPooling2D(pool_size=(2, 2))) #RF 10X10\n",
        "#Dropout post maxpooling is not help ful; should move this to conv with 14x14\n",
        "#model.add(Dropout(0.25))\n",
        "\n",
        "model.add(Convolution2D(96, 3, 3, border_mode='same')) #RF 12X12\n",
        "model.add(Activation('relu'))\n",
        "model.add(BatchNormalization())\n",
        "\n",
        "model.add(Convolution2D(96, 3, 3, border_mode='same')) #RF 14X14\n",
        "model.add(Activation('relu'))\n",
        "model.add(BatchNormalization())\n",
        "\n",
        "model.add(Dropout(0.25))\n",
        "\n",
        "model.add(MaxPooling2D(pool_size=(2, 2))) #RF 28X28\n",
        "#Dropout post maxpooling is not help ful; should move this to conv with 30x30\n",
        "#model.add(Dropout(0.25))\n",
        "\n",
        "model.add(Convolution2D(192, 3, 3, border_mode='same')) #RF 30X30\n",
        "model.add(Activation('relu'))\n",
        "model.add(BatchNormalization())\n",
        "\n",
        "model.add(Dropout(0.25))\n",
        "\n",
        "model.add(Convolution2D(192, 3, 3, border_mode='same')) #RF 32X32\n",
        "model.add(Activation('relu'))\n",
        "model.add(BatchNormalization())\n",
        "\n",
        "#removing this as it doesn't seem logical to have maxpooling and dropout here\n",
        "# reapplying this maxpooling for bottel neck\n",
        "model.add(MaxPooling2D(pool_size=(2, 2))) #RF 64X64\n",
        "model.add(Dropout(0.25))\n",
        "\n",
        "\n",
        "'''\n",
        "model.add(Flatten())\n",
        "model.add(Dense(512))\n",
        "model.add(Activation('relu'))\n",
        "\n",
        "model.add(Dropout(0.5))\n",
        "model.add(Dense(256))\n",
        "model.add(Activation('relu'))\n",
        "\n",
        "model.add(Dropout(0.5))\n",
        "model.add(Dense(num_classes, activation='softmax'))\n",
        "'''\n",
        "\n",
        "model.add(Convolution2D(10, 1)) \n",
        "model.add(Activation('relu'))\n",
        "model.add(BatchNormalization())\n",
        "\n",
        "model.add(Convolution2D(10, 4)) \n",
        "\n",
        "\n",
        "model.add(Flatten())\n",
        "model.add(Activation('softmax'))\n",
        "\n",
        "#Adding lr rate scheduling and model saving\n",
        "from keras.optimizers import Adam\n",
        "from keras.callbacks import LearningRateScheduler, ModelCheckpoint\n",
        "def scheduler(epoch, lr):\n",
        "  return round(0.01 * 1/(1 + 0.319 * epoch), 10)\n",
        "\n",
        "filepath=\"/content/gdrive/My Drive/Weights/Assignment6A_v3_btl-nck_weights-improvement-{epoch:02d}-{val_acc:.4f}.hdf5\"\n",
        "checkpoint = ModelCheckpoint(filepath, monitor='val_acc', verbose=1, save_best_only=True, mode='max')\n",
        "\n",
        "callback_list = [LearningRateScheduler(scheduler, verbose=1), checkpoint]\n",
        "\n",
        "# Compile the model\n",
        "model.compile(optimizer=Adam(lr=0.01), loss='categorical_crossentropy', metrics=['accuracy'])\n"
      ],
      "execution_count": 12,
      "outputs": [
        {
          "output_type": "stream",
          "text": [
            "/usr/local/lib/python3.6/dist-packages/ipykernel_launcher.py:2: UserWarning: Update your `Conv2D` call to the Keras 2 API: `Conv2D(48, (3, 3), input_shape=(32, 32, 3..., padding=\"same\")`\n",
            "  \n",
            "/usr/local/lib/python3.6/dist-packages/ipykernel_launcher.py:6: UserWarning: Update your `Conv2D` call to the Keras 2 API: `Conv2D(48, (3, 3), padding=\"same\")`\n",
            "  \n",
            "/usr/local/lib/python3.6/dist-packages/ipykernel_launcher.py:14: UserWarning: Update your `Conv2D` call to the Keras 2 API: `Conv2D(96, (3, 3), padding=\"same\")`\n",
            "  \n",
            "/usr/local/lib/python3.6/dist-packages/ipykernel_launcher.py:18: UserWarning: Update your `Conv2D` call to the Keras 2 API: `Conv2D(96, (3, 3), padding=\"same\")`\n",
            "/usr/local/lib/python3.6/dist-packages/ipykernel_launcher.py:28: UserWarning: Update your `Conv2D` call to the Keras 2 API: `Conv2D(192, (3, 3), padding=\"same\")`\n",
            "/usr/local/lib/python3.6/dist-packages/ipykernel_launcher.py:34: UserWarning: Update your `Conv2D` call to the Keras 2 API: `Conv2D(192, (3, 3), padding=\"same\")`\n"
          ],
          "name": "stderr"
        }
      ]
    },
    {
      "cell_type": "code",
      "metadata": {
        "id": "wvVs5tC8mR6Q",
        "colab_type": "code",
        "outputId": "bcdec659-6263-4159-deb8-c625e30d171c",
        "colab": {
          "base_uri": "https://localhost:8080/",
          "height": 1156
        }
      },
      "source": [
        "model.summary()"
      ],
      "execution_count": 13,
      "outputs": [
        {
          "output_type": "stream",
          "text": [
            "_________________________________________________________________\n",
            "Layer (type)                 Output Shape              Param #   \n",
            "=================================================================\n",
            "conv2d_17 (Conv2D)           (None, 32, 32, 48)        1344      \n",
            "_________________________________________________________________\n",
            "activation_14 (Activation)   (None, 32, 32, 48)        0         \n",
            "_________________________________________________________________\n",
            "batch_normalization_13 (Batc (None, 32, 32, 48)        192       \n",
            "_________________________________________________________________\n",
            "conv2d_18 (Conv2D)           (None, 32, 32, 48)        20784     \n",
            "_________________________________________________________________\n",
            "activation_15 (Activation)   (None, 32, 32, 48)        0         \n",
            "_________________________________________________________________\n",
            "batch_normalization_14 (Batc (None, 32, 32, 48)        192       \n",
            "_________________________________________________________________\n",
            "max_pooling2d_7 (MaxPooling2 (None, 16, 16, 48)        0         \n",
            "_________________________________________________________________\n",
            "conv2d_19 (Conv2D)           (None, 16, 16, 96)        41568     \n",
            "_________________________________________________________________\n",
            "activation_16 (Activation)   (None, 16, 16, 96)        0         \n",
            "_________________________________________________________________\n",
            "batch_normalization_15 (Batc (None, 16, 16, 96)        384       \n",
            "_________________________________________________________________\n",
            "conv2d_20 (Conv2D)           (None, 16, 16, 96)        83040     \n",
            "_________________________________________________________________\n",
            "activation_17 (Activation)   (None, 16, 16, 96)        0         \n",
            "_________________________________________________________________\n",
            "batch_normalization_16 (Batc (None, 16, 16, 96)        384       \n",
            "_________________________________________________________________\n",
            "dropout_7 (Dropout)          (None, 16, 16, 96)        0         \n",
            "_________________________________________________________________\n",
            "max_pooling2d_8 (MaxPooling2 (None, 8, 8, 96)          0         \n",
            "_________________________________________________________________\n",
            "conv2d_21 (Conv2D)           (None, 8, 8, 192)         166080    \n",
            "_________________________________________________________________\n",
            "activation_18 (Activation)   (None, 8, 8, 192)         0         \n",
            "_________________________________________________________________\n",
            "batch_normalization_17 (Batc (None, 8, 8, 192)         768       \n",
            "_________________________________________________________________\n",
            "dropout_8 (Dropout)          (None, 8, 8, 192)         0         \n",
            "_________________________________________________________________\n",
            "conv2d_22 (Conv2D)           (None, 8, 8, 192)         331968    \n",
            "_________________________________________________________________\n",
            "activation_19 (Activation)   (None, 8, 8, 192)         0         \n",
            "_________________________________________________________________\n",
            "batch_normalization_18 (Batc (None, 8, 8, 192)         768       \n",
            "_________________________________________________________________\n",
            "max_pooling2d_9 (MaxPooling2 (None, 4, 4, 192)         0         \n",
            "_________________________________________________________________\n",
            "dropout_9 (Dropout)          (None, 4, 4, 192)         0         \n",
            "_________________________________________________________________\n",
            "conv2d_23 (Conv2D)           (None, 4, 4, 10)          1930      \n",
            "_________________________________________________________________\n",
            "activation_20 (Activation)   (None, 4, 4, 10)          0         \n",
            "_________________________________________________________________\n",
            "batch_normalization_19 (Batc (None, 4, 4, 10)          40        \n",
            "_________________________________________________________________\n",
            "conv2d_24 (Conv2D)           (None, 1, 1, 10)          1610      \n",
            "_________________________________________________________________\n",
            "flatten_2 (Flatten)          (None, 10)                0         \n",
            "_________________________________________________________________\n",
            "activation_21 (Activation)   (None, 10)                0         \n",
            "=================================================================\n",
            "Total params: 651,052\n",
            "Trainable params: 649,688\n",
            "Non-trainable params: 1,364\n",
            "_________________________________________________________________\n"
          ],
          "name": "stdout"
        }
      ]
    },
    {
      "cell_type": "markdown",
      "metadata": {
        "id": "8AMDfxfB15FD",
        "colab_type": "text"
      },
      "source": [
        "Training for Epochs = 100 and comparing with Base accuracy is 82.73 \n",
        "Reducing training epochs to 50"
      ]
    },
    {
      "cell_type": "code",
      "metadata": {
        "id": "5oK_V7WyfsXX",
        "colab_type": "code",
        "outputId": "4c8f6c4c-8b41-42ba-c4d8-0a78bc909952",
        "colab": {
          "base_uri": "https://localhost:8080/",
          "height": 5572
        }
      },
      "source": [
        "from keras.preprocessing.image import ImageDataGenerator\n",
        "\n",
        "datagen = ImageDataGenerator(zoom_range=0.0, \n",
        "                             horizontal_flip=False)\n",
        "\n",
        "\n",
        "# train the model\n",
        "start = time.time()\n",
        "# Train the model\n",
        "model_info = model.fit_generator(datagen.flow(train_features, train_labels, batch_size = 128),\n",
        "                                 samples_per_epoch = train_features.shape[0], nb_epoch = 50, \n",
        "                                 validation_data = (test_features, test_labels), verbose=1, \n",
        "                                 callbacks=callback_list)\n",
        "end = time.time()\n",
        "print (\"Model took %0.2f seconds to train\"%(end - start))\n",
        "# plot model history\n",
        "plot_model_history(model_info)\n",
        "# compute test accuracy\n",
        "print (\"Accuracy on test data is: %0.2f\"%accuracy(test_features, test_labels, model))"
      ],
      "execution_count": 14,
      "outputs": [
        {
          "output_type": "stream",
          "text": [
            "/usr/local/lib/python3.6/dist-packages/ipykernel_launcher.py:13: UserWarning: The semantics of the Keras 2 argument `steps_per_epoch` is not the same as the Keras 1 argument `samples_per_epoch`. `steps_per_epoch` is the number of batches to draw from the generator at each epoch. Basically steps_per_epoch = samples_per_epoch/batch_size. Similarly `nb_val_samples`->`validation_steps` and `val_samples`->`steps` arguments have changed. Update your method calls accordingly.\n",
            "  del sys.path[0]\n",
            "/usr/local/lib/python3.6/dist-packages/ipykernel_launcher.py:13: UserWarning: Update your `fit_generator` call to the Keras 2 API: `fit_generator(<keras_pre..., validation_data=(array([[[..., verbose=1, callbacks=[<keras.ca..., steps_per_epoch=390, epochs=50)`\n",
            "  del sys.path[0]\n"
          ],
          "name": "stderr"
        },
        {
          "output_type": "stream",
          "text": [
            "Epoch 1/50\n",
            "\n",
            "Epoch 00001: LearningRateScheduler setting learning rate to 0.01.\n",
            "390/390 [==============================] - 16s 42ms/step - loss: 1.3114 - acc: 0.5250 - val_loss: 1.8190 - val_acc: 0.5095\n",
            "\n",
            "Epoch 00001: val_acc improved from -inf to 0.50950, saving model to /content/gdrive/My Drive/Weights/Assignment6A_v3_btl-nck_weights-improvement-01-0.5095.hdf5\n",
            "Epoch 2/50\n",
            "\n",
            "Epoch 00002: LearningRateScheduler setting learning rate to 0.0075815011.\n",
            "390/390 [==============================] - 14s 37ms/step - loss: 0.8358 - acc: 0.7061 - val_loss: 0.8445 - val_acc: 0.7150\n",
            "\n",
            "Epoch 00002: val_acc improved from 0.50950 to 0.71500, saving model to /content/gdrive/My Drive/Weights/Assignment6A_v3_btl-nck_weights-improvement-02-0.7150.hdf5\n",
            "Epoch 3/50\n",
            "\n",
            "Epoch 00003: LearningRateScheduler setting learning rate to 0.0061050061.\n",
            "390/390 [==============================] - 14s 36ms/step - loss: 0.6642 - acc: 0.7677 - val_loss: 0.7083 - val_acc: 0.7633\n",
            "\n",
            "Epoch 00003: val_acc improved from 0.71500 to 0.76330, saving model to /content/gdrive/My Drive/Weights/Assignment6A_v3_btl-nck_weights-improvement-03-0.7633.hdf5\n",
            "Epoch 4/50\n",
            "\n",
            "Epoch 00004: LearningRateScheduler setting learning rate to 0.005109862.\n",
            "390/390 [==============================] - 14s 36ms/step - loss: 0.5521 - acc: 0.8079 - val_loss: 0.7358 - val_acc: 0.7503\n",
            "\n",
            "Epoch 00004: val_acc did not improve from 0.76330\n",
            "Epoch 5/50\n",
            "\n",
            "Epoch 00005: LearningRateScheduler setting learning rate to 0.0043936731.\n",
            "390/390 [==============================] - 14s 36ms/step - loss: 0.4727 - acc: 0.8336 - val_loss: 0.6123 - val_acc: 0.7951\n",
            "\n",
            "Epoch 00005: val_acc improved from 0.76330 to 0.79510, saving model to /content/gdrive/My Drive/Weights/Assignment6A_v3_btl-nck_weights-improvement-05-0.7951.hdf5\n",
            "Epoch 6/50\n",
            "\n",
            "Epoch 00006: LearningRateScheduler setting learning rate to 0.0038535645.\n",
            "390/390 [==============================] - 14s 36ms/step - loss: 0.4061 - acc: 0.8579 - val_loss: 0.6318 - val_acc: 0.7888\n",
            "\n",
            "Epoch 00006: val_acc did not improve from 0.79510\n",
            "Epoch 7/50\n",
            "\n",
            "Epoch 00007: LearningRateScheduler setting learning rate to 0.003431709.\n",
            "390/390 [==============================] - 14s 37ms/step - loss: 0.3532 - acc: 0.8761 - val_loss: 0.6227 - val_acc: 0.7969\n",
            "\n",
            "Epoch 00007: val_acc improved from 0.79510 to 0.79690, saving model to /content/gdrive/My Drive/Weights/Assignment6A_v3_btl-nck_weights-improvement-07-0.7969.hdf5\n",
            "Epoch 8/50\n",
            "\n",
            "Epoch 00008: LearningRateScheduler setting learning rate to 0.0030931024.\n",
            "390/390 [==============================] - 14s 36ms/step - loss: 0.3000 - acc: 0.8934 - val_loss: 0.5914 - val_acc: 0.8096\n",
            "\n",
            "Epoch 00008: val_acc improved from 0.79690 to 0.80960, saving model to /content/gdrive/My Drive/Weights/Assignment6A_v3_btl-nck_weights-improvement-08-0.8096.hdf5\n",
            "Epoch 9/50\n",
            "\n",
            "Epoch 00009: LearningRateScheduler setting learning rate to 0.0028153153.\n",
            "390/390 [==============================] - 14s 36ms/step - loss: 0.2633 - acc: 0.9058 - val_loss: 0.6686 - val_acc: 0.8000\n",
            "\n",
            "Epoch 00009: val_acc did not improve from 0.80960\n",
            "Epoch 10/50\n",
            "\n",
            "Epoch 00010: LearningRateScheduler setting learning rate to 0.0025833118.\n",
            "390/390 [==============================] - 14s 36ms/step - loss: 0.2222 - acc: 0.9208 - val_loss: 0.5735 - val_acc: 0.8233\n",
            "\n",
            "Epoch 00010: val_acc improved from 0.80960 to 0.82330, saving model to /content/gdrive/My Drive/Weights/Assignment6A_v3_btl-nck_weights-improvement-10-0.8233.hdf5\n",
            "Epoch 11/50\n",
            "\n",
            "Epoch 00011: LearningRateScheduler setting learning rate to 0.0023866348.\n",
            "390/390 [==============================] - 14s 36ms/step - loss: 0.1922 - acc: 0.9310 - val_loss: 0.6472 - val_acc: 0.8085\n",
            "\n",
            "Epoch 00011: val_acc did not improve from 0.82330\n",
            "Epoch 12/50\n",
            "\n",
            "Epoch 00012: LearningRateScheduler setting learning rate to 0.0022177866.\n",
            "390/390 [==============================] - 14s 36ms/step - loss: 0.1681 - acc: 0.9396 - val_loss: 0.5992 - val_acc: 0.8308\n",
            "\n",
            "Epoch 00012: val_acc improved from 0.82330 to 0.83080, saving model to /content/gdrive/My Drive/Weights/Assignment6A_v3_btl-nck_weights-improvement-12-0.8308.hdf5\n",
            "Epoch 13/50\n",
            "\n",
            "Epoch 00013: LearningRateScheduler setting learning rate to 0.002071251.\n",
            "390/390 [==============================] - 14s 36ms/step - loss: 0.1463 - acc: 0.9483 - val_loss: 0.6400 - val_acc: 0.8243\n",
            "\n",
            "Epoch 00013: val_acc did not improve from 0.83080\n",
            "Epoch 14/50\n",
            "\n",
            "Epoch 00014: LearningRateScheduler setting learning rate to 0.0019428793.\n",
            "390/390 [==============================] - 14s 36ms/step - loss: 0.1268 - acc: 0.9548 - val_loss: 0.6234 - val_acc: 0.8331\n",
            "\n",
            "Epoch 00014: val_acc improved from 0.83080 to 0.83310, saving model to /content/gdrive/My Drive/Weights/Assignment6A_v3_btl-nck_weights-improvement-14-0.8331.hdf5\n",
            "Epoch 15/50\n",
            "\n",
            "Epoch 00015: LearningRateScheduler setting learning rate to 0.0018294914.\n",
            "390/390 [==============================] - 14s 36ms/step - loss: 0.1154 - acc: 0.9579 - val_loss: 0.6790 - val_acc: 0.8278\n",
            "\n",
            "Epoch 00015: val_acc did not improve from 0.83310\n",
            "Epoch 16/50\n",
            "\n",
            "Epoch 00016: LearningRateScheduler setting learning rate to 0.0017286085.\n",
            "390/390 [==============================] - 14s 36ms/step - loss: 0.0954 - acc: 0.9648 - val_loss: 0.6829 - val_acc: 0.8338\n",
            "\n",
            "Epoch 00016: val_acc improved from 0.83310 to 0.83380, saving model to /content/gdrive/My Drive/Weights/Assignment6A_v3_btl-nck_weights-improvement-16-0.8338.hdf5\n",
            "Epoch 17/50\n",
            "\n",
            "Epoch 00017: LearningRateScheduler setting learning rate to 0.00163827.\n",
            "390/390 [==============================] - 14s 36ms/step - loss: 0.0928 - acc: 0.9666 - val_loss: 0.6856 - val_acc: 0.8312\n",
            "\n",
            "Epoch 00017: val_acc did not improve from 0.83380\n",
            "Epoch 18/50\n",
            "\n",
            "Epoch 00018: LearningRateScheduler setting learning rate to 0.0015569049.\n",
            "390/390 [==============================] - 14s 36ms/step - loss: 0.0858 - acc: 0.9688 - val_loss: 0.6723 - val_acc: 0.8362\n",
            "\n",
            "Epoch 00018: val_acc improved from 0.83380 to 0.83620, saving model to /content/gdrive/My Drive/Weights/Assignment6A_v3_btl-nck_weights-improvement-18-0.8362.hdf5\n",
            "Epoch 19/50\n",
            "\n",
            "Epoch 00019: LearningRateScheduler setting learning rate to 0.0014832394.\n",
            "390/390 [==============================] - 14s 36ms/step - loss: 0.0774 - acc: 0.9725 - val_loss: 0.7175 - val_acc: 0.8404\n",
            "\n",
            "Epoch 00019: val_acc improved from 0.83620 to 0.84040, saving model to /content/gdrive/My Drive/Weights/Assignment6A_v3_btl-nck_weights-improvement-19-0.8404.hdf5\n",
            "Epoch 20/50\n",
            "\n",
            "Epoch 00020: LearningRateScheduler setting learning rate to 0.00141623.\n",
            "390/390 [==============================] - 14s 36ms/step - loss: 0.0716 - acc: 0.9748 - val_loss: 0.6603 - val_acc: 0.8457\n",
            "\n",
            "Epoch 00020: val_acc improved from 0.84040 to 0.84570, saving model to /content/gdrive/My Drive/Weights/Assignment6A_v3_btl-nck_weights-improvement-20-0.8457.hdf5\n",
            "Epoch 21/50\n",
            "\n",
            "Epoch 00021: LearningRateScheduler setting learning rate to 0.0013550136.\n",
            "390/390 [==============================] - 14s 36ms/step - loss: 0.0625 - acc: 0.9777 - val_loss: 0.7286 - val_acc: 0.8327\n",
            "\n",
            "Epoch 00021: val_acc did not improve from 0.84570\n",
            "Epoch 22/50\n",
            "\n",
            "Epoch 00022: LearningRateScheduler setting learning rate to 0.00129887.\n",
            "390/390 [==============================] - 14s 36ms/step - loss: 0.0599 - acc: 0.9784 - val_loss: 0.7021 - val_acc: 0.8385\n",
            "\n",
            "Epoch 00022: val_acc did not improve from 0.84570\n",
            "Epoch 23/50\n",
            "\n",
            "Epoch 00023: LearningRateScheduler setting learning rate to 0.0012471938.\n",
            "390/390 [==============================] - 14s 36ms/step - loss: 0.0566 - acc: 0.9797 - val_loss: 0.7338 - val_acc: 0.8402\n",
            "\n",
            "Epoch 00023: val_acc did not improve from 0.84570\n",
            "Epoch 24/50\n",
            "\n",
            "Epoch 00024: LearningRateScheduler setting learning rate to 0.0011994722.\n",
            "390/390 [==============================] - 14s 36ms/step - loss: 0.0527 - acc: 0.9806 - val_loss: 0.7279 - val_acc: 0.8527\n",
            "\n",
            "Epoch 00024: val_acc improved from 0.84570 to 0.85270, saving model to /content/gdrive/My Drive/Weights/Assignment6A_v3_btl-nck_weights-improvement-24-0.8527.hdf5\n",
            "Epoch 25/50\n",
            "\n",
            "Epoch 00025: LearningRateScheduler setting learning rate to 0.001155268.\n",
            "390/390 [==============================] - 14s 36ms/step - loss: 0.0527 - acc: 0.9814 - val_loss: 0.7505 - val_acc: 0.8370\n",
            "\n",
            "Epoch 00025: val_acc did not improve from 0.85270\n",
            "Epoch 26/50\n",
            "\n",
            "Epoch 00026: LearningRateScheduler setting learning rate to 0.0011142061.\n",
            "390/390 [==============================] - 14s 36ms/step - loss: 0.0500 - acc: 0.9817 - val_loss: 0.7501 - val_acc: 0.8413\n",
            "\n",
            "Epoch 00026: val_acc did not improve from 0.85270\n",
            "Epoch 27/50\n",
            "\n",
            "Epoch 00027: LearningRateScheduler setting learning rate to 0.001075963.\n",
            "390/390 [==============================] - 14s 36ms/step - loss: 0.0481 - acc: 0.9826 - val_loss: 0.7593 - val_acc: 0.8375\n",
            "\n",
            "Epoch 00027: val_acc did not improve from 0.85270\n",
            "Epoch 28/50\n",
            "\n",
            "Epoch 00028: LearningRateScheduler setting learning rate to 0.001040258.\n",
            "390/390 [==============================] - 14s 36ms/step - loss: 0.0450 - acc: 0.9840 - val_loss: 0.7149 - val_acc: 0.8467\n",
            "\n",
            "Epoch 00028: val_acc did not improve from 0.85270\n",
            "Epoch 29/50\n",
            "\n",
            "Epoch 00029: LearningRateScheduler setting learning rate to 0.0010068466.\n",
            "390/390 [==============================] - 14s 36ms/step - loss: 0.0379 - acc: 0.9869 - val_loss: 0.7481 - val_acc: 0.8468\n",
            "\n",
            "Epoch 00029: val_acc did not improve from 0.85270\n",
            "Epoch 30/50\n",
            "\n",
            "Epoch 00030: LearningRateScheduler setting learning rate to 0.0009755146.\n",
            "390/390 [==============================] - 14s 36ms/step - loss: 0.0381 - acc: 0.9873 - val_loss: 0.7406 - val_acc: 0.8481\n",
            "\n",
            "Epoch 00030: val_acc did not improve from 0.85270\n",
            "Epoch 31/50\n",
            "\n",
            "Epoch 00031: LearningRateScheduler setting learning rate to 0.0009460738.\n",
            "390/390 [==============================] - 14s 36ms/step - loss: 0.0384 - acc: 0.9860 - val_loss: 0.7437 - val_acc: 0.8454\n",
            "\n",
            "Epoch 00031: val_acc did not improve from 0.85270\n",
            "Epoch 32/50\n",
            "\n",
            "Epoch 00032: LearningRateScheduler setting learning rate to 0.000918358.\n",
            "390/390 [==============================] - 14s 36ms/step - loss: 0.0350 - acc: 0.9877 - val_loss: 0.7432 - val_acc: 0.8479\n",
            "\n",
            "Epoch 00032: val_acc did not improve from 0.85270\n",
            "Epoch 33/50\n",
            "\n",
            "Epoch 00033: LearningRateScheduler setting learning rate to 0.0008922198.\n",
            "390/390 [==============================] - 14s 36ms/step - loss: 0.0363 - acc: 0.9876 - val_loss: 0.7435 - val_acc: 0.8501\n",
            "\n",
            "Epoch 00033: val_acc did not improve from 0.85270\n",
            "Epoch 34/50\n",
            "\n",
            "Epoch 00034: LearningRateScheduler setting learning rate to 0.0008675284.\n",
            "390/390 [==============================] - 14s 36ms/step - loss: 0.0342 - acc: 0.9879 - val_loss: 0.7573 - val_acc: 0.8475\n",
            "\n",
            "Epoch 00034: val_acc did not improve from 0.85270\n",
            "Epoch 35/50\n",
            "\n",
            "Epoch 00035: LearningRateScheduler setting learning rate to 0.0008441668.\n",
            "390/390 [==============================] - 14s 36ms/step - loss: 0.0349 - acc: 0.9876 - val_loss: 0.7710 - val_acc: 0.8487\n",
            "\n",
            "Epoch 00035: val_acc did not improve from 0.85270\n",
            "Epoch 36/50\n",
            "\n",
            "Epoch 00036: LearningRateScheduler setting learning rate to 0.0008220304.\n",
            "390/390 [==============================] - 14s 36ms/step - loss: 0.0304 - acc: 0.9899 - val_loss: 0.7490 - val_acc: 0.8500\n",
            "\n",
            "Epoch 00036: val_acc did not improve from 0.85270\n",
            "Epoch 37/50\n",
            "\n",
            "Epoch 00037: LearningRateScheduler setting learning rate to 0.0008010253.\n",
            "390/390 [==============================] - 14s 36ms/step - loss: 0.0291 - acc: 0.9899 - val_loss: 0.7901 - val_acc: 0.8481\n",
            "\n",
            "Epoch 00037: val_acc did not improve from 0.85270\n",
            "Epoch 38/50\n",
            "\n",
            "Epoch 00038: LearningRateScheduler setting learning rate to 0.0007810669.\n",
            "390/390 [==============================] - 14s 36ms/step - loss: 0.0294 - acc: 0.9893 - val_loss: 0.8016 - val_acc: 0.8435\n",
            "\n",
            "Epoch 00038: val_acc did not improve from 0.85270\n",
            "Epoch 39/50\n",
            "\n",
            "Epoch 00039: LearningRateScheduler setting learning rate to 0.000762079.\n",
            "390/390 [==============================] - 14s 36ms/step - loss: 0.0271 - acc: 0.9908 - val_loss: 0.7928 - val_acc: 0.8451\n",
            "\n",
            "Epoch 00039: val_acc did not improve from 0.85270\n",
            "Epoch 40/50\n",
            "\n",
            "Epoch 00040: LearningRateScheduler setting learning rate to 0.0007439923.\n",
            "390/390 [==============================] - 14s 36ms/step - loss: 0.0270 - acc: 0.9906 - val_loss: 0.7966 - val_acc: 0.8453\n",
            "\n",
            "Epoch 00040: val_acc did not improve from 0.85270\n",
            "Epoch 41/50\n",
            "\n",
            "Epoch 00041: LearningRateScheduler setting learning rate to 0.0007267442.\n",
            "390/390 [==============================] - 14s 36ms/step - loss: 0.0273 - acc: 0.9909 - val_loss: 0.7647 - val_acc: 0.8542\n",
            "\n",
            "Epoch 00041: val_acc improved from 0.85270 to 0.85420, saving model to /content/gdrive/My Drive/Weights/Assignment6A_v3_btl-nck_weights-improvement-41-0.8542.hdf5\n",
            "Epoch 42/50\n",
            "\n",
            "Epoch 00042: LearningRateScheduler setting learning rate to 0.0007102777.\n",
            "390/390 [==============================] - 14s 36ms/step - loss: 0.0241 - acc: 0.9919 - val_loss: 0.7711 - val_acc: 0.8492\n",
            "\n",
            "Epoch 00042: val_acc did not improve from 0.85420\n",
            "Epoch 43/50\n",
            "\n",
            "Epoch 00043: LearningRateScheduler setting learning rate to 0.0006945409.\n",
            "390/390 [==============================] - 14s 36ms/step - loss: 0.0230 - acc: 0.9918 - val_loss: 0.8144 - val_acc: 0.8494\n",
            "\n",
            "Epoch 00043: val_acc did not improve from 0.85420\n",
            "Epoch 44/50\n",
            "\n",
            "Epoch 00044: LearningRateScheduler setting learning rate to 0.0006794863.\n",
            "390/390 [==============================] - 14s 36ms/step - loss: 0.0235 - acc: 0.9916 - val_loss: 0.8085 - val_acc: 0.8492\n",
            "\n",
            "Epoch 00044: val_acc did not improve from 0.85420\n",
            "Epoch 45/50\n",
            "\n",
            "Epoch 00045: LearningRateScheduler setting learning rate to 0.0006650705.\n",
            "390/390 [==============================] - 14s 36ms/step - loss: 0.0234 - acc: 0.9916 - val_loss: 0.8116 - val_acc: 0.8478\n",
            "\n",
            "Epoch 00045: val_acc did not improve from 0.85420\n",
            "Epoch 46/50\n",
            "\n",
            "Epoch 00046: LearningRateScheduler setting learning rate to 0.0006512537.\n",
            "390/390 [==============================] - 14s 36ms/step - loss: 0.0215 - acc: 0.9928 - val_loss: 0.8097 - val_acc: 0.8508\n",
            "\n",
            "Epoch 00046: val_acc did not improve from 0.85420\n",
            "Epoch 47/50\n",
            "\n",
            "Epoch 00047: LearningRateScheduler setting learning rate to 0.0006379992.\n",
            "390/390 [==============================] - 14s 36ms/step - loss: 0.0213 - acc: 0.9923 - val_loss: 0.7882 - val_acc: 0.8545\n",
            "\n",
            "Epoch 00047: val_acc improved from 0.85420 to 0.85450, saving model to /content/gdrive/My Drive/Weights/Assignment6A_v3_btl-nck_weights-improvement-47-0.8545.hdf5\n",
            "Epoch 48/50\n",
            "\n",
            "Epoch 00048: LearningRateScheduler setting learning rate to 0.0006252736.\n",
            "390/390 [==============================] - 14s 36ms/step - loss: 0.0210 - acc: 0.9930 - val_loss: 0.8270 - val_acc: 0.8492\n",
            "\n",
            "Epoch 00048: val_acc did not improve from 0.85450\n",
            "Epoch 49/50\n",
            "\n",
            "Epoch 00049: LearningRateScheduler setting learning rate to 0.0006130456.\n",
            "390/390 [==============================] - 14s 36ms/step - loss: 0.0214 - acc: 0.9925 - val_loss: 0.8033 - val_acc: 0.8534\n",
            "\n",
            "Epoch 00049: val_acc did not improve from 0.85450\n",
            "Epoch 50/50\n",
            "\n",
            "Epoch 00050: LearningRateScheduler setting learning rate to 0.0006012868.\n",
            "390/390 [==============================] - 14s 36ms/step - loss: 0.0188 - acc: 0.9937 - val_loss: 0.7886 - val_acc: 0.8522\n",
            "\n",
            "Epoch 00050: val_acc did not improve from 0.85450\n",
            "Model took 713.66 seconds to train\n"
          ],
          "name": "stdout"
        },
        {
          "output_type": "display_data",
          "data": {
            "image/png": "[encoded data removed]",
            "text/plain": [
              "<Figure size 1080x360 with 2 Axes>"
            ]
          },
          "metadata": {
            "tags": []
          }
        },
        {
          "output_type": "stream",
          "text": [
            "Accuracy on test data is: 85.22\n"
          ],
          "name": "stdout"
        }
      ]
    }
  ]
}