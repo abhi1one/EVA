{
  "nbformat": 4,
  "nbformat_minor": 0,
  "metadata": {
    "colab": {
      "name": "ACS-Assignment 6A_v3.ipynb",
      "version": "0.3.2",
      "provenance": [],
      "collapsed_sections": []
    },
    "kernelspec": {
      "name": "python3",
      "display_name": "Python 3"
    },
    "accelerator": "GPU"
  },
  "cells": [
    {
      "cell_type": "markdown",
      "metadata": {
        "id": "3v6PxkXd6a3s",
        "colab_type": "text"
      },
      "source": [
        "Assignment 6 vesrion 3 [updating network arch for bottleneck layer]\n",
        "* Step 1: Removing all Dense layers and updating model for receptive field with 1x1\n",
        "* Step 2: Removing / updating dropout places and fixing model arch; settingborder_mode='same' for all convolutions\n",
        "* Step 3: Adding batch norm to address high overfitting\n",
        "* Step 4: adding lr rate and model saving and reducing traing to 50 epochs\n",
        "\n",
        "*Results*\n",
        "* Base Accuracy: 82.73\n",
        "* Version 2 Step 1 Val Accuracy: 82.74\n",
        "* Version 2 Step 2 Val acc:81.32 ; Train Acc:.9807 ; High overfitting\n",
        "* Version 2 Step 3 Val acc:83.89 ; Train Acc:.9926 ; High overfitting\n",
        "* Version 2 Step 4 Val acc:83.37 ; Train Acc:.9954 ; High overfitting\n",
        "\n",
        "* Version 3 first run Val acc: 84.2;\n",
        "* Version 3 Second run Val acc: 85.2;\n",
        "* Version 3 Second run Val acc: 81.27 (with bottelneck for 2 maxpooling, and no 3rd max pooling)\n",
        "* Version 3 Second run Val acc: 84.36 (with bottelneck for 2 maxpooling, with 3rd max pooling)"
      ]
    },
    {
      "cell_type": "markdown",
      "metadata": {
        "id": "USsdQoEx0Ano",
        "colab_type": "text"
      },
      "source": [
        "Importing al necessary keras, matplot, numpy libs"
      ]
    },
    {
      "cell_type": "code",
      "metadata": {
        "id": "KkwXnw9OfHZl",
        "colab_type": "code",
        "outputId": "99c58878-1d03-4df4-89b0-78b8177a66eb",
        "colab": {
          "base_uri": "https://localhost:8080/",
          "height": 34
        }
      },
      "source": [
        "from keras import backend as K\n",
        "import time\n",
        "import matplotlib.pyplot as plt\n",
        "import numpy as np\n",
        "% matplotlib inline\n",
        "np.random.seed(2017) \n",
        "from keras.models import Sequential\n",
        "from keras.layers.convolutional import Convolution2D, MaxPooling2D\n",
        "from keras.layers import Activation, Flatten, Dense, Dropout\n",
        "from keras.layers.normalization import BatchNormalization\n",
        "from keras.utils import np_utils"
      ],
      "execution_count": 1,
      "outputs": [
        {
          "output_type": "stream",
          "text": [
            "Using TensorFlow backend.\n"
          ],
          "name": "stderr"
        }
      ]
    },
    {
      "cell_type": "code",
      "metadata": {
        "id": "Sz0fn7CXQ7Qh",
        "colab_type": "code",
        "outputId": "e8d67bd4-e764-425e-80f0-2d75aecb619a",
        "colab": {
          "base_uri": "https://localhost:8080/",
          "height": 122
        }
      },
      "source": [
        "#preparing check point for saving weights via callback\n",
        "from google.colab import drive\n",
        "from keras.callbacks import CSVLogger\n",
        "from keras.callbacks import ModelCheckpoint\n",
        "\n",
        "drive.mount('/content/gdrive')"
      ],
      "execution_count": 2,
      "outputs": [
        {
          "output_type": "stream",
          "text": [
            "Go to this URL in a browser: https://accounts.google.com/o/oauth2/auth?client_id=947318989803-6bn6qk8qdgf4n4g3pfee6491hc0brc4i.apps.googleusercontent.com&redirect_uri=urn%3Aietf%3Awg%3Aoauth%3A2.0%3Aoob&scope=email%20https%3A%2F%2Fwww.googleapis.com%2Fauth%2Fdocs.test%20https%3A%2F%2Fwww.googleapis.com%2Fauth%2Fdrive%20https%3A%2F%2Fwww.googleapis.com%2Fauth%2Fdrive.photos.readonly%20https%3A%2F%2Fwww.googleapis.com%2Fauth%2Fpeopleapi.readonly&response_type=code\n",
            "\n",
            "Enter your authorization code:\n",
            "··········\n",
            "Mounted at /content/gdrive\n"
          ],
          "name": "stdout"
        }
      ]
    },
    {
      "cell_type": "markdown",
      "metadata": {
        "id": "QKYjmn05z9aa",
        "colab_type": "text"
      },
      "source": [
        "Importing, loading data in train and test"
      ]
    },
    {
      "cell_type": "code",
      "metadata": {
        "id": "NHpnoCHZfO8g",
        "colab_type": "code",
        "colab": {
          "base_uri": "https://localhost:8080/",
          "height": 51
        },
        "outputId": "8e9e54e3-40ca-4bcd-b71e-0d7d47e2a2fc"
      },
      "source": [
        "from keras.datasets import cifar10\n",
        "(train_features, train_labels), (test_features, test_labels) = cifar10.load_data()\n",
        "num_train, img_channels, img_rows, img_cols =  train_features.shape\n",
        "num_test, _, _, _ =  test_features.shape\n",
        "num_classes = len(np.unique(train_labels))"
      ],
      "execution_count": 3,
      "outputs": [
        {
          "output_type": "stream",
          "text": [
            "Downloading data from https://www.cs.toronto.edu/~kriz/cifar-10-python.tar.gz\n",
            "170500096/170498071 [==============================] - 2s 0us/step\n"
          ],
          "name": "stdout"
        }
      ]
    },
    {
      "cell_type": "markdown",
      "metadata": {
        "id": "AqiK87Da0HXr",
        "colab_type": "text"
      },
      "source": [
        "Viewsing train data for labels."
      ]
    },
    {
      "cell_type": "code",
      "metadata": {
        "id": "14HyBUXdfS6G",
        "colab_type": "code",
        "outputId": "9f907101-e14a-4b14-f916-6ce144739cd9",
        "colab": {
          "base_uri": "https://localhost:8080/",
          "height": 213
        }
      },
      "source": [
        "class_names = ['airplane','automobile','bird','cat','deer',\n",
        "               'dog','frog','horse','ship','truck']\n",
        "fig = plt.figure(figsize=(8,3))\n",
        "for i in range(num_classes):\n",
        "    ax = fig.add_subplot(2, 5, 1 + i, xticks=[], yticks=[])\n",
        "    idx = np.where(train_labels[:]==i)[0]\n",
        "    features_idx = train_features[idx,::]\n",
        "    img_num = np.random.randint(features_idx.shape[0])\n",
        "    im = features_idx[img_num]\n",
        "    ax.set_title(class_names[i])\n",
        "    plt.imshow(im)\n",
        "plt.show()"
      ],
      "execution_count": 4,
      "outputs": [
        {
          "output_type": "display_data",
          "data": {
            "image/png": "[encoded data removed]",
            "text/plain": [
              "<Figure size 576x216 with 10 Axes>"
            ]
          },
          "metadata": {
            "tags": []
          }
        }
      ]
    },
    {
      "cell_type": "markdown",
      "metadata": {
        "id": "XrOuZ6Qz0R_L",
        "colab_type": "text"
      },
      "source": [
        "Defigning function to plot model training validation accuracy and loss"
      ]
    },
    {
      "cell_type": "code",
      "metadata": {
        "id": "bmfsk76-fadV",
        "colab_type": "code",
        "colab": {}
      },
      "source": [
        "def plot_model_history(model_history):\n",
        "    fig, axs = plt.subplots(1,2,figsize=(15,5))\n",
        "    # summarize history for accuracy\n",
        "    axs[0].plot(range(1,len(model_history.history['acc'])+1),model_history.history['acc'])\n",
        "    axs[0].plot(range(1,len(model_history.history['val_acc'])+1),model_history.history['val_acc'])\n",
        "    axs[0].set_title('Model Accuracy')\n",
        "    axs[0].set_ylabel('Accuracy')\n",
        "    axs[0].set_xlabel('Epoch')\n",
        "    axs[0].set_xticks(np.arange(1,len(model_history.history['acc'])+1),len(model_history.history['acc'])/10)\n",
        "    axs[0].legend(['train', 'val'], loc='best')\n",
        "    # summarize history for loss\n",
        "    axs[1].plot(range(1,len(model_history.history['loss'])+1),model_history.history['loss'])\n",
        "    axs[1].plot(range(1,len(model_history.history['val_loss'])+1),model_history.history['val_loss'])\n",
        "    axs[1].set_title('Model Loss')\n",
        "    axs[1].set_ylabel('Loss')\n",
        "    axs[1].set_xlabel('Epoch')\n",
        "    axs[1].set_xticks(np.arange(1,len(model_history.history['loss'])+1),len(model_history.history['loss'])/10)\n",
        "    axs[1].legend(['train', 'val'], loc='best')\n",
        "    plt.show()"
      ],
      "execution_count": 0,
      "outputs": []
    },
    {
      "cell_type": "markdown",
      "metadata": {
        "id": "4Mn7RV2U0uQ6",
        "colab_type": "text"
      },
      "source": [
        "Defining function to find and return accracy of trained model in percentage"
      ]
    },
    {
      "cell_type": "code",
      "metadata": {
        "id": "YJMT4rjgfdZz",
        "colab_type": "code",
        "colab": {}
      },
      "source": [
        "def accuracy(test_x, test_y, model):\n",
        "    result = model.predict(test_x)\n",
        "    predicted_class = np.argmax(result, axis=1)\n",
        "    true_class = np.argmax(test_y, axis=1)\n",
        "    num_correct = np.sum(predicted_class == true_class) \n",
        "    accuracy = float(num_correct)/result.shape[0]\n",
        "    return (accuracy * 100)"
      ],
      "execution_count": 0,
      "outputs": []
    },
    {
      "cell_type": "markdown",
      "metadata": {
        "id": "0OPhvx4602Cz",
        "colab_type": "text"
      },
      "source": [
        "Normalizing train and test data \n",
        "Converting labels from 1-D to 2-D with leangth of second dimention is num_class"
      ]
    },
    {
      "cell_type": "code",
      "metadata": {
        "id": "T5c5nDvxm6zR",
        "colab_type": "code",
        "colab": {}
      },
      "source": [
        "train_features = train_features.astype('float32')/255\n",
        "test_features = test_features.astype('float32')/255\n",
        "# convert class labels to binary class labels\n",
        "train_labels = np_utils.to_categorical(train_labels, num_classes)\n",
        "test_labels = np_utils.to_categorical(test_labels, num_classes)"
      ],
      "execution_count": 0,
      "outputs": []
    },
    {
      "cell_type": "markdown",
      "metadata": {
        "id": "vP0nihOX1Yac",
        "colab_type": "text"
      },
      "source": [
        "Defigning Model and Compiling Model\n",
        "\n",
        "Applying step 2 changes."
      ]
    },
    {
      "cell_type": "code",
      "metadata": {
        "id": "cSOb2lkJfhVq",
        "colab_type": "code",
        "outputId": "9d8904f1-08c7-4c51-df7c-a751c9f73abf",
        "colab": {
          "base_uri": "https://localhost:8080/",
          "height": 258
        }
      },
      "source": [
        "# Define the model\n",
        "model = Sequential()\n",
        "model.add(Convolution2D(48, 3, 3, border_mode='same', input_shape=(32, 32, 3))) #RF 3X3\n",
        "model.add(Activation('relu'))\n",
        "model.add(BatchNormalization())\n",
        "\n",
        "model.add(Convolution2D(48, 3, 3, border_mode='same')) #RF 5X5\n",
        "model.add(Activation('relu'))\n",
        "model.add(BatchNormalization())\n",
        "\n",
        "#creating bottel neck\n",
        "model.add(Convolution2D(24, 1, 1, activation='relu'))\n",
        "model.add(MaxPooling2D(pool_size=(2, 2))) #RF 10X10\n",
        "#Dropout post maxpooling is not help ful; should move this to conv with 14x14\n",
        "#model.add(Dropout(0.25))\n",
        "\n",
        "model.add(Convolution2D(96, 3, 3, border_mode='same')) #RF 12X12\n",
        "model.add(Activation('relu'))\n",
        "model.add(BatchNormalization())\n",
        "\n",
        "model.add(Convolution2D(96, 3, 3, border_mode='same')) #RF 14X14\n",
        "model.add(Activation('relu'))\n",
        "model.add(BatchNormalization())\n",
        "\n",
        "model.add(Dropout(0.25))\n",
        "\n",
        "#creating bottel neck\n",
        "model.add(Convolution2D(48, 1, 1, activation='relu'))\n",
        "model.add(MaxPooling2D(pool_size=(2, 2))) #RF 28X28\n",
        "#Dropout post maxpooling is not help ful; should move this to conv with 30x30\n",
        "#model.add(Dropout(0.25))\n",
        "\n",
        "model.add(Convolution2D(192, 3, 3, border_mode='same')) #RF 30X30\n",
        "model.add(Activation('relu'))\n",
        "model.add(BatchNormalization())\n",
        "\n",
        "model.add(Dropout(0.25))\n",
        "\n",
        "model.add(Convolution2D(192, 3, 3, border_mode='same')) #RF 32X32\n",
        "model.add(Activation('relu'))\n",
        "model.add(BatchNormalization())\n",
        "\n",
        "# Creating bottle neck\n",
        "model.add(Convolution2D(96, 1, 1, activation='relu'))\n",
        "model.add(MaxPooling2D(pool_size=(2, 2))) #RF 64X64\n",
        "model.add(Dropout(0.25))\n",
        "\n",
        "\n",
        "'''\n",
        "model.add(Flatten())\n",
        "model.add(Dense(512))\n",
        "model.add(Activation('relu'))\n",
        "\n",
        "model.add(Dropout(0.5))\n",
        "model.add(Dense(256))\n",
        "model.add(Activation('relu'))\n",
        "\n",
        "model.add(Dropout(0.5))\n",
        "model.add(Dense(num_classes, activation='softmax'))\n",
        "'''\n",
        "\n",
        "model.add(Convolution2D(10, 1)) \n",
        "model.add(Activation('relu'))\n",
        "model.add(BatchNormalization())\n",
        "\n",
        "model.add(Convolution2D(10, 4)) \n",
        "\n",
        "\n",
        "model.add(Flatten())\n",
        "model.add(Activation('softmax'))\n",
        "\n",
        "#Adding lr rate scheduling and model saving\n",
        "from keras.optimizers import Adam\n",
        "from keras.callbacks import LearningRateScheduler, ModelCheckpoint\n",
        "def scheduler(epoch, lr):\n",
        "  return round(0.01 * 1/(1 + 0.319 * epoch), 10)\n",
        "\n",
        "filepath=\"/content/gdrive/My Drive/Weights/Assignment6A_v3_btl-nck_weights-improvement-{epoch:02d}-{val_acc:.4f}.hdf5\"\n",
        "checkpoint = ModelCheckpoint(filepath, monitor='val_acc', verbose=1, save_best_only=True, mode='max')\n",
        "\n",
        "callback_list = [LearningRateScheduler(scheduler, verbose=1), checkpoint]\n",
        "\n",
        "# Compile the model\n",
        "model.compile(optimizer=Adam(lr=0.01), loss='categorical_crossentropy', metrics=['accuracy'])\n"
      ],
      "execution_count": 30,
      "outputs": [
        {
          "output_type": "stream",
          "text": [
            "/usr/local/lib/python3.6/dist-packages/ipykernel_launcher.py:2: UserWarning: Update your `Conv2D` call to the Keras 2 API: `Conv2D(48, (3, 3), input_shape=(32, 32, 3..., padding=\"same\")`\n",
            "  \n",
            "/usr/local/lib/python3.6/dist-packages/ipykernel_launcher.py:6: UserWarning: Update your `Conv2D` call to the Keras 2 API: `Conv2D(48, (3, 3), padding=\"same\")`\n",
            "  \n",
            "/usr/local/lib/python3.6/dist-packages/ipykernel_launcher.py:11: UserWarning: Update your `Conv2D` call to the Keras 2 API: `Conv2D(24, (1, 1), activation=\"relu\")`\n",
            "  # This is added back by InteractiveShellApp.init_path()\n",
            "/usr/local/lib/python3.6/dist-packages/ipykernel_launcher.py:16: UserWarning: Update your `Conv2D` call to the Keras 2 API: `Conv2D(96, (3, 3), padding=\"same\")`\n",
            "  app.launch_new_instance()\n",
            "/usr/local/lib/python3.6/dist-packages/ipykernel_launcher.py:20: UserWarning: Update your `Conv2D` call to the Keras 2 API: `Conv2D(96, (3, 3), padding=\"same\")`\n",
            "/usr/local/lib/python3.6/dist-packages/ipykernel_launcher.py:27: UserWarning: Update your `Conv2D` call to the Keras 2 API: `Conv2D(48, (1, 1), activation=\"relu\")`\n",
            "/usr/local/lib/python3.6/dist-packages/ipykernel_launcher.py:32: UserWarning: Update your `Conv2D` call to the Keras 2 API: `Conv2D(192, (3, 3), padding=\"same\")`\n",
            "/usr/local/lib/python3.6/dist-packages/ipykernel_launcher.py:38: UserWarning: Update your `Conv2D` call to the Keras 2 API: `Conv2D(192, (3, 3), padding=\"same\")`\n",
            "/usr/local/lib/python3.6/dist-packages/ipykernel_launcher.py:43: UserWarning: Update your `Conv2D` call to the Keras 2 API: `Conv2D(96, (1, 1), activation=\"relu\")`\n"
          ],
          "name": "stderr"
        }
      ]
    },
    {
      "cell_type": "code",
      "metadata": {
        "id": "wvVs5tC8mR6Q",
        "colab_type": "code",
        "outputId": "130b75bc-28d6-408c-a189-1aa1e27f087d",
        "colab": {
          "base_uri": "https://localhost:8080/",
          "height": 1258
        }
      },
      "source": [
        "model.summary()"
      ],
      "execution_count": 31,
      "outputs": [
        {
          "output_type": "stream",
          "text": [
            "_________________________________________________________________\n",
            "Layer (type)                 Output Shape              Param #   \n",
            "=================================================================\n",
            "conv2d_95 (Conv2D)           (None, 32, 32, 48)        1344      \n",
            "_________________________________________________________________\n",
            "activation_78 (Activation)   (None, 32, 32, 48)        0         \n",
            "_________________________________________________________________\n",
            "batch_normalization_69 (Batc (None, 32, 32, 48)        192       \n",
            "_________________________________________________________________\n",
            "conv2d_96 (Conv2D)           (None, 32, 32, 48)        20784     \n",
            "_________________________________________________________________\n",
            "activation_79 (Activation)   (None, 32, 32, 48)        0         \n",
            "_________________________________________________________________\n",
            "batch_normalization_70 (Batc (None, 32, 32, 48)        192       \n",
            "_________________________________________________________________\n",
            "conv2d_97 (Conv2D)           (None, 32, 32, 24)        1176      \n",
            "_________________________________________________________________\n",
            "max_pooling2d_27 (MaxPooling (None, 16, 16, 24)        0         \n",
            "_________________________________________________________________\n",
            "conv2d_98 (Conv2D)           (None, 16, 16, 96)        20832     \n",
            "_________________________________________________________________\n",
            "activation_80 (Activation)   (None, 16, 16, 96)        0         \n",
            "_________________________________________________________________\n",
            "batch_normalization_71 (Batc (None, 16, 16, 96)        384       \n",
            "_________________________________________________________________\n",
            "conv2d_99 (Conv2D)           (None, 16, 16, 96)        83040     \n",
            "_________________________________________________________________\n",
            "activation_81 (Activation)   (None, 16, 16, 96)        0         \n",
            "_________________________________________________________________\n",
            "batch_normalization_72 (Batc (None, 16, 16, 96)        384       \n",
            "_________________________________________________________________\n",
            "dropout_27 (Dropout)         (None, 16, 16, 96)        0         \n",
            "_________________________________________________________________\n",
            "conv2d_100 (Conv2D)          (None, 16, 16, 48)        4656      \n",
            "_________________________________________________________________\n",
            "max_pooling2d_28 (MaxPooling (None, 8, 8, 48)          0         \n",
            "_________________________________________________________________\n",
            "conv2d_101 (Conv2D)          (None, 8, 8, 192)         83136     \n",
            "_________________________________________________________________\n",
            "activation_82 (Activation)   (None, 8, 8, 192)         0         \n",
            "_________________________________________________________________\n",
            "batch_normalization_73 (Batc (None, 8, 8, 192)         768       \n",
            "_________________________________________________________________\n",
            "dropout_28 (Dropout)         (None, 8, 8, 192)         0         \n",
            "_________________________________________________________________\n",
            "conv2d_102 (Conv2D)          (None, 8, 8, 192)         331968    \n",
            "_________________________________________________________________\n",
            "activation_83 (Activation)   (None, 8, 8, 192)         0         \n",
            "_________________________________________________________________\n",
            "batch_normalization_74 (Batc (None, 8, 8, 192)         768       \n",
            "_________________________________________________________________\n",
            "conv2d_103 (Conv2D)          (None, 8, 8, 96)          18528     \n",
            "_________________________________________________________________\n",
            "max_pooling2d_29 (MaxPooling (None, 4, 4, 96)          0         \n",
            "_________________________________________________________________\n",
            "dropout_29 (Dropout)         (None, 4, 4, 96)          0         \n",
            "_________________________________________________________________\n",
            "conv2d_104 (Conv2D)          (None, 4, 4, 10)          970       \n",
            "_________________________________________________________________\n",
            "activation_84 (Activation)   (None, 4, 4, 10)          0         \n",
            "_________________________________________________________________\n",
            "batch_normalization_75 (Batc (None, 4, 4, 10)          40        \n",
            "_________________________________________________________________\n",
            "conv2d_105 (Conv2D)          (None, 1, 1, 10)          1610      \n",
            "_________________________________________________________________\n",
            "flatten_10 (Flatten)         (None, 10)                0         \n",
            "_________________________________________________________________\n",
            "activation_85 (Activation)   (None, 10)                0         \n",
            "=================================================================\n",
            "Total params: 570,772\n",
            "Trainable params: 569,408\n",
            "Non-trainable params: 1,364\n",
            "_________________________________________________________________\n"
          ],
          "name": "stdout"
        }
      ]
    },
    {
      "cell_type": "markdown",
      "metadata": {
        "id": "8AMDfxfB15FD",
        "colab_type": "text"
      },
      "source": [
        "Training for Epochs = 100 and comparing with Base accuracy is 82.73 \n",
        "Reducing training epochs to 50"
      ]
    },
    {
      "cell_type": "code",
      "metadata": {
        "id": "5oK_V7WyfsXX",
        "colab_type": "code",
        "outputId": "33875234-41c2-4ef1-e8cb-e710c08f7052",
        "colab": {
          "base_uri": "https://localhost:8080/",
          "height": 5572
        }
      },
      "source": [
        "from keras.preprocessing.image import ImageDataGenerator\n",
        "\n",
        "datagen = ImageDataGenerator(zoom_range=0.0, \n",
        "                             horizontal_flip=False)\n",
        "\n",
        "\n",
        "# train the model\n",
        "start = time.time()\n",
        "# Train the model\n",
        "model_info = model.fit_generator(datagen.flow(train_features, train_labels, batch_size = 128),\n",
        "                                 samples_per_epoch = train_features.shape[0], nb_epoch = 50, \n",
        "                                 validation_data = (test_features, test_labels), verbose=1, \n",
        "                                 callbacks=callback_list)\n",
        "end = time.time()\n",
        "print (\"Model took %0.2f seconds to train\"%(end - start))\n",
        "# plot model history\n",
        "plot_model_history(model_info)\n",
        "# compute test accuracy\n",
        "print (\"Accuracy on test data is: %0.2f\"%accuracy(test_features, test_labels, model))"
      ],
      "execution_count": 32,
      "outputs": [
        {
          "output_type": "stream",
          "text": [
            "/usr/local/lib/python3.6/dist-packages/ipykernel_launcher.py:13: UserWarning: The semantics of the Keras 2 argument `steps_per_epoch` is not the same as the Keras 1 argument `samples_per_epoch`. `steps_per_epoch` is the number of batches to draw from the generator at each epoch. Basically steps_per_epoch = samples_per_epoch/batch_size. Similarly `nb_val_samples`->`validation_steps` and `val_samples`->`steps` arguments have changed. Update your method calls accordingly.\n",
            "  del sys.path[0]\n",
            "/usr/local/lib/python3.6/dist-packages/ipykernel_launcher.py:13: UserWarning: Update your `fit_generator` call to the Keras 2 API: `fit_generator(<keras_pre..., validation_data=(array([[[..., verbose=1, callbacks=[<keras.ca..., steps_per_epoch=390, epochs=50)`\n",
            "  del sys.path[0]\n"
          ],
          "name": "stderr"
        },
        {
          "output_type": "stream",
          "text": [
            "Epoch 1/50\n",
            "\n",
            "Epoch 00001: LearningRateScheduler setting learning rate to 0.01.\n",
            "390/390 [==============================] - 22s 56ms/step - loss: 1.4051 - acc: 0.4876 - val_loss: 2.6288 - val_acc: 0.4204\n",
            "\n",
            "Epoch 00001: val_acc improved from -inf to 0.42040, saving model to /content/gdrive/My Drive/Weights/Assignment6A_v3_btl-nck_weights-improvement-01-0.4204.hdf5\n",
            "Epoch 2/50\n",
            "\n",
            "Epoch 00002: LearningRateScheduler setting learning rate to 0.0075815011.\n",
            "390/390 [==============================] - 16s 40ms/step - loss: 0.9511 - acc: 0.6629 - val_loss: 1.4506 - val_acc: 0.5416\n",
            "\n",
            "Epoch 00002: val_acc improved from 0.42040 to 0.54160, saving model to /content/gdrive/My Drive/Weights/Assignment6A_v3_btl-nck_weights-improvement-02-0.5416.hdf5\n",
            "Epoch 3/50\n",
            "\n",
            "Epoch 00003: LearningRateScheduler setting learning rate to 0.0061050061.\n",
            "390/390 [==============================] - 15s 39ms/step - loss: 0.7713 - acc: 0.7284 - val_loss: 0.8764 - val_acc: 0.6972\n",
            "\n",
            "Epoch 00003: val_acc improved from 0.54160 to 0.69720, saving model to /content/gdrive/My Drive/Weights/Assignment6A_v3_btl-nck_weights-improvement-03-0.6972.hdf5\n",
            "Epoch 4/50\n",
            "\n",
            "Epoch 00004: LearningRateScheduler setting learning rate to 0.005109862.\n",
            "390/390 [==============================] - 15s 39ms/step - loss: 0.6548 - acc: 0.7703 - val_loss: 0.8749 - val_acc: 0.6947\n",
            "\n",
            "Epoch 00004: val_acc did not improve from 0.69720\n",
            "Epoch 5/50\n",
            "\n",
            "Epoch 00005: LearningRateScheduler setting learning rate to 0.0043936731.\n",
            "390/390 [==============================] - 15s 39ms/step - loss: 0.5795 - acc: 0.7970 - val_loss: 0.7355 - val_acc: 0.7574\n",
            "\n",
            "Epoch 00005: val_acc improved from 0.69720 to 0.75740, saving model to /content/gdrive/My Drive/Weights/Assignment6A_v3_btl-nck_weights-improvement-05-0.7574.hdf5\n",
            "Epoch 6/50\n",
            "\n",
            "Epoch 00006: LearningRateScheduler setting learning rate to 0.0038535645.\n",
            "390/390 [==============================] - 15s 39ms/step - loss: 0.5151 - acc: 0.8191 - val_loss: 0.8024 - val_acc: 0.7301\n",
            "\n",
            "Epoch 00006: val_acc did not improve from 0.75740\n",
            "Epoch 7/50\n",
            "\n",
            "Epoch 00007: LearningRateScheduler setting learning rate to 0.003431709.\n",
            "390/390 [==============================] - 15s 39ms/step - loss: 0.4659 - acc: 0.8373 - val_loss: 0.6364 - val_acc: 0.7854\n",
            "\n",
            "Epoch 00007: val_acc improved from 0.75740 to 0.78540, saving model to /content/gdrive/My Drive/Weights/Assignment6A_v3_btl-nck_weights-improvement-07-0.7854.hdf5\n",
            "Epoch 8/50\n",
            "\n",
            "Epoch 00008: LearningRateScheduler setting learning rate to 0.0030931024.\n",
            "390/390 [==============================] - 15s 39ms/step - loss: 0.4150 - acc: 0.8540 - val_loss: 0.5917 - val_acc: 0.7958\n",
            "\n",
            "Epoch 00008: val_acc improved from 0.78540 to 0.79580, saving model to /content/gdrive/My Drive/Weights/Assignment6A_v3_btl-nck_weights-improvement-08-0.7958.hdf5\n",
            "Epoch 9/50\n",
            "\n",
            "Epoch 00009: LearningRateScheduler setting learning rate to 0.0028153153.\n",
            "390/390 [==============================] - 15s 39ms/step - loss: 0.3796 - acc: 0.8657 - val_loss: 0.6165 - val_acc: 0.7992\n",
            "\n",
            "Epoch 00009: val_acc improved from 0.79580 to 0.79920, saving model to /content/gdrive/My Drive/Weights/Assignment6A_v3_btl-nck_weights-improvement-09-0.7992.hdf5\n",
            "Epoch 10/50\n",
            "\n",
            "Epoch 00010: LearningRateScheduler setting learning rate to 0.0025833118.\n",
            "390/390 [==============================] - 15s 39ms/step - loss: 0.3445 - acc: 0.8778 - val_loss: 0.5403 - val_acc: 0.8233\n",
            "\n",
            "Epoch 00010: val_acc improved from 0.79920 to 0.82330, saving model to /content/gdrive/My Drive/Weights/Assignment6A_v3_btl-nck_weights-improvement-10-0.8233.hdf5\n",
            "Epoch 11/50\n",
            "\n",
            "Epoch 00011: LearningRateScheduler setting learning rate to 0.0023866348.\n",
            "390/390 [==============================] - 15s 39ms/step - loss: 0.3104 - acc: 0.8894 - val_loss: 0.5735 - val_acc: 0.8122\n",
            "\n",
            "Epoch 00011: val_acc did not improve from 0.82330\n",
            "Epoch 12/50\n",
            "\n",
            "Epoch 00012: LearningRateScheduler setting learning rate to 0.0022177866.\n",
            "390/390 [==============================] - 15s 39ms/step - loss: 0.2894 - acc: 0.8976 - val_loss: 0.5501 - val_acc: 0.8209\n",
            "\n",
            "Epoch 00012: val_acc did not improve from 0.82330\n",
            "Epoch 13/50\n",
            "\n",
            "Epoch 00013: LearningRateScheduler setting learning rate to 0.002071251.\n",
            "390/390 [==============================] - 15s 39ms/step - loss: 0.2562 - acc: 0.9084 - val_loss: 0.6932 - val_acc: 0.7873\n",
            "\n",
            "Epoch 00013: val_acc did not improve from 0.82330\n",
            "Epoch 14/50\n",
            "\n",
            "Epoch 00014: LearningRateScheduler setting learning rate to 0.0019428793.\n",
            "390/390 [==============================] - 15s 39ms/step - loss: 0.2393 - acc: 0.9153 - val_loss: 0.6158 - val_acc: 0.8139\n",
            "\n",
            "Epoch 00014: val_acc did not improve from 0.82330\n",
            "Epoch 15/50\n",
            "\n",
            "Epoch 00015: LearningRateScheduler setting learning rate to 0.0018294914.\n",
            "390/390 [==============================] - 15s 39ms/step - loss: 0.2168 - acc: 0.9227 - val_loss: 0.5725 - val_acc: 0.8280\n",
            "\n",
            "Epoch 00015: val_acc improved from 0.82330 to 0.82800, saving model to /content/gdrive/My Drive/Weights/Assignment6A_v3_btl-nck_weights-improvement-15-0.8280.hdf5\n",
            "Epoch 16/50\n",
            "\n",
            "Epoch 00016: LearningRateScheduler setting learning rate to 0.0017286085.\n",
            "390/390 [==============================] - 15s 39ms/step - loss: 0.2009 - acc: 0.9270 - val_loss: 0.5806 - val_acc: 0.8254\n",
            "\n",
            "Epoch 00016: val_acc did not improve from 0.82800\n",
            "Epoch 17/50\n",
            "\n",
            "Epoch 00017: LearningRateScheduler setting learning rate to 0.00163827.\n",
            "390/390 [==============================] - 15s 39ms/step - loss: 0.1847 - acc: 0.9329 - val_loss: 0.6360 - val_acc: 0.8169\n",
            "\n",
            "Epoch 00017: val_acc did not improve from 0.82800\n",
            "Epoch 18/50\n",
            "\n",
            "Epoch 00018: LearningRateScheduler setting learning rate to 0.0015569049.\n",
            "390/390 [==============================] - 15s 39ms/step - loss: 0.1696 - acc: 0.9391 - val_loss: 0.7188 - val_acc: 0.8055\n",
            "\n",
            "Epoch 00018: val_acc did not improve from 0.82800\n",
            "Epoch 19/50\n",
            "\n",
            "Epoch 00019: LearningRateScheduler setting learning rate to 0.0014832394.\n",
            "390/390 [==============================] - 15s 39ms/step - loss: 0.1607 - acc: 0.9419 - val_loss: 0.6131 - val_acc: 0.8321\n",
            "\n",
            "Epoch 00019: val_acc improved from 0.82800 to 0.83210, saving model to /content/gdrive/My Drive/Weights/Assignment6A_v3_btl-nck_weights-improvement-19-0.8321.hdf5\n",
            "Epoch 20/50\n",
            "\n",
            "Epoch 00020: LearningRateScheduler setting learning rate to 0.00141623.\n",
            "390/390 [==============================] - 15s 39ms/step - loss: 0.1477 - acc: 0.9466 - val_loss: 0.6259 - val_acc: 0.8276\n",
            "\n",
            "Epoch 00020: val_acc did not improve from 0.83210\n",
            "Epoch 21/50\n",
            "\n",
            "Epoch 00021: LearningRateScheduler setting learning rate to 0.0013550136.\n",
            "390/390 [==============================] - 15s 39ms/step - loss: 0.1393 - acc: 0.9495 - val_loss: 0.6154 - val_acc: 0.8306\n",
            "\n",
            "Epoch 00021: val_acc did not improve from 0.83210\n",
            "Epoch 22/50\n",
            "\n",
            "Epoch 00022: LearningRateScheduler setting learning rate to 0.00129887.\n",
            "390/390 [==============================] - 15s 38ms/step - loss: 0.1267 - acc: 0.9534 - val_loss: 0.6326 - val_acc: 0.8338\n",
            "\n",
            "Epoch 00022: val_acc improved from 0.83210 to 0.83380, saving model to /content/gdrive/My Drive/Weights/Assignment6A_v3_btl-nck_weights-improvement-22-0.8338.hdf5\n",
            "Epoch 23/50\n",
            "\n",
            "Epoch 00023: LearningRateScheduler setting learning rate to 0.0012471938.\n",
            "390/390 [==============================] - 15s 39ms/step - loss: 0.1205 - acc: 0.9556 - val_loss: 0.6498 - val_acc: 0.8332\n",
            "\n",
            "Epoch 00023: val_acc did not improve from 0.83380\n",
            "Epoch 24/50\n",
            "\n",
            "Epoch 00024: LearningRateScheduler setting learning rate to 0.0011994722.\n",
            "390/390 [==============================] - 15s 40ms/step - loss: 0.1156 - acc: 0.9574 - val_loss: 0.6578 - val_acc: 0.8345\n",
            "\n",
            "Epoch 00024: val_acc improved from 0.83380 to 0.83450, saving model to /content/gdrive/My Drive/Weights/Assignment6A_v3_btl-nck_weights-improvement-24-0.8345.hdf5\n",
            "Epoch 25/50\n",
            "\n",
            "Epoch 00025: LearningRateScheduler setting learning rate to 0.001155268.\n",
            "390/390 [==============================] - 15s 39ms/step - loss: 0.1046 - acc: 0.9619 - val_loss: 0.6951 - val_acc: 0.8280\n",
            "\n",
            "Epoch 00025: val_acc did not improve from 0.83450\n",
            "Epoch 26/50\n",
            "\n",
            "Epoch 00026: LearningRateScheduler setting learning rate to 0.0011142061.\n",
            "390/390 [==============================] - 15s 39ms/step - loss: 0.1055 - acc: 0.9621 - val_loss: 0.6775 - val_acc: 0.8332\n",
            "\n",
            "Epoch 00026: val_acc did not improve from 0.83450\n",
            "Epoch 27/50\n",
            "\n",
            "Epoch 00027: LearningRateScheduler setting learning rate to 0.001075963.\n",
            "390/390 [==============================] - 15s 39ms/step - loss: 0.0982 - acc: 0.9641 - val_loss: 0.6482 - val_acc: 0.8402\n",
            "\n",
            "Epoch 00027: val_acc improved from 0.83450 to 0.84020, saving model to /content/gdrive/My Drive/Weights/Assignment6A_v3_btl-nck_weights-improvement-27-0.8402.hdf5\n",
            "Epoch 28/50\n",
            "\n",
            "Epoch 00028: LearningRateScheduler setting learning rate to 0.001040258.\n",
            "390/390 [==============================] - 15s 39ms/step - loss: 0.0869 - acc: 0.9694 - val_loss: 0.6781 - val_acc: 0.8365\n",
            "\n",
            "Epoch 00028: val_acc did not improve from 0.84020\n",
            "Epoch 29/50\n",
            "\n",
            "Epoch 00029: LearningRateScheduler setting learning rate to 0.0010068466.\n",
            "390/390 [==============================] - 15s 39ms/step - loss: 0.0878 - acc: 0.9687 - val_loss: 0.6898 - val_acc: 0.8360\n",
            "\n",
            "Epoch 00029: val_acc did not improve from 0.84020\n",
            "Epoch 30/50\n",
            "\n",
            "Epoch 00030: LearningRateScheduler setting learning rate to 0.0009755146.\n",
            "390/390 [==============================] - 15s 39ms/step - loss: 0.0839 - acc: 0.9700 - val_loss: 0.7040 - val_acc: 0.8392\n",
            "\n",
            "Epoch 00030: val_acc did not improve from 0.84020\n",
            "Epoch 31/50\n",
            "\n",
            "Epoch 00031: LearningRateScheduler setting learning rate to 0.0009460738.\n",
            "390/390 [==============================] - 15s 39ms/step - loss: 0.0810 - acc: 0.9709 - val_loss: 0.6973 - val_acc: 0.8374\n",
            "\n",
            "Epoch 00031: val_acc did not improve from 0.84020\n",
            "Epoch 32/50\n",
            "\n",
            "Epoch 00032: LearningRateScheduler setting learning rate to 0.000918358.\n",
            "390/390 [==============================] - 15s 40ms/step - loss: 0.0763 - acc: 0.9722 - val_loss: 0.7148 - val_acc: 0.8355\n",
            "\n",
            "Epoch 00032: val_acc did not improve from 0.84020\n",
            "Epoch 33/50\n",
            "\n",
            "Epoch 00033: LearningRateScheduler setting learning rate to 0.0008922198.\n",
            "390/390 [==============================] - 15s 39ms/step - loss: 0.0732 - acc: 0.9738 - val_loss: 0.6856 - val_acc: 0.8431\n",
            "\n",
            "Epoch 00033: val_acc improved from 0.84020 to 0.84310, saving model to /content/gdrive/My Drive/Weights/Assignment6A_v3_btl-nck_weights-improvement-33-0.8431.hdf5\n",
            "Epoch 34/50\n",
            "\n",
            "Epoch 00034: LearningRateScheduler setting learning rate to 0.0008675284.\n",
            "390/390 [==============================] - 15s 39ms/step - loss: 0.0725 - acc: 0.9741 - val_loss: 0.7157 - val_acc: 0.8399\n",
            "\n",
            "Epoch 00034: val_acc did not improve from 0.84310\n",
            "Epoch 35/50\n",
            "\n",
            "Epoch 00035: LearningRateScheduler setting learning rate to 0.0008441668.\n",
            "390/390 [==============================] - 15s 39ms/step - loss: 0.0662 - acc: 0.9762 - val_loss: 0.7508 - val_acc: 0.8358\n",
            "\n",
            "Epoch 00035: val_acc did not improve from 0.84310\n",
            "Epoch 36/50\n",
            "\n",
            "Epoch 00036: LearningRateScheduler setting learning rate to 0.0008220304.\n",
            "390/390 [==============================] - 15s 39ms/step - loss: 0.0638 - acc: 0.9774 - val_loss: 0.7228 - val_acc: 0.8357\n",
            "\n",
            "Epoch 00036: val_acc did not improve from 0.84310\n",
            "Epoch 37/50\n",
            "\n",
            "Epoch 00037: LearningRateScheduler setting learning rate to 0.0008010253.\n",
            "390/390 [==============================] - 15s 39ms/step - loss: 0.0636 - acc: 0.9775 - val_loss: 0.7288 - val_acc: 0.8403\n",
            "\n",
            "Epoch 00037: val_acc did not improve from 0.84310\n",
            "Epoch 38/50\n",
            "\n",
            "Epoch 00038: LearningRateScheduler setting learning rate to 0.0007810669.\n",
            "390/390 [==============================] - 15s 39ms/step - loss: 0.0618 - acc: 0.9775 - val_loss: 0.7569 - val_acc: 0.8387\n",
            "\n",
            "Epoch 00038: val_acc did not improve from 0.84310\n",
            "Epoch 39/50\n",
            "\n",
            "Epoch 00039: LearningRateScheduler setting learning rate to 0.000762079.\n",
            "390/390 [==============================] - 15s 39ms/step - loss: 0.0587 - acc: 0.9794 - val_loss: 0.7511 - val_acc: 0.8400\n",
            "\n",
            "Epoch 00039: val_acc did not improve from 0.84310\n",
            "Epoch 40/50\n",
            "\n",
            "Epoch 00040: LearningRateScheduler setting learning rate to 0.0007439923.\n",
            "390/390 [==============================] - 15s 39ms/step - loss: 0.0590 - acc: 0.9795 - val_loss: 0.7575 - val_acc: 0.8366\n",
            "\n",
            "Epoch 00040: val_acc did not improve from 0.84310\n",
            "Epoch 41/50\n",
            "\n",
            "Epoch 00041: LearningRateScheduler setting learning rate to 0.0007267442.\n",
            "390/390 [==============================] - 15s 39ms/step - loss: 0.0575 - acc: 0.9797 - val_loss: 0.7599 - val_acc: 0.8410\n",
            "\n",
            "Epoch 00041: val_acc did not improve from 0.84310\n",
            "Epoch 42/50\n",
            "\n",
            "Epoch 00042: LearningRateScheduler setting learning rate to 0.0007102777.\n",
            "390/390 [==============================] - 15s 39ms/step - loss: 0.0508 - acc: 0.9823 - val_loss: 0.7321 - val_acc: 0.8424\n",
            "\n",
            "Epoch 00042: val_acc did not improve from 0.84310\n",
            "Epoch 43/50\n",
            "\n",
            "Epoch 00043: LearningRateScheduler setting learning rate to 0.0006945409.\n",
            "390/390 [==============================] - 15s 39ms/step - loss: 0.0528 - acc: 0.9810 - val_loss: 0.7550 - val_acc: 0.8415\n",
            "\n",
            "Epoch 00043: val_acc did not improve from 0.84310\n",
            "Epoch 44/50\n",
            "\n",
            "Epoch 00044: LearningRateScheduler setting learning rate to 0.0006794863.\n",
            "390/390 [==============================] - 15s 39ms/step - loss: 0.0518 - acc: 0.9814 - val_loss: 0.7596 - val_acc: 0.8372\n",
            "\n",
            "Epoch 00044: val_acc did not improve from 0.84310\n",
            "Epoch 45/50\n",
            "\n",
            "Epoch 00045: LearningRateScheduler setting learning rate to 0.0006650705.\n",
            "390/390 [==============================] - 15s 39ms/step - loss: 0.0527 - acc: 0.9811 - val_loss: 0.7715 - val_acc: 0.8380\n",
            "\n",
            "Epoch 00045: val_acc did not improve from 0.84310\n",
            "Epoch 46/50\n",
            "\n",
            "Epoch 00046: LearningRateScheduler setting learning rate to 0.0006512537.\n",
            "390/390 [==============================] - 15s 39ms/step - loss: 0.0484 - acc: 0.9827 - val_loss: 0.8168 - val_acc: 0.8359\n",
            "\n",
            "Epoch 00046: val_acc did not improve from 0.84310\n",
            "Epoch 47/50\n",
            "\n",
            "Epoch 00047: LearningRateScheduler setting learning rate to 0.0006379992.\n",
            "390/390 [==============================] - 15s 39ms/step - loss: 0.0452 - acc: 0.9838 - val_loss: 0.7854 - val_acc: 0.8369\n",
            "\n",
            "Epoch 00047: val_acc did not improve from 0.84310\n",
            "Epoch 48/50\n",
            "\n",
            "Epoch 00048: LearningRateScheduler setting learning rate to 0.0006252736.\n",
            "390/390 [==============================] - 15s 39ms/step - loss: 0.0446 - acc: 0.9842 - val_loss: 0.8129 - val_acc: 0.8387\n",
            "\n",
            "Epoch 00048: val_acc did not improve from 0.84310\n",
            "Epoch 49/50\n",
            "\n",
            "Epoch 00049: LearningRateScheduler setting learning rate to 0.0006130456.\n",
            "390/390 [==============================] - 15s 39ms/step - loss: 0.0448 - acc: 0.9840 - val_loss: 0.7690 - val_acc: 0.8425\n",
            "\n",
            "Epoch 00049: val_acc did not improve from 0.84310\n",
            "Epoch 50/50\n",
            "\n",
            "Epoch 00050: LearningRateScheduler setting learning rate to 0.0006012868.\n",
            "390/390 [==============================] - 15s 39ms/step - loss: 0.0444 - acc: 0.9840 - val_loss: 0.7662 - val_acc: 0.8436\n",
            "\n",
            "Epoch 00050: val_acc improved from 0.84310 to 0.84360, saving model to /content/gdrive/My Drive/Weights/Assignment6A_v3_btl-nck_weights-improvement-50-0.8436.hdf5\n",
            "Model took 783.63 seconds to train\n"
          ],
          "name": "stdout"
        },
        {
          "output_type": "display_data",
          "data": {
            "image/png": "[encoded data removed]",
            "text/plain": [
              "<Figure size 1080x360 with 2 Axes>"
            ]
          },
          "metadata": {
            "tags": []
          }
        },
        {
          "output_type": "stream",
          "text": [
            "Accuracy on test data is: 84.36\n"
          ],
          "name": "stdout"
        }
      ]
    }
  ]
}