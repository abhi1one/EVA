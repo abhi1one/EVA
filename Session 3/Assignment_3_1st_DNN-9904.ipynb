{
  "nbformat": 4,
  "nbformat_minor": 0,
  "metadata": {
    "colab": {
      "name": "Assignment 3 - 1st DNN.ipynb",
      "version": "0.3.2",
      "provenance": [],
      "collapsed_sections": []
    },
    "kernelspec": {
      "name": "python3",
      "display_name": "Python 3"
    },
    "accelerator": "GPU"
  },
  "cells": [
    {
      "cell_type": "markdown",
      "metadata": {
        "id": "aNyZv-Ec52ot",
        "colab_type": "text"
      },
      "source": [
        "# **Import Libraries and modules**"
      ]
    },
    {
      "cell_type": "code",
      "metadata": {
        "id": "3m3w1Cw49Zkt",
        "colab_type": "code",
        "colab": {
          "base_uri": "https://localhost:8080/",
          "height": 34
        },
        "outputId": "83956a30-6b7b-451a-8d13-c8194ee44db1"
      },
      "source": [
        "# https://keras.io/\n",
        "!pip install -q keras\n",
        "import keras"
      ],
      "execution_count": 1,
      "outputs": [
        {
          "output_type": "stream",
          "text": [
            "Using TensorFlow backend.\n"
          ],
          "name": "stderr"
        }
      ]
    },
    {
      "cell_type": "code",
      "metadata": {
        "id": "Eso6UHE080D4",
        "colab_type": "code",
        "colab": {}
      },
      "source": [
        "import numpy as np\n",
        "\n",
        "from keras.models import Sequential\n",
        "from keras.layers import Dense, Dropout, Activation, Flatten, Add\n",
        "from keras.layers import Convolution2D, MaxPooling2D\n",
        "from keras.utils import np_utils\n",
        "\n",
        "from keras.datasets import mnist"
      ],
      "execution_count": 0,
      "outputs": []
    },
    {
      "cell_type": "markdown",
      "metadata": {
        "id": "zByEi95J86RD",
        "colab_type": "text"
      },
      "source": [
        "### Load pre-shuffled MNIST data into train and test sets"
      ]
    },
    {
      "cell_type": "code",
      "metadata": {
        "id": "7eRM0QWN83PV",
        "colab_type": "code",
        "outputId": "9bd920eb-4a31-4300-82b6-590260dc9cbd",
        "colab": {
          "base_uri": "https://localhost:8080/",
          "height": 51
        }
      },
      "source": [
        "(X_train, y_train), (X_test, y_test) = mnist.load_data()"
      ],
      "execution_count": 3,
      "outputs": [
        {
          "output_type": "stream",
          "text": [
            "Downloading data from https://s3.amazonaws.com/img-datasets/mnist.npz\n",
            "11493376/11490434 [==============================] - 0s 0us/step\n"
          ],
          "name": "stdout"
        }
      ]
    },
    {
      "cell_type": "code",
      "metadata": {
        "id": "4a4Be72j8-ZC",
        "colab_type": "code",
        "outputId": "085d7170-4961-4eb5-853f-69b769bc6044",
        "colab": {
          "base_uri": "https://localhost:8080/",
          "height": 303
        }
      },
      "source": [
        "print (X_train.shape)\n",
        "from matplotlib import pyplot as plt\n",
        "%matplotlib inline\n",
        "plt.imshow(X_train[0])"
      ],
      "execution_count": 4,
      "outputs": [
        {
          "output_type": "stream",
          "text": [
            "(60000, 28, 28)\n"
          ],
          "name": "stdout"
        },
        {
          "output_type": "execute_result",
          "data": {
            "text/plain": [
              "<matplotlib.image.AxesImage at 0x7f860f81fd68>"
            ]
          },
          "metadata": {
            "tags": []
          },
          "execution_count": 4
        },
        {
          "output_type": "display_data",
          "data": {
            "image/png": "[encoded data removed]",
            "text/plain": [
              "<Figure size 432x288 with 1 Axes>"
            ]
          },
          "metadata": {
            "tags": []
          }
        }
      ]
    },
    {
      "cell_type": "code",
      "metadata": {
        "id": "dkmprriw9AnZ",
        "colab_type": "code",
        "colab": {}
      },
      "source": [
        "X_train = X_train.reshape(X_train.shape[0], 28, 28,1)\n",
        "X_test = X_test.reshape(X_test.shape[0], 28, 28,1)"
      ],
      "execution_count": 0,
      "outputs": []
    },
    {
      "cell_type": "code",
      "metadata": {
        "id": "X2m4YS4E9CRh",
        "colab_type": "code",
        "colab": {}
      },
      "source": [
        "X_train = X_train.astype('float32')\n",
        "X_test = X_test.astype('float32')\n",
        "X_train /= 255\n",
        "X_test /= 255"
      ],
      "execution_count": 0,
      "outputs": []
    },
    {
      "cell_type": "code",
      "metadata": {
        "id": "0Mn0vAYD9DvB",
        "colab_type": "code",
        "outputId": "d1264246-93a0-4c4e-eaac-97469855c447",
        "colab": {
          "base_uri": "https://localhost:8080/",
          "height": 34
        }
      },
      "source": [
        "y_train[:10]"
      ],
      "execution_count": 7,
      "outputs": [
        {
          "output_type": "execute_result",
          "data": {
            "text/plain": [
              "array([5, 0, 4, 1, 9, 2, 1, 3, 1, 4], dtype=uint8)"
            ]
          },
          "metadata": {
            "tags": []
          },
          "execution_count": 7
        }
      ]
    },
    {
      "cell_type": "code",
      "metadata": {
        "id": "ZG8JiXR39FHC",
        "colab_type": "code",
        "colab": {}
      },
      "source": [
        "# Convert 1-dimensional class arrays to 10-dimensional class matrices\n",
        "Y_train = np_utils.to_categorical(y_train, 10)\n",
        "Y_test = np_utils.to_categorical(y_test, 10)"
      ],
      "execution_count": 0,
      "outputs": []
    },
    {
      "cell_type": "code",
      "metadata": {
        "id": "fYlFRvKS9HMB",
        "colab_type": "code",
        "outputId": "6e9c32f1-14a6-4196-8d2f-dd2288fbcb2f",
        "colab": {
          "base_uri": "https://localhost:8080/",
          "height": 187
        }
      },
      "source": [
        "Y_train[:10]\n"
      ],
      "execution_count": 9,
      "outputs": [
        {
          "output_type": "execute_result",
          "data": {
            "text/plain": [
              "array([[0., 0., 0., 0., 0., 1., 0., 0., 0., 0.],\n",
              "       [1., 0., 0., 0., 0., 0., 0., 0., 0., 0.],\n",
              "       [0., 0., 0., 0., 1., 0., 0., 0., 0., 0.],\n",
              "       [0., 1., 0., 0., 0., 0., 0., 0., 0., 0.],\n",
              "       [0., 0., 0., 0., 0., 0., 0., 0., 0., 1.],\n",
              "       [0., 0., 1., 0., 0., 0., 0., 0., 0., 0.],\n",
              "       [0., 1., 0., 0., 0., 0., 0., 0., 0., 0.],\n",
              "       [0., 0., 0., 1., 0., 0., 0., 0., 0., 0.],\n",
              "       [0., 1., 0., 0., 0., 0., 0., 0., 0., 0.],\n",
              "       [0., 0., 0., 0., 1., 0., 0., 0., 0., 0.]], dtype=float32)"
            ]
          },
          "metadata": {
            "tags": []
          },
          "execution_count": 9
        }
      ]
    },
    {
      "cell_type": "code",
      "metadata": {
        "id": "osKqT73Q9JJB",
        "colab_type": "code",
        "outputId": "35379888-4258-4e3a-8dad-337ea710ba09",
        "colab": {
          "base_uri": "https://localhost:8080/",
          "height": 105
        }
      },
      "source": [
        "from keras.layers import Activation\n",
        "model = Sequential()\n",
        "'''\n",
        "model.add(Convolution2D(8, 3, 3, activation='relu', input_shape=(28,28,1)))\n",
        "model.add(Convolution2D(8, 3, 3, activation='relu')) #input 26,26 #RF 3X3\n",
        "model.add(Convolution2D(8, 3, 3, activation='relu')) #input 24,24 #RF 7X7\n",
        "model.add(Convolution2D(8, 3, 3, activation='relu')) #input 22,22 #RF 9X9\n",
        "model.add(Convolution2D(8, 3, 3, activation='relu')) #input 20,20 #RF 11X11\n",
        "model.add(Convolution2D(8, 3, 3, activation='relu')) #input 18,18 #RF 13X13\n",
        "model.add(Convolution2D(16, 3, 3, activation='relu')) #input 16,16 #RF 15X15\n",
        "model.add(Convolution2D(16, 3, 3, activation='relu')) #input 14,14 #RF 17X17\n",
        "model.add(Convolution2D(16, 3, 3, activation='relu')) #input 12,12 #RF 19X19\n",
        "\n",
        "model.add(Convolution2D(10, 1, activation='relu')) #input 10,10\n",
        "model.add(Convolution2D(10, 10)) #input 10,10\n",
        "\n",
        "'''\n",
        "\n",
        "model.add(Convolution2D(16, 3, 3, activation='relu', input_shape=(28,28,1)))\n",
        "model.add(Convolution2D(16, 3, 3, activation='relu')) #input 26,26 #RF 3X3\n",
        "model.add(Convolution2D(16, 3, 3, activation='relu')) #input 24,24 #RF 7X7\n",
        "model.add(MaxPooling2D(pool_size=(2, 2))) #input 22,22 #RF 14X14\n",
        "model.add(Convolution2D(32, 3, 3, activation='relu')) #input 11,11 #RF 16X16\n",
        "model.add(Convolution2D(10, 1, activation='relu')) #input 9,9\n",
        "model.add(Convolution2D(10, 9)) #input 9X9\n",
        "'''\n",
        "\n",
        "model.add(Convolution2D(16, 3, 3, activation='relu', input_shape=(28,28,1)))\n",
        "model.add(Convolution2D(16, 3, 3, activation='relu')) #input 26,26 #RF 3X3\n",
        "model.add(MaxPooling2D(pool_size=(2, 2))) #input 24,24 #RF 6X6\n",
        "model.add(Convolution2D(32, 3, 3, activation='relu')) #input 12,12 #RF 8X8\n",
        "#model.add(Convolution2D(32, 3, 3, activation='relu')) #input 11,11 #RF 10X10\n",
        "model.add(Convolution2D(10, 1, activation='relu')) #input 9,9\n",
        "model.add(Convolution2D(10, 10)) #input 9X9\n",
        "'''\n",
        "\n",
        "model.add(Flatten())\n",
        "model.add(Activation('softmax'))"
      ],
      "execution_count": 62,
      "outputs": [
        {
          "output_type": "stream",
          "text": [
            "/usr/local/lib/python3.6/dist-packages/ipykernel_launcher.py:19: UserWarning: Update your `Conv2D` call to the Keras 2 API: `Conv2D(16, (3, 3), activation=\"relu\", input_shape=(28, 28, 1...)`\n",
            "/usr/local/lib/python3.6/dist-packages/ipykernel_launcher.py:20: UserWarning: Update your `Conv2D` call to the Keras 2 API: `Conv2D(16, (3, 3), activation=\"relu\")`\n",
            "/usr/local/lib/python3.6/dist-packages/ipykernel_launcher.py:21: UserWarning: Update your `Conv2D` call to the Keras 2 API: `Conv2D(16, (3, 3), activation=\"relu\")`\n",
            "/usr/local/lib/python3.6/dist-packages/ipykernel_launcher.py:23: UserWarning: Update your `Conv2D` call to the Keras 2 API: `Conv2D(32, (3, 3), activation=\"relu\")`\n"
          ],
          "name": "stderr"
        }
      ]
    },
    {
      "cell_type": "code",
      "metadata": {
        "id": "TzdAYg1k9K7Z",
        "colab_type": "code",
        "outputId": "fab58736-0fb4-4938-f19b-4c246196fedb",
        "colab": {
          "base_uri": "https://localhost:8080/",
          "height": 442
        }
      },
      "source": [
        "model.summary()"
      ],
      "execution_count": 63,
      "outputs": [
        {
          "output_type": "stream",
          "text": [
            "_________________________________________________________________\n",
            "Layer (type)                 Output Shape              Param #   \n",
            "=================================================================\n",
            "conv2d_101 (Conv2D)          (None, 26, 26, 16)        160       \n",
            "_________________________________________________________________\n",
            "conv2d_102 (Conv2D)          (None, 24, 24, 16)        2320      \n",
            "_________________________________________________________________\n",
            "conv2d_103 (Conv2D)          (None, 22, 22, 16)        2320      \n",
            "_________________________________________________________________\n",
            "max_pooling2d_9 (MaxPooling2 (None, 11, 11, 16)        0         \n",
            "_________________________________________________________________\n",
            "conv2d_104 (Conv2D)          (None, 9, 9, 32)          4640      \n",
            "_________________________________________________________________\n",
            "conv2d_105 (Conv2D)          (None, 9, 9, 10)          330       \n",
            "_________________________________________________________________\n",
            "conv2d_106 (Conv2D)          (None, 1, 1, 10)          8110      \n",
            "_________________________________________________________________\n",
            "flatten_14 (Flatten)         (None, 10)                0         \n",
            "_________________________________________________________________\n",
            "activation_14 (Activation)   (None, 10)                0         \n",
            "=================================================================\n",
            "Total params: 17,880\n",
            "Trainable params: 17,880\n",
            "Non-trainable params: 0\n",
            "_________________________________________________________________\n"
          ],
          "name": "stdout"
        }
      ]
    },
    {
      "cell_type": "code",
      "metadata": {
        "id": "Zp6SuGrL9M3h",
        "colab_type": "code",
        "colab": {}
      },
      "source": [
        "adam = keras.optimizers.Adam(lr=0.001, beta_1=0.9, beta_2=1.0, epsilon=None, decay=0.0, amsgrad=False)\n",
        "model.compile(loss='categorical_crossentropy',\n",
        "             optimizer='adam',\n",
        "             metrics=['accuracy'])"
      ],
      "execution_count": 0,
      "outputs": []
    },
    {
      "cell_type": "code",
      "metadata": {
        "id": "4xWoKhPY9Of5",
        "colab_type": "code",
        "outputId": "bee0b2c4-04d7-43c9-abaf-25de3bb6ef2d",
        "colab": {
          "base_uri": "https://localhost:8080/",
          "height": 1088
        }
      },
      "source": [
        "history = model.fit(X_train, Y_train, batch_size=16, nb_epoch=30, verbose=1, validation_data=(X_test, Y_test))"
      ],
      "execution_count": 65,
      "outputs": [
        {
          "output_type": "stream",
          "text": [
            "/usr/local/lib/python3.6/dist-packages/ipykernel_launcher.py:1: UserWarning: The `nb_epoch` argument in `fit` has been renamed `epochs`.\n",
            "  \"\"\"Entry point for launching an IPython kernel.\n"
          ],
          "name": "stderr"
        },
        {
          "output_type": "stream",
          "text": [
            "Train on 60000 samples, validate on 10000 samples\n",
            "Epoch 1/30\n",
            "60000/60000 [==============================] - 24s 396us/step - loss: 0.1434 - acc: 0.9573 - val_loss: 0.0573 - val_acc: 0.9822\n",
            "Epoch 2/30\n",
            "60000/60000 [==============================] - 22s 361us/step - loss: 0.0549 - acc: 0.9835 - val_loss: 0.0411 - val_acc: 0.9870\n",
            "Epoch 3/30\n",
            "60000/60000 [==============================] - 22s 361us/step - loss: 0.0413 - acc: 0.9871 - val_loss: 0.0357 - val_acc: 0.9884\n",
            "Epoch 4/30\n",
            "60000/60000 [==============================] - 23s 379us/step - loss: 0.0334 - acc: 0.9892 - val_loss: 0.0380 - val_acc: 0.9880\n",
            "Epoch 5/30\n",
            "60000/60000 [==============================] - 22s 361us/step - loss: 0.0277 - acc: 0.9913 - val_loss: 0.0373 - val_acc: 0.9884\n",
            "Epoch 6/30\n",
            "60000/60000 [==============================] - 22s 364us/step - loss: 0.0239 - acc: 0.9923 - val_loss: 0.0360 - val_acc: 0.9887\n",
            "Epoch 7/30\n",
            "60000/60000 [==============================] - 22s 371us/step - loss: 0.0203 - acc: 0.9932 - val_loss: 0.0389 - val_acc: 0.9884\n",
            "Epoch 8/30\n",
            "60000/60000 [==============================] - 22s 365us/step - loss: 0.0188 - acc: 0.9936 - val_loss: 0.0523 - val_acc: 0.9865\n",
            "Epoch 9/30\n",
            "60000/60000 [==============================] - 22s 372us/step - loss: 0.0156 - acc: 0.9948 - val_loss: 0.0405 - val_acc: 0.9881\n",
            "Epoch 10/30\n",
            "60000/60000 [==============================] - 22s 371us/step - loss: 0.0140 - acc: 0.9954 - val_loss: 0.0463 - val_acc: 0.9880\n",
            "Epoch 11/30\n",
            "60000/60000 [==============================] - 23s 378us/step - loss: 0.0131 - acc: 0.9960 - val_loss: 0.0447 - val_acc: 0.9892\n",
            "Epoch 12/30\n",
            "60000/60000 [==============================] - 21s 358us/step - loss: 0.0129 - acc: 0.9954 - val_loss: 0.0398 - val_acc: 0.9892\n",
            "Epoch 13/30\n",
            "60000/60000 [==============================] - 22s 358us/step - loss: 0.0099 - acc: 0.9968 - val_loss: 0.0447 - val_acc: 0.9897\n",
            "Epoch 14/30\n",
            "60000/60000 [==============================] - 22s 364us/step - loss: 0.0109 - acc: 0.9960 - val_loss: 0.0422 - val_acc: 0.9894\n",
            "Epoch 15/30\n",
            "60000/60000 [==============================] - 23s 382us/step - loss: 0.0093 - acc: 0.9970 - val_loss: 0.0495 - val_acc: 0.9901\n",
            "Epoch 16/30\n",
            "60000/60000 [==============================] - 21s 358us/step - loss: 0.0086 - acc: 0.9972 - val_loss: 0.0493 - val_acc: 0.9903\n",
            "Epoch 17/30\n",
            "60000/60000 [==============================] - 22s 359us/step - loss: 0.0082 - acc: 0.9973 - val_loss: 0.0556 - val_acc: 0.9896\n",
            "Epoch 18/30\n",
            "60000/60000 [==============================] - 22s 374us/step - loss: 0.0085 - acc: 0.9970 - val_loss: 0.0505 - val_acc: 0.9899\n",
            "Epoch 19/30\n",
            "60000/60000 [==============================] - 22s 363us/step - loss: 0.0090 - acc: 0.9970 - val_loss: 0.0616 - val_acc: 0.9883\n",
            "Epoch 20/30\n",
            "60000/60000 [==============================] - 21s 357us/step - loss: 0.0074 - acc: 0.9976 - val_loss: 0.0739 - val_acc: 0.9881\n",
            "Epoch 21/30\n",
            "60000/60000 [==============================] - 22s 360us/step - loss: 0.0080 - acc: 0.9975 - val_loss: 0.0692 - val_acc: 0.9879\n",
            "Epoch 22/30\n",
            "60000/60000 [==============================] - 23s 378us/step - loss: 0.0084 - acc: 0.9972 - val_loss: 0.0713 - val_acc: 0.9877\n",
            "Epoch 23/30\n",
            "60000/60000 [==============================] - 22s 365us/step - loss: 0.0077 - acc: 0.9976 - val_loss: 0.0670 - val_acc: 0.9894\n",
            "Epoch 24/30\n",
            "60000/60000 [==============================] - 23s 380us/step - loss: 0.0062 - acc: 0.9979 - val_loss: 0.0760 - val_acc: 0.9885\n",
            "Epoch 25/30\n",
            "60000/60000 [==============================] - 22s 359us/step - loss: 0.0076 - acc: 0.9976 - val_loss: 0.0586 - val_acc: 0.9889\n",
            "Epoch 26/30\n",
            "60000/60000 [==============================] - 23s 377us/step - loss: 0.0075 - acc: 0.9979 - val_loss: 0.0635 - val_acc: 0.9902\n",
            "Epoch 27/30\n",
            "60000/60000 [==============================] - 22s 359us/step - loss: 0.0070 - acc: 0.9980 - val_loss: 0.0709 - val_acc: 0.9875\n",
            "Epoch 28/30\n",
            "60000/60000 [==============================] - 22s 370us/step - loss: 0.0062 - acc: 0.9980 - val_loss: 0.0649 - val_acc: 0.9907\n",
            "Epoch 29/30\n",
            "60000/60000 [==============================] - 23s 378us/step - loss: 0.0072 - acc: 0.9979 - val_loss: 0.0642 - val_acc: 0.9902\n",
            "Epoch 30/30\n",
            "60000/60000 [==============================] - 22s 362us/step - loss: 0.0064 - acc: 0.9981 - val_loss: 0.0714 - val_acc: 0.9885\n"
          ],
          "name": "stdout"
        }
      ]
    },
    {
      "cell_type": "code",
      "metadata": {
        "id": "9tvptcn8dxvp",
        "colab_type": "code",
        "colab": {
          "base_uri": "https://localhost:8080/",
          "height": 573
        },
        "outputId": "4a5f2264-ce4a-443b-ab07-d5b9e56aee50"
      },
      "source": [
        "import matplotlib.pyplot as plt\n",
        "\n",
        "#history = model.fit(x, y, validation_split=0.25, epochs=50, batch_size=16, verbose=1)\n",
        "\n",
        "# Plot training & validation accuracy values\n",
        "plt.plot(history.history['acc'])\n",
        "plt.plot(history.history['val_acc'])\n",
        "plt.title('Model accuracy')\n",
        "plt.ylabel('Accuracy')\n",
        "plt.xlabel('Epoch')\n",
        "plt.legend(['Train', 'Test'], loc='upper left')\n",
        "plt.show()\n",
        "\n",
        "# Plot training & validation loss values\n",
        "plt.plot(history.history['loss'])\n",
        "plt.plot(history.history['val_loss'])\n",
        "plt.title('Model loss')\n",
        "plt.ylabel('Loss')\n",
        "plt.xlabel('Epoch')\n",
        "plt.legend(['Train', 'Test'], loc='upper left')\n",
        "plt.show()"
      ],
      "execution_count": 66,
      "outputs": [
        {
          "output_type": "display_data",
          "data": {
            "image/png": "[encoded data removed]",
            "text/plain": [
              "<Figure size 432x288 with 1 Axes>"
            ]
          },
          "metadata": {
            "tags": []
          }
        },
        {
          "output_type": "display_data",
          "data": {
            "image/png": "[encoded data removed]",
            "text/plain": [
              "<Figure size 432x288 with 1 Axes>"
            ]
          },
          "metadata": {
            "tags": []
          }
        }
      ]
    },
    {
      "cell_type": "code",
      "metadata": {
        "id": "fFnk_prLfauH",
        "colab_type": "code",
        "colab": {
          "base_uri": "https://localhost:8080/",
          "height": 445
        },
        "outputId": "a8843d74-5efd-425e-90c1-f8d38c07514c"
      },
      "source": [
        "model.fit(X_train, Y_train, batch_size=8, nb_epoch=10, verbose=1, validation_data=(X_test, Y_test))"
      ],
      "execution_count": 69,
      "outputs": [
        {
          "output_type": "stream",
          "text": [
            "Train on 60000 samples, validate on 10000 samples\n",
            "Epoch 1/10\n",
            "  160/60000 [..............................] - ETA: 55s - loss: 1.8166e-04 - acc: 1.0000 "
          ],
          "name": "stdout"
        },
        {
          "output_type": "stream",
          "text": [
            "/usr/local/lib/python3.6/dist-packages/ipykernel_launcher.py:1: UserWarning: The `nb_epoch` argument in `fit` has been renamed `epochs`.\n",
            "  \"\"\"Entry point for launching an IPython kernel.\n"
          ],
          "name": "stderr"
        },
        {
          "output_type": "stream",
          "text": [
            "60000/60000 [==============================] - 43s 714us/step - loss: 0.0125 - acc: 0.9967 - val_loss: 0.0730 - val_acc: 0.9869\n",
            "Epoch 2/10\n",
            "60000/60000 [==============================] - 46s 759us/step - loss: 0.0108 - acc: 0.9965 - val_loss: 0.0545 - val_acc: 0.9914\n",
            "Epoch 3/10\n",
            "60000/60000 [==============================] - 43s 714us/step - loss: 0.0114 - acc: 0.9966 - val_loss: 0.0685 - val_acc: 0.9887\n",
            "Epoch 4/10\n",
            "60000/60000 [==============================] - 44s 733us/step - loss: 0.0113 - acc: 0.9966 - val_loss: 0.0712 - val_acc: 0.9886\n",
            "Epoch 5/10\n",
            "60000/60000 [==============================] - 44s 734us/step - loss: 0.0130 - acc: 0.9965 - val_loss: 0.0708 - val_acc: 0.9885\n",
            "Epoch 6/10\n",
            "60000/60000 [==============================] - 44s 725us/step - loss: 0.0118 - acc: 0.9967 - val_loss: 0.0852 - val_acc: 0.9884\n",
            "Epoch 7/10\n",
            "60000/60000 [==============================] - 44s 733us/step - loss: 0.0103 - acc: 0.9971 - val_loss: 0.0741 - val_acc: 0.9872\n",
            "Epoch 8/10\n",
            "60000/60000 [==============================] - 43s 715us/step - loss: 0.0109 - acc: 0.9969 - val_loss: 0.0702 - val_acc: 0.9901\n",
            "Epoch 9/10\n",
            "60000/60000 [==============================] - 45s 751us/step - loss: 0.0102 - acc: 0.9971 - val_loss: 0.0749 - val_acc: 0.9883\n",
            "Epoch 10/10\n",
            "60000/60000 [==============================] - 43s 719us/step - loss: 0.0102 - acc: 0.9969 - val_loss: 0.0638 - val_acc: 0.9904\n"
          ],
          "name": "stdout"
        },
        {
          "output_type": "execute_result",
          "data": {
            "text/plain": [
              "<keras.callbacks.History at 0x7f85c14939e8>"
            ]
          },
          "metadata": {
            "tags": []
          },
          "execution_count": 69
        }
      ]
    },
    {
      "cell_type": "code",
      "metadata": {
        "id": "AtsH-lLk-eLb",
        "colab_type": "code",
        "colab": {}
      },
      "source": [
        "score = model.evaluate(X_test, Y_test, verbose=0)"
      ],
      "execution_count": 0,
      "outputs": []
    },
    {
      "cell_type": "code",
      "metadata": {
        "id": "mkX8JMv79q9r",
        "colab_type": "code",
        "outputId": "c48f3771-0c57-48c8-c3e3-a72ee0ca967e",
        "colab": {
          "base_uri": "https://localhost:8080/",
          "height": 34
        }
      },
      "source": [
        "print(score)"
      ],
      "execution_count": 71,
      "outputs": [
        {
          "output_type": "stream",
          "text": [
            "[0.06376545303444647, 0.9904]\n"
          ],
          "name": "stdout"
        }
      ]
    },
    {
      "cell_type": "code",
      "metadata": {
        "id": "OCWoJkwE9suh",
        "colab_type": "code",
        "colab": {}
      },
      "source": [
        "y_pred = model.predict(X_test)"
      ],
      "execution_count": 0,
      "outputs": []
    },
    {
      "cell_type": "code",
      "metadata": {
        "id": "Ym7iCFBm9uBs",
        "colab_type": "code",
        "outputId": "7dbdbf86-fd34-468d-bc1b-09060b35b074",
        "colab": {
          "base_uri": "https://localhost:8080/",
          "height": 493
        }
      },
      "source": [
        "print(y_pred[:9])\n",
        "print(y_test[:9])"
      ],
      "execution_count": 126,
      "outputs": [
        {
          "output_type": "stream",
          "text": [
            "[[8.83453048e-17 2.23902832e-22 5.03254502e-13 1.60512364e-13\n",
            "  4.02065522e-23 9.60435273e-19 0.00000000e+00 1.00000000e+00\n",
            "  1.39047658e-16 1.85744840e-11]\n",
            " [3.93890887e-21 7.82338257e-12 1.00000000e+00 3.59788031e-17\n",
            "  1.38093388e-18 1.37124121e-29 4.85452095e-11 2.52794327e-23\n",
            "  1.14365700e-16 1.80574017e-27]\n",
            " [4.05707407e-17 1.00000000e+00 2.24106909e-12 8.25022068e-17\n",
            "  6.03128159e-10 3.44477593e-14 1.42322758e-13 1.16682185e-11\n",
            "  3.78736241e-13 1.01929050e-17]\n",
            " [1.00000000e+00 5.48987821e-33 1.91183327e-17 4.73503497e-22\n",
            "  6.40486258e-19 6.92827582e-24 3.11879712e-15 4.00338433e-19\n",
            "  3.24701504e-19 7.47422979e-19]\n",
            " [8.47725630e-29 1.00496457e-21 2.52994851e-24 3.29754186e-28\n",
            "  1.00000000e+00 2.08647185e-28 4.26313701e-21 5.24219354e-19\n",
            "  6.29316102e-20 1.76778762e-15]\n",
            " [2.48050972e-12 1.00000000e+00 9.11990483e-10 4.10908282e-16\n",
            "  9.71266290e-10 5.04951478e-17 5.48377736e-14 4.93403363e-08\n",
            "  8.02247435e-11 1.75318283e-13]\n",
            " [9.30098297e-33 9.37158608e-15 2.06010754e-17 7.46690805e-26\n",
            "  1.00000000e+00 5.74528180e-22 3.80990414e-31 7.89448438e-18\n",
            "  2.99498648e-10 2.92296332e-14]\n",
            " [1.99232442e-29 3.98114961e-21 7.15147126e-12 3.90293657e-12\n",
            "  1.24935861e-04 7.24509255e-12 4.15747299e-25 9.05675749e-15\n",
            "  8.62060531e-14 9.99875069e-01]\n",
            " [1.45405634e-18 0.00000000e+00 4.04683561e-19 4.99908274e-26\n",
            "  3.41847459e-22 9.99995708e-01 4.25462213e-06 2.98711163e-29\n",
            "  2.37556552e-08 1.55013792e-20]]\n",
            "[7 2 1 0 4 1 4 9 5]\n"
          ],
          "name": "stdout"
        }
      ]
    },
    {
      "cell_type": "code",
      "metadata": {
        "id": "CT--y98_dr2T",
        "colab_type": "code",
        "colab": {
          "base_uri": "https://localhost:8080/",
          "height": 170
        },
        "outputId": "98fa545a-578f-458c-eedc-5f29f899cf2a"
      },
      "source": [
        "layer_dict = dict([(layer.name, layer) for layer in model.layers])\n",
        "layer_dict"
      ],
      "execution_count": 127,
      "outputs": [
        {
          "output_type": "execute_result",
          "data": {
            "text/plain": [
              "{'activation_21': <keras.layers.core.Activation at 0x7f58f2cb80f0>,\n",
              " 'conv2d_173': <keras.layers.convolutional.Conv2D at 0x7f58f2d7d748>,\n",
              " 'conv2d_174': <keras.layers.convolutional.Conv2D at 0x7f58f2d7d550>,\n",
              " 'conv2d_175': <keras.layers.convolutional.Conv2D at 0x7f58f2d27160>,\n",
              " 'conv2d_176': <keras.layers.convolutional.Conv2D at 0x7f58f2d270f0>,\n",
              " 'conv2d_177': <keras.layers.convolutional.Conv2D at 0x7f58f2cc8ba8>,\n",
              " 'conv2d_178': <keras.layers.convolutional.Conv2D at 0x7f58f2cf15c0>,\n",
              " 'flatten_21': <keras.layers.core.Flatten at 0x7f58f2c8bfd0>,\n",
              " 'max_pooling2d_13': <keras.layers.pooling.MaxPooling2D at 0x7f58f2cdde10>}"
            ]
          },
          "metadata": {
            "tags": []
          },
          "execution_count": 127
        }
      ]
    },
    {
      "cell_type": "code",
      "metadata": {
        "id": "2GY4Upv4dsUR",
        "colab_type": "code",
        "colab": {}
      },
      "source": [
        "import numpy as np\n",
        "from matplotlib import pyplot as plt\n",
        "from keras import backend as K\n",
        "%matplotlib inline\n",
        "# util function to convert a tensor into a valid image\n",
        "def deprocess_image(x):\n",
        "    # normalize tensor: center on 0., ensure std is 0.1\n",
        "    x -= x.mean()\n",
        "    x /= (x.std() + 1e-5)\n",
        "    x *= 0.1\n",
        "\n",
        "    # clip to [0, 1]\n",
        "    x += 0.5\n",
        "    x = np.clip(x, 0, 1)\n",
        "\n",
        "    # convert to RGB array\n",
        "    x *= 255\n",
        "    #x = x.transpose((1, 2, 0))\n",
        "    x = np.clip(x, 0, 255).astype('uint8')\n",
        "    return x\n",
        "\n",
        "def vis_img_in_filter(img = np.array(X_train[2]).reshape((1, 28, 28, 1)).astype(np.float64), \n",
        "                      layer_name = 'conv2d_156'):  \n",
        "    layer_output = layer_dict[layer_name].output\n",
        "    img_ascs = list()\n",
        "    for filter_index in range(layer_output.shape[3]):\n",
        "        # build a loss function that maximizes the activation\n",
        "        # of the nth filter of the layer considered\n",
        "        loss = K.mean(layer_output[:, :, :, filter_index])\n",
        "\n",
        "        # compute the gradient of the input picture wrt this loss\n",
        "        grads = K.gradients(loss, model.input)[0]\n",
        "\n",
        "        # normalization trick: we normalize the gradient\n",
        "        grads /= (K.sqrt(K.mean(K.square(grads))) + 1e-5)\n",
        "\n",
        "        # this function returns the loss and grads given the input picture\n",
        "        iterate = K.function([model.input], [loss, grads])\n",
        "\n",
        "        # step size for gradient ascent\n",
        "        step = 5.\n",
        "\n",
        "        img_asc = np.array(img)\n",
        "        # run gradient ascent for 20 steps\n",
        "        for i in range(20):\n",
        "            loss_value, grads_value = iterate([img_asc])\n",
        "            img_asc += grads_value * step\n",
        "\n",
        "        img_asc = img_asc[0]\n",
        "        img_ascs.append(deprocess_image(img_asc).reshape((28, 28)))\n",
        "        \n",
        "    if layer_output.shape[3] >= 35:\n",
        "        plot_x, plot_y = 6, 6\n",
        "    elif layer_output.shape[3] >= 23:\n",
        "        plot_x, plot_y = 4, 6\n",
        "    elif layer_output.shape[3] >= 11:\n",
        "        plot_x, plot_y = 2, 6\n",
        "    else:\n",
        "        plot_x, plot_y = 1, 2\n",
        "    fig, ax = plt.subplots(plot_x, plot_y, figsize = (12, 12))\n",
        "    ax[0, 0].imshow(img.reshape((28, 28)), cmap = 'gray')\n",
        "    ax[0, 0].set_title('Input image')\n",
        "    fig.suptitle('Input image and %s filters' % (layer_name,))\n",
        "    fig.tight_layout(pad = 0.3, rect = [0, 0, 0.9, 0.9])\n",
        "    for (x, y) in [(i, j) for i in range(plot_x) for j in range(plot_y)]:\n",
        "        if x == 0 and y == 0:\n",
        "            continue\n",
        "        ax[x, y].imshow(img_ascs[x * plot_y + y - 1], cmap = 'gray')\n",
        "        ax[x, y].set_title('filter %d' % (x * plot_y + y - 1))\n",
        "\n",
        "vis_img_in_filter()"
      ],
      "execution_count": 0,
      "outputs": []
    }
  ]
}