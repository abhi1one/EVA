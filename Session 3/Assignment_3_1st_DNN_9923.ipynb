{
  "nbformat": 4,
  "nbformat_minor": 0,
  "metadata": {
    "colab": {
      "name": "Assignment 3 - 1st DNN.ipynb",
      "version": "0.3.2",
      "provenance": [],
      "collapsed_sections": []
    },
    "kernelspec": {
      "name": "python3",
      "display_name": "Python 3"
    },
    "accelerator": "GPU"
  },
  "cells": [
    {
      "cell_type": "markdown",
      "metadata": {
        "id": "aNyZv-Ec52ot",
        "colab_type": "text"
      },
      "source": [
        "# **Import Libraries and modules**"
      ]
    },
    {
      "cell_type": "markdown",
      "metadata": {
        "id": "j8FDs1Hx0-o0",
        "colab_type": "text"
      },
      "source": [
        "installing and Importing Keras for current solution"
      ]
    },
    {
      "cell_type": "code",
      "metadata": {
        "id": "3m3w1Cw49Zkt",
        "colab_type": "code",
        "colab": {
          "base_uri": "https://localhost:8080/",
          "height": 34
        },
        "outputId": "98728414-9d3b-4e9d-824e-49e0cc1a1c98"
      },
      "source": [
        "# https://keras.io/\n",
        "!pip install -q keras\n",
        "import keras"
      ],
      "execution_count": 1,
      "outputs": [
        {
          "output_type": "stream",
          "text": [
            "Using TensorFlow backend.\n"
          ],
          "name": "stderr"
        }
      ]
    },
    {
      "cell_type": "markdown",
      "metadata": {
        "id": "N-qhHUhK1Ggp",
        "colab_type": "text"
      },
      "source": [
        "Importing Numpy and Keras modules as well as mnist data set."
      ]
    },
    {
      "cell_type": "code",
      "metadata": {
        "id": "Eso6UHE080D4",
        "colab_type": "code",
        "colab": {}
      },
      "source": [
        "import numpy as np\n",
        "\n",
        "from keras.models import Sequential\n",
        "from keras.layers import Dense, Dropout, Activation, Flatten, Add\n",
        "from keras.layers import Convolution2D, MaxPooling2D\n",
        "from keras.utils import np_utils\n",
        "\n",
        "from keras.datasets import mnist"
      ],
      "execution_count": 0,
      "outputs": []
    },
    {
      "cell_type": "markdown",
      "metadata": {
        "id": "zByEi95J86RD",
        "colab_type": "text"
      },
      "source": [
        "### Load pre-shuffled MNIST data into train and test sets"
      ]
    },
    {
      "cell_type": "markdown",
      "metadata": {
        "id": "yxPvMT_21Mhy",
        "colab_type": "text"
      },
      "source": [
        "Loading mnist data set in train and test variables."
      ]
    },
    {
      "cell_type": "code",
      "metadata": {
        "id": "7eRM0QWN83PV",
        "colab_type": "code",
        "outputId": "d57ac2de-1d4d-4072-ffb2-aba191a56e9e",
        "colab": {
          "base_uri": "https://localhost:8080/",
          "height": 51
        }
      },
      "source": [
        "(X_train, y_train), (X_test, y_test) = mnist.load_data()"
      ],
      "execution_count": 3,
      "outputs": [
        {
          "output_type": "stream",
          "text": [
            "Downloading data from https://s3.amazonaws.com/img-datasets/mnist.npz\n",
            "11493376/11490434 [==============================] - 9s 1us/step\n"
          ],
          "name": "stdout"
        }
      ]
    },
    {
      "cell_type": "markdown",
      "metadata": {
        "id": "9SMpZZpo1Sv0",
        "colab_type": "text"
      },
      "source": [
        "Ploting sample from train data set."
      ]
    },
    {
      "cell_type": "code",
      "metadata": {
        "id": "4a4Be72j8-ZC",
        "colab_type": "code",
        "outputId": "8b06649e-9bbb-4c06-bb90-3768e7954bf0",
        "colab": {
          "base_uri": "https://localhost:8080/",
          "height": 303
        }
      },
      "source": [
        "print (X_train.shape)\n",
        "from matplotlib import pyplot as plt\n",
        "%matplotlib inline\n",
        "plt.imshow(X_train[0])"
      ],
      "execution_count": 4,
      "outputs": [
        {
          "output_type": "stream",
          "text": [
            "(60000, 28, 28)\n"
          ],
          "name": "stdout"
        },
        {
          "output_type": "execute_result",
          "data": {
            "text/plain": [
              "<matplotlib.image.AxesImage at 0x7ff6bdea2d30>"
            ]
          },
          "metadata": {
            "tags": []
          },
          "execution_count": 4
        },
        {
          "output_type": "display_data",
          "data": {
            "image/png": "[encoded data removed]",
            "text/plain": [
              "<Figure size 432x288 with 1 Axes>"
            ]
          },
          "metadata": {
            "tags": []
          }
        }
      ]
    },
    {
      "cell_type": "markdown",
      "metadata": {
        "id": "N1AM8Fy81X1n",
        "colab_type": "text"
      },
      "source": [
        "Reshaping all train and test data to a uniform size."
      ]
    },
    {
      "cell_type": "code",
      "metadata": {
        "id": "dkmprriw9AnZ",
        "colab_type": "code",
        "colab": {}
      },
      "source": [
        "X_train = X_train.reshape(X_train.shape[0], 28, 28,1)\n",
        "X_test = X_test.reshape(X_test.shape[0], 28, 28,1)"
      ],
      "execution_count": 0,
      "outputs": []
    },
    {
      "cell_type": "markdown",
      "metadata": {
        "id": "tjr4ODS81eUc",
        "colab_type": "text"
      },
      "source": [
        "Regularizing train and test data for float data type and division wiht 255"
      ]
    },
    {
      "cell_type": "code",
      "metadata": {
        "id": "X2m4YS4E9CRh",
        "colab_type": "code",
        "colab": {}
      },
      "source": [
        "X_train = X_train.astype('float32')\n",
        "X_test = X_test.astype('float32')\n",
        "X_train /= 255\n",
        "X_test /= 255"
      ],
      "execution_count": 0,
      "outputs": []
    },
    {
      "cell_type": "markdown",
      "metadata": {
        "id": "lDZ-v1na1okY",
        "colab_type": "text"
      },
      "source": [
        "Visualizing train out put"
      ]
    },
    {
      "cell_type": "code",
      "metadata": {
        "id": "0Mn0vAYD9DvB",
        "colab_type": "code",
        "outputId": "d750679c-df82-4935-f396-f87306ce0426",
        "colab": {
          "base_uri": "https://localhost:8080/",
          "height": 34
        }
      },
      "source": [
        "y_train[:10]"
      ],
      "execution_count": 7,
      "outputs": [
        {
          "output_type": "execute_result",
          "data": {
            "text/plain": [
              "array([5, 0, 4, 1, 9, 2, 1, 3, 1, 4], dtype=uint8)"
            ]
          },
          "metadata": {
            "tags": []
          },
          "execution_count": 7
        }
      ]
    },
    {
      "cell_type": "markdown",
      "metadata": {
        "id": "ZCLqRA3o1wFq",
        "colab_type": "text"
      },
      "source": [
        "Convert 1-dimensional class arrays to 10-dimensional class matrices"
      ]
    },
    {
      "cell_type": "code",
      "metadata": {
        "id": "ZG8JiXR39FHC",
        "colab_type": "code",
        "colab": {}
      },
      "source": [
        "# Convert 1-dimensional class arrays to 10-dimensional class matrices\n",
        "Y_train = np_utils.to_categorical(y_train, 10)\n",
        "Y_test = np_utils.to_categorical(y_test, 10)"
      ],
      "execution_count": 0,
      "outputs": []
    },
    {
      "cell_type": "markdown",
      "metadata": {
        "id": "kXmnovfn1yew",
        "colab_type": "text"
      },
      "source": [
        "Viewing tranformed train out put matrix"
      ]
    },
    {
      "cell_type": "code",
      "metadata": {
        "id": "fYlFRvKS9HMB",
        "colab_type": "code",
        "outputId": "6e09c3c4-84eb-42c5-ed45-0a3b29fd210d",
        "colab": {
          "base_uri": "https://localhost:8080/",
          "height": 187
        }
      },
      "source": [
        "Y_train[:10]\n"
      ],
      "execution_count": 9,
      "outputs": [
        {
          "output_type": "execute_result",
          "data": {
            "text/plain": [
              "array([[0., 0., 0., 0., 0., 1., 0., 0., 0., 0.],\n",
              "       [1., 0., 0., 0., 0., 0., 0., 0., 0., 0.],\n",
              "       [0., 0., 0., 0., 1., 0., 0., 0., 0., 0.],\n",
              "       [0., 1., 0., 0., 0., 0., 0., 0., 0., 0.],\n",
              "       [0., 0., 0., 0., 0., 0., 0., 0., 0., 1.],\n",
              "       [0., 0., 1., 0., 0., 0., 0., 0., 0., 0.],\n",
              "       [0., 1., 0., 0., 0., 0., 0., 0., 0., 0.],\n",
              "       [0., 0., 0., 1., 0., 0., 0., 0., 0., 0.],\n",
              "       [0., 1., 0., 0., 0., 0., 0., 0., 0., 0.],\n",
              "       [0., 0., 0., 0., 1., 0., 0., 0., 0., 0.]], dtype=float32)"
            ]
          },
          "metadata": {
            "tags": []
          },
          "execution_count": 9
        }
      ]
    },
    {
      "cell_type": "markdown",
      "metadata": {
        "id": "Z2PFtTZq127m",
        "colab_type": "text"
      },
      "source": [
        "Defining CNN with drop outs; not using max pooling as it may not be very useful for these size of images. "
      ]
    },
    {
      "cell_type": "code",
      "metadata": {
        "id": "osKqT73Q9JJB",
        "colab_type": "code",
        "outputId": "19ce6458-d861-46c1-d18b-e0d3488acdda",
        "colab": {
          "base_uri": "https://localhost:8080/",
          "height": 309
        }
      },
      "source": [
        "from keras.layers import Activation\n",
        "model = Sequential()\n",
        "\n",
        "model.add(Convolution2D(8, 3, 3, activation='relu', input_shape=(28,28,1)))\n",
        "model.add(Dropout(0.3))\n",
        "model.add(Convolution2D(8, 3, 3, activation='relu')) #input 26,26 #RF 3X3\n",
        "model.add(Dropout(0.3))\n",
        "model.add(Convolution2D(8, 3, 3, activation='relu')) #input 24,24 #RF 7X7\n",
        "model.add(Dropout(0.3))\n",
        "model.add(Convolution2D(8, 3, 3, activation='relu')) #input 22,22 #RF 9X9\n",
        "model.add(Dropout(0.3))\n",
        "model.add(Convolution2D(8, 3, 3, activation='relu')) #input 20,20 #RF 11X11\n",
        "model.add(Dropout(0.3))\n",
        "model.add(Convolution2D(8, 3, 3, activation='relu')) #input 18,18 #RF 13X13\n",
        "model.add(Dropout(0.3))\n",
        "model.add(Convolution2D(16, 3, 3, activation='relu')) #input 16,16 #RF 15X15\n",
        "model.add(Dropout(0.3))\n",
        "model.add(Convolution2D(16, 3, 3, activation='relu')) #input 14,14 #RF 17X17\n",
        "model.add(Dropout(0.3))\n",
        "model.add(Convolution2D(16, 3, 3, activation='relu')) #input 12,12 #RF 19X19\n",
        "model.add(Dropout(0.3))\n",
        "\n",
        "model.add(Convolution2D(10, 1)) #input 10,10 , activation='relu'\n",
        "model.add(Convolution2D(10, 10)) #input 10,10\n",
        "\n",
        "'''\n",
        "\n",
        "model.add(Convolution2D(16, 3, 3, activation='relu', input_shape=(28,28,1)))\n",
        "model.add(Convolution2D(16, 3, 3, activation='relu')) #input 26,26 #RF 3X3\n",
        "model.add(Convolution2D(16, 3, 3, activation='relu')) #input 24,24 #RF 7X7\n",
        "model.add(MaxPooling2D(pool_size=(2, 2))) #input 22,22 #RF 14X14\n",
        "model.add(Convolution2D(32, 3, 3, activation='relu')) #input 11,11 #RF 16X16\n",
        "model.add(Convolution2D(10, 1, activation='relu')) #input 9,9\n",
        "model.add(Convolution2D(10, 9)) #input 9X9\n",
        "'''\n",
        "'''\n",
        "model.add(Convolution2D(16, 3, 3, activation='relu', input_shape=(28,28,1)))\n",
        "model.add(Convolution2D(16, 3, 3, activation='relu')) #input 26,26 #RF 3X3\n",
        "model.add(MaxPooling2D(pool_size=(2, 2))) #input 24,24 #RF 6X6\n",
        "model.add(Convolution2D(32, 3, 3, activation='relu')) #input 12,12 #RF 8X8\n",
        "#model.add(Convolution2D(32, 3, 3, activation='relu')) #input 11,11 #RF 10X10\n",
        "model.add(Convolution2D(10, 1, activation='relu')) #input 9,9\n",
        "model.add(Convolution2D(10, 10)) #input 9X9\n",
        "'''\n",
        "\n",
        "model.add(Flatten())\n",
        "model.add(Activation('softmax'))"
      ],
      "execution_count": 20,
      "outputs": [
        {
          "output_type": "stream",
          "text": [
            "/usr/local/lib/python3.6/dist-packages/ipykernel_launcher.py:4: UserWarning: Update your `Conv2D` call to the Keras 2 API: `Conv2D(8, (3, 3), activation=\"relu\", input_shape=(28, 28, 1...)`\n",
            "  after removing the cwd from sys.path.\n",
            "/usr/local/lib/python3.6/dist-packages/ipykernel_launcher.py:6: UserWarning: Update your `Conv2D` call to the Keras 2 API: `Conv2D(8, (3, 3), activation=\"relu\")`\n",
            "  \n",
            "/usr/local/lib/python3.6/dist-packages/ipykernel_launcher.py:8: UserWarning: Update your `Conv2D` call to the Keras 2 API: `Conv2D(8, (3, 3), activation=\"relu\")`\n",
            "  \n",
            "/usr/local/lib/python3.6/dist-packages/ipykernel_launcher.py:10: UserWarning: Update your `Conv2D` call to the Keras 2 API: `Conv2D(8, (3, 3), activation=\"relu\")`\n",
            "  # Remove the CWD from sys.path while we load stuff.\n",
            "/usr/local/lib/python3.6/dist-packages/ipykernel_launcher.py:12: UserWarning: Update your `Conv2D` call to the Keras 2 API: `Conv2D(8, (3, 3), activation=\"relu\")`\n",
            "  if sys.path[0] == '':\n",
            "/usr/local/lib/python3.6/dist-packages/ipykernel_launcher.py:14: UserWarning: Update your `Conv2D` call to the Keras 2 API: `Conv2D(8, (3, 3), activation=\"relu\")`\n",
            "  \n",
            "/usr/local/lib/python3.6/dist-packages/ipykernel_launcher.py:16: UserWarning: Update your `Conv2D` call to the Keras 2 API: `Conv2D(16, (3, 3), activation=\"relu\")`\n",
            "  app.launch_new_instance()\n",
            "/usr/local/lib/python3.6/dist-packages/ipykernel_launcher.py:18: UserWarning: Update your `Conv2D` call to the Keras 2 API: `Conv2D(16, (3, 3), activation=\"relu\")`\n",
            "/usr/local/lib/python3.6/dist-packages/ipykernel_launcher.py:20: UserWarning: Update your `Conv2D` call to the Keras 2 API: `Conv2D(16, (3, 3), activation=\"relu\")`\n"
          ],
          "name": "stderr"
        }
      ]
    },
    {
      "cell_type": "markdown",
      "metadata": {
        "id": "T1mq9MtB2GgQ",
        "colab_type": "text"
      },
      "source": [
        "Printing model summary to understand current paramaters for the model. "
      ]
    },
    {
      "cell_type": "code",
      "metadata": {
        "id": "TzdAYg1k9K7Z",
        "colab_type": "code",
        "outputId": "acb44f28-2613-44b8-d02e-5c5b30d501c6",
        "colab": {
          "base_uri": "https://localhost:8080/",
          "height": 884
        }
      },
      "source": [
        "model.summary()"
      ],
      "execution_count": 21,
      "outputs": [
        {
          "output_type": "stream",
          "text": [
            "_________________________________________________________________\n",
            "Layer (type)                 Output Shape              Param #   \n",
            "=================================================================\n",
            "conv2d_12 (Conv2D)           (None, 26, 26, 8)         80        \n",
            "_________________________________________________________________\n",
            "dropout_10 (Dropout)         (None, 26, 26, 8)         0         \n",
            "_________________________________________________________________\n",
            "conv2d_13 (Conv2D)           (None, 24, 24, 8)         584       \n",
            "_________________________________________________________________\n",
            "dropout_11 (Dropout)         (None, 24, 24, 8)         0         \n",
            "_________________________________________________________________\n",
            "conv2d_14 (Conv2D)           (None, 22, 22, 8)         584       \n",
            "_________________________________________________________________\n",
            "dropout_12 (Dropout)         (None, 22, 22, 8)         0         \n",
            "_________________________________________________________________\n",
            "conv2d_15 (Conv2D)           (None, 20, 20, 8)         584       \n",
            "_________________________________________________________________\n",
            "dropout_13 (Dropout)         (None, 20, 20, 8)         0         \n",
            "_________________________________________________________________\n",
            "conv2d_16 (Conv2D)           (None, 18, 18, 8)         584       \n",
            "_________________________________________________________________\n",
            "dropout_14 (Dropout)         (None, 18, 18, 8)         0         \n",
            "_________________________________________________________________\n",
            "conv2d_17 (Conv2D)           (None, 16, 16, 8)         584       \n",
            "_________________________________________________________________\n",
            "dropout_15 (Dropout)         (None, 16, 16, 8)         0         \n",
            "_________________________________________________________________\n",
            "conv2d_18 (Conv2D)           (None, 14, 14, 16)        1168      \n",
            "_________________________________________________________________\n",
            "dropout_16 (Dropout)         (None, 14, 14, 16)        0         \n",
            "_________________________________________________________________\n",
            "conv2d_19 (Conv2D)           (None, 12, 12, 16)        2320      \n",
            "_________________________________________________________________\n",
            "dropout_17 (Dropout)         (None, 12, 12, 16)        0         \n",
            "_________________________________________________________________\n",
            "conv2d_20 (Conv2D)           (None, 10, 10, 16)        2320      \n",
            "_________________________________________________________________\n",
            "dropout_18 (Dropout)         (None, 10, 10, 16)        0         \n",
            "_________________________________________________________________\n",
            "conv2d_21 (Conv2D)           (None, 10, 10, 10)        170       \n",
            "_________________________________________________________________\n",
            "conv2d_22 (Conv2D)           (None, 1, 1, 10)          10010     \n",
            "_________________________________________________________________\n",
            "flatten_2 (Flatten)          (None, 10)                0         \n",
            "_________________________________________________________________\n",
            "activation_2 (Activation)    (None, 10)                0         \n",
            "=================================================================\n",
            "Total params: 18,988\n",
            "Trainable params: 18,988\n",
            "Non-trainable params: 0\n",
            "_________________________________________________________________\n"
          ],
          "name": "stdout"
        }
      ]
    },
    {
      "cell_type": "markdown",
      "metadata": {
        "id": "VlnhdT4u2Owz",
        "colab_type": "text"
      },
      "source": [
        "Setting model's compile environment with loss function, optimizer and matrics."
      ]
    },
    {
      "cell_type": "code",
      "metadata": {
        "id": "Zp6SuGrL9M3h",
        "colab_type": "code",
        "colab": {}
      },
      "source": [
        "adam = keras.optimizers.Adam(lr=0.001, beta_1=0.9, beta_2=1.0, epsilon=None, decay=0.0, amsgrad=False)\n",
        "model.compile(loss='categorical_crossentropy',\n",
        "             optimizer='adam',\n",
        "             metrics=['accuracy'])"
      ],
      "execution_count": 0,
      "outputs": []
    },
    {
      "cell_type": "markdown",
      "metadata": {
        "id": "06jT2a0t2Vpj",
        "colab_type": "text"
      },
      "source": [
        "Training model for 100 epoch for 128 batch size"
      ]
    },
    {
      "cell_type": "code",
      "metadata": {
        "id": "4xWoKhPY9Of5",
        "colab_type": "code",
        "outputId": "50148fa7-9943-4edd-a207-fecc9951c805",
        "colab": {
          "base_uri": "https://localhost:8080/",
          "height": 3468
        }
      },
      "source": [
        "history = model.fit(X_train, Y_train, batch_size=128, nb_epoch=100, verbose=1, validation_data=(X_test, Y_test))"
      ],
      "execution_count": 23,
      "outputs": [
        {
          "output_type": "stream",
          "text": [
            "/usr/local/lib/python3.6/dist-packages/ipykernel_launcher.py:1: UserWarning: The `nb_epoch` argument in `fit` has been renamed `epochs`.\n",
            "  \"\"\"Entry point for launching an IPython kernel.\n"
          ],
          "name": "stderr"
        },
        {
          "output_type": "stream",
          "text": [
            "Train on 60000 samples, validate on 10000 samples\n",
            "Epoch 1/100\n",
            "60000/60000 [==============================] - 6s 97us/step - loss: 0.7609 - acc: 0.7472 - val_loss: 0.3027 - val_acc: 0.9066\n",
            "Epoch 2/100\n",
            "60000/60000 [==============================] - 5s 75us/step - loss: 0.3183 - acc: 0.9009 - val_loss: 0.1877 - val_acc: 0.9364\n",
            "Epoch 3/100\n",
            "60000/60000 [==============================] - 5s 75us/step - loss: 0.2061 - acc: 0.9351 - val_loss: 0.1032 - val_acc: 0.9671\n",
            "Epoch 4/100\n",
            "60000/60000 [==============================] - 5s 84us/step - loss: 0.1610 - acc: 0.9509 - val_loss: 0.1083 - val_acc: 0.9664\n",
            "Epoch 5/100\n",
            "60000/60000 [==============================] - 5s 76us/step - loss: 0.1363 - acc: 0.9582 - val_loss: 0.0838 - val_acc: 0.9740\n",
            "Epoch 6/100\n",
            "60000/60000 [==============================] - 4s 75us/step - loss: 0.1215 - acc: 0.9618 - val_loss: 0.0698 - val_acc: 0.9779\n",
            "Epoch 7/100\n",
            "60000/60000 [==============================] - 4s 75us/step - loss: 0.1112 - acc: 0.9655 - val_loss: 0.0740 - val_acc: 0.9756\n",
            "Epoch 8/100\n",
            "60000/60000 [==============================] - 4s 75us/step - loss: 0.1044 - acc: 0.9678 - val_loss: 0.0601 - val_acc: 0.9793\n",
            "Epoch 9/100\n",
            "60000/60000 [==============================] - 4s 74us/step - loss: 0.0997 - acc: 0.9693 - val_loss: 0.0556 - val_acc: 0.9824\n",
            "Epoch 10/100\n",
            "60000/60000 [==============================] - 4s 75us/step - loss: 0.0943 - acc: 0.9713 - val_loss: 0.0599 - val_acc: 0.9818\n",
            "Epoch 11/100\n",
            "60000/60000 [==============================] - 4s 75us/step - loss: 0.0902 - acc: 0.9725 - val_loss: 0.0598 - val_acc: 0.9814\n",
            "Epoch 12/100\n",
            "60000/60000 [==============================] - 4s 75us/step - loss: 0.0866 - acc: 0.9728 - val_loss: 0.0519 - val_acc: 0.9821\n",
            "Epoch 13/100\n",
            "60000/60000 [==============================] - 4s 74us/step - loss: 0.0856 - acc: 0.9733 - val_loss: 0.0486 - val_acc: 0.9851\n",
            "Epoch 14/100\n",
            "60000/60000 [==============================] - 4s 75us/step - loss: 0.0813 - acc: 0.9742 - val_loss: 0.0524 - val_acc: 0.9816\n",
            "Epoch 15/100\n",
            "60000/60000 [==============================] - 4s 74us/step - loss: 0.0806 - acc: 0.9750 - val_loss: 0.0472 - val_acc: 0.9840\n",
            "Epoch 16/100\n",
            "60000/60000 [==============================] - 5s 75us/step - loss: 0.0790 - acc: 0.9755 - val_loss: 0.0436 - val_acc: 0.9853\n",
            "Epoch 17/100\n",
            "60000/60000 [==============================] - 5s 81us/step - loss: 0.0772 - acc: 0.9761 - val_loss: 0.0421 - val_acc: 0.9859\n",
            "Epoch 18/100\n",
            "60000/60000 [==============================] - 5s 81us/step - loss: 0.0771 - acc: 0.9763 - val_loss: 0.0475 - val_acc: 0.9842\n",
            "Epoch 19/100\n",
            "60000/60000 [==============================] - 5s 75us/step - loss: 0.0729 - acc: 0.9768 - val_loss: 0.0427 - val_acc: 0.9862\n",
            "Epoch 20/100\n",
            "60000/60000 [==============================] - 4s 75us/step - loss: 0.0705 - acc: 0.9782 - val_loss: 0.0394 - val_acc: 0.9862\n",
            "Epoch 21/100\n",
            "60000/60000 [==============================] - 5s 75us/step - loss: 0.0722 - acc: 0.9774 - val_loss: 0.0414 - val_acc: 0.9865\n",
            "Epoch 22/100\n",
            "60000/60000 [==============================] - 4s 75us/step - loss: 0.0702 - acc: 0.9781 - val_loss: 0.0415 - val_acc: 0.9862\n",
            "Epoch 23/100\n",
            "60000/60000 [==============================] - 4s 75us/step - loss: 0.0697 - acc: 0.9791 - val_loss: 0.0431 - val_acc: 0.9862\n",
            "Epoch 24/100\n",
            "60000/60000 [==============================] - 4s 75us/step - loss: 0.0676 - acc: 0.9787 - val_loss: 0.0426 - val_acc: 0.9856\n",
            "Epoch 25/100\n",
            "60000/60000 [==============================] - 4s 75us/step - loss: 0.0680 - acc: 0.9784 - val_loss: 0.0372 - val_acc: 0.9884\n",
            "Epoch 26/100\n",
            "60000/60000 [==============================] - 4s 75us/step - loss: 0.0664 - acc: 0.9792 - val_loss: 0.0426 - val_acc: 0.9863\n",
            "Epoch 27/100\n",
            "60000/60000 [==============================] - 4s 75us/step - loss: 0.0656 - acc: 0.9797 - val_loss: 0.0371 - val_acc: 0.9880\n",
            "Epoch 28/100\n",
            "60000/60000 [==============================] - 4s 75us/step - loss: 0.0647 - acc: 0.9796 - val_loss: 0.0377 - val_acc: 0.9881\n",
            "Epoch 29/100\n",
            "60000/60000 [==============================] - 4s 74us/step - loss: 0.0631 - acc: 0.9805 - val_loss: 0.0426 - val_acc: 0.9869\n",
            "Epoch 30/100\n",
            "60000/60000 [==============================] - 4s 75us/step - loss: 0.0616 - acc: 0.9806 - val_loss: 0.0333 - val_acc: 0.9900\n",
            "Epoch 31/100\n",
            "60000/60000 [==============================] - 4s 75us/step - loss: 0.0620 - acc: 0.9798 - val_loss: 0.0332 - val_acc: 0.9883\n",
            "Epoch 32/100\n",
            "60000/60000 [==============================] - 4s 75us/step - loss: 0.0629 - acc: 0.9801 - val_loss: 0.0465 - val_acc: 0.9856\n",
            "Epoch 33/100\n",
            "60000/60000 [==============================] - 4s 75us/step - loss: 0.0615 - acc: 0.9806 - val_loss: 0.0404 - val_acc: 0.9856\n",
            "Epoch 34/100\n",
            "60000/60000 [==============================] - 5s 77us/step - loss: 0.0614 - acc: 0.9808 - val_loss: 0.0414 - val_acc: 0.9874\n",
            "Epoch 35/100\n",
            "60000/60000 [==============================] - 5s 84us/step - loss: 0.0580 - acc: 0.9819 - val_loss: 0.0429 - val_acc: 0.9864\n",
            "Epoch 36/100\n",
            "60000/60000 [==============================] - 5s 85us/step - loss: 0.0599 - acc: 0.9814 - val_loss: 0.0300 - val_acc: 0.9903\n",
            "Epoch 37/100\n",
            "60000/60000 [==============================] - 5s 78us/step - loss: 0.0614 - acc: 0.9801 - val_loss: 0.0346 - val_acc: 0.9890\n",
            "Epoch 38/100\n",
            "60000/60000 [==============================] - 4s 75us/step - loss: 0.0583 - acc: 0.9813 - val_loss: 0.0301 - val_acc: 0.9897\n",
            "Epoch 39/100\n",
            "60000/60000 [==============================] - 4s 75us/step - loss: 0.0581 - acc: 0.9812 - val_loss: 0.0333 - val_acc: 0.9887\n",
            "Epoch 40/100\n",
            "60000/60000 [==============================] - 4s 75us/step - loss: 0.0580 - acc: 0.9821 - val_loss: 0.0343 - val_acc: 0.9897\n",
            "Epoch 41/100\n",
            "60000/60000 [==============================] - 4s 74us/step - loss: 0.0585 - acc: 0.9822 - val_loss: 0.0352 - val_acc: 0.9898\n",
            "Epoch 42/100\n",
            "60000/60000 [==============================] - 4s 75us/step - loss: 0.0561 - acc: 0.9818 - val_loss: 0.0343 - val_acc: 0.9888\n",
            "Epoch 43/100\n",
            "60000/60000 [==============================] - 4s 74us/step - loss: 0.0575 - acc: 0.9822 - val_loss: 0.0322 - val_acc: 0.9899\n",
            "Epoch 44/100\n",
            "60000/60000 [==============================] - 4s 74us/step - loss: 0.0546 - acc: 0.9829 - val_loss: 0.0320 - val_acc: 0.9899\n",
            "Epoch 45/100\n",
            "60000/60000 [==============================] - 4s 75us/step - loss: 0.0545 - acc: 0.9831 - val_loss: 0.0334 - val_acc: 0.9892\n",
            "Epoch 46/100\n",
            "60000/60000 [==============================] - 4s 74us/step - loss: 0.0564 - acc: 0.9823 - val_loss: 0.0300 - val_acc: 0.9903\n",
            "Epoch 47/100\n",
            "60000/60000 [==============================] - 4s 75us/step - loss: 0.0546 - acc: 0.9828 - val_loss: 0.0286 - val_acc: 0.9903\n",
            "Epoch 48/100\n",
            "60000/60000 [==============================] - 4s 75us/step - loss: 0.0542 - acc: 0.9832 - val_loss: 0.0379 - val_acc: 0.9876\n",
            "Epoch 49/100\n",
            "60000/60000 [==============================] - 4s 75us/step - loss: 0.0533 - acc: 0.9830 - val_loss: 0.0299 - val_acc: 0.9903\n",
            "Epoch 50/100\n",
            "60000/60000 [==============================] - 4s 75us/step - loss: 0.0549 - acc: 0.9824 - val_loss: 0.0324 - val_acc: 0.9892\n",
            "Epoch 51/100\n",
            "60000/60000 [==============================] - 4s 75us/step - loss: 0.0534 - acc: 0.9831 - val_loss: 0.0284 - val_acc: 0.9911\n",
            "Epoch 52/100\n",
            "60000/60000 [==============================] - 5s 80us/step - loss: 0.0542 - acc: 0.9832 - val_loss: 0.0347 - val_acc: 0.9889\n",
            "Epoch 53/100\n",
            "60000/60000 [==============================] - 5s 81us/step - loss: 0.0526 - acc: 0.9830 - val_loss: 0.0310 - val_acc: 0.9898\n",
            "Epoch 54/100\n",
            "60000/60000 [==============================] - 5s 77us/step - loss: 0.0552 - acc: 0.9828 - val_loss: 0.0308 - val_acc: 0.9898\n",
            "Epoch 55/100\n",
            "60000/60000 [==============================] - 4s 74us/step - loss: 0.0542 - acc: 0.9832 - val_loss: 0.0288 - val_acc: 0.9912\n",
            "Epoch 56/100\n",
            "60000/60000 [==============================] - 4s 75us/step - loss: 0.0528 - acc: 0.9832 - val_loss: 0.0304 - val_acc: 0.9899\n",
            "Epoch 57/100\n",
            "60000/60000 [==============================] - 4s 75us/step - loss: 0.0531 - acc: 0.9828 - val_loss: 0.0324 - val_acc: 0.9904\n",
            "Epoch 58/100\n",
            "60000/60000 [==============================] - 4s 74us/step - loss: 0.0534 - acc: 0.9830 - val_loss: 0.0254 - val_acc: 0.9928\n",
            "Epoch 59/100\n",
            "60000/60000 [==============================] - 4s 75us/step - loss: 0.0546 - acc: 0.9822 - val_loss: 0.0340 - val_acc: 0.9902\n",
            "Epoch 60/100\n",
            "60000/60000 [==============================] - 4s 75us/step - loss: 0.0500 - acc: 0.9844 - val_loss: 0.0287 - val_acc: 0.9912\n",
            "Epoch 61/100\n",
            "60000/60000 [==============================] - 4s 75us/step - loss: 0.0513 - acc: 0.9840 - val_loss: 0.0350 - val_acc: 0.9897\n",
            "Epoch 62/100\n",
            "60000/60000 [==============================] - 4s 75us/step - loss: 0.0507 - acc: 0.9845 - val_loss: 0.0317 - val_acc: 0.9903\n",
            "Epoch 63/100\n",
            "60000/60000 [==============================] - 4s 75us/step - loss: 0.0527 - acc: 0.9832 - val_loss: 0.0286 - val_acc: 0.9915\n",
            "Epoch 64/100\n",
            "60000/60000 [==============================] - 4s 74us/step - loss: 0.0511 - acc: 0.9836 - val_loss: 0.0344 - val_acc: 0.9888\n",
            "Epoch 65/100\n",
            "60000/60000 [==============================] - 4s 75us/step - loss: 0.0522 - acc: 0.9831 - val_loss: 0.0308 - val_acc: 0.9907\n",
            "Epoch 66/100\n",
            "60000/60000 [==============================] - 4s 75us/step - loss: 0.0516 - acc: 0.9840 - val_loss: 0.0311 - val_acc: 0.9901\n",
            "Epoch 67/100\n",
            "60000/60000 [==============================] - 4s 74us/step - loss: 0.0514 - acc: 0.9838 - val_loss: 0.0288 - val_acc: 0.9914\n",
            "Epoch 68/100\n",
            "60000/60000 [==============================] - 5s 75us/step - loss: 0.0530 - acc: 0.9829 - val_loss: 0.0292 - val_acc: 0.9903\n",
            "Epoch 69/100\n",
            "60000/60000 [==============================] - 4s 74us/step - loss: 0.0495 - acc: 0.9841 - val_loss: 0.0328 - val_acc: 0.9901\n",
            "Epoch 70/100\n",
            "60000/60000 [==============================] - 5s 82us/step - loss: 0.0506 - acc: 0.9841 - val_loss: 0.0367 - val_acc: 0.9899\n",
            "Epoch 71/100\n",
            "60000/60000 [==============================] - 5s 83us/step - loss: 0.0505 - acc: 0.9838 - val_loss: 0.0327 - val_acc: 0.9900\n",
            "Epoch 72/100\n",
            "60000/60000 [==============================] - 5s 76us/step - loss: 0.0505 - acc: 0.9841 - val_loss: 0.0308 - val_acc: 0.9909\n",
            "Epoch 73/100\n",
            "60000/60000 [==============================] - 4s 75us/step - loss: 0.0518 - acc: 0.9836 - val_loss: 0.0306 - val_acc: 0.9900\n",
            "Epoch 74/100\n",
            "60000/60000 [==============================] - 4s 74us/step - loss: 0.0503 - acc: 0.9840 - val_loss: 0.0300 - val_acc: 0.9910\n",
            "Epoch 75/100\n",
            "60000/60000 [==============================] - 4s 75us/step - loss: 0.0497 - acc: 0.9844 - val_loss: 0.0318 - val_acc: 0.9899\n",
            "Epoch 76/100\n",
            "60000/60000 [==============================] - 4s 75us/step - loss: 0.0497 - acc: 0.9849 - val_loss: 0.0330 - val_acc: 0.9899\n",
            "Epoch 77/100\n",
            "60000/60000 [==============================] - 4s 75us/step - loss: 0.0491 - acc: 0.9840 - val_loss: 0.0302 - val_acc: 0.9908\n",
            "Epoch 78/100\n",
            "60000/60000 [==============================] - 4s 75us/step - loss: 0.0503 - acc: 0.9842 - val_loss: 0.0295 - val_acc: 0.9913\n",
            "Epoch 79/100\n",
            "60000/60000 [==============================] - 4s 75us/step - loss: 0.0486 - acc: 0.9848 - val_loss: 0.0303 - val_acc: 0.9906\n",
            "Epoch 80/100\n",
            "60000/60000 [==============================] - 4s 75us/step - loss: 0.0496 - acc: 0.9845 - val_loss: 0.0288 - val_acc: 0.9904\n",
            "Epoch 81/100\n",
            "60000/60000 [==============================] - 4s 75us/step - loss: 0.0502 - acc: 0.9840 - val_loss: 0.0290 - val_acc: 0.9916\n",
            "Epoch 82/100\n",
            "60000/60000 [==============================] - 4s 75us/step - loss: 0.0502 - acc: 0.9840 - val_loss: 0.0313 - val_acc: 0.9897\n",
            "Epoch 83/100\n",
            "60000/60000 [==============================] - 4s 75us/step - loss: 0.0488 - acc: 0.9847 - val_loss: 0.0278 - val_acc: 0.9915\n",
            "Epoch 84/100\n",
            "60000/60000 [==============================] - 4s 75us/step - loss: 0.0473 - acc: 0.9852 - val_loss: 0.0349 - val_acc: 0.9892\n",
            "Epoch 85/100\n",
            "60000/60000 [==============================] - 4s 74us/step - loss: 0.0505 - acc: 0.9837 - val_loss: 0.0346 - val_acc: 0.9903\n",
            "Epoch 86/100\n",
            "60000/60000 [==============================] - 4s 74us/step - loss: 0.0483 - acc: 0.9846 - val_loss: 0.0284 - val_acc: 0.9910\n",
            "Epoch 87/100\n",
            "60000/60000 [==============================] - 5s 77us/step - loss: 0.0488 - acc: 0.9842 - val_loss: 0.0285 - val_acc: 0.9913\n",
            "Epoch 88/100\n",
            "60000/60000 [==============================] - 5s 81us/step - loss: 0.0496 - acc: 0.9841 - val_loss: 0.0315 - val_acc: 0.9905\n",
            "Epoch 89/100\n",
            "60000/60000 [==============================] - 5s 80us/step - loss: 0.0484 - acc: 0.9840 - val_loss: 0.0404 - val_acc: 0.9875\n",
            "Epoch 90/100\n",
            "60000/60000 [==============================] - 4s 75us/step - loss: 0.0498 - acc: 0.9844 - val_loss: 0.0301 - val_acc: 0.9906\n",
            "Epoch 91/100\n",
            "60000/60000 [==============================] - 4s 74us/step - loss: 0.0471 - acc: 0.9848 - val_loss: 0.0281 - val_acc: 0.9915\n",
            "Epoch 92/100\n",
            "60000/60000 [==============================] - 4s 74us/step - loss: 0.0504 - acc: 0.9840 - val_loss: 0.0316 - val_acc: 0.9905\n",
            "Epoch 93/100\n",
            "60000/60000 [==============================] - 4s 74us/step - loss: 0.0501 - acc: 0.9845 - val_loss: 0.0309 - val_acc: 0.9915\n",
            "Epoch 94/100\n",
            "60000/60000 [==============================] - 4s 75us/step - loss: 0.0496 - acc: 0.9840 - val_loss: 0.0313 - val_acc: 0.9913\n",
            "Epoch 95/100\n",
            "60000/60000 [==============================] - 4s 74us/step - loss: 0.0473 - acc: 0.9852 - val_loss: 0.0298 - val_acc: 0.9905\n",
            "Epoch 96/100\n",
            "60000/60000 [==============================] - 4s 75us/step - loss: 0.0482 - acc: 0.9840 - val_loss: 0.0312 - val_acc: 0.9908\n",
            "Epoch 97/100\n",
            "60000/60000 [==============================] - 4s 74us/step - loss: 0.0469 - acc: 0.9851 - val_loss: 0.0261 - val_acc: 0.9923\n",
            "Epoch 98/100\n",
            "60000/60000 [==============================] - 4s 75us/step - loss: 0.0488 - acc: 0.9843 - val_loss: 0.0347 - val_acc: 0.9899\n",
            "Epoch 99/100\n",
            "60000/60000 [==============================] - 4s 75us/step - loss: 0.0467 - acc: 0.9852 - val_loss: 0.0297 - val_acc: 0.9912\n",
            "Epoch 100/100\n",
            "60000/60000 [==============================] - 4s 75us/step - loss: 0.0493 - acc: 0.9845 - val_loss: 0.0281 - val_acc: 0.9918\n"
          ],
          "name": "stdout"
        }
      ]
    },
    {
      "cell_type": "markdown",
      "metadata": {
        "id": "ZOCND5cw2bJm",
        "colab_type": "text"
      },
      "source": [
        "Training model for another 256 batch size for 10 epochs."
      ]
    },
    {
      "cell_type": "code",
      "metadata": {
        "id": "9tvptcn8dxvp",
        "colab_type": "code",
        "colab": {
          "base_uri": "https://localhost:8080/",
          "height": 573
        },
        "outputId": "cb9203bb-1229-468c-dbac-72815d4ffd3c"
      },
      "source": [
        "import matplotlib.pyplot as plt\n",
        "\n",
        "#history = model.fit(x, y, validation_split=0.25, epochs=50, batch_size=16, verbose=1)\n",
        "\n",
        "# Plot training & validation accuracy values\n",
        "plt.plot(history.history['acc'])\n",
        "plt.plot(history.history['val_acc'])\n",
        "plt.title('Model accuracy')\n",
        "plt.ylabel('Accuracy')\n",
        "plt.xlabel('Epoch')\n",
        "plt.legend(['Train', 'Test'], loc='upper left')\n",
        "plt.show()\n",
        "\n",
        "# Plot training & validation loss values\n",
        "plt.plot(history.history['loss'])\n",
        "plt.plot(history.history['val_loss'])\n",
        "plt.title('Model loss')\n",
        "plt.ylabel('Loss')\n",
        "plt.xlabel('Epoch')\n",
        "plt.legend(['Train', 'Test'], loc='upper left')\n",
        "plt.show()"
      ],
      "execution_count": 24,
      "outputs": [
        {
          "output_type": "display_data",
          "data": {
            "image/png": "[encoded data removed]",
            "text/plain": [
              "<Figure size 432x288 with 1 Axes>"
            ]
          },
          "metadata": {
            "tags": []
          }
        },
        {
          "output_type": "display_data",
          "data": {
            "image/png": "[encoded data removed]",
            "text/plain": [
              "<Figure size 432x288 with 1 Axes>"
            ]
          },
          "metadata": {
            "tags": []
          }
        }
      ]
    },
    {
      "cell_type": "code",
      "metadata": {
        "id": "fFnk_prLfauH",
        "colab_type": "code",
        "colab": {
          "base_uri": "https://localhost:8080/",
          "height": 425
        },
        "outputId": "55f61588-02b4-4790-d68b-36148baad268"
      },
      "source": [
        "model.fit(X_train, Y_train, batch_size=256, nb_epoch=10, verbose=1, validation_data=(X_test, Y_test))"
      ],
      "execution_count": 25,
      "outputs": [
        {
          "output_type": "stream",
          "text": [
            "/usr/local/lib/python3.6/dist-packages/ipykernel_launcher.py:1: UserWarning: The `nb_epoch` argument in `fit` has been renamed `epochs`.\n",
            "  \"\"\"Entry point for launching an IPython kernel.\n"
          ],
          "name": "stderr"
        },
        {
          "output_type": "stream",
          "text": [
            "Train on 60000 samples, validate on 10000 samples\n",
            "Epoch 1/10\n",
            "60000/60000 [==============================] - 4s 65us/step - loss: 0.0442 - acc: 0.9860 - val_loss: 0.0276 - val_acc: 0.9919\n",
            "Epoch 2/10\n",
            "60000/60000 [==============================] - 3s 58us/step - loss: 0.0435 - acc: 0.9864 - val_loss: 0.0266 - val_acc: 0.9918\n",
            "Epoch 3/10\n",
            "60000/60000 [==============================] - 3s 58us/step - loss: 0.0447 - acc: 0.9856 - val_loss: 0.0291 - val_acc: 0.9917\n",
            "Epoch 4/10\n",
            "60000/60000 [==============================] - 4s 58us/step - loss: 0.0416 - acc: 0.9869 - val_loss: 0.0262 - val_acc: 0.9921\n",
            "Epoch 5/10\n",
            "60000/60000 [==============================] - 4s 59us/step - loss: 0.0414 - acc: 0.9868 - val_loss: 0.0292 - val_acc: 0.9909\n",
            "Epoch 6/10\n",
            "60000/60000 [==============================] - 4s 58us/step - loss: 0.0421 - acc: 0.9871 - val_loss: 0.0291 - val_acc: 0.9914\n",
            "Epoch 7/10\n",
            "60000/60000 [==============================] - 4s 59us/step - loss: 0.0425 - acc: 0.9863 - val_loss: 0.0296 - val_acc: 0.9917\n",
            "Epoch 8/10\n",
            "60000/60000 [==============================] - 4s 59us/step - loss: 0.0439 - acc: 0.9858 - val_loss: 0.0260 - val_acc: 0.9927\n",
            "Epoch 9/10\n",
            "60000/60000 [==============================] - 4s 59us/step - loss: 0.0424 - acc: 0.9865 - val_loss: 0.0311 - val_acc: 0.9912\n",
            "Epoch 10/10\n",
            "60000/60000 [==============================] - 4s 59us/step - loss: 0.0436 - acc: 0.9863 - val_loss: 0.0305 - val_acc: 0.9910\n"
          ],
          "name": "stdout"
        },
        {
          "output_type": "execute_result",
          "data": {
            "text/plain": [
              "<keras.callbacks.History at 0x7ff6bdeb2198>"
            ]
          },
          "metadata": {
            "tags": []
          },
          "execution_count": 25
        }
      ]
    },
    {
      "cell_type": "markdown",
      "metadata": {
        "id": "PPDGNUAl2hNt",
        "colab_type": "text"
      },
      "source": [
        "Training model for another 10 epochs with batch of 256 as last vla_acc is .9910"
      ]
    },
    {
      "cell_type": "code",
      "metadata": {
        "id": "WPJQi9Gvs-mR",
        "colab_type": "code",
        "colab": {
          "base_uri": "https://localhost:8080/",
          "height": 445
        },
        "outputId": "2ce22e74-5cc1-45a7-8772-dc6c6961a4a2"
      },
      "source": [
        "model.fit(X_train, Y_train, batch_size=256, nb_epoch=10, verbose=1, validation_data=(X_test, Y_test))"
      ],
      "execution_count": 26,
      "outputs": [
        {
          "output_type": "stream",
          "text": [
            "Train on 60000 samples, validate on 10000 samples\n",
            "Epoch 1/10\n",
            " 1792/60000 [..............................] - ETA: 5s - loss: 0.0268 - acc: 0.9911"
          ],
          "name": "stdout"
        },
        {
          "output_type": "stream",
          "text": [
            "/usr/local/lib/python3.6/dist-packages/ipykernel_launcher.py:1: UserWarning: The `nb_epoch` argument in `fit` has been renamed `epochs`.\n",
            "  \"\"\"Entry point for launching an IPython kernel.\n"
          ],
          "name": "stderr"
        },
        {
          "output_type": "stream",
          "text": [
            "60000/60000 [==============================] - 4s 61us/step - loss: 0.0428 - acc: 0.9863 - val_loss: 0.0277 - val_acc: 0.9917\n",
            "Epoch 2/10\n",
            "60000/60000 [==============================] - 3s 58us/step - loss: 0.0423 - acc: 0.9863 - val_loss: 0.0268 - val_acc: 0.9919\n",
            "Epoch 3/10\n",
            "60000/60000 [==============================] - 3s 58us/step - loss: 0.0430 - acc: 0.9860 - val_loss: 0.0276 - val_acc: 0.9924\n",
            "Epoch 4/10\n",
            "60000/60000 [==============================] - 3s 58us/step - loss: 0.0419 - acc: 0.9864 - val_loss: 0.0280 - val_acc: 0.9907\n",
            "Epoch 5/10\n",
            "60000/60000 [==============================] - 4s 58us/step - loss: 0.0429 - acc: 0.9863 - val_loss: 0.0305 - val_acc: 0.9908\n",
            "Epoch 6/10\n",
            "60000/60000 [==============================] - 3s 58us/step - loss: 0.0433 - acc: 0.9863 - val_loss: 0.0337 - val_acc: 0.9897\n",
            "Epoch 7/10\n",
            "60000/60000 [==============================] - 4s 59us/step - loss: 0.0423 - acc: 0.9864 - val_loss: 0.0278 - val_acc: 0.9921\n",
            "Epoch 8/10\n",
            "60000/60000 [==============================] - 4s 59us/step - loss: 0.0410 - acc: 0.9869 - val_loss: 0.0317 - val_acc: 0.9903\n",
            "Epoch 9/10\n",
            "60000/60000 [==============================] - 4s 61us/step - loss: 0.0426 - acc: 0.9866 - val_loss: 0.0263 - val_acc: 0.9917\n",
            "Epoch 10/10\n",
            "60000/60000 [==============================] - 4s 60us/step - loss: 0.0421 - acc: 0.9867 - val_loss: 0.0256 - val_acc: 0.9925\n"
          ],
          "name": "stdout"
        },
        {
          "output_type": "execute_result",
          "data": {
            "text/plain": [
              "<keras.callbacks.History at 0x7ff68cdfe358>"
            ]
          },
          "metadata": {
            "tags": []
          },
          "execution_count": 26
        }
      ]
    },
    {
      "cell_type": "markdown",
      "metadata": {
        "id": "mYBky-jp2tk6",
        "colab_type": "text"
      },
      "source": [
        "Training model for another 10 epochs with increased batch size of 512; expecting improvement in val acce for .9925"
      ]
    },
    {
      "cell_type": "code",
      "metadata": {
        "id": "nRJGCtsbtK0m",
        "colab_type": "code",
        "colab": {
          "base_uri": "https://localhost:8080/",
          "height": 425
        },
        "outputId": "61303b4e-d531-4904-a48b-98abab425eb8"
      },
      "source": [
        "model.fit(X_train, Y_train, batch_size=512, nb_epoch=10, verbose=1, validation_data=(X_test, Y_test))"
      ],
      "execution_count": 27,
      "outputs": [
        {
          "output_type": "stream",
          "text": [
            "/usr/local/lib/python3.6/dist-packages/ipykernel_launcher.py:1: UserWarning: The `nb_epoch` argument in `fit` has been renamed `epochs`.\n",
            "  \"\"\"Entry point for launching an IPython kernel.\n"
          ],
          "name": "stderr"
        },
        {
          "output_type": "stream",
          "text": [
            "Train on 60000 samples, validate on 10000 samples\n",
            "Epoch 1/10\n",
            "60000/60000 [==============================] - 4s 60us/step - loss: 0.0395 - acc: 0.9874 - val_loss: 0.0248 - val_acc: 0.9925\n",
            "Epoch 2/10\n",
            "60000/60000 [==============================] - 3s 53us/step - loss: 0.0385 - acc: 0.9877 - val_loss: 0.0270 - val_acc: 0.9923\n",
            "Epoch 3/10\n",
            "60000/60000 [==============================] - 3s 53us/step - loss: 0.0396 - acc: 0.9876 - val_loss: 0.0304 - val_acc: 0.9910\n",
            "Epoch 4/10\n",
            "60000/60000 [==============================] - 3s 53us/step - loss: 0.0381 - acc: 0.9877 - val_loss: 0.0267 - val_acc: 0.9920\n",
            "Epoch 5/10\n",
            "60000/60000 [==============================] - 3s 53us/step - loss: 0.0371 - acc: 0.9878 - val_loss: 0.0264 - val_acc: 0.9925\n",
            "Epoch 6/10\n",
            "60000/60000 [==============================] - 3s 53us/step - loss: 0.0387 - acc: 0.9881 - val_loss: 0.0263 - val_acc: 0.9926\n",
            "Epoch 7/10\n",
            "60000/60000 [==============================] - 3s 53us/step - loss: 0.0382 - acc: 0.9882 - val_loss: 0.0285 - val_acc: 0.9920\n",
            "Epoch 8/10\n",
            "60000/60000 [==============================] - 3s 53us/step - loss: 0.0407 - acc: 0.9872 - val_loss: 0.0269 - val_acc: 0.9913\n",
            "Epoch 9/10\n",
            "60000/60000 [==============================] - 3s 53us/step - loss: 0.0379 - acc: 0.9876 - val_loss: 0.0286 - val_acc: 0.9915\n",
            "Epoch 10/10\n",
            "60000/60000 [==============================] - 3s 52us/step - loss: 0.0383 - acc: 0.9879 - val_loss: 0.0248 - val_acc: 0.9922\n"
          ],
          "name": "stdout"
        },
        {
          "output_type": "execute_result",
          "data": {
            "text/plain": [
              "<keras.callbacks.History at 0x7ff68cdfe518>"
            ]
          },
          "metadata": {
            "tags": []
          },
          "execution_count": 27
        }
      ]
    },
    {
      "cell_type": "markdown",
      "metadata": {
        "id": "HuFPOcl829xB",
        "colab_type": "text"
      },
      "source": [
        "Val_acc still .9922; training for another 10 epochs "
      ]
    },
    {
      "cell_type": "code",
      "metadata": {
        "id": "ETVE7fXcyhtm",
        "colab_type": "code",
        "colab": {
          "base_uri": "https://localhost:8080/",
          "height": 445
        },
        "outputId": "a740c9f9-586e-43ee-c010-e4105e19c5c8"
      },
      "source": [
        "model.fit(X_train, Y_train, batch_size=512, nb_epoch=10, verbose=1, validation_data=(X_test, Y_test))"
      ],
      "execution_count": 28,
      "outputs": [
        {
          "output_type": "stream",
          "text": [
            "Train on 60000 samples, validate on 10000 samples\n",
            "Epoch 1/10\n",
            " 2560/60000 [>.............................] - ETA: 4s - loss: 0.0410 - acc: 0.9855"
          ],
          "name": "stdout"
        },
        {
          "output_type": "stream",
          "text": [
            "/usr/local/lib/python3.6/dist-packages/ipykernel_launcher.py:1: UserWarning: The `nb_epoch` argument in `fit` has been renamed `epochs`.\n",
            "  \"\"\"Entry point for launching an IPython kernel.\n"
          ],
          "name": "stderr"
        },
        {
          "output_type": "stream",
          "text": [
            "60000/60000 [==============================] - 3s 54us/step - loss: 0.0383 - acc: 0.9880 - val_loss: 0.0284 - val_acc: 0.9914\n",
            "Epoch 2/10\n",
            "60000/60000 [==============================] - 3s 52us/step - loss: 0.0387 - acc: 0.9870 - val_loss: 0.0284 - val_acc: 0.9916\n",
            "Epoch 3/10\n",
            "60000/60000 [==============================] - 3s 52us/step - loss: 0.0382 - acc: 0.9876 - val_loss: 0.0268 - val_acc: 0.9918\n",
            "Epoch 4/10\n",
            "60000/60000 [==============================] - 3s 52us/step - loss: 0.0394 - acc: 0.9874 - val_loss: 0.0287 - val_acc: 0.9914\n",
            "Epoch 5/10\n",
            "60000/60000 [==============================] - 3s 52us/step - loss: 0.0384 - acc: 0.9874 - val_loss: 0.0267 - val_acc: 0.9922\n",
            "Epoch 6/10\n",
            "60000/60000 [==============================] - 3s 52us/step - loss: 0.0372 - acc: 0.9880 - val_loss: 0.0261 - val_acc: 0.9917\n",
            "Epoch 7/10\n",
            "60000/60000 [==============================] - 3s 52us/step - loss: 0.0402 - acc: 0.9873 - val_loss: 0.0272 - val_acc: 0.9914\n",
            "Epoch 8/10\n",
            "60000/60000 [==============================] - 3s 52us/step - loss: 0.0395 - acc: 0.9876 - val_loss: 0.0286 - val_acc: 0.9910\n",
            "Epoch 9/10\n",
            "60000/60000 [==============================] - 3s 52us/step - loss: 0.0388 - acc: 0.9874 - val_loss: 0.0267 - val_acc: 0.9919\n",
            "Epoch 10/10\n",
            "60000/60000 [==============================] - 3s 53us/step - loss: 0.0380 - acc: 0.9879 - val_loss: 0.0260 - val_acc: 0.9914\n"
          ],
          "name": "stdout"
        },
        {
          "output_type": "execute_result",
          "data": {
            "text/plain": [
              "<keras.callbacks.History at 0x7ff68ccbe438>"
            ]
          },
          "metadata": {
            "tags": []
          },
          "execution_count": 28
        }
      ]
    },
    {
      "cell_type": "markdown",
      "metadata": {
        "id": "p8wKXEVO3Hol",
        "colab_type": "text"
      },
      "source": [
        "Training for 10 epochs to increase acc from .9914"
      ]
    },
    {
      "cell_type": "code",
      "metadata": {
        "id": "ENI9VNPdyphH",
        "colab_type": "code",
        "colab": {
          "base_uri": "https://localhost:8080/",
          "height": 445
        },
        "outputId": "fd766115-87ff-4ba3-da4b-2a53e7d617ed"
      },
      "source": [
        "model.fit(X_train, Y_train, batch_size=1024, nb_epoch=10, verbose=1, validation_data=(X_test, Y_test))"
      ],
      "execution_count": 29,
      "outputs": [
        {
          "output_type": "stream",
          "text": [
            "Train on 60000 samples, validate on 10000 samples\n",
            "Epoch 1/10\n",
            " 2048/60000 [>.............................] - ETA: 3s - loss: 0.0295 - acc: 0.9902"
          ],
          "name": "stdout"
        },
        {
          "output_type": "stream",
          "text": [
            "/usr/local/lib/python3.6/dist-packages/ipykernel_launcher.py:1: UserWarning: The `nb_epoch` argument in `fit` has been renamed `epochs`.\n",
            "  \"\"\"Entry point for launching an IPython kernel.\n"
          ],
          "name": "stderr"
        },
        {
          "output_type": "stream",
          "text": [
            "60000/60000 [==============================] - 3s 49us/step - loss: 0.0375 - acc: 0.9884 - val_loss: 0.0268 - val_acc: 0.9919\n",
            "Epoch 2/10\n",
            "60000/60000 [==============================] - 3s 47us/step - loss: 0.0352 - acc: 0.9887 - val_loss: 0.0268 - val_acc: 0.9920\n",
            "Epoch 3/10\n",
            "60000/60000 [==============================] - 3s 47us/step - loss: 0.0354 - acc: 0.9890 - val_loss: 0.0256 - val_acc: 0.9919\n",
            "Epoch 4/10\n",
            "60000/60000 [==============================] - 3s 47us/step - loss: 0.0353 - acc: 0.9887 - val_loss: 0.0264 - val_acc: 0.9917\n",
            "Epoch 5/10\n",
            "60000/60000 [==============================] - 3s 48us/step - loss: 0.0358 - acc: 0.9884 - val_loss: 0.0279 - val_acc: 0.9916\n",
            "Epoch 6/10\n",
            "60000/60000 [==============================] - 3s 48us/step - loss: 0.0347 - acc: 0.9892 - val_loss: 0.0260 - val_acc: 0.9927\n",
            "Epoch 7/10\n",
            "60000/60000 [==============================] - 3s 48us/step - loss: 0.0366 - acc: 0.9881 - val_loss: 0.0257 - val_acc: 0.9918\n",
            "Epoch 8/10\n",
            "60000/60000 [==============================] - 3s 48us/step - loss: 0.0353 - acc: 0.9885 - val_loss: 0.0264 - val_acc: 0.9922\n",
            "Epoch 9/10\n",
            "60000/60000 [==============================] - 3s 48us/step - loss: 0.0351 - acc: 0.9884 - val_loss: 0.0272 - val_acc: 0.9916\n",
            "Epoch 10/10\n",
            "60000/60000 [==============================] - 3s 48us/step - loss: 0.0355 - acc: 0.9881 - val_loss: 0.0281 - val_acc: 0.9916\n"
          ],
          "name": "stdout"
        },
        {
          "output_type": "execute_result",
          "data": {
            "text/plain": [
              "<keras.callbacks.History at 0x7ff6b04f40b8>"
            ]
          },
          "metadata": {
            "tags": []
          },
          "execution_count": 29
        }
      ]
    },
    {
      "cell_type": "markdown",
      "metadata": {
        "id": "Evf2ChFE3X0y",
        "colab_type": "text"
      },
      "source": [
        "Training with increasd batch size of 2048 to try and increase accuracy of model"
      ]
    },
    {
      "cell_type": "code",
      "metadata": {
        "id": "uZAGRAypy2yG",
        "colab_type": "code",
        "colab": {
          "base_uri": "https://localhost:8080/",
          "height": 445
        },
        "outputId": "c3eb9385-4701-4330-e9d7-9bd496f8a7bf"
      },
      "source": [
        "model.fit(X_train, Y_train, batch_size=2048, nb_epoch=10, verbose=1, validation_data=(X_test, Y_test))"
      ],
      "execution_count": 30,
      "outputs": [
        {
          "output_type": "stream",
          "text": [
            "Train on 60000 samples, validate on 10000 samples\n",
            "Epoch 1/10\n",
            "\r 2048/60000 [>.............................] - ETA: 3s - loss: 0.0478 - acc: 0.9824"
          ],
          "name": "stdout"
        },
        {
          "output_type": "stream",
          "text": [
            "/usr/local/lib/python3.6/dist-packages/ipykernel_launcher.py:1: UserWarning: The `nb_epoch` argument in `fit` has been renamed `epochs`.\n",
            "  \"\"\"Entry point for launching an IPython kernel.\n"
          ],
          "name": "stderr"
        },
        {
          "output_type": "stream",
          "text": [
            "60000/60000 [==============================] - 3s 47us/step - loss: 0.0349 - acc: 0.9885 - val_loss: 0.0263 - val_acc: 0.9924\n",
            "Epoch 2/10\n",
            "60000/60000 [==============================] - 3s 46us/step - loss: 0.0341 - acc: 0.9889 - val_loss: 0.0283 - val_acc: 0.9914\n",
            "Epoch 3/10\n",
            "60000/60000 [==============================] - 3s 47us/step - loss: 0.0339 - acc: 0.9893 - val_loss: 0.0266 - val_acc: 0.9919\n",
            "Epoch 4/10\n",
            "60000/60000 [==============================] - 3s 47us/step - loss: 0.0336 - acc: 0.9895 - val_loss: 0.0254 - val_acc: 0.9923\n",
            "Epoch 5/10\n",
            "60000/60000 [==============================] - 3s 47us/step - loss: 0.0328 - acc: 0.9894 - val_loss: 0.0271 - val_acc: 0.9917\n",
            "Epoch 6/10\n",
            "60000/60000 [==============================] - 3s 47us/step - loss: 0.0329 - acc: 0.9895 - val_loss: 0.0261 - val_acc: 0.9921\n",
            "Epoch 7/10\n",
            "60000/60000 [==============================] - 3s 47us/step - loss: 0.0340 - acc: 0.9887 - val_loss: 0.0259 - val_acc: 0.9922\n",
            "Epoch 8/10\n",
            "60000/60000 [==============================] - 3s 47us/step - loss: 0.0342 - acc: 0.9892 - val_loss: 0.0270 - val_acc: 0.9914\n",
            "Epoch 9/10\n",
            "60000/60000 [==============================] - 3s 47us/step - loss: 0.0336 - acc: 0.9892 - val_loss: 0.0265 - val_acc: 0.9917\n",
            "Epoch 10/10\n",
            "60000/60000 [==============================] - 3s 47us/step - loss: 0.0343 - acc: 0.9891 - val_loss: 0.0260 - val_acc: 0.9923\n"
          ],
          "name": "stdout"
        },
        {
          "output_type": "execute_result",
          "data": {
            "text/plain": [
              "<keras.callbacks.History at 0x7ff6b04f4e80>"
            ]
          },
          "metadata": {
            "tags": []
          },
          "execution_count": 30
        }
      ]
    },
    {
      "cell_type": "markdown",
      "metadata": {
        "id": "YFvBsunz3um0",
        "colab_type": "text"
      },
      "source": [
        "Evaluating model and storing score in a variable."
      ]
    },
    {
      "cell_type": "code",
      "metadata": {
        "id": "AtsH-lLk-eLb",
        "colab_type": "code",
        "colab": {}
      },
      "source": [
        "score = model.evaluate(X_test, Y_test, verbose=0)"
      ],
      "execution_count": 0,
      "outputs": []
    },
    {
      "cell_type": "markdown",
      "metadata": {
        "id": "D836-UcX30QH",
        "colab_type": "text"
      },
      "source": [
        "Printing loss and accuracy of model test done in last step"
      ]
    },
    {
      "cell_type": "code",
      "metadata": {
        "id": "mkX8JMv79q9r",
        "colab_type": "code",
        "outputId": "91e19fce-7936-4fac-d94e-2bb29d9bf356",
        "colab": {
          "base_uri": "https://localhost:8080/",
          "height": 34
        }
      },
      "source": [
        "print(score)"
      ],
      "execution_count": 32,
      "outputs": [
        {
          "output_type": "stream",
          "text": [
            "[0.025956442816008347, 0.9923]\n"
          ],
          "name": "stdout"
        }
      ]
    },
    {
      "cell_type": "markdown",
      "metadata": {
        "id": "Ed35zlSB37Mm",
        "colab_type": "text"
      },
      "source": [
        "Predicting out put for test inputs"
      ]
    },
    {
      "cell_type": "code",
      "metadata": {
        "id": "OCWoJkwE9suh",
        "colab_type": "code",
        "colab": {}
      },
      "source": [
        "y_pred = model.predict(X_test)"
      ],
      "execution_count": 0,
      "outputs": []
    },
    {
      "cell_type": "markdown",
      "metadata": {
        "id": "8INoWoRT4BBu",
        "colab_type": "text"
      },
      "source": [
        "Printing prediction and test out puts "
      ]
    },
    {
      "cell_type": "code",
      "metadata": {
        "id": "Ym7iCFBm9uBs",
        "colab_type": "code",
        "outputId": "7dbdbf86-fd34-468d-bc1b-09060b35b074",
        "colab": {
          "base_uri": "https://localhost:8080/",
          "height": 493
        }
      },
      "source": [
        "print(y_pred[:9])\n",
        "print(y_test[:9])"
      ],
      "execution_count": 126,
      "outputs": [
        {
          "output_type": "stream",
          "text": [
            "[[8.83453048e-17 2.23902832e-22 5.03254502e-13 1.60512364e-13\n",
            "  4.02065522e-23 9.60435273e-19 0.00000000e+00 1.00000000e+00\n",
            "  1.39047658e-16 1.85744840e-11]\n",
            " [3.93890887e-21 7.82338257e-12 1.00000000e+00 3.59788031e-17\n",
            "  1.38093388e-18 1.37124121e-29 4.85452095e-11 2.52794327e-23\n",
            "  1.14365700e-16 1.80574017e-27]\n",
            " [4.05707407e-17 1.00000000e+00 2.24106909e-12 8.25022068e-17\n",
            "  6.03128159e-10 3.44477593e-14 1.42322758e-13 1.16682185e-11\n",
            "  3.78736241e-13 1.01929050e-17]\n",
            " [1.00000000e+00 5.48987821e-33 1.91183327e-17 4.73503497e-22\n",
            "  6.40486258e-19 6.92827582e-24 3.11879712e-15 4.00338433e-19\n",
            "  3.24701504e-19 7.47422979e-19]\n",
            " [8.47725630e-29 1.00496457e-21 2.52994851e-24 3.29754186e-28\n",
            "  1.00000000e+00 2.08647185e-28 4.26313701e-21 5.24219354e-19\n",
            "  6.29316102e-20 1.76778762e-15]\n",
            " [2.48050972e-12 1.00000000e+00 9.11990483e-10 4.10908282e-16\n",
            "  9.71266290e-10 5.04951478e-17 5.48377736e-14 4.93403363e-08\n",
            "  8.02247435e-11 1.75318283e-13]\n",
            " [9.30098297e-33 9.37158608e-15 2.06010754e-17 7.46690805e-26\n",
            "  1.00000000e+00 5.74528180e-22 3.80990414e-31 7.89448438e-18\n",
            "  2.99498648e-10 2.92296332e-14]\n",
            " [1.99232442e-29 3.98114961e-21 7.15147126e-12 3.90293657e-12\n",
            "  1.24935861e-04 7.24509255e-12 4.15747299e-25 9.05675749e-15\n",
            "  8.62060531e-14 9.99875069e-01]\n",
            " [1.45405634e-18 0.00000000e+00 4.04683561e-19 4.99908274e-26\n",
            "  3.41847459e-22 9.99995708e-01 4.25462213e-06 2.98711163e-29\n",
            "  2.37556552e-08 1.55013792e-20]]\n",
            "[7 2 1 0 4 1 4 9 5]\n"
          ],
          "name": "stdout"
        }
      ]
    },
    {
      "cell_type": "code",
      "metadata": {
        "id": "CT--y98_dr2T",
        "colab_type": "code",
        "colab": {
          "base_uri": "https://localhost:8080/",
          "height": 170
        },
        "outputId": "98fa545a-578f-458c-eedc-5f29f899cf2a"
      },
      "source": [
        "layer_dict = dict([(layer.name, layer) for layer in model.layers])\n",
        "layer_dict"
      ],
      "execution_count": 127,
      "outputs": [
        {
          "output_type": "execute_result",
          "data": {
            "text/plain": [
              "{'activation_21': <keras.layers.core.Activation at 0x7f58f2cb80f0>,\n",
              " 'conv2d_173': <keras.layers.convolutional.Conv2D at 0x7f58f2d7d748>,\n",
              " 'conv2d_174': <keras.layers.convolutional.Conv2D at 0x7f58f2d7d550>,\n",
              " 'conv2d_175': <keras.layers.convolutional.Conv2D at 0x7f58f2d27160>,\n",
              " 'conv2d_176': <keras.layers.convolutional.Conv2D at 0x7f58f2d270f0>,\n",
              " 'conv2d_177': <keras.layers.convolutional.Conv2D at 0x7f58f2cc8ba8>,\n",
              " 'conv2d_178': <keras.layers.convolutional.Conv2D at 0x7f58f2cf15c0>,\n",
              " 'flatten_21': <keras.layers.core.Flatten at 0x7f58f2c8bfd0>,\n",
              " 'max_pooling2d_13': <keras.layers.pooling.MaxPooling2D at 0x7f58f2cdde10>}"
            ]
          },
          "metadata": {
            "tags": []
          },
          "execution_count": 127
        }
      ]
    },
    {
      "cell_type": "code",
      "metadata": {
        "id": "2GY4Upv4dsUR",
        "colab_type": "code",
        "colab": {}
      },
      "source": [
        "import numpy as np\n",
        "from matplotlib import pyplot as plt\n",
        "from keras import backend as K\n",
        "%matplotlib inline\n",
        "# util function to convert a tensor into a valid image\n",
        "def deprocess_image(x):\n",
        "    # normalize tensor: center on 0., ensure std is 0.1\n",
        "    x -= x.mean()\n",
        "    x /= (x.std() + 1e-5)\n",
        "    x *= 0.1\n",
        "\n",
        "    # clip to [0, 1]\n",
        "    x += 0.5\n",
        "    x = np.clip(x, 0, 1)\n",
        "\n",
        "    # convert to RGB array\n",
        "    x *= 255\n",
        "    #x = x.transpose((1, 2, 0))\n",
        "    x = np.clip(x, 0, 255).astype('uint8')\n",
        "    return x\n",
        "\n",
        "def vis_img_in_filter(img = np.array(X_train[2]).reshape((1, 28, 28, 1)).astype(np.float64), \n",
        "                      layer_name = 'conv2d_156'):  \n",
        "    layer_output = layer_dict[layer_name].output\n",
        "    img_ascs = list()\n",
        "    for filter_index in range(layer_output.shape[3]):\n",
        "        # build a loss function that maximizes the activation\n",
        "        # of the nth filter of the layer considered\n",
        "        loss = K.mean(layer_output[:, :, :, filter_index])\n",
        "\n",
        "        # compute the gradient of the input picture wrt this loss\n",
        "        grads = K.gradients(loss, model.input)[0]\n",
        "\n",
        "        # normalization trick: we normalize the gradient\n",
        "        grads /= (K.sqrt(K.mean(K.square(grads))) + 1e-5)\n",
        "\n",
        "        # this function returns the loss and grads given the input picture\n",
        "        iterate = K.function([model.input], [loss, grads])\n",
        "\n",
        "        # step size for gradient ascent\n",
        "        step = 5.\n",
        "\n",
        "        img_asc = np.array(img)\n",
        "        # run gradient ascent for 20 steps\n",
        "        for i in range(20):\n",
        "            loss_value, grads_value = iterate([img_asc])\n",
        "            img_asc += grads_value * step\n",
        "\n",
        "        img_asc = img_asc[0]\n",
        "        img_ascs.append(deprocess_image(img_asc).reshape((28, 28)))\n",
        "        \n",
        "    if layer_output.shape[3] >= 35:\n",
        "        plot_x, plot_y = 6, 6\n",
        "    elif layer_output.shape[3] >= 23:\n",
        "        plot_x, plot_y = 4, 6\n",
        "    elif layer_output.shape[3] >= 11:\n",
        "        plot_x, plot_y = 2, 6\n",
        "    else:\n",
        "        plot_x, plot_y = 1, 2\n",
        "    fig, ax = plt.subplots(plot_x, plot_y, figsize = (12, 12))\n",
        "    ax[0, 0].imshow(img.reshape((28, 28)), cmap = 'gray')\n",
        "    ax[0, 0].set_title('Input image')\n",
        "    fig.suptitle('Input image and %s filters' % (layer_name,))\n",
        "    fig.tight_layout(pad = 0.3, rect = [0, 0, 0.9, 0.9])\n",
        "    for (x, y) in [(i, j) for i in range(plot_x) for j in range(plot_y)]:\n",
        "        if x == 0 and y == 0:\n",
        "            continue\n",
        "        ax[x, y].imshow(img_ascs[x * plot_y + y - 1], cmap = 'gray')\n",
        "        ax[x, y].set_title('filter %d' % (x * plot_y + y - 1))\n",
        "\n",
        "vis_img_in_filter()"
      ],
      "execution_count": 0,
      "outputs": []
    }
  ]
}