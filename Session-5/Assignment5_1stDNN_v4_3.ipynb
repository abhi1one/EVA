{
  "nbformat": 4,
  "nbformat_minor": 0,
  "metadata": {
    "colab": {
      "name": "Assignment5-1stDNN_v4.3.ipynb",
      "version": "0.3.2",
      "provenance": [],
      "collapsed_sections": []
    },
    "kernelspec": {
      "name": "python3",
      "display_name": "Python 3"
    },
    "accelerator": "GPU"
  },
  "cells": [
    {
      "cell_type": "markdown",
      "metadata": {
        "id": "aNyZv-Ec52ot",
        "colab_type": "text"
      },
      "source": [
        "# **1st DNN for assignment 5**\n",
        "\n",
        "**Task**\n",
        "\n",
        "* Change the code 8 or your own 4th Code from Assignment 4 to include:\n",
        "  1. image normalization\n",
        "  2. L2 regularization\n",
        "  3. ReLU after BN\n",
        "\n",
        "* Run your new code for 40 epochs and save the model with highest validation accuracy\n",
        "* Find out 25 misclassified images from the validation dataset and create an image gallery\n",
        "* Submit\n",
        " \n",
        "\n",
        "**This is version 4.3 for code picked from Assignment5-1stDNN_v4.2  **\n",
        "\n",
        "Version 1: Adding Inage Normalization\n",
        "Version 2 L2 Reg\n",
        "Version 3 Relu after BN\n",
        "**Version 4 Tuning and saving model for highers accuracy**\n",
        "Version 5 Finding 25 missclassified images\n",
        "\n",
        "\n",
        "*Changes and Result*\n",
        "\n",
        "Removed Relu and BN from newly added later\n",
        "\n",
        "Observed low / no overfitting on model training; need to work on improving val accuravy\n",
        "\n"
      ]
    },
    {
      "cell_type": "markdown",
      "metadata": {
        "id": "j8FDs1Hx0-o0",
        "colab_type": "text"
      },
      "source": [
        "installing and Importing Keras for current solution"
      ]
    },
    {
      "cell_type": "code",
      "metadata": {
        "id": "3m3w1Cw49Zkt",
        "colab_type": "code",
        "colab": {}
      },
      "source": [
        "# https://keras.io/\n",
        "!pip install -q keras\n",
        "import keras"
      ],
      "execution_count": 0,
      "outputs": []
    },
    {
      "cell_type": "markdown",
      "metadata": {
        "id": "N-qhHUhK1Ggp",
        "colab_type": "text"
      },
      "source": [
        "Importing Numpy and Keras modules as well as mnist data set."
      ]
    },
    {
      "cell_type": "code",
      "metadata": {
        "id": "Eso6UHE080D4",
        "colab_type": "code",
        "colab": {}
      },
      "source": [
        "import numpy as np\n",
        "\n",
        "from keras.models import Sequential\n",
        "from keras.layers import Dense, Dropout, Activation, Flatten, Add\n",
        "from keras.layers import Convolution2D, MaxPooling2D\n",
        "from keras.utils import np_utils\n",
        "\n",
        "from keras.datasets import mnist"
      ],
      "execution_count": 0,
      "outputs": []
    },
    {
      "cell_type": "code",
      "metadata": {
        "id": "2rRiTk5tZXYG",
        "colab_type": "code",
        "outputId": "17c45ae0-5712-43c8-f311-0247edca0f61",
        "colab": {
          "base_uri": "https://localhost:8080/",
          "height": 34
        }
      },
      "source": [
        "#preparing check point for saving weights via callback\n",
        "from google.colab import drive\n",
        "from keras.callbacks import CSVLogger\n",
        "from keras.callbacks import ModelCheckpoint\n",
        "\n",
        "drive.mount('/content/gdrive')"
      ],
      "execution_count": 0,
      "outputs": [
        {
          "output_type": "stream",
          "text": [
            "Drive already mounted at /content/gdrive; to attempt to forcibly remount, call drive.mount(\"/content/gdrive\", force_remount=True).\n"
          ],
          "name": "stdout"
        }
      ]
    },
    {
      "cell_type": "markdown",
      "metadata": {
        "id": "zByEi95J86RD",
        "colab_type": "text"
      },
      "source": [
        "### Load pre-shuffled MNIST data into train and test sets"
      ]
    },
    {
      "cell_type": "markdown",
      "metadata": {
        "id": "yxPvMT_21Mhy",
        "colab_type": "text"
      },
      "source": [
        "Loading mnist data set in train and test variables."
      ]
    },
    {
      "cell_type": "code",
      "metadata": {
        "id": "7eRM0QWN83PV",
        "colab_type": "code",
        "colab": {}
      },
      "source": [
        "(X_train, y_train), (X_test, y_test) = mnist.load_data()"
      ],
      "execution_count": 0,
      "outputs": []
    },
    {
      "cell_type": "markdown",
      "metadata": {
        "id": "9SMpZZpo1Sv0",
        "colab_type": "text"
      },
      "source": [
        "Ploting sample from train data set."
      ]
    },
    {
      "cell_type": "code",
      "metadata": {
        "id": "4a4Be72j8-ZC",
        "colab_type": "code",
        "outputId": "a5ef8bcf-2eb5-4534-87ee-55df02ffbfc2",
        "colab": {
          "base_uri": "https://localhost:8080/",
          "height": 303
        }
      },
      "source": [
        "print (X_train.shape)\n",
        "from matplotlib import pyplot as plt\n",
        "%matplotlib inline\n",
        "plt.imshow(X_train[0])"
      ],
      "execution_count": 0,
      "outputs": [
        {
          "output_type": "stream",
          "text": [
            "(60000, 28, 28)\n"
          ],
          "name": "stdout"
        },
        {
          "output_type": "execute_result",
          "data": {
            "text/plain": [
              "<matplotlib.image.AxesImage at 0x7f71d12e9198>"
            ]
          },
          "metadata": {
            "tags": []
          },
          "execution_count": 140
        },
        {
          "output_type": "display_data",
          "data": {
            "image/png": "[encoded data removed]",
            "text/plain": [
              "<Figure size 432x288 with 1 Axes>"
            ]
          },
          "metadata": {
            "tags": []
          }
        }
      ]
    },
    {
      "cell_type": "markdown",
      "metadata": {
        "id": "N1AM8Fy81X1n",
        "colab_type": "text"
      },
      "source": [
        "Reshaping all train and test data to a uniform size."
      ]
    },
    {
      "cell_type": "code",
      "metadata": {
        "id": "dkmprriw9AnZ",
        "colab_type": "code",
        "colab": {}
      },
      "source": [
        "X_train = X_train.reshape(X_train.shape[0], 28, 28,1)\n",
        "X_test = X_test.reshape(X_test.shape[0], 28, 28,1)"
      ],
      "execution_count": 0,
      "outputs": []
    },
    {
      "cell_type": "markdown",
      "metadata": {
        "id": "tjr4ODS81eUc",
        "colab_type": "text"
      },
      "source": [
        "Regularizing train and test data for float data type and division wiht 255"
      ]
    },
    {
      "cell_type": "code",
      "metadata": {
        "id": "X2m4YS4E9CRh",
        "colab_type": "code",
        "colab": {}
      },
      "source": [
        "X_train = X_train.astype('float32')\n",
        "X_test = X_test.astype('float32')\n",
        "X_train /= 255\n",
        "X_test /= 255"
      ],
      "execution_count": 0,
      "outputs": []
    },
    {
      "cell_type": "markdown",
      "metadata": {
        "id": "lDZ-v1na1okY",
        "colab_type": "text"
      },
      "source": [
        "Visualizing train out put"
      ]
    },
    {
      "cell_type": "code",
      "metadata": {
        "id": "0Mn0vAYD9DvB",
        "colab_type": "code",
        "outputId": "60067cf7-7cd8-4a60-c9f0-ba4d9c8e10a1",
        "colab": {
          "base_uri": "https://localhost:8080/",
          "height": 34
        }
      },
      "source": [
        "y_train[:10]"
      ],
      "execution_count": 0,
      "outputs": [
        {
          "output_type": "execute_result",
          "data": {
            "text/plain": [
              "array([5, 0, 4, 1, 9, 2, 1, 3, 1, 4], dtype=uint8)"
            ]
          },
          "metadata": {
            "tags": []
          },
          "execution_count": 143
        }
      ]
    },
    {
      "cell_type": "markdown",
      "metadata": {
        "id": "ZCLqRA3o1wFq",
        "colab_type": "text"
      },
      "source": [
        "Convert 1-dimensional class arrays to 10-dimensional class matrices"
      ]
    },
    {
      "cell_type": "code",
      "metadata": {
        "id": "ZG8JiXR39FHC",
        "colab_type": "code",
        "colab": {}
      },
      "source": [
        "# Convert 1-dimensional class arrays to 10-dimensional class matrices\n",
        "Y_train = np_utils.to_categorical(y_train, 10)\n",
        "Y_test = np_utils.to_categorical(y_test, 10)"
      ],
      "execution_count": 0,
      "outputs": []
    },
    {
      "cell_type": "markdown",
      "metadata": {
        "id": "kXmnovfn1yew",
        "colab_type": "text"
      },
      "source": [
        "Viewing tranformed train out put matrix"
      ]
    },
    {
      "cell_type": "code",
      "metadata": {
        "id": "fYlFRvKS9HMB",
        "colab_type": "code",
        "outputId": "405914dd-fd84-489a-b926-eef1dfed4f15",
        "colab": {
          "base_uri": "https://localhost:8080/",
          "height": 187
        }
      },
      "source": [
        "Y_train[:10]\n"
      ],
      "execution_count": 0,
      "outputs": [
        {
          "output_type": "execute_result",
          "data": {
            "text/plain": [
              "array([[0., 0., 0., 0., 0., 1., 0., 0., 0., 0.],\n",
              "       [1., 0., 0., 0., 0., 0., 0., 0., 0., 0.],\n",
              "       [0., 0., 0., 0., 1., 0., 0., 0., 0., 0.],\n",
              "       [0., 1., 0., 0., 0., 0., 0., 0., 0., 0.],\n",
              "       [0., 0., 0., 0., 0., 0., 0., 0., 0., 1.],\n",
              "       [0., 0., 1., 0., 0., 0., 0., 0., 0., 0.],\n",
              "       [0., 1., 0., 0., 0., 0., 0., 0., 0., 0.],\n",
              "       [0., 0., 0., 1., 0., 0., 0., 0., 0., 0.],\n",
              "       [0., 1., 0., 0., 0., 0., 0., 0., 0., 0.],\n",
              "       [0., 0., 0., 0., 1., 0., 0., 0., 0., 0.]], dtype=float32)"
            ]
          },
          "metadata": {
            "tags": []
          },
          "execution_count": 145
        }
      ]
    },
    {
      "cell_type": "markdown",
      "metadata": {
        "id": "DlpFjyqJyhCW",
        "colab_type": "text"
      },
      "source": [
        "Adding Image normalization"
      ]
    },
    {
      "cell_type": "code",
      "metadata": {
        "id": "lXG-3PuRyfkr",
        "colab_type": "code",
        "outputId": "178082e1-c8c4-4c73-bf12-bca9738bace1",
        "colab": {
          "base_uri": "https://localhost:8080/",
          "height": 85
        }
      },
      "source": [
        "# standardizing a image dataset\n",
        "from keras.preprocessing.image import ImageDataGenerator\n",
        "\n",
        "'''\n",
        "# load dataset\n",
        "(trainX, trainy), (testX, testy) = mnist.load_data()\n",
        "# reshape dataset to have a single channel\n",
        "width, height, channels = trainX.shape[1], trainX.shape[2], 1\n",
        "trainX = trainX.reshape((trainX.shape[0], width, height, channels))\n",
        "testX = testX.reshape((testX.shape[0], width, height, channels))\n",
        "'''\n",
        "\n",
        "# report pixel means and standard deviations\n",
        "print('Statistics train=%.3f (%.3f), test=%.3f (%.3f)' % (X_train.mean(), X_train.std(), X_test.mean(), Y_test.std()))\n",
        "# create generator that centers pixel values\n",
        "datagen = ImageDataGenerator(featurewise_center=True, featurewise_std_normalization=True)\n",
        "# calculate the mean on the training dataset\n",
        "datagen.fit(X_train)\n",
        "print('Data Generator mean=%.3f, std=%.3f' % (datagen.mean, datagen.std))\n",
        "# demonstrate effect on a single batch of samples\n",
        "train_iterator = datagen.flow(X_train, Y_train, batch_size=64)\n",
        "\n",
        "# get batch iterator for validation\n",
        "validation_generator = datagen.flow(X_test, Y_test)\n",
        "\n",
        "\n",
        "# get a batch\n",
        "batchX, batchy = train_iterator.next()\n",
        "# pixel stats in the batch\n",
        "print(batchX.shape, batchX.mean(), batchX.std())\n",
        "# demonstrate effect on entire training dataset\n",
        "train_iterator1 = datagen.flow(X_train, Y_train, batch_size=len(X_train), shuffle=False)\n",
        "# get a batch\n",
        "batchX, batchy = train_iterator1.next()\n",
        "# pixel stats in the batch\n",
        "print(batchX.shape, batchX.mean(), batchX.std())"
      ],
      "execution_count": 0,
      "outputs": [
        {
          "output_type": "stream",
          "text": [
            "Statistics train=0.131 (0.308), test=0.133 (0.300)\n",
            "Data Generator mean=0.131, std=0.308\n",
            "(64, 28, 28, 1) -0.0020950316 0.99770886\n",
            "(60000, 28, 28, 1) -4.9324944e-07 0.9999959\n"
          ],
          "name": "stdout"
        }
      ]
    },
    {
      "cell_type": "markdown",
      "metadata": {
        "id": "Z2PFtTZq127m",
        "colab_type": "text"
      },
      "source": [
        "Carrying model arch from Assignment5-1stDNN_v4.2\n",
        "\n",
        "Removing Relu and BN from newly added layer, total params less then 10K"
      ]
    },
    {
      "cell_type": "code",
      "metadata": {
        "id": "osKqT73Q9JJB",
        "colab_type": "code",
        "outputId": "cb2ce2fc-7b99-43ce-812d-6b77f3e6c255",
        "colab": {
          "base_uri": "https://localhost:8080/",
          "height": 105
        }
      },
      "source": [
        "from keras.layers import Activation, BatchNormalization\n",
        "\n",
        "# Importing library for L2 regularization\n",
        "from keras.regularizers import l2\n",
        "\n",
        "model = Sequential()\n",
        "\n",
        "#Vanilla\n",
        "''' \n",
        "model.add(Convolution2D(32, 3, 3, activation='relu', input_shape=(28,28,1)))\n",
        "model.add(Convolution2D(10, 1, activation='relu'))\n",
        "model.add(Convolution2D(10, 26))\n",
        "'''\n",
        "\n",
        "#1st version \n",
        "'''\n",
        "model.add(Convolution2D(8, 3, 3, activation='relu', input_shape=(28,28,1)))\n",
        "model.add(BatchNormalization())\n",
        "\n",
        "model.add(Convolution2D(8, 3, 3, activation='relu')) #input 26,26 #RF 3X3\n",
        "model.add(BatchNormalization())\n",
        "\n",
        "model.add(Convolution2D(8, 3, 3, activation='relu')) #input 24,24 #RF 7X7\n",
        "model.add(BatchNormalization())\n",
        "\n",
        "model.add(Convolution2D(8, 3, 3, activation='relu')) #input 22,22 #RF 9X9\n",
        "model.add(BatchNormalization())\n",
        "\n",
        "model.add(Dropout(0.2))\n",
        "\n",
        "model.add(Convolution2D(8, 3, 3, activation='relu')) #input 20,20 #RF 11X11\n",
        "model.add(BatchNormalization())\n",
        "\n",
        "model.add(Convolution2D(8, 3, 3, activation='relu')) #input 18,18 #RF 13X13\n",
        "model.add(BatchNormalization())\n",
        "\n",
        "model.add(Convolution2D(8, 3, 3, activation='relu')) #input 16,16 #RF 15X15\n",
        "model.add(BatchNormalization())\n",
        "\n",
        "model.add(Convolution2D(8, 3, 3, activation='relu')) #input 14,14 #RF 17X17\n",
        "model.add(BatchNormalization())\n",
        "\n",
        "model.add(Dropout(0.2))\n",
        "\n",
        "model.add(Convolution2D(4, 3, 3, activation='relu')) #input 12,12 #RF 19X19\n",
        "model.add(BatchNormalization())\n",
        "\n",
        "model.add(Convolution2D(10, 1)) #input 10,10 \n",
        "model.add(BatchNormalization())\n",
        "\n",
        "model.add(Convolution2D(10, 10)) #input 10,10\n",
        "'''\n",
        "\n",
        "#2nd version \n",
        "'''\n",
        "model.add(Convolution2D(16, 3, 3, activation='relu', input_shape=(28,28,1)))\n",
        "model.add(BatchNormalization())\n",
        "\n",
        "model.add(Convolution2D(16, 3, 3, activation='relu')) #input 26,26 #RF 3X3\n",
        "model.add(BatchNormalization())\n",
        "\n",
        "model.add(Convolution2D(16, 3, 3, activation='relu')) #input 24,24 #RF 7X7\n",
        "model.add(BatchNormalization())\n",
        "\n",
        "model.add(Dropout(0.2))\n",
        "\n",
        "model.add(MaxPooling2D(pool_size=(2, 2))) #input 22,22 #RF 14X14\n",
        "model.add(Convolution2D(8, 3, 3, activation='relu')) #input 11,11 #RF 16X16\n",
        "model.add(BatchNormalization())\n",
        "\n",
        "model.add(Dropout(0.2))\n",
        "\n",
        "model.add(Convolution2D(10, 1, activation='relu')) #input 9,9\n",
        "model.add(Convolution2D(10, 9)) #input 9X9\n",
        "'''\n",
        "\n",
        "#3rd version \n",
        "''''''\n",
        "model.add(Convolution2D(8, 3, 3, input_shape=(28,28,1), kernel_regularizer=l2(0.00001)))\n",
        "model.add(BatchNormalization())\n",
        "model.add(Activation('relu'))\n",
        "\n",
        "model.add(Dropout(0.2))\n",
        "\n",
        "model.add(Convolution2D(8, 3, 3, kernel_regularizer=l2(0.00001))) #input 26,26 #RF 3X3\n",
        "model.add(BatchNormalization())\n",
        "model.add(Activation('relu'))\n",
        "\n",
        "model.add(Dropout(0.2))\n",
        "\n",
        "model.add(MaxPooling2D(pool_size=(2, 2))) #input 24,24 #RF 6X6\n",
        "\n",
        "model.add(Convolution2D(8, 3, 3, kernel_regularizer=l2(0.00001))) #input 12,12 #RF 8X8\n",
        "model.add(BatchNormalization())\n",
        "model.add(Activation('relu'))\n",
        "\n",
        "model.add(Dropout(0.2))\n",
        "\n",
        "model.add(Convolution2D(8, 3, 3, kernel_regularizer=l2(0.00001))) #input 10,10 #RF 10X10\n",
        "model.add(BatchNormalization())\n",
        "model.add(Activation('relu'))\n",
        "\n",
        "model.add(Dropout(0.2))\n",
        "\n",
        "model.add(Convolution2D(10, 1)) #input 8, 8\n",
        "#model.add(BatchNormalization())\n",
        "\n",
        "model.add(Convolution2D(10, 8)) #input 8,8\n",
        "\n",
        "\n",
        "model.add(Flatten())\n",
        "model.add(Activation('softmax'))"
      ],
      "execution_count": 0,
      "outputs": [
        {
          "output_type": "stream",
          "text": [
            "/usr/local/lib/python3.6/dist-packages/ipykernel_launcher.py:79: UserWarning: Update your `Conv2D` call to the Keras 2 API: `Conv2D(8, (3, 3), input_shape=(28, 28, 1..., kernel_regularizer=<keras.reg...)`\n",
            "/usr/local/lib/python3.6/dist-packages/ipykernel_launcher.py:85: UserWarning: Update your `Conv2D` call to the Keras 2 API: `Conv2D(8, (3, 3), kernel_regularizer=<keras.reg...)`\n",
            "/usr/local/lib/python3.6/dist-packages/ipykernel_launcher.py:93: UserWarning: Update your `Conv2D` call to the Keras 2 API: `Conv2D(8, (3, 3), kernel_regularizer=<keras.reg...)`\n",
            "/usr/local/lib/python3.6/dist-packages/ipykernel_launcher.py:99: UserWarning: Update your `Conv2D` call to the Keras 2 API: `Conv2D(8, (3, 3), kernel_regularizer=<keras.reg...)`\n"
          ],
          "name": "stderr"
        }
      ]
    },
    {
      "cell_type": "markdown",
      "metadata": {
        "id": "T1mq9MtB2GgQ",
        "colab_type": "text"
      },
      "source": [
        "Printing model summary to understand current paramaters for the model. "
      ]
    },
    {
      "cell_type": "code",
      "metadata": {
        "id": "TzdAYg1k9K7Z",
        "colab_type": "code",
        "outputId": "19c10747-71ef-452c-d50a-7af63feecd6f",
        "colab": {
          "base_uri": "https://localhost:8080/",
          "height": 850
        }
      },
      "source": [
        "model.summary()"
      ],
      "execution_count": 0,
      "outputs": [
        {
          "output_type": "stream",
          "text": [
            "_________________________________________________________________\n",
            "Layer (type)                 Output Shape              Param #   \n",
            "=================================================================\n",
            "conv2d_54 (Conv2D)           (None, 26, 26, 8)         80        \n",
            "_________________________________________________________________\n",
            "batch_normalization_37 (Batc (None, 26, 26, 8)         32        \n",
            "_________________________________________________________________\n",
            "activation_28 (Activation)   (None, 26, 26, 8)         0         \n",
            "_________________________________________________________________\n",
            "dropout_26 (Dropout)         (None, 26, 26, 8)         0         \n",
            "_________________________________________________________________\n",
            "conv2d_55 (Conv2D)           (None, 24, 24, 8)         584       \n",
            "_________________________________________________________________\n",
            "batch_normalization_38 (Batc (None, 24, 24, 8)         32        \n",
            "_________________________________________________________________\n",
            "activation_29 (Activation)   (None, 24, 24, 8)         0         \n",
            "_________________________________________________________________\n",
            "dropout_27 (Dropout)         (None, 24, 24, 8)         0         \n",
            "_________________________________________________________________\n",
            "max_pooling2d_11 (MaxPooling (None, 12, 12, 8)         0         \n",
            "_________________________________________________________________\n",
            "conv2d_56 (Conv2D)           (None, 10, 10, 8)         584       \n",
            "_________________________________________________________________\n",
            "batch_normalization_39 (Batc (None, 10, 10, 8)         32        \n",
            "_________________________________________________________________\n",
            "activation_30 (Activation)   (None, 10, 10, 8)         0         \n",
            "_________________________________________________________________\n",
            "dropout_28 (Dropout)         (None, 10, 10, 8)         0         \n",
            "_________________________________________________________________\n",
            "conv2d_57 (Conv2D)           (None, 8, 8, 8)           584       \n",
            "_________________________________________________________________\n",
            "batch_normalization_40 (Batc (None, 8, 8, 8)           32        \n",
            "_________________________________________________________________\n",
            "activation_31 (Activation)   (None, 8, 8, 8)           0         \n",
            "_________________________________________________________________\n",
            "dropout_29 (Dropout)         (None, 8, 8, 8)           0         \n",
            "_________________________________________________________________\n",
            "conv2d_58 (Conv2D)           (None, 8, 8, 10)          90        \n",
            "_________________________________________________________________\n",
            "conv2d_59 (Conv2D)           (None, 1, 1, 10)          6410      \n",
            "_________________________________________________________________\n",
            "flatten_11 (Flatten)         (None, 10)                0         \n",
            "_________________________________________________________________\n",
            "activation_32 (Activation)   (None, 10)                0         \n",
            "=================================================================\n",
            "Total params: 8,460\n",
            "Trainable params: 8,396\n",
            "Non-trainable params: 64\n",
            "_________________________________________________________________\n"
          ],
          "name": "stdout"
        }
      ]
    },
    {
      "cell_type": "markdown",
      "metadata": {
        "id": "VlnhdT4u2Owz",
        "colab_type": "text"
      },
      "source": [
        "Setting model's compile environment with loss function, optimizer and matrics.\n",
        "Setting up LR scheduler\n",
        "Setting up model save check points for best perfomance.\n"
      ]
    },
    {
      "cell_type": "code",
      "metadata": {
        "id": "Zp6SuGrL9M3h",
        "colab_type": "code",
        "colab": {}
      },
      "source": [
        "from keras.optimizers import Adam, SGD\n",
        "from keras.callbacks import LearningRateScheduler, ModelCheckpoint\n",
        "\n",
        "def scheduler(epoch, lr):\n",
        "  return round(0.01 * 1/(1 + 0.319 * epoch), 10)\n",
        "\n",
        "filepath=\"/content/gdrive/My Drive/Weights/Assignment5-1stDNN_v4.3_weights-improvement-{epoch:02d}-{val_acc:.4f}.hdf5\"\n",
        "checkpoint = ModelCheckpoint(filepath, monitor='val_acc', verbose=1, save_best_only=True, mode='max')\n",
        "\n",
        "callback_list = [LearningRateScheduler(scheduler, verbose=1), checkpoint]\n",
        "\n",
        "model.compile(loss='categorical_crossentropy',\n",
        "             optimizer=Adam(lr=0.01),\n",
        "             metrics=['accuracy'])"
      ],
      "execution_count": 0,
      "outputs": []
    },
    {
      "cell_type": "markdown",
      "metadata": {
        "id": "06jT2a0t2Vpj",
        "colab_type": "text"
      },
      "source": [
        "Training model for 40 epoch for 128 batch size\n",
        "\n",
        "Using fit_generator to use normalized image data\n"
      ]
    },
    {
      "cell_type": "code",
      "metadata": {
        "id": "4xWoKhPY9Of5",
        "colab_type": "code",
        "outputId": "dd019c79-e782-47b5-a14a-9c604b527aba",
        "colab": {
          "base_uri": "https://localhost:8080/",
          "height": 4117
        }
      },
      "source": [
        "#history = model.fit(X_train, Y_train, batch_size=128, nb_epoch=50, verbose=1, validation_data=(X_test, Y_test), callbacks=[LearningRateScheduler(scheduler, verbose=1)])\n",
        "\n",
        "\n",
        "#Fit gen for normalized image gen \n",
        "\n",
        "history = model.fit_generator(train_iterator, steps_per_epoch=len(train_iterator), epochs=40, callbacks=callback_list, verbose=1, validation_data=validation_generator,\n",
        "        validation_steps=len(validation_generator))"
      ],
      "execution_count": 0,
      "outputs": [
        {
          "output_type": "stream",
          "text": [
            "Epoch 1/40\n",
            "\n",
            "Epoch 00001: LearningRateScheduler setting learning rate to 0.01.\n",
            "938/938 [==============================] - 17s 18ms/step - loss: 0.2005 - acc: 0.9392 - val_loss: 0.0760 - val_acc: 0.9756\n",
            "\n",
            "Epoch 00001: val_acc improved from -inf to 0.97560, saving model to /content/gdrive/My Drive/Weights/Assignment5-1stDNN_v4.3_weights-improvement-01-0.9756.hdf5\n",
            "Epoch 2/40\n",
            "\n",
            "Epoch 00002: LearningRateScheduler setting learning rate to 0.0075815011.\n",
            "938/938 [==============================] - 13s 13ms/step - loss: 0.0941 - acc: 0.9715 - val_loss: 0.0590 - val_acc: 0.9817\n",
            "\n",
            "Epoch 00002: val_acc improved from 0.97560 to 0.98170, saving model to /content/gdrive/My Drive/Weights/Assignment5-1stDNN_v4.3_weights-improvement-02-0.9817.hdf5\n",
            "Epoch 3/40\n",
            "\n",
            "Epoch 00003: LearningRateScheduler setting learning rate to 0.0061050061.\n",
            "938/938 [==============================] - 12s 13ms/step - loss: 0.0817 - acc: 0.9761 - val_loss: 0.0411 - val_acc: 0.9866\n",
            "\n",
            "Epoch 00003: val_acc improved from 0.98170 to 0.98660, saving model to /content/gdrive/My Drive/Weights/Assignment5-1stDNN_v4.3_weights-improvement-03-0.9866.hdf5\n",
            "Epoch 4/40\n",
            "\n",
            "Epoch 00004: LearningRateScheduler setting learning rate to 0.005109862.\n",
            "938/938 [==============================] - 11s 12ms/step - loss: 0.0712 - acc: 0.9784 - val_loss: 0.0407 - val_acc: 0.9865\n",
            "\n",
            "Epoch 00004: val_acc did not improve from 0.98660\n",
            "Epoch 5/40\n",
            "\n",
            "Epoch 00005: LearningRateScheduler setting learning rate to 0.0043936731.\n",
            "938/938 [==============================] - 11s 12ms/step - loss: 0.0666 - acc: 0.9801 - val_loss: 0.0349 - val_acc: 0.9893\n",
            "\n",
            "Epoch 00005: val_acc improved from 0.98660 to 0.98930, saving model to /content/gdrive/My Drive/Weights/Assignment5-1stDNN_v4.3_weights-improvement-05-0.9893.hdf5\n",
            "Epoch 6/40\n",
            "\n",
            "Epoch 00006: LearningRateScheduler setting learning rate to 0.0038535645.\n",
            "938/938 [==============================] - 11s 12ms/step - loss: 0.0643 - acc: 0.9807 - val_loss: 0.0378 - val_acc: 0.9890\n",
            "\n",
            "Epoch 00006: val_acc did not improve from 0.98930\n",
            "Epoch 7/40\n",
            "\n",
            "Epoch 00007: LearningRateScheduler setting learning rate to 0.003431709.\n",
            "938/938 [==============================] - 11s 12ms/step - loss: 0.0616 - acc: 0.9813 - val_loss: 0.0352 - val_acc: 0.9892\n",
            "\n",
            "Epoch 00007: val_acc did not improve from 0.98930\n",
            "Epoch 8/40\n",
            "\n",
            "Epoch 00008: LearningRateScheduler setting learning rate to 0.0030931024.\n",
            "938/938 [==============================] - 11s 12ms/step - loss: 0.0582 - acc: 0.9828 - val_loss: 0.0311 - val_acc: 0.9900\n",
            "\n",
            "Epoch 00008: val_acc improved from 0.98930 to 0.99000, saving model to /content/gdrive/My Drive/Weights/Assignment5-1stDNN_v4.3_weights-improvement-08-0.9900.hdf5\n",
            "Epoch 9/40\n",
            "\n",
            "Epoch 00009: LearningRateScheduler setting learning rate to 0.0028153153.\n",
            "938/938 [==============================] - 12s 13ms/step - loss: 0.0560 - acc: 0.9832 - val_loss: 0.0318 - val_acc: 0.9907\n",
            "\n",
            "Epoch 00009: val_acc improved from 0.99000 to 0.99070, saving model to /content/gdrive/My Drive/Weights/Assignment5-1stDNN_v4.3_weights-improvement-09-0.9907.hdf5\n",
            "Epoch 10/40\n",
            "\n",
            "Epoch 00010: LearningRateScheduler setting learning rate to 0.0025833118.\n",
            "938/938 [==============================] - 12s 13ms/step - loss: 0.0540 - acc: 0.9841 - val_loss: 0.0339 - val_acc: 0.9891\n",
            "\n",
            "Epoch 00010: val_acc did not improve from 0.99070\n",
            "Epoch 11/40\n",
            "\n",
            "Epoch 00011: LearningRateScheduler setting learning rate to 0.0023866348.\n",
            "938/938 [==============================] - 11s 12ms/step - loss: 0.0521 - acc: 0.9842 - val_loss: 0.0305 - val_acc: 0.9899\n",
            "\n",
            "Epoch 00011: val_acc did not improve from 0.99070\n",
            "Epoch 12/40\n",
            "\n",
            "Epoch 00012: LearningRateScheduler setting learning rate to 0.0022177866.\n",
            "938/938 [==============================] - 11s 12ms/step - loss: 0.0499 - acc: 0.9854 - val_loss: 0.0344 - val_acc: 0.9896\n",
            "\n",
            "Epoch 00012: val_acc did not improve from 0.99070\n",
            "Epoch 13/40\n",
            "\n",
            "Epoch 00013: LearningRateScheduler setting learning rate to 0.002071251.\n",
            "938/938 [==============================] - 11s 12ms/step - loss: 0.0500 - acc: 0.9849 - val_loss: 0.0342 - val_acc: 0.9897\n",
            "\n",
            "Epoch 00013: val_acc did not improve from 0.99070\n",
            "Epoch 14/40\n",
            "\n",
            "Epoch 00014: LearningRateScheduler setting learning rate to 0.0019428793.\n",
            "938/938 [==============================] - 11s 12ms/step - loss: 0.0502 - acc: 0.9853 - val_loss: 0.0309 - val_acc: 0.9910\n",
            "\n",
            "Epoch 00014: val_acc improved from 0.99070 to 0.99100, saving model to /content/gdrive/My Drive/Weights/Assignment5-1stDNN_v4.3_weights-improvement-14-0.9910.hdf5\n",
            "Epoch 15/40\n",
            "\n",
            "Epoch 00015: LearningRateScheduler setting learning rate to 0.0018294914.\n",
            "938/938 [==============================] - 11s 12ms/step - loss: 0.0462 - acc: 0.9859 - val_loss: 0.0284 - val_acc: 0.9919\n",
            "\n",
            "Epoch 00015: val_acc improved from 0.99100 to 0.99190, saving model to /content/gdrive/My Drive/Weights/Assignment5-1stDNN_v4.3_weights-improvement-15-0.9919.hdf5\n",
            "Epoch 16/40\n",
            "\n",
            "Epoch 00016: LearningRateScheduler setting learning rate to 0.0017286085.\n",
            "938/938 [==============================] - 12s 13ms/step - loss: 0.0463 - acc: 0.9863 - val_loss: 0.0324 - val_acc: 0.9902\n",
            "\n",
            "Epoch 00016: val_acc did not improve from 0.99190\n",
            "Epoch 17/40\n",
            "\n",
            "Epoch 00017: LearningRateScheduler setting learning rate to 0.00163827.\n",
            "938/938 [==============================] - 12s 13ms/step - loss: 0.0461 - acc: 0.9862 - val_loss: 0.0293 - val_acc: 0.9909\n",
            "\n",
            "Epoch 00017: val_acc did not improve from 0.99190\n",
            "Epoch 18/40\n",
            "\n",
            "Epoch 00018: LearningRateScheduler setting learning rate to 0.0015569049.\n",
            "938/938 [==============================] - 11s 12ms/step - loss: 0.0462 - acc: 0.9860 - val_loss: 0.0301 - val_acc: 0.9905\n",
            "\n",
            "Epoch 00018: val_acc did not improve from 0.99190\n",
            "Epoch 19/40\n",
            "\n",
            "Epoch 00019: LearningRateScheduler setting learning rate to 0.0014832394.\n",
            "938/938 [==============================] - 11s 12ms/step - loss: 0.0447 - acc: 0.9864 - val_loss: 0.0276 - val_acc: 0.9922\n",
            "\n",
            "Epoch 00019: val_acc improved from 0.99190 to 0.99220, saving model to /content/gdrive/My Drive/Weights/Assignment5-1stDNN_v4.3_weights-improvement-19-0.9922.hdf5\n",
            "Epoch 20/40\n",
            "\n",
            "Epoch 00020: LearningRateScheduler setting learning rate to 0.00141623.\n",
            "938/938 [==============================] - 11s 12ms/step - loss: 0.0455 - acc: 0.9861 - val_loss: 0.0303 - val_acc: 0.9911\n",
            "\n",
            "Epoch 00020: val_acc did not improve from 0.99220\n",
            "Epoch 21/40\n",
            "\n",
            "Epoch 00021: LearningRateScheduler setting learning rate to 0.0013550136.\n",
            "938/938 [==============================] - 11s 12ms/step - loss: 0.0425 - acc: 0.9872 - val_loss: 0.0280 - val_acc: 0.9916\n",
            "\n",
            "Epoch 00021: val_acc did not improve from 0.99220\n",
            "Epoch 22/40\n",
            "\n",
            "Epoch 00022: LearningRateScheduler setting learning rate to 0.00129887.\n",
            "938/938 [==============================] - 11s 12ms/step - loss: 0.0444 - acc: 0.9868 - val_loss: 0.0272 - val_acc: 0.9917\n",
            "\n",
            "Epoch 00022: val_acc did not improve from 0.99220\n",
            "Epoch 23/40\n",
            "\n",
            "Epoch 00023: LearningRateScheduler setting learning rate to 0.0012471938.\n",
            "938/938 [==============================] - 12s 13ms/step - loss: 0.0430 - acc: 0.9870 - val_loss: 0.0271 - val_acc: 0.9920\n",
            "\n",
            "Epoch 00023: val_acc did not improve from 0.99220\n",
            "Epoch 24/40\n",
            "\n",
            "Epoch 00024: LearningRateScheduler setting learning rate to 0.0011994722.\n",
            "938/938 [==============================] - 12s 12ms/step - loss: 0.0412 - acc: 0.9876 - val_loss: 0.0293 - val_acc: 0.9908\n",
            "\n",
            "Epoch 00024: val_acc did not improve from 0.99220\n",
            "Epoch 25/40\n",
            "\n",
            "Epoch 00025: LearningRateScheduler setting learning rate to 0.001155268.\n",
            "938/938 [==============================] - 11s 12ms/step - loss: 0.0422 - acc: 0.9874 - val_loss: 0.0286 - val_acc: 0.9916\n",
            "\n",
            "Epoch 00025: val_acc did not improve from 0.99220\n",
            "Epoch 26/40\n",
            "\n",
            "Epoch 00026: LearningRateScheduler setting learning rate to 0.0011142061.\n",
            "938/938 [==============================] - 11s 12ms/step - loss: 0.0410 - acc: 0.9881 - val_loss: 0.0275 - val_acc: 0.9920\n",
            "\n",
            "Epoch 00026: val_acc did not improve from 0.99220\n",
            "Epoch 27/40\n",
            "\n",
            "Epoch 00027: LearningRateScheduler setting learning rate to 0.001075963.\n",
            "938/938 [==============================] - 11s 12ms/step - loss: 0.0407 - acc: 0.9881 - val_loss: 0.0283 - val_acc: 0.9915\n",
            "\n",
            "Epoch 00027: val_acc did not improve from 0.99220\n",
            "Epoch 28/40\n",
            "\n",
            "Epoch 00028: LearningRateScheduler setting learning rate to 0.001040258.\n",
            "938/938 [==============================] - 12s 13ms/step - loss: 0.0402 - acc: 0.9878 - val_loss: 0.0302 - val_acc: 0.9909\n",
            "\n",
            "Epoch 00028: val_acc did not improve from 0.99220\n",
            "Epoch 29/40\n",
            "\n",
            "Epoch 00029: LearningRateScheduler setting learning rate to 0.0010068466.\n",
            "938/938 [==============================] - 11s 12ms/step - loss: 0.0395 - acc: 0.9879 - val_loss: 0.0282 - val_acc: 0.9920\n",
            "\n",
            "Epoch 00029: val_acc did not improve from 0.99220\n",
            "Epoch 30/40\n",
            "\n",
            "Epoch 00030: LearningRateScheduler setting learning rate to 0.0009755146.\n",
            "938/938 [==============================] - 12s 13ms/step - loss: 0.0411 - acc: 0.9877 - val_loss: 0.0288 - val_acc: 0.9917\n",
            "\n",
            "Epoch 00030: val_acc did not improve from 0.99220\n",
            "Epoch 31/40\n",
            "\n",
            "Epoch 00031: LearningRateScheduler setting learning rate to 0.0009460738.\n",
            "938/938 [==============================] - 12s 12ms/step - loss: 0.0395 - acc: 0.9883 - val_loss: 0.0276 - val_acc: 0.9927\n",
            "\n",
            "Epoch 00031: val_acc improved from 0.99220 to 0.99270, saving model to /content/gdrive/My Drive/Weights/Assignment5-1stDNN_v4.3_weights-improvement-31-0.9927.hdf5\n",
            "Epoch 32/40\n",
            "\n",
            "Epoch 00032: LearningRateScheduler setting learning rate to 0.000918358.\n",
            "938/938 [==============================] - 11s 12ms/step - loss: 0.0407 - acc: 0.9881 - val_loss: 0.0284 - val_acc: 0.9914\n",
            "\n",
            "Epoch 00032: val_acc did not improve from 0.99270\n",
            "Epoch 33/40\n",
            "\n",
            "Epoch 00033: LearningRateScheduler setting learning rate to 0.0008922198.\n",
            "938/938 [==============================] - 11s 12ms/step - loss: 0.0391 - acc: 0.9885 - val_loss: 0.0266 - val_acc: 0.9921\n",
            "\n",
            "Epoch 00033: val_acc did not improve from 0.99270\n",
            "Epoch 34/40\n",
            "\n",
            "Epoch 00034: LearningRateScheduler setting learning rate to 0.0008675284.\n",
            "938/938 [==============================] - 11s 12ms/step - loss: 0.0404 - acc: 0.9879 - val_loss: 0.0270 - val_acc: 0.9910\n",
            "\n",
            "Epoch 00034: val_acc did not improve from 0.99270\n",
            "Epoch 35/40\n",
            "\n",
            "Epoch 00035: LearningRateScheduler setting learning rate to 0.0008441668.\n",
            "938/938 [==============================] - 11s 12ms/step - loss: 0.0383 - acc: 0.9885 - val_loss: 0.0267 - val_acc: 0.9917\n",
            "\n",
            "Epoch 00035: val_acc did not improve from 0.99270\n",
            "Epoch 36/40\n",
            "\n",
            "Epoch 00036: LearningRateScheduler setting learning rate to 0.0008220304.\n",
            "938/938 [==============================] - 11s 12ms/step - loss: 0.0393 - acc: 0.9884 - val_loss: 0.0270 - val_acc: 0.9912\n",
            "\n",
            "Epoch 00036: val_acc did not improve from 0.99270\n",
            "Epoch 37/40\n",
            "\n",
            "Epoch 00037: LearningRateScheduler setting learning rate to 0.0008010253.\n",
            "938/938 [==============================] - 13s 13ms/step - loss: 0.0390 - acc: 0.9882 - val_loss: 0.0269 - val_acc: 0.9921\n",
            "\n",
            "Epoch 00037: val_acc did not improve from 0.99270\n",
            "Epoch 38/40\n",
            "\n",
            "Epoch 00038: LearningRateScheduler setting learning rate to 0.0007810669.\n",
            "938/938 [==============================] - 11s 12ms/step - loss: 0.0391 - acc: 0.9884 - val_loss: 0.0264 - val_acc: 0.9919\n",
            "\n",
            "Epoch 00038: val_acc did not improve from 0.99270\n",
            "Epoch 39/40\n",
            "\n",
            "Epoch 00039: LearningRateScheduler setting learning rate to 0.000762079.\n",
            "938/938 [==============================] - 11s 12ms/step - loss: 0.0384 - acc: 0.9884 - val_loss: 0.0257 - val_acc: 0.9923\n",
            "\n",
            "Epoch 00039: val_acc did not improve from 0.99270\n",
            "Epoch 40/40\n",
            "\n",
            "Epoch 00040: LearningRateScheduler setting learning rate to 0.0007439923.\n",
            "938/938 [==============================] - 11s 12ms/step - loss: 0.0370 - acc: 0.9894 - val_loss: 0.0268 - val_acc: 0.9918\n",
            "\n",
            "Epoch 00040: val_acc did not improve from 0.99270\n"
          ],
          "name": "stdout"
        }
      ]
    },
    {
      "cell_type": "markdown",
      "metadata": {
        "id": "3_0_UAU1M1wP",
        "colab_type": "text"
      },
      "source": [
        "Plotting training and validation accuracty as well as loss for every epoch"
      ]
    },
    {
      "cell_type": "code",
      "metadata": {
        "id": "9tvptcn8dxvp",
        "colab_type": "code",
        "outputId": "32fa0b05-7d1e-476c-a295-be24b7960021",
        "colab": {
          "base_uri": "https://localhost:8080/",
          "height": 573
        }
      },
      "source": [
        "import matplotlib.pyplot as plt\n",
        "\n",
        "#history = model.fit(x, y, validation_split=0.25, epochs=50, batch_size=16, verbose=1)\n",
        "\n",
        "# Plot training & validation accuracy values\n",
        "plt.plot(history.history['acc'])\n",
        "plt.plot(history.history['val_acc'])\n",
        "plt.title('Model accuracy')\n",
        "plt.ylabel('Accuracy')\n",
        "plt.xlabel('Epoch')\n",
        "plt.legend(['Train', 'Test'], loc='upper left')\n",
        "plt.show()\n",
        "\n",
        "# Plot training & validation loss values\n",
        "plt.plot(history.history['loss'])\n",
        "plt.plot(history.history['val_loss'])\n",
        "plt.title('Model loss')\n",
        "plt.ylabel('Loss')\n",
        "plt.xlabel('Epoch')\n",
        "plt.legend(['Train', 'Test'], loc='upper left')\n",
        "plt.show()"
      ],
      "execution_count": 0,
      "outputs": [
        {
          "output_type": "display_data",
          "data": {
            "image/png": "[encoded data removed]",
            "text/plain": [
              "<Figure size 432x288 with 1 Axes>"
            ]
          },
          "metadata": {
            "tags": []
          }
        },
        {
          "output_type": "display_data",
          "data": {
            "image/png": "[encoded data removed]",
            "text/plain": [
              "<Figure size 432x288 with 1 Axes>"
            ]
          },
          "metadata": {
            "tags": []
          }
        }
      ]
    },
    {
      "cell_type": "markdown",
      "metadata": {
        "colab_type": "text",
        "id": "UyH8P1SaNYYZ"
      },
      "source": [
        "Evaluating model and storing score in a variable."
      ]
    },
    {
      "cell_type": "code",
      "metadata": {
        "colab_type": "code",
        "id": "_eDU0sXWNXmE",
        "colab": {}
      },
      "source": [
        "#score = model.evaluate(X_test, Y_test, verbose=0)\n",
        "score = model.evaluate_generator(validation_generator, steps=len(validation_generator), verbose=0)"
      ],
      "execution_count": 0,
      "outputs": []
    },
    {
      "cell_type": "markdown",
      "metadata": {
        "colab_type": "text",
        "id": "_weXQQMkNWk1"
      },
      "source": [
        "Printing loss and accuracy of model test done in last step"
      ]
    },
    {
      "cell_type": "code",
      "metadata": {
        "id": "mkX8JMv79q9r",
        "colab_type": "code",
        "outputId": "756d69ef-a85d-4f19-f27e-1a4fa5299811",
        "colab": {
          "base_uri": "https://localhost:8080/",
          "height": 34
        }
      },
      "source": [
        "print(score)"
      ],
      "execution_count": 0,
      "outputs": [
        {
          "output_type": "stream",
          "text": [
            "[0.026909500037133695, 0.9919]\n"
          ],
          "name": "stdout"
        }
      ]
    },
    {
      "cell_type": "markdown",
      "metadata": {
        "id": "Ed35zlSB37Mm",
        "colab_type": "text"
      },
      "source": [
        "Predicting out put for test inputs"
      ]
    },
    {
      "cell_type": "code",
      "metadata": {
        "id": "OCWoJkwE9suh",
        "colab_type": "code",
        "colab": {}
      },
      "source": [
        "y_pred = model.predict(X_test)"
      ],
      "execution_count": 0,
      "outputs": []
    },
    {
      "cell_type": "markdown",
      "metadata": {
        "id": "8INoWoRT4BBu",
        "colab_type": "text"
      },
      "source": [
        "Printing prediction and test out puts "
      ]
    },
    {
      "cell_type": "code",
      "metadata": {
        "id": "Ym7iCFBm9uBs",
        "colab_type": "code",
        "colab": {}
      },
      "source": [
        "print(y_pred[:9])\n",
        "print(y_test[:9])"
      ],
      "execution_count": 0,
      "outputs": []
    },
    {
      "cell_type": "code",
      "metadata": {
        "id": "CT--y98_dr2T",
        "colab_type": "code",
        "colab": {}
      },
      "source": [
        "layer_dict = dict([(layer.name, layer) for layer in model.layers])\n",
        "layer_dict"
      ],
      "execution_count": 0,
      "outputs": []
    },
    {
      "cell_type": "code",
      "metadata": {
        "id": "2GY4Upv4dsUR",
        "colab_type": "code",
        "colab": {}
      },
      "source": [
        "import numpy as np\n",
        "from matplotlib import pyplot as plt\n",
        "from keras import backend as K\n",
        "%matplotlib inline\n",
        "# util function to convert a tensor into a valid image\n",
        "def deprocess_image(x):\n",
        "    # normalize tensor: center on 0., ensure std is 0.1\n",
        "    x -= x.mean()\n",
        "    x /= (x.std() + 1e-5)\n",
        "    x *= 0.1\n",
        "\n",
        "    # clip to [0, 1]\n",
        "    x += 0.5\n",
        "    x = np.clip(x, 0, 1)\n",
        "\n",
        "    # convert to RGB array\n",
        "    x *= 255\n",
        "    #x = x.transpose((1, 2, 0))\n",
        "    x = np.clip(x, 0, 255).astype('uint8')\n",
        "    return x\n",
        "\n",
        "def vis_img_in_filter(img = np.array(X_train[2]).reshape((1, 28, 28, 1)).astype(np.float64), \n",
        "                      layer_name = 'conv2d_2'):  \n",
        "    layer_output = layer_dict[layer_name].output\n",
        "    img_ascs = list()\n",
        "    for filter_index in range(layer_output.shape[3]):\n",
        "        # build a loss function that maximizes the activation\n",
        "        # of the nth filter of the layer considered\n",
        "        loss = K.mean(layer_output[:, :, :, filter_index])\n",
        "\n",
        "        # compute the gradient of the input picture wrt this loss\n",
        "        grads = K.gradients(loss, model.input)[0]\n",
        "\n",
        "        # normalization trick: we normalize the gradient\n",
        "        grads /= (K.sqrt(K.mean(K.square(grads))) + 1e-5)\n",
        "\n",
        "        # this function returns the loss and grads given the input picture\n",
        "        iterate = K.function([model.input], [loss, grads])\n",
        "\n",
        "        # step size for gradient ascent\n",
        "        step = 5.\n",
        "\n",
        "        img_asc = np.array(img)\n",
        "        # run gradient ascent for 20 steps\n",
        "        for i in range(20):\n",
        "            loss_value, grads_value = iterate([img_asc])\n",
        "            img_asc += grads_value * step\n",
        "\n",
        "        img_asc = img_asc[0]\n",
        "        img_ascs.append(deprocess_image(img_asc).reshape((28, 28)))\n",
        "        \n",
        "    if layer_output.shape[3] >= 35:\n",
        "        plot_x, plot_y = 6, 6\n",
        "    elif layer_output.shape[3] >= 23:\n",
        "        plot_x, plot_y = 4, 6\n",
        "    elif layer_output.shape[3] >= 11:\n",
        "        plot_x, plot_y = 2, 6\n",
        "    else:\n",
        "        plot_x, plot_y = 1, 2\n",
        "    fig, ax = plt.subplots(plot_x, plot_y, figsize = (12, 12))\n",
        "    ax[0, 0].imshow(img.reshape((28, 28)), cmap = 'gray')\n",
        "    ax[0, 0].set_title('Input image')\n",
        "    fig.suptitle('Input image and %s filters' % (layer_name,))\n",
        "    fig.tight_layout(pad = 0.3, rect = [0, 0, 0.9, 0.9])\n",
        "    for (x, y) in [(i, j) for i in range(plot_x) for j in range(plot_y)]:\n",
        "        if x == 0 and y == 0:\n",
        "            continue\n",
        "        ax[x, y].imshow(img_ascs[x * plot_y + y - 1], cmap = 'gray')\n",
        "        ax[x, y].set_title('filter %d' % (x * plot_y + y - 1))\n",
        "\n",
        "vis_img_in_filter()"
      ],
      "execution_count": 0,
      "outputs": []
    }
  ]
}