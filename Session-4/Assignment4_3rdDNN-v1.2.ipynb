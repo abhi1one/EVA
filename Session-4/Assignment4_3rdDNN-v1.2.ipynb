{
  "nbformat": 4,
  "nbformat_minor": 0,
  "metadata": {
    "colab": {
      "name": "Assignment4-3rdDNN.ipynb",
      "version": "0.3.2",
      "provenance": [],
      "collapsed_sections": []
    },
    "kernelspec": {
      "name": "python3",
      "display_name": "Python 3"
    },
    "accelerator": "GPU"
  },
  "cells": [
    {
      "cell_type": "markdown",
      "metadata": {
        "id": "aNyZv-Ec52ot",
        "colab_type": "text"
      },
      "source": [
        "# **3rd DNN**\n",
        "\n",
        "**3rd network DNN Thinking about**\n",
        "\n",
        "1.Batch Normalization,\n",
        "2. Image Normalization,\n",
        "3. DropOut\n",
        "4. The distance of MaxPooling from Prediction,\n",
        "5. The distance of Batch Normalization from Prediction,\n",
        "6. When do we introduce DropOut, or when do we know we have some overfitting\n",
        "\n",
        "**This is version 1.2  **\n",
        "\n",
        "  Adding Batch normalization in version 1 model for all layers\n",
        "  Changing layer for lower total param\n",
        "  adding drop out twice of 0.2\n",
        "\n",
        "*Result*\n",
        "Increased total Params; Lower over fitting though still  visible\n"
      ]
    },
    {
      "cell_type": "markdown",
      "metadata": {
        "id": "j8FDs1Hx0-o0",
        "colab_type": "text"
      },
      "source": [
        "installing and Importing Keras for current solution"
      ]
    },
    {
      "cell_type": "code",
      "metadata": {
        "id": "3m3w1Cw49Zkt",
        "colab_type": "code",
        "colab": {
          "base_uri": "https://localhost:8080/",
          "height": 34
        },
        "outputId": "fa9346fb-2ed7-44fa-e656-669240a9083e"
      },
      "source": [
        "# https://keras.io/\n",
        "!pip install -q keras\n",
        "import keras"
      ],
      "execution_count": 1,
      "outputs": [
        {
          "output_type": "stream",
          "text": [
            "Using TensorFlow backend.\n"
          ],
          "name": "stderr"
        }
      ]
    },
    {
      "cell_type": "markdown",
      "metadata": {
        "id": "N-qhHUhK1Ggp",
        "colab_type": "text"
      },
      "source": [
        "Importing Numpy and Keras modules as well as mnist data set."
      ]
    },
    {
      "cell_type": "code",
      "metadata": {
        "id": "Eso6UHE080D4",
        "colab_type": "code",
        "colab": {}
      },
      "source": [
        "import numpy as np\n",
        "\n",
        "from keras.models import Sequential\n",
        "from keras.layers import Dense, Dropout, Activation, Flatten, Add\n",
        "from keras.layers import Convolution2D, MaxPooling2D\n",
        "from keras.utils import np_utils\n",
        "\n",
        "from keras.datasets import mnist"
      ],
      "execution_count": 0,
      "outputs": []
    },
    {
      "cell_type": "markdown",
      "metadata": {
        "id": "zByEi95J86RD",
        "colab_type": "text"
      },
      "source": [
        "### Load pre-shuffled MNIST data into train and test sets"
      ]
    },
    {
      "cell_type": "markdown",
      "metadata": {
        "id": "yxPvMT_21Mhy",
        "colab_type": "text"
      },
      "source": [
        "Loading mnist data set in train and test variables."
      ]
    },
    {
      "cell_type": "code",
      "metadata": {
        "id": "7eRM0QWN83PV",
        "colab_type": "code",
        "colab": {}
      },
      "source": [
        "(X_train, y_train), (X_test, y_test) = mnist.load_data()"
      ],
      "execution_count": 0,
      "outputs": []
    },
    {
      "cell_type": "markdown",
      "metadata": {
        "id": "9SMpZZpo1Sv0",
        "colab_type": "text"
      },
      "source": [
        "Ploting sample from train data set."
      ]
    },
    {
      "cell_type": "code",
      "metadata": {
        "id": "4a4Be72j8-ZC",
        "colab_type": "code",
        "outputId": "3b703888-a773-4f52-d6b1-0680bd64cb04",
        "colab": {
          "base_uri": "https://localhost:8080/",
          "height": 303
        }
      },
      "source": [
        "print (X_train.shape)\n",
        "from matplotlib import pyplot as plt\n",
        "%matplotlib inline\n",
        "plt.imshow(X_train[0])"
      ],
      "execution_count": 4,
      "outputs": [
        {
          "output_type": "stream",
          "text": [
            "(60000, 28, 28)\n"
          ],
          "name": "stdout"
        },
        {
          "output_type": "execute_result",
          "data": {
            "text/plain": [
              "<matplotlib.image.AxesImage at 0x7f1a9f375b00>"
            ]
          },
          "metadata": {
            "tags": []
          },
          "execution_count": 4
        },
        {
          "output_type": "display_data",
          "data": {
            "image/png": "[encoded data removed]",
            "text/plain": [
              "<Figure size 432x288 with 1 Axes>"
            ]
          },
          "metadata": {
            "tags": []
          }
        }
      ]
    },
    {
      "cell_type": "markdown",
      "metadata": {
        "id": "N1AM8Fy81X1n",
        "colab_type": "text"
      },
      "source": [
        "Reshaping all train and test data to a uniform size."
      ]
    },
    {
      "cell_type": "code",
      "metadata": {
        "id": "dkmprriw9AnZ",
        "colab_type": "code",
        "colab": {}
      },
      "source": [
        "X_train = X_train.reshape(X_train.shape[0], 28, 28,1)\n",
        "X_test = X_test.reshape(X_test.shape[0], 28, 28,1)"
      ],
      "execution_count": 0,
      "outputs": []
    },
    {
      "cell_type": "markdown",
      "metadata": {
        "id": "tjr4ODS81eUc",
        "colab_type": "text"
      },
      "source": [
        "Regularizing train and test data for float data type and division wiht 255"
      ]
    },
    {
      "cell_type": "code",
      "metadata": {
        "id": "X2m4YS4E9CRh",
        "colab_type": "code",
        "colab": {}
      },
      "source": [
        "X_train = X_train.astype('float32')\n",
        "X_test = X_test.astype('float32')\n",
        "X_train /= 255\n",
        "X_test /= 255"
      ],
      "execution_count": 0,
      "outputs": []
    },
    {
      "cell_type": "markdown",
      "metadata": {
        "id": "lDZ-v1na1okY",
        "colab_type": "text"
      },
      "source": [
        "Visualizing train out put"
      ]
    },
    {
      "cell_type": "code",
      "metadata": {
        "id": "0Mn0vAYD9DvB",
        "colab_type": "code",
        "outputId": "a46d00a2-64e9-4d52-8234-345348e8b88b",
        "colab": {
          "base_uri": "https://localhost:8080/",
          "height": 34
        }
      },
      "source": [
        "y_train[:10]"
      ],
      "execution_count": 7,
      "outputs": [
        {
          "output_type": "execute_result",
          "data": {
            "text/plain": [
              "array([5, 0, 4, 1, 9, 2, 1, 3, 1, 4], dtype=uint8)"
            ]
          },
          "metadata": {
            "tags": []
          },
          "execution_count": 7
        }
      ]
    },
    {
      "cell_type": "markdown",
      "metadata": {
        "id": "ZCLqRA3o1wFq",
        "colab_type": "text"
      },
      "source": [
        "Convert 1-dimensional class arrays to 10-dimensional class matrices"
      ]
    },
    {
      "cell_type": "code",
      "metadata": {
        "id": "ZG8JiXR39FHC",
        "colab_type": "code",
        "colab": {}
      },
      "source": [
        "# Convert 1-dimensional class arrays to 10-dimensional class matrices\n",
        "Y_train = np_utils.to_categorical(y_train, 10)\n",
        "Y_test = np_utils.to_categorical(y_test, 10)"
      ],
      "execution_count": 0,
      "outputs": []
    },
    {
      "cell_type": "markdown",
      "metadata": {
        "id": "kXmnovfn1yew",
        "colab_type": "text"
      },
      "source": [
        "Viewing tranformed train out put matrix"
      ]
    },
    {
      "cell_type": "code",
      "metadata": {
        "id": "fYlFRvKS9HMB",
        "colab_type": "code",
        "outputId": "0c818476-12c5-42cb-b6b1-de7962c90f19",
        "colab": {
          "base_uri": "https://localhost:8080/",
          "height": 187
        }
      },
      "source": [
        "Y_train[:10]\n"
      ],
      "execution_count": 9,
      "outputs": [
        {
          "output_type": "execute_result",
          "data": {
            "text/plain": [
              "array([[0., 0., 0., 0., 0., 1., 0., 0., 0., 0.],\n",
              "       [1., 0., 0., 0., 0., 0., 0., 0., 0., 0.],\n",
              "       [0., 0., 0., 0., 1., 0., 0., 0., 0., 0.],\n",
              "       [0., 1., 0., 0., 0., 0., 0., 0., 0., 0.],\n",
              "       [0., 0., 0., 0., 0., 0., 0., 0., 0., 1.],\n",
              "       [0., 0., 1., 0., 0., 0., 0., 0., 0., 0.],\n",
              "       [0., 1., 0., 0., 0., 0., 0., 0., 0., 0.],\n",
              "       [0., 0., 0., 1., 0., 0., 0., 0., 0., 0.],\n",
              "       [0., 1., 0., 0., 0., 0., 0., 0., 0., 0.],\n",
              "       [0., 0., 0., 0., 1., 0., 0., 0., 0., 0.]], dtype=float32)"
            ]
          },
          "metadata": {
            "tags": []
          },
          "execution_count": 9
        }
      ]
    },
    {
      "cell_type": "markdown",
      "metadata": {
        "id": "Z2PFtTZq127m",
        "colab_type": "text"
      },
      "source": [
        "* Adding Batch normalization in version 1 model for all layers\n",
        "* Changing layer for lower total param\n",
        "* Adding drop out twice of 0.2"
      ]
    },
    {
      "cell_type": "code",
      "metadata": {
        "id": "osKqT73Q9JJB",
        "colab_type": "code",
        "outputId": "f614ab29-ef5a-40b8-9538-83d9bdfda105",
        "colab": {
          "base_uri": "https://localhost:8080/",
          "height": 224
        }
      },
      "source": [
        "from keras.layers import Activation, BatchNormalization\n",
        "model = Sequential()\n",
        "\n",
        "#Vanilla\n",
        "''' \n",
        "model.add(Convolution2D(32, 3, 3, activation='relu', input_shape=(28,28,1)))\n",
        "model.add(Convolution2D(10, 1, activation='relu'))\n",
        "model.add(Convolution2D(10, 26))\n",
        "'''\n",
        "\n",
        "#1st version \n",
        "''''''\n",
        "model.add(Convolution2D(8, 3, 3, activation='relu', input_shape=(28,28,1)))\n",
        "model.add(BatchNormalization())\n",
        "\n",
        "model.add(Convolution2D(8, 3, 3, activation='relu')) #input 26,26 #RF 3X3\n",
        "model.add(BatchNormalization())\n",
        "\n",
        "model.add(Convolution2D(8, 3, 3, activation='relu')) #input 24,24 #RF 7X7\n",
        "model.add(BatchNormalization())\n",
        "\n",
        "model.add(Convolution2D(8, 3, 3, activation='relu')) #input 22,22 #RF 9X9\n",
        "model.add(BatchNormalization())\n",
        "\n",
        "model.add(Dropout(0.2))\n",
        "\n",
        "model.add(Convolution2D(8, 3, 3, activation='relu')) #input 20,20 #RF 11X11\n",
        "model.add(BatchNormalization())\n",
        "\n",
        "model.add(Convolution2D(8, 3, 3, activation='relu')) #input 18,18 #RF 13X13\n",
        "model.add(BatchNormalization())\n",
        "\n",
        "model.add(Convolution2D(8, 3, 3, activation='relu')) #input 16,16 #RF 15X15\n",
        "model.add(BatchNormalization())\n",
        "\n",
        "model.add(Convolution2D(8, 3, 3, activation='relu')) #input 14,14 #RF 17X17\n",
        "model.add(BatchNormalization())\n",
        "\n",
        "model.add(Dropout(0.2))\n",
        "\n",
        "model.add(Convolution2D(4, 3, 3, activation='relu')) #input 12,12 #RF 19X19\n",
        "model.add(BatchNormalization())\n",
        "\n",
        "model.add(Convolution2D(10, 1)) #input 10,10 \n",
        "model.add(BatchNormalization())\n",
        "\n",
        "model.add(Convolution2D(10, 10)) #input 10,10\n",
        "\n",
        "\n",
        "#2nd version \n",
        "'''\n",
        "model.add(Convolution2D(16, 3, 3, activation='relu', input_shape=(28,28,1)))\n",
        "model.add(BatchNormalization())\n",
        "\n",
        "model.add(Convolution2D(16, 3, 3, activation='relu')) #input 26,26 #RF 3X3\n",
        "model.add(BatchNormalization())\n",
        "\n",
        "model.add(Convolution2D(16, 3, 3, activation='relu')) #input 24,24 #RF 7X7\n",
        "model.add(BatchNormalization())\n",
        "\n",
        "model.add(Dropout(0.2))\n",
        "\n",
        "model.add(MaxPooling2D(pool_size=(2, 2))) #input 22,22 #RF 14X14\n",
        "model.add(Convolution2D(8, 3, 3, activation='relu')) #input 11,11 #RF 16X16\n",
        "model.add(BatchNormalization())\n",
        "\n",
        "model.add(Dropout(0.2))\n",
        "\n",
        "model.add(Convolution2D(10, 1, activation='relu')) #input 9,9\n",
        "model.add(Convolution2D(10, 9)) #input 9X9\n",
        "'''\n",
        "\n",
        "#3rd version \n",
        "'''\n",
        "model.add(Convolution2D(16, 3, 3, activation='relu', input_shape=(28,28,1)))\n",
        "model.add(BatchNormalization())\n",
        "\n",
        "model.add(Dropout(0.2))\n",
        "\n",
        "model.add(Convolution2D(16, 3, 3, activation='relu')) #input 26,26 #RF 3X3\n",
        "model.add(BatchNormalization())\n",
        "\n",
        "model.add(MaxPooling2D(pool_size=(2, 2))) #input 24,24 #RF 6X6\n",
        "\n",
        "model.add(Convolution2D(16, 3, 3, activation='relu')) #input 12,12 #RF 8X8\n",
        "model.add(BatchNormalization())\n",
        "\n",
        "model.add(Dropout(0.2))\n",
        "\n",
        "model.add(Convolution2D(10, 1, activation='relu')) #input 9,9\n",
        "model.add(Convolution2D(10, 10)) #input 9X9\n",
        "'''\n",
        "\n",
        "model.add(Flatten())\n",
        "model.add(Activation('softmax'))"
      ],
      "execution_count": 25,
      "outputs": [
        {
          "output_type": "stream",
          "text": [
            "/usr/local/lib/python3.6/dist-packages/ipykernel_launcher.py:13: UserWarning: Update your `Conv2D` call to the Keras 2 API: `Conv2D(8, (3, 3), activation=\"relu\", input_shape=(28, 28, 1...)`\n",
            "  del sys.path[0]\n",
            "/usr/local/lib/python3.6/dist-packages/ipykernel_launcher.py:16: UserWarning: Update your `Conv2D` call to the Keras 2 API: `Conv2D(8, (3, 3), activation=\"relu\")`\n",
            "  app.launch_new_instance()\n",
            "/usr/local/lib/python3.6/dist-packages/ipykernel_launcher.py:19: UserWarning: Update your `Conv2D` call to the Keras 2 API: `Conv2D(8, (3, 3), activation=\"relu\")`\n",
            "/usr/local/lib/python3.6/dist-packages/ipykernel_launcher.py:22: UserWarning: Update your `Conv2D` call to the Keras 2 API: `Conv2D(8, (3, 3), activation=\"relu\")`\n",
            "/usr/local/lib/python3.6/dist-packages/ipykernel_launcher.py:27: UserWarning: Update your `Conv2D` call to the Keras 2 API: `Conv2D(8, (3, 3), activation=\"relu\")`\n",
            "/usr/local/lib/python3.6/dist-packages/ipykernel_launcher.py:30: UserWarning: Update your `Conv2D` call to the Keras 2 API: `Conv2D(8, (3, 3), activation=\"relu\")`\n",
            "/usr/local/lib/python3.6/dist-packages/ipykernel_launcher.py:33: UserWarning: Update your `Conv2D` call to the Keras 2 API: `Conv2D(8, (3, 3), activation=\"relu\")`\n",
            "/usr/local/lib/python3.6/dist-packages/ipykernel_launcher.py:36: UserWarning: Update your `Conv2D` call to the Keras 2 API: `Conv2D(8, (3, 3), activation=\"relu\")`\n",
            "/usr/local/lib/python3.6/dist-packages/ipykernel_launcher.py:41: UserWarning: Update your `Conv2D` call to the Keras 2 API: `Conv2D(4, (3, 3), activation=\"relu\")`\n"
          ],
          "name": "stderr"
        }
      ]
    },
    {
      "cell_type": "markdown",
      "metadata": {
        "id": "T1mq9MtB2GgQ",
        "colab_type": "text"
      },
      "source": [
        "Printing model summary to understand current paramaters for the model. "
      ]
    },
    {
      "cell_type": "code",
      "metadata": {
        "id": "TzdAYg1k9K7Z",
        "colab_type": "code",
        "outputId": "af36e3b8-a3e8-4bca-f4e9-45e454b0feaf",
        "colab": {
          "base_uri": "https://localhost:8080/",
          "height": 986
        }
      },
      "source": [
        "model.summary()"
      ],
      "execution_count": 26,
      "outputs": [
        {
          "output_type": "stream",
          "text": [
            "_________________________________________________________________\n",
            "Layer (type)                 Output Shape              Param #   \n",
            "=================================================================\n",
            "conv2d_34 (Conv2D)           (None, 26, 26, 8)         80        \n",
            "_________________________________________________________________\n",
            "batch_normalization_30 (Batc (None, 26, 26, 8)         32        \n",
            "_________________________________________________________________\n",
            "conv2d_35 (Conv2D)           (None, 24, 24, 8)         584       \n",
            "_________________________________________________________________\n",
            "batch_normalization_31 (Batc (None, 24, 24, 8)         32        \n",
            "_________________________________________________________________\n",
            "conv2d_36 (Conv2D)           (None, 22, 22, 8)         584       \n",
            "_________________________________________________________________\n",
            "batch_normalization_32 (Batc (None, 22, 22, 8)         32        \n",
            "_________________________________________________________________\n",
            "conv2d_37 (Conv2D)           (None, 20, 20, 8)         584       \n",
            "_________________________________________________________________\n",
            "batch_normalization_33 (Batc (None, 20, 20, 8)         32        \n",
            "_________________________________________________________________\n",
            "dropout_5 (Dropout)          (None, 20, 20, 8)         0         \n",
            "_________________________________________________________________\n",
            "conv2d_38 (Conv2D)           (None, 18, 18, 8)         584       \n",
            "_________________________________________________________________\n",
            "batch_normalization_34 (Batc (None, 18, 18, 8)         32        \n",
            "_________________________________________________________________\n",
            "conv2d_39 (Conv2D)           (None, 16, 16, 8)         584       \n",
            "_________________________________________________________________\n",
            "batch_normalization_35 (Batc (None, 16, 16, 8)         32        \n",
            "_________________________________________________________________\n",
            "conv2d_40 (Conv2D)           (None, 14, 14, 8)         584       \n",
            "_________________________________________________________________\n",
            "batch_normalization_36 (Batc (None, 14, 14, 8)         32        \n",
            "_________________________________________________________________\n",
            "conv2d_41 (Conv2D)           (None, 12, 12, 8)         584       \n",
            "_________________________________________________________________\n",
            "batch_normalization_37 (Batc (None, 12, 12, 8)         32        \n",
            "_________________________________________________________________\n",
            "dropout_6 (Dropout)          (None, 12, 12, 8)         0         \n",
            "_________________________________________________________________\n",
            "conv2d_42 (Conv2D)           (None, 10, 10, 4)         292       \n",
            "_________________________________________________________________\n",
            "batch_normalization_38 (Batc (None, 10, 10, 4)         16        \n",
            "_________________________________________________________________\n",
            "conv2d_43 (Conv2D)           (None, 10, 10, 10)        50        \n",
            "_________________________________________________________________\n",
            "batch_normalization_39 (Batc (None, 10, 10, 10)        40        \n",
            "_________________________________________________________________\n",
            "conv2d_44 (Conv2D)           (None, 1, 1, 10)          10010     \n",
            "_________________________________________________________________\n",
            "flatten_4 (Flatten)          (None, 10)                0         \n",
            "_________________________________________________________________\n",
            "activation_4 (Activation)    (None, 10)                0         \n",
            "=================================================================\n",
            "Total params: 14,832\n",
            "Trainable params: 14,676\n",
            "Non-trainable params: 156\n",
            "_________________________________________________________________\n"
          ],
          "name": "stdout"
        }
      ]
    },
    {
      "cell_type": "markdown",
      "metadata": {
        "id": "VlnhdT4u2Owz",
        "colab_type": "text"
      },
      "source": [
        "Setting model's compile environment with loss function, optimizer and matrics."
      ]
    },
    {
      "cell_type": "code",
      "metadata": {
        "id": "Zp6SuGrL9M3h",
        "colab_type": "code",
        "colab": {}
      },
      "source": [
        "model.compile(loss='categorical_crossentropy',\n",
        "             optimizer='adam',\n",
        "             metrics=['accuracy'])"
      ],
      "execution_count": 0,
      "outputs": []
    },
    {
      "cell_type": "markdown",
      "metadata": {
        "id": "06jT2a0t2Vpj",
        "colab_type": "text"
      },
      "source": [
        "Training model for 20 epoch for 32 batch size"
      ]
    },
    {
      "cell_type": "code",
      "metadata": {
        "id": "4xWoKhPY9Of5",
        "colab_type": "code",
        "outputId": "b2fe4a91-9336-4381-fdd5-b1da655d1d99",
        "colab": {
          "base_uri": "https://localhost:8080/",
          "height": 748
        }
      },
      "source": [
        "history = model.fit(X_train, Y_train, batch_size=32, nb_epoch=20, verbose=1, validation_data=(X_test, Y_test))"
      ],
      "execution_count": 28,
      "outputs": [
        {
          "output_type": "stream",
          "text": [
            "/usr/local/lib/python3.6/dist-packages/ipykernel_launcher.py:1: UserWarning: The `nb_epoch` argument in `fit` has been renamed `epochs`.\n",
            "  \"\"\"Entry point for launching an IPython kernel.\n"
          ],
          "name": "stderr"
        },
        {
          "output_type": "stream",
          "text": [
            "Train on 60000 samples, validate on 10000 samples\n",
            "Epoch 1/20\n",
            "60000/60000 [==============================] - 31s 509us/step - loss: 0.2775 - acc: 0.9124 - val_loss: 0.1170 - val_acc: 0.9662\n",
            "Epoch 2/20\n",
            "60000/60000 [==============================] - 28s 470us/step - loss: 0.1134 - acc: 0.9650 - val_loss: 0.0888 - val_acc: 0.9732\n",
            "Epoch 3/20\n",
            "60000/60000 [==============================] - 27s 444us/step - loss: 0.0930 - acc: 0.9720 - val_loss: 0.0658 - val_acc: 0.9822\n",
            "Epoch 4/20\n",
            "60000/60000 [==============================] - 28s 463us/step - loss: 0.0815 - acc: 0.9747 - val_loss: 0.0630 - val_acc: 0.9793\n",
            "Epoch 5/20\n",
            "60000/60000 [==============================] - 27s 443us/step - loss: 0.0723 - acc: 0.9779 - val_loss: 0.0531 - val_acc: 0.9852\n",
            "Epoch 6/20\n",
            "60000/60000 [==============================] - 27s 444us/step - loss: 0.0695 - acc: 0.9786 - val_loss: 0.0432 - val_acc: 0.9864\n",
            "Epoch 7/20\n",
            "60000/60000 [==============================] - 28s 461us/step - loss: 0.0634 - acc: 0.9801 - val_loss: 0.0452 - val_acc: 0.9855\n",
            "Epoch 8/20\n",
            "60000/60000 [==============================] - 27s 447us/step - loss: 0.0604 - acc: 0.9805 - val_loss: 0.0437 - val_acc: 0.9862\n",
            "Epoch 9/20\n",
            "60000/60000 [==============================] - 27s 447us/step - loss: 0.0570 - acc: 0.9823 - val_loss: 0.0431 - val_acc: 0.9859\n",
            "Epoch 10/20\n",
            "60000/60000 [==============================] - 28s 460us/step - loss: 0.0553 - acc: 0.9824 - val_loss: 0.0458 - val_acc: 0.9851\n",
            "Epoch 11/20\n",
            "60000/60000 [==============================] - 26s 439us/step - loss: 0.0523 - acc: 0.9836 - val_loss: 0.0444 - val_acc: 0.9858\n",
            "Epoch 12/20\n",
            "60000/60000 [==============================] - 26s 439us/step - loss: 0.0515 - acc: 0.9839 - val_loss: 0.0444 - val_acc: 0.9838\n",
            "Epoch 13/20\n",
            "60000/60000 [==============================] - 29s 482us/step - loss: 0.0510 - acc: 0.9842 - val_loss: 0.0401 - val_acc: 0.9873\n",
            "Epoch 14/20\n",
            "60000/60000 [==============================] - 27s 443us/step - loss: 0.0476 - acc: 0.9853 - val_loss: 0.0437 - val_acc: 0.9860\n",
            "Epoch 15/20\n",
            "60000/60000 [==============================] - 26s 441us/step - loss: 0.0463 - acc: 0.9854 - val_loss: 0.0360 - val_acc: 0.9896\n",
            "Epoch 16/20\n",
            "60000/60000 [==============================] - 28s 460us/step - loss: 0.0462 - acc: 0.9854 - val_loss: 0.0360 - val_acc: 0.9878\n",
            "Epoch 17/20\n",
            "60000/60000 [==============================] - 26s 441us/step - loss: 0.0451 - acc: 0.9857 - val_loss: 0.0376 - val_acc: 0.9880\n",
            "Epoch 18/20\n",
            "60000/60000 [==============================] - 26s 438us/step - loss: 0.0430 - acc: 0.9859 - val_loss: 0.0371 - val_acc: 0.9884\n",
            "Epoch 19/20\n",
            "60000/60000 [==============================] - 28s 460us/step - loss: 0.0433 - acc: 0.9862 - val_loss: 0.0315 - val_acc: 0.9902\n",
            "Epoch 20/20\n",
            "60000/60000 [==============================] - 27s 451us/step - loss: 0.0393 - acc: 0.9877 - val_loss: 0.0352 - val_acc: 0.9896\n"
          ],
          "name": "stdout"
        }
      ]
    },
    {
      "cell_type": "markdown",
      "metadata": {
        "id": "3_0_UAU1M1wP",
        "colab_type": "text"
      },
      "source": [
        "Plotting training and validation accuracty as well as loss for every epoch"
      ]
    },
    {
      "cell_type": "code",
      "metadata": {
        "id": "9tvptcn8dxvp",
        "colab_type": "code",
        "outputId": "3bcf55f2-97ae-4ec6-ad4d-3a6fcdbf3698",
        "colab": {
          "base_uri": "https://localhost:8080/",
          "height": 573
        }
      },
      "source": [
        "import matplotlib.pyplot as plt\n",
        "\n",
        "#history = model.fit(x, y, validation_split=0.25, epochs=50, batch_size=16, verbose=1)\n",
        "\n",
        "# Plot training & validation accuracy values\n",
        "plt.plot(history.history['acc'])\n",
        "plt.plot(history.history['val_acc'])\n",
        "plt.title('Model accuracy')\n",
        "plt.ylabel('Accuracy')\n",
        "plt.xlabel('Epoch')\n",
        "plt.legend(['Train', 'Test'], loc='upper left')\n",
        "plt.show()\n",
        "\n",
        "# Plot training & validation loss values\n",
        "plt.plot(history.history['loss'])\n",
        "plt.plot(history.history['val_loss'])\n",
        "plt.title('Model loss')\n",
        "plt.ylabel('Loss')\n",
        "plt.xlabel('Epoch')\n",
        "plt.legend(['Train', 'Test'], loc='upper left')\n",
        "plt.show()"
      ],
      "execution_count": 29,
      "outputs": [
        {
          "output_type": "display_data",
          "data": {
            "image/png": "[encoded data removed]",
            "text/plain": [
              "<Figure size 432x288 with 1 Axes>"
            ]
          },
          "metadata": {
            "tags": []
          }
        },
        {
          "output_type": "display_data",
          "data": {
            "image/png": "[encoded data removed]",
            "text/plain": [
              "<Figure size 432x288 with 1 Axes>"
            ]
          },
          "metadata": {
            "tags": []
          }
        }
      ]
    },
    {
      "cell_type": "markdown",
      "metadata": {
        "colab_type": "text",
        "id": "UyH8P1SaNYYZ"
      },
      "source": [
        "Evaluating model and storing score in a variable."
      ]
    },
    {
      "cell_type": "code",
      "metadata": {
        "colab_type": "code",
        "id": "_eDU0sXWNXmE",
        "colab": {}
      },
      "source": [
        "score = model.evaluate(X_test, Y_test, verbose=0)"
      ],
      "execution_count": 0,
      "outputs": []
    },
    {
      "cell_type": "markdown",
      "metadata": {
        "colab_type": "text",
        "id": "_weXQQMkNWk1"
      },
      "source": [
        "Printing loss and accuracy of model test done in last step"
      ]
    },
    {
      "cell_type": "code",
      "metadata": {
        "id": "mkX8JMv79q9r",
        "colab_type": "code",
        "outputId": "72eb1433-d118-4c1f-9d22-d311c18c8210",
        "colab": {
          "base_uri": "https://localhost:8080/",
          "height": 34
        }
      },
      "source": [
        "print(score)"
      ],
      "execution_count": 31,
      "outputs": [
        {
          "output_type": "stream",
          "text": [
            "[0.035249602194014004, 0.9896]\n"
          ],
          "name": "stdout"
        }
      ]
    },
    {
      "cell_type": "markdown",
      "metadata": {
        "id": "Ed35zlSB37Mm",
        "colab_type": "text"
      },
      "source": [
        "Predicting out put for test inputs"
      ]
    },
    {
      "cell_type": "code",
      "metadata": {
        "id": "OCWoJkwE9suh",
        "colab_type": "code",
        "colab": {}
      },
      "source": [
        "y_pred = model.predict(X_test)"
      ],
      "execution_count": 0,
      "outputs": []
    },
    {
      "cell_type": "markdown",
      "metadata": {
        "id": "8INoWoRT4BBu",
        "colab_type": "text"
      },
      "source": [
        "Printing prediction and test out puts "
      ]
    },
    {
      "cell_type": "code",
      "metadata": {
        "id": "Ym7iCFBm9uBs",
        "colab_type": "code",
        "outputId": "23bfa92a-402d-4fde-d943-92ee36e3c3d9",
        "colab": {
          "base_uri": "https://localhost:8080/",
          "height": 493
        }
      },
      "source": [
        "print(y_pred[:9])\n",
        "print(y_test[:9])"
      ],
      "execution_count": 33,
      "outputs": [
        {
          "output_type": "stream",
          "text": [
            "[[1.46714230e-09 3.21471239e-10 2.25826668e-07 2.39828501e-06\n",
            "  1.01456005e-11 6.77169570e-11 1.05312189e-15 9.99997377e-01\n",
            "  3.98509073e-11 1.58883093e-08]\n",
            " [4.47240527e-05 5.93651310e-02 9.40558076e-01 4.42915706e-07\n",
            "  2.41732346e-06 7.50019012e-07 2.81360153e-05 6.46265477e-08\n",
            "  1.94671429e-07 1.62821276e-08]\n",
            " [3.03782386e-08 9.99973774e-01 4.97632243e-07 1.55909170e-08\n",
            "  1.05228264e-06 9.90381409e-07 1.13565424e-08 2.35597217e-05\n",
            "  9.07222031e-09 8.71921699e-08]\n",
            " [9.98367608e-01 3.05686171e-07 3.83811511e-07 4.09787155e-08\n",
            "  6.18372042e-06 1.08229025e-04 1.43613422e-03 1.99619112e-08\n",
            "  9.78317621e-06 7.12174733e-05]\n",
            " [2.32968684e-08 3.95534300e-11 2.85683055e-09 4.25882107e-11\n",
            "  9.99983311e-01 1.25806621e-09 2.46426197e-07 2.55935229e-09\n",
            "  4.09243995e-07 1.60541131e-05]\n",
            " [5.05780662e-08 9.99992013e-01 3.38968647e-07 8.39911962e-09\n",
            "  8.90134970e-07 4.65402735e-07 1.99779979e-08 6.09501149e-06\n",
            "  2.72291913e-08 7.27371798e-08]\n",
            " [4.60204384e-14 2.97066016e-08 3.85680876e-10 5.44451186e-11\n",
            "  9.98569846e-01 1.59470395e-10 6.94215952e-13 8.39054002e-04\n",
            "  2.08737561e-06 5.88914379e-04]\n",
            " [6.24083256e-08 6.11433677e-08 8.94535042e-05 6.04443776e-05\n",
            "  6.15538061e-02 2.04294520e-06 1.73542141e-08 2.57854799e-06\n",
            "  2.39258423e-03 9.35898900e-01]\n",
            " [7.19764785e-07 4.26773722e-14 2.61747846e-10 1.73714099e-09\n",
            "  6.21737340e-12 7.66895592e-01 9.96144712e-02 3.03608287e-15\n",
            "  1.33487925e-01 1.28496617e-06]]\n",
            "[7 2 1 0 4 1 4 9 5]\n"
          ],
          "name": "stdout"
        }
      ]
    },
    {
      "cell_type": "code",
      "metadata": {
        "id": "CT--y98_dr2T",
        "colab_type": "code",
        "outputId": "9c80cf38-7351-42f0-9956-ff654bbe2379",
        "colab": {
          "base_uri": "https://localhost:8080/",
          "height": 442
        }
      },
      "source": [
        "layer_dict = dict([(layer.name, layer) for layer in model.layers])\n",
        "layer_dict"
      ],
      "execution_count": 34,
      "outputs": [
        {
          "output_type": "execute_result",
          "data": {
            "text/plain": [
              "{'activation_4': <keras.layers.core.Activation at 0x7f1a587cfa90>,\n",
              " 'batch_normalization_30': <keras.layers.normalization.BatchNormalization at 0x7f1a590814a8>,\n",
              " 'batch_normalization_31': <keras.layers.normalization.BatchNormalization at 0x7f1a590aa4a8>,\n",
              " 'batch_normalization_32': <keras.layers.normalization.BatchNormalization at 0x7f1a590496d8>,\n",
              " 'batch_normalization_33': <keras.layers.normalization.BatchNormalization at 0x7f1a58f4aac8>,\n",
              " 'batch_normalization_34': <keras.layers.normalization.BatchNormalization at 0x7f1a58eaa780>,\n",
              " 'batch_normalization_35': <keras.layers.normalization.BatchNormalization at 0x7f1a58d0d320>,\n",
              " 'batch_normalization_36': <keras.layers.normalization.BatchNormalization at 0x7f1a58bc6d30>,\n",
              " 'batch_normalization_37': <keras.layers.normalization.BatchNormalization at 0x7f1a58b1e978>,\n",
              " 'batch_normalization_38': <keras.layers.normalization.BatchNormalization at 0x7f1a58a48e80>,\n",
              " 'batch_normalization_39': <keras.layers.normalization.BatchNormalization at 0x7f1a5887ec18>,\n",
              " 'conv2d_34': <keras.layers.convolutional.Conv2D at 0x7f1a59081dd8>,\n",
              " 'conv2d_35': <keras.layers.convolutional.Conv2D at 0x7f1a59081f98>,\n",
              " 'conv2d_36': <keras.layers.convolutional.Conv2D at 0x7f1a59004470>,\n",
              " 'conv2d_37': <keras.layers.convolutional.Conv2D at 0x7f1a58f7c2b0>,\n",
              " 'conv2d_38': <keras.layers.convolutional.Conv2D at 0x7f1a58e0ff98>,\n",
              " 'conv2d_39': <keras.layers.convolutional.Conv2D at 0x7f1a58d528d0>,\n",
              " 'conv2d_40': <keras.layers.convolutional.Conv2D at 0x7f1a58c275f8>,\n",
              " 'conv2d_41': <keras.layers.convolutional.Conv2D at 0x7f1a58b6abe0>,\n",
              " 'conv2d_42': <keras.layers.convolutional.Conv2D at 0x7f1a58a7eb00>,\n",
              " 'conv2d_43': <keras.layers.convolutional.Conv2D at 0x7f1a5892ef98>,\n",
              " 'conv2d_44': <keras.layers.convolutional.Conv2D at 0x7f1a58829908>,\n",
              " 'dropout_5': <keras.layers.core.Dropout at 0x7f1a58e737f0>,\n",
              " 'dropout_6': <keras.layers.core.Dropout at 0x7f1a58944e48>,\n",
              " 'flatten_4': <keras.layers.core.Flatten at 0x7f1a587737f0>}"
            ]
          },
          "metadata": {
            "tags": []
          },
          "execution_count": 34
        }
      ]
    },
    {
      "cell_type": "code",
      "metadata": {
        "id": "2GY4Upv4dsUR",
        "colab_type": "code",
        "colab": {}
      },
      "source": [
        "import numpy as np\n",
        "from matplotlib import pyplot as plt\n",
        "from keras import backend as K\n",
        "%matplotlib inline\n",
        "# util function to convert a tensor into a valid image\n",
        "def deprocess_image(x):\n",
        "    # normalize tensor: center on 0., ensure std is 0.1\n",
        "    x -= x.mean()\n",
        "    x /= (x.std() + 1e-5)\n",
        "    x *= 0.1\n",
        "\n",
        "    # clip to [0, 1]\n",
        "    x += 0.5\n",
        "    x = np.clip(x, 0, 1)\n",
        "\n",
        "    # convert to RGB array\n",
        "    x *= 255\n",
        "    #x = x.transpose((1, 2, 0))\n",
        "    x = np.clip(x, 0, 255).astype('uint8')\n",
        "    return x\n",
        "\n",
        "def vis_img_in_filter(img = np.array(X_train[2]).reshape((1, 28, 28, 1)).astype(np.float64), \n",
        "                      layer_name = 'conv2d_2'):  \n",
        "    layer_output = layer_dict[layer_name].output\n",
        "    img_ascs = list()\n",
        "    for filter_index in range(layer_output.shape[3]):\n",
        "        # build a loss function that maximizes the activation\n",
        "        # of the nth filter of the layer considered\n",
        "        loss = K.mean(layer_output[:, :, :, filter_index])\n",
        "\n",
        "        # compute the gradient of the input picture wrt this loss\n",
        "        grads = K.gradients(loss, model.input)[0]\n",
        "\n",
        "        # normalization trick: we normalize the gradient\n",
        "        grads /= (K.sqrt(K.mean(K.square(grads))) + 1e-5)\n",
        "\n",
        "        # this function returns the loss and grads given the input picture\n",
        "        iterate = K.function([model.input], [loss, grads])\n",
        "\n",
        "        # step size for gradient ascent\n",
        "        step = 5.\n",
        "\n",
        "        img_asc = np.array(img)\n",
        "        # run gradient ascent for 20 steps\n",
        "        for i in range(20):\n",
        "            loss_value, grads_value = iterate([img_asc])\n",
        "            img_asc += grads_value * step\n",
        "\n",
        "        img_asc = img_asc[0]\n",
        "        img_ascs.append(deprocess_image(img_asc).reshape((28, 28)))\n",
        "        \n",
        "    if layer_output.shape[3] >= 35:\n",
        "        plot_x, plot_y = 6, 6\n",
        "    elif layer_output.shape[3] >= 23:\n",
        "        plot_x, plot_y = 4, 6\n",
        "    elif layer_output.shape[3] >= 11:\n",
        "        plot_x, plot_y = 2, 6\n",
        "    else:\n",
        "        plot_x, plot_y = 1, 2\n",
        "    fig, ax = plt.subplots(plot_x, plot_y, figsize = (12, 12))\n",
        "    ax[0, 0].imshow(img.reshape((28, 28)), cmap = 'gray')\n",
        "    ax[0, 0].set_title('Input image')\n",
        "    fig.suptitle('Input image and %s filters' % (layer_name,))\n",
        "    fig.tight_layout(pad = 0.3, rect = [0, 0, 0.9, 0.9])\n",
        "    for (x, y) in [(i, j) for i in range(plot_x) for j in range(plot_y)]:\n",
        "        if x == 0 and y == 0:\n",
        "            continue\n",
        "        ax[x, y].imshow(img_ascs[x * plot_y + y - 1], cmap = 'gray')\n",
        "        ax[x, y].set_title('filter %d' % (x * plot_y + y - 1))\n",
        "\n",
        "vis_img_in_filter()"
      ],
      "execution_count": 0,
      "outputs": []
    }
  ]
}