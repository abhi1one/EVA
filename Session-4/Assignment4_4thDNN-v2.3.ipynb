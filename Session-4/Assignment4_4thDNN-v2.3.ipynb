{
  "nbformat": 4,
  "nbformat_minor": 0,
  "metadata": {
    "colab": {
      "name": "Assignment4-4thDNN.ipynb",
      "version": "0.3.2",
      "provenance": [],
      "collapsed_sections": []
    },
    "kernelspec": {
      "name": "python3",
      "display_name": "Python 3"
    },
    "accelerator": "GPU"
  },
  "cells": [
    {
      "cell_type": "markdown",
      "metadata": {
        "id": "aNyZv-Ec52ot",
        "colab_type": "text"
      },
      "source": [
        "# **4th DNN**\n",
        "\n",
        "**Thinking about**\n",
        "\n",
        "1. Number of Epochs and when to increase them,\n",
        "2. Batch Size, and effects of batch size\n",
        "3. How do we know our network is not going well, comparatively, very early\n",
        "4. When to add validation checks\n",
        "5. Learning Rate,\n",
        "6. LR schedule and concept behind it\n",
        "7. When do we stop convolutions and go ahead with a larger kernel or some other alternative (which we have not yet covered)\n",
        "\n",
        "**This is version 2.3 for Version 2.2 of 4th DNN  **\n",
        "\n",
        "  Batch size 128\n",
        "  Epoch 50\n",
        "  Learning rate schedule with starting lr .008 and scheduler defined as example from session material\n",
        "\n",
        "*Result*\n",
        "\n",
        "\n"
      ]
    },
    {
      "cell_type": "markdown",
      "metadata": {
        "id": "j8FDs1Hx0-o0",
        "colab_type": "text"
      },
      "source": [
        "installing and Importing Keras for current solution"
      ]
    },
    {
      "cell_type": "code",
      "metadata": {
        "id": "3m3w1Cw49Zkt",
        "colab_type": "code",
        "outputId": "8cfa1ad1-53e3-4490-92fa-a4380e76f1bd",
        "colab": {
          "base_uri": "https://localhost:8080/",
          "height": 34
        }
      },
      "source": [
        "# https://keras.io/\n",
        "!pip install -q keras\n",
        "import keras"
      ],
      "execution_count": 1,
      "outputs": [
        {
          "output_type": "stream",
          "text": [
            "Using TensorFlow backend.\n"
          ],
          "name": "stderr"
        }
      ]
    },
    {
      "cell_type": "markdown",
      "metadata": {
        "id": "N-qhHUhK1Ggp",
        "colab_type": "text"
      },
      "source": [
        "Importing Numpy and Keras modules as well as mnist data set."
      ]
    },
    {
      "cell_type": "code",
      "metadata": {
        "id": "Eso6UHE080D4",
        "colab_type": "code",
        "colab": {}
      },
      "source": [
        "import numpy as np\n",
        "\n",
        "from keras.models import Sequential\n",
        "from keras.layers import Dense, Dropout, Activation, Flatten, Add\n",
        "from keras.layers import Convolution2D, MaxPooling2D\n",
        "from keras.utils import np_utils\n",
        "\n",
        "from keras.datasets import mnist"
      ],
      "execution_count": 0,
      "outputs": []
    },
    {
      "cell_type": "markdown",
      "metadata": {
        "id": "zByEi95J86RD",
        "colab_type": "text"
      },
      "source": [
        "### Load pre-shuffled MNIST data into train and test sets"
      ]
    },
    {
      "cell_type": "markdown",
      "metadata": {
        "id": "yxPvMT_21Mhy",
        "colab_type": "text"
      },
      "source": [
        "Loading mnist data set in train and test variables."
      ]
    },
    {
      "cell_type": "code",
      "metadata": {
        "id": "7eRM0QWN83PV",
        "colab_type": "code",
        "colab": {}
      },
      "source": [
        "(X_train, y_train), (X_test, y_test) = mnist.load_data()"
      ],
      "execution_count": 0,
      "outputs": []
    },
    {
      "cell_type": "markdown",
      "metadata": {
        "id": "9SMpZZpo1Sv0",
        "colab_type": "text"
      },
      "source": [
        "Ploting sample from train data set."
      ]
    },
    {
      "cell_type": "code",
      "metadata": {
        "id": "4a4Be72j8-ZC",
        "colab_type": "code",
        "outputId": "568aad4e-c877-42cf-b525-b3b67dea81a6",
        "colab": {
          "base_uri": "https://localhost:8080/",
          "height": 303
        }
      },
      "source": [
        "print (X_train.shape)\n",
        "from matplotlib import pyplot as plt\n",
        "%matplotlib inline\n",
        "plt.imshow(X_train[0])"
      ],
      "execution_count": 4,
      "outputs": [
        {
          "output_type": "stream",
          "text": [
            "(60000, 28, 28)\n"
          ],
          "name": "stdout"
        },
        {
          "output_type": "execute_result",
          "data": {
            "text/plain": [
              "<matplotlib.image.AxesImage at 0x7f7629938b00>"
            ]
          },
          "metadata": {
            "tags": []
          },
          "execution_count": 4
        },
        {
          "output_type": "display_data",
          "data": {
            "image/png": "[encoded data removed]",
            "text/plain": [
              "<Figure size 432x288 with 1 Axes>"
            ]
          },
          "metadata": {
            "tags": []
          }
        }
      ]
    },
    {
      "cell_type": "markdown",
      "metadata": {
        "id": "N1AM8Fy81X1n",
        "colab_type": "text"
      },
      "source": [
        "Reshaping all train and test data to a uniform size."
      ]
    },
    {
      "cell_type": "code",
      "metadata": {
        "id": "dkmprriw9AnZ",
        "colab_type": "code",
        "colab": {}
      },
      "source": [
        "X_train = X_train.reshape(X_train.shape[0], 28, 28,1)\n",
        "X_test = X_test.reshape(X_test.shape[0], 28, 28,1)"
      ],
      "execution_count": 0,
      "outputs": []
    },
    {
      "cell_type": "markdown",
      "metadata": {
        "id": "tjr4ODS81eUc",
        "colab_type": "text"
      },
      "source": [
        "Regularizing train and test data for float data type and division wiht 255"
      ]
    },
    {
      "cell_type": "code",
      "metadata": {
        "id": "X2m4YS4E9CRh",
        "colab_type": "code",
        "colab": {}
      },
      "source": [
        "X_train = X_train.astype('float32')\n",
        "X_test = X_test.astype('float32')\n",
        "X_train /= 255\n",
        "X_test /= 255"
      ],
      "execution_count": 0,
      "outputs": []
    },
    {
      "cell_type": "markdown",
      "metadata": {
        "id": "lDZ-v1na1okY",
        "colab_type": "text"
      },
      "source": [
        "Visualizing train out put"
      ]
    },
    {
      "cell_type": "code",
      "metadata": {
        "id": "0Mn0vAYD9DvB",
        "colab_type": "code",
        "outputId": "0685ecd0-b725-4a37-ffc9-1a03cda02abd",
        "colab": {
          "base_uri": "https://localhost:8080/",
          "height": 34
        }
      },
      "source": [
        "y_train[:10]"
      ],
      "execution_count": 7,
      "outputs": [
        {
          "output_type": "execute_result",
          "data": {
            "text/plain": [
              "array([5, 0, 4, 1, 9, 2, 1, 3, 1, 4], dtype=uint8)"
            ]
          },
          "metadata": {
            "tags": []
          },
          "execution_count": 7
        }
      ]
    },
    {
      "cell_type": "markdown",
      "metadata": {
        "id": "ZCLqRA3o1wFq",
        "colab_type": "text"
      },
      "source": [
        "Convert 1-dimensional class arrays to 10-dimensional class matrices"
      ]
    },
    {
      "cell_type": "code",
      "metadata": {
        "id": "ZG8JiXR39FHC",
        "colab_type": "code",
        "colab": {}
      },
      "source": [
        "# Convert 1-dimensional class arrays to 10-dimensional class matrices\n",
        "Y_train = np_utils.to_categorical(y_train, 10)\n",
        "Y_test = np_utils.to_categorical(y_test, 10)"
      ],
      "execution_count": 0,
      "outputs": []
    },
    {
      "cell_type": "markdown",
      "metadata": {
        "id": "kXmnovfn1yew",
        "colab_type": "text"
      },
      "source": [
        "Viewing tranformed train out put matrix"
      ]
    },
    {
      "cell_type": "code",
      "metadata": {
        "id": "fYlFRvKS9HMB",
        "colab_type": "code",
        "outputId": "2cb8b023-387b-4580-8060-175682ad347e",
        "colab": {
          "base_uri": "https://localhost:8080/",
          "height": 187
        }
      },
      "source": [
        "Y_train[:10]\n"
      ],
      "execution_count": 9,
      "outputs": [
        {
          "output_type": "execute_result",
          "data": {
            "text/plain": [
              "array([[0., 0., 0., 0., 0., 1., 0., 0., 0., 0.],\n",
              "       [1., 0., 0., 0., 0., 0., 0., 0., 0., 0.],\n",
              "       [0., 0., 0., 0., 1., 0., 0., 0., 0., 0.],\n",
              "       [0., 1., 0., 0., 0., 0., 0., 0., 0., 0.],\n",
              "       [0., 0., 0., 0., 0., 0., 0., 0., 0., 1.],\n",
              "       [0., 0., 1., 0., 0., 0., 0., 0., 0., 0.],\n",
              "       [0., 1., 0., 0., 0., 0., 0., 0., 0., 0.],\n",
              "       [0., 0., 0., 1., 0., 0., 0., 0., 0., 0.],\n",
              "       [0., 1., 0., 0., 0., 0., 0., 0., 0., 0.],\n",
              "       [0., 0., 0., 0., 1., 0., 0., 0., 0., 0.]], dtype=float32)"
            ]
          },
          "metadata": {
            "tags": []
          },
          "execution_count": 9
        }
      ]
    },
    {
      "cell_type": "markdown",
      "metadata": {
        "id": "Z2PFtTZq127m",
        "colab_type": "text"
      },
      "source": [
        "Carrying form 3rd  DNN Version 2"
      ]
    },
    {
      "cell_type": "code",
      "metadata": {
        "id": "osKqT73Q9JJB",
        "colab_type": "code",
        "outputId": "ddb0a6ef-5683-4795-c9c1-cc3e81b24fac",
        "colab": {
          "base_uri": "https://localhost:8080/",
          "height": 105
        }
      },
      "source": [
        "from keras.layers import Activation, BatchNormalization\n",
        "model = Sequential()\n",
        "\n",
        "#Vanilla\n",
        "''' \n",
        "model.add(Convolution2D(32, 3, 3, activation='relu', input_shape=(28,28,1)))\n",
        "model.add(Convolution2D(10, 1, activation='relu'))\n",
        "model.add(Convolution2D(10, 26))\n",
        "'''\n",
        "\n",
        "#1st version \n",
        "'''\n",
        "model.add(Convolution2D(8, 3, 3, activation='relu', input_shape=(28,28,1)))\n",
        "model.add(BatchNormalization())\n",
        "\n",
        "model.add(Convolution2D(8, 3, 3, activation='relu')) #input 26,26 #RF 3X3\n",
        "model.add(BatchNormalization())\n",
        "\n",
        "model.add(Convolution2D(8, 3, 3, activation='relu')) #input 24,24 #RF 7X7\n",
        "model.add(BatchNormalization())\n",
        "\n",
        "model.add(Convolution2D(8, 3, 3, activation='relu')) #input 22,22 #RF 9X9\n",
        "model.add(BatchNormalization())\n",
        "\n",
        "model.add(Dropout(0.2))\n",
        "\n",
        "model.add(Convolution2D(8, 3, 3, activation='relu')) #input 20,20 #RF 11X11\n",
        "model.add(BatchNormalization())\n",
        "\n",
        "model.add(Convolution2D(8, 3, 3, activation='relu')) #input 18,18 #RF 13X13\n",
        "model.add(BatchNormalization())\n",
        "\n",
        "model.add(Convolution2D(8, 3, 3, activation='relu')) #input 16,16 #RF 15X15\n",
        "model.add(BatchNormalization())\n",
        "\n",
        "model.add(Convolution2D(8, 3, 3, activation='relu')) #input 14,14 #RF 17X17\n",
        "model.add(BatchNormalization())\n",
        "\n",
        "model.add(Dropout(0.2))\n",
        "\n",
        "model.add(Convolution2D(4, 3, 3, activation='relu')) #input 12,12 #RF 19X19\n",
        "model.add(BatchNormalization())\n",
        "\n",
        "model.add(Convolution2D(10, 1)) #input 10,10 \n",
        "model.add(BatchNormalization())\n",
        "\n",
        "model.add(Convolution2D(10, 10)) #input 10,10\n",
        "'''\n",
        "\n",
        "#2nd version \n",
        "''''''\n",
        "model.add(Convolution2D(16, 3, 3, activation='relu', input_shape=(28,28,1)))\n",
        "model.add(BatchNormalization())\n",
        "\n",
        "model.add(Convolution2D(16, 3, 3, activation='relu')) #input 26,26 #RF 3X3\n",
        "model.add(BatchNormalization())\n",
        "\n",
        "model.add(Convolution2D(16, 3, 3, activation='relu')) #input 24,24 #RF 7X7\n",
        "model.add(BatchNormalization())\n",
        "\n",
        "model.add(Dropout(0.2))\n",
        "\n",
        "model.add(MaxPooling2D(pool_size=(2, 2))) #input 22,22 #RF 14X14\n",
        "model.add(Convolution2D(8, 3, 3, activation='relu')) #input 11,11 #RF 16X16\n",
        "model.add(BatchNormalization())\n",
        "\n",
        "model.add(Dropout(0.2))\n",
        "\n",
        "model.add(Convolution2D(10, 1, activation='relu')) #input 9,9\n",
        "model.add(Convolution2D(10, 9)) #input 9X9\n",
        "\n",
        "\n",
        "#3rd version \n",
        "'''\n",
        "model.add(Convolution2D(16, 3, 3, activation='relu', input_shape=(28,28,1)))\n",
        "model.add(BatchNormalization())\n",
        "\n",
        "model.add(Dropout(0.2))\n",
        "\n",
        "model.add(Convolution2D(16, 3, 3, activation='relu')) #input 26,26 #RF 3X3\n",
        "model.add(BatchNormalization())\n",
        "\n",
        "model.add(MaxPooling2D(pool_size=(2, 2))) #input 24,24 #RF 6X6\n",
        "\n",
        "model.add(Convolution2D(12, 3, 3, activation='relu')) #input 12,12 #RF 8X8\n",
        "model.add(BatchNormalization())\n",
        "\n",
        "model.add(Dropout(0.2))\n",
        "\n",
        "model.add(Convolution2D(10, 1, activation='relu')) #input 9,9\n",
        "model.add(Convolution2D(10, 10)) #input 9X9\n",
        "'''\n",
        "\n",
        "model.add(Flatten())\n",
        "model.add(Activation('softmax'))"
      ],
      "execution_count": 81,
      "outputs": [
        {
          "output_type": "stream",
          "text": [
            "/usr/local/lib/python3.6/dist-packages/ipykernel_launcher.py:52: UserWarning: Update your `Conv2D` call to the Keras 2 API: `Conv2D(16, (3, 3), activation=\"relu\", input_shape=(28, 28, 1...)`\n",
            "/usr/local/lib/python3.6/dist-packages/ipykernel_launcher.py:55: UserWarning: Update your `Conv2D` call to the Keras 2 API: `Conv2D(16, (3, 3), activation=\"relu\")`\n",
            "/usr/local/lib/python3.6/dist-packages/ipykernel_launcher.py:58: UserWarning: Update your `Conv2D` call to the Keras 2 API: `Conv2D(16, (3, 3), activation=\"relu\")`\n",
            "/usr/local/lib/python3.6/dist-packages/ipykernel_launcher.py:64: UserWarning: Update your `Conv2D` call to the Keras 2 API: `Conv2D(8, (3, 3), activation=\"relu\")`\n"
          ],
          "name": "stderr"
        }
      ]
    },
    {
      "cell_type": "markdown",
      "metadata": {
        "id": "T1mq9MtB2GgQ",
        "colab_type": "text"
      },
      "source": [
        "Printing model summary to understand current paramaters for the model. "
      ]
    },
    {
      "cell_type": "code",
      "metadata": {
        "id": "TzdAYg1k9K7Z",
        "colab_type": "code",
        "outputId": "da98aba1-333a-45d1-912b-28697e3ff1e0",
        "colab": {
          "base_uri": "https://localhost:8080/",
          "height": 646
        }
      },
      "source": [
        "model.summary()"
      ],
      "execution_count": 82,
      "outputs": [
        {
          "output_type": "stream",
          "text": [
            "_________________________________________________________________\n",
            "Layer (type)                 Output Shape              Param #   \n",
            "=================================================================\n",
            "conv2d_69 (Conv2D)           (None, 26, 26, 16)        160       \n",
            "_________________________________________________________________\n",
            "batch_normalization_57 (Batc (None, 26, 26, 16)        64        \n",
            "_________________________________________________________________\n",
            "conv2d_70 (Conv2D)           (None, 24, 24, 16)        2320      \n",
            "_________________________________________________________________\n",
            "batch_normalization_58 (Batc (None, 24, 24, 16)        64        \n",
            "_________________________________________________________________\n",
            "conv2d_71 (Conv2D)           (None, 22, 22, 16)        2320      \n",
            "_________________________________________________________________\n",
            "batch_normalization_59 (Batc (None, 22, 22, 16)        64        \n",
            "_________________________________________________________________\n",
            "dropout_17 (Dropout)         (None, 22, 22, 16)        0         \n",
            "_________________________________________________________________\n",
            "max_pooling2d_5 (MaxPooling2 (None, 11, 11, 16)        0         \n",
            "_________________________________________________________________\n",
            "conv2d_72 (Conv2D)           (None, 9, 9, 8)           1160      \n",
            "_________________________________________________________________\n",
            "batch_normalization_60 (Batc (None, 9, 9, 8)           32        \n",
            "_________________________________________________________________\n",
            "dropout_18 (Dropout)         (None, 9, 9, 8)           0         \n",
            "_________________________________________________________________\n",
            "conv2d_73 (Conv2D)           (None, 9, 9, 10)          90        \n",
            "_________________________________________________________________\n",
            "conv2d_74 (Conv2D)           (None, 1, 1, 10)          8110      \n",
            "_________________________________________________________________\n",
            "flatten_9 (Flatten)          (None, 10)                0         \n",
            "_________________________________________________________________\n",
            "activation_9 (Activation)    (None, 10)                0         \n",
            "=================================================================\n",
            "Total params: 14,384\n",
            "Trainable params: 14,272\n",
            "Non-trainable params: 112\n",
            "_________________________________________________________________\n"
          ],
          "name": "stdout"
        }
      ]
    },
    {
      "cell_type": "markdown",
      "metadata": {
        "id": "VlnhdT4u2Owz",
        "colab_type": "text"
      },
      "source": [
        "Setting model's compile environment with loss function, optimizer and matrics."
      ]
    },
    {
      "cell_type": "code",
      "metadata": {
        "id": "Zp6SuGrL9M3h",
        "colab_type": "code",
        "colab": {}
      },
      "source": [
        "from keras.optimizers import Adam\n",
        "from keras.callbacks import LearningRateScheduler\n",
        "def scheduler(epoch, lr):\n",
        "  return round(0.008 * 1/(1 + 0.319 * epoch), 10)\n",
        "\n",
        "model.compile(loss='categorical_crossentropy',\n",
        "             optimizer=Adam(lr=0.008),\n",
        "             metrics=['accuracy'])"
      ],
      "execution_count": 0,
      "outputs": []
    },
    {
      "cell_type": "markdown",
      "metadata": {
        "id": "06jT2a0t2Vpj",
        "colab_type": "text"
      },
      "source": [
        "Training model for 50 epoch for 128 batch size"
      ]
    },
    {
      "cell_type": "code",
      "metadata": {
        "id": "4xWoKhPY9Of5",
        "colab_type": "code",
        "outputId": "083de4ce-11c9-4e46-e73f-cca65b167d8a",
        "colab": {
          "base_uri": "https://localhost:8080/",
          "height": 3468
        }
      },
      "source": [
        "history = model.fit(X_train, Y_train, batch_size=128, nb_epoch=50, verbose=1, validation_data=(X_test, Y_test), callbacks=[LearningRateScheduler(scheduler, verbose=1)])"
      ],
      "execution_count": 84,
      "outputs": [
        {
          "output_type": "stream",
          "text": [
            "/usr/local/lib/python3.6/dist-packages/ipykernel_launcher.py:1: UserWarning: The `nb_epoch` argument in `fit` has been renamed `epochs`.\n",
            "  \"\"\"Entry point for launching an IPython kernel.\n"
          ],
          "name": "stderr"
        },
        {
          "output_type": "stream",
          "text": [
            "Train on 60000 samples, validate on 10000 samples\n",
            "Epoch 1/50\n",
            "\n",
            "Epoch 00001: LearningRateScheduler setting learning rate to 0.008.\n",
            "60000/60000 [==============================] - 11s 185us/step - loss: 0.1370 - acc: 0.9571 - val_loss: 0.0587 - val_acc: 0.9804\n",
            "Epoch 2/50\n",
            "\n",
            "Epoch 00002: LearningRateScheduler setting learning rate to 0.0060652009.\n",
            "60000/60000 [==============================] - 6s 94us/step - loss: 0.0529 - acc: 0.9828 - val_loss: 0.0436 - val_acc: 0.9855\n",
            "Epoch 3/50\n",
            "\n",
            "Epoch 00003: LearningRateScheduler setting learning rate to 0.0048840049.\n",
            "60000/60000 [==============================] - 6s 95us/step - loss: 0.0436 - acc: 0.9864 - val_loss: 0.0358 - val_acc: 0.9886\n",
            "Epoch 4/50\n",
            "\n",
            "Epoch 00004: LearningRateScheduler setting learning rate to 0.0040878896.\n",
            "60000/60000 [==============================] - 5s 86us/step - loss: 0.0371 - acc: 0.9881 - val_loss: 0.0387 - val_acc: 0.9875\n",
            "Epoch 5/50\n",
            "\n",
            "Epoch 00005: LearningRateScheduler setting learning rate to 0.0035149385.\n",
            "60000/60000 [==============================] - 5s 87us/step - loss: 0.0325 - acc: 0.9893 - val_loss: 0.0313 - val_acc: 0.9906\n",
            "Epoch 6/50\n",
            "\n",
            "Epoch 00006: LearningRateScheduler setting learning rate to 0.0030828516.\n",
            "60000/60000 [==============================] - 5s 87us/step - loss: 0.0297 - acc: 0.9906 - val_loss: 0.0264 - val_acc: 0.9926\n",
            "Epoch 7/50\n",
            "\n",
            "Epoch 00007: LearningRateScheduler setting learning rate to 0.0027453672.\n",
            "60000/60000 [==============================] - 5s 89us/step - loss: 0.0269 - acc: 0.9911 - val_loss: 0.0319 - val_acc: 0.9899\n",
            "Epoch 8/50\n",
            "\n",
            "Epoch 00008: LearningRateScheduler setting learning rate to 0.0024744819.\n",
            "60000/60000 [==============================] - 5s 86us/step - loss: 0.0239 - acc: 0.9921 - val_loss: 0.0274 - val_acc: 0.9906\n",
            "Epoch 9/50\n",
            "\n",
            "Epoch 00009: LearningRateScheduler setting learning rate to 0.0022522523.\n",
            "60000/60000 [==============================] - 5s 86us/step - loss: 0.0234 - acc: 0.9923 - val_loss: 0.0335 - val_acc: 0.9896\n",
            "Epoch 10/50\n",
            "\n",
            "Epoch 00010: LearningRateScheduler setting learning rate to 0.0020666494.\n",
            "60000/60000 [==============================] - 5s 87us/step - loss: 0.0215 - acc: 0.9932 - val_loss: 0.0229 - val_acc: 0.9922\n",
            "Epoch 11/50\n",
            "\n",
            "Epoch 00011: LearningRateScheduler setting learning rate to 0.0019093079.\n",
            "60000/60000 [==============================] - 5s 86us/step - loss: 0.0212 - acc: 0.9931 - val_loss: 0.0275 - val_acc: 0.9915\n",
            "Epoch 12/50\n",
            "\n",
            "Epoch 00012: LearningRateScheduler setting learning rate to 0.0017742293.\n",
            "60000/60000 [==============================] - 5s 86us/step - loss: 0.0181 - acc: 0.9938 - val_loss: 0.0274 - val_acc: 0.9906\n",
            "Epoch 13/50\n",
            "\n",
            "Epoch 00013: LearningRateScheduler setting learning rate to 0.0016570008.\n",
            "60000/60000 [==============================] - 5s 86us/step - loss: 0.0175 - acc: 0.9943 - val_loss: 0.0276 - val_acc: 0.9917\n",
            "Epoch 14/50\n",
            "\n",
            "Epoch 00014: LearningRateScheduler setting learning rate to 0.0015543035.\n",
            "60000/60000 [==============================] - 5s 86us/step - loss: 0.0164 - acc: 0.9946 - val_loss: 0.0309 - val_acc: 0.9894\n",
            "Epoch 15/50\n",
            "\n",
            "Epoch 00015: LearningRateScheduler setting learning rate to 0.0014635931.\n",
            "60000/60000 [==============================] - 5s 88us/step - loss: 0.0158 - acc: 0.9948 - val_loss: 0.0314 - val_acc: 0.9898\n",
            "Epoch 16/50\n",
            "\n",
            "Epoch 00016: LearningRateScheduler setting learning rate to 0.0013828868.\n",
            "60000/60000 [==============================] - 5s 92us/step - loss: 0.0139 - acc: 0.9954 - val_loss: 0.0276 - val_acc: 0.9910\n",
            "Epoch 17/50\n",
            "\n",
            "Epoch 00017: LearningRateScheduler setting learning rate to 0.001310616.\n",
            "60000/60000 [==============================] - 5s 91us/step - loss: 0.0144 - acc: 0.9952 - val_loss: 0.0301 - val_acc: 0.9909\n",
            "Epoch 18/50\n",
            "\n",
            "Epoch 00018: LearningRateScheduler setting learning rate to 0.0012455239.\n",
            "60000/60000 [==============================] - 6s 94us/step - loss: 0.0139 - acc: 0.9950 - val_loss: 0.0273 - val_acc: 0.9913\n",
            "Epoch 19/50\n",
            "\n",
            "Epoch 00019: LearningRateScheduler setting learning rate to 0.0011865915.\n",
            "60000/60000 [==============================] - 5s 87us/step - loss: 0.0136 - acc: 0.9952 - val_loss: 0.0239 - val_acc: 0.9925\n",
            "Epoch 20/50\n",
            "\n",
            "Epoch 00020: LearningRateScheduler setting learning rate to 0.001132984.\n",
            "60000/60000 [==============================] - 5s 86us/step - loss: 0.0121 - acc: 0.9959 - val_loss: 0.0277 - val_acc: 0.9914\n",
            "Epoch 21/50\n",
            "\n",
            "Epoch 00021: LearningRateScheduler setting learning rate to 0.0010840108.\n",
            "60000/60000 [==============================] - 5s 86us/step - loss: 0.0114 - acc: 0.9965 - val_loss: 0.0312 - val_acc: 0.9915\n",
            "Epoch 22/50\n",
            "\n",
            "Epoch 00022: LearningRateScheduler setting learning rate to 0.001039096.\n",
            "60000/60000 [==============================] - 5s 86us/step - loss: 0.0110 - acc: 0.9960 - val_loss: 0.0298 - val_acc: 0.9913\n",
            "Epoch 23/50\n",
            "\n",
            "Epoch 00023: LearningRateScheduler setting learning rate to 0.0009977551.\n",
            "60000/60000 [==============================] - 5s 86us/step - loss: 0.0107 - acc: 0.9964 - val_loss: 0.0242 - val_acc: 0.9930\n",
            "Epoch 24/50\n",
            "\n",
            "Epoch 00024: LearningRateScheduler setting learning rate to 0.0009595778.\n",
            "60000/60000 [==============================] - 5s 86us/step - loss: 0.0099 - acc: 0.9968 - val_loss: 0.0266 - val_acc: 0.9915\n",
            "Epoch 25/50\n",
            "\n",
            "Epoch 00025: LearningRateScheduler setting learning rate to 0.0009242144.\n",
            "60000/60000 [==============================] - 5s 86us/step - loss: 0.0097 - acc: 0.9968 - val_loss: 0.0250 - val_acc: 0.9920\n",
            "Epoch 26/50\n",
            "\n",
            "Epoch 00026: LearningRateScheduler setting learning rate to 0.0008913649.\n",
            "60000/60000 [==============================] - 5s 86us/step - loss: 0.0103 - acc: 0.9965 - val_loss: 0.0273 - val_acc: 0.9923\n",
            "Epoch 27/50\n",
            "\n",
            "Epoch 00027: LearningRateScheduler setting learning rate to 0.0008607704.\n",
            "60000/60000 [==============================] - 5s 86us/step - loss: 0.0087 - acc: 0.9971 - val_loss: 0.0270 - val_acc: 0.9915\n",
            "Epoch 28/50\n",
            "\n",
            "Epoch 00028: LearningRateScheduler setting learning rate to 0.0008322064.\n",
            "60000/60000 [==============================] - 5s 86us/step - loss: 0.0102 - acc: 0.9963 - val_loss: 0.0244 - val_acc: 0.9930\n",
            "Epoch 29/50\n",
            "\n",
            "Epoch 00029: LearningRateScheduler setting learning rate to 0.0008054772.\n",
            "60000/60000 [==============================] - 5s 87us/step - loss: 0.0095 - acc: 0.9968 - val_loss: 0.0266 - val_acc: 0.9921\n",
            "Epoch 30/50\n",
            "\n",
            "Epoch 00030: LearningRateScheduler setting learning rate to 0.0007804117.\n",
            "60000/60000 [==============================] - 5s 86us/step - loss: 0.0090 - acc: 0.9969 - val_loss: 0.0255 - val_acc: 0.9926\n",
            "Epoch 31/50\n",
            "\n",
            "Epoch 00031: LearningRateScheduler setting learning rate to 0.000756859.\n",
            "60000/60000 [==============================] - 5s 86us/step - loss: 0.0075 - acc: 0.9974 - val_loss: 0.0300 - val_acc: 0.9914\n",
            "Epoch 32/50\n",
            "\n",
            "Epoch 00032: LearningRateScheduler setting learning rate to 0.0007346864.\n",
            "60000/60000 [==============================] - 5s 89us/step - loss: 0.0083 - acc: 0.9972 - val_loss: 0.0261 - val_acc: 0.9928\n",
            "Epoch 33/50\n",
            "\n",
            "Epoch 00033: LearningRateScheduler setting learning rate to 0.0007137759.\n",
            "60000/60000 [==============================] - 6s 94us/step - loss: 0.0075 - acc: 0.9975 - val_loss: 0.0255 - val_acc: 0.9927\n",
            "Epoch 34/50\n",
            "\n",
            "Epoch 00034: LearningRateScheduler setting learning rate to 0.0006940227.\n",
            "60000/60000 [==============================] - 5s 90us/step - loss: 0.0073 - acc: 0.9975 - val_loss: 0.0270 - val_acc: 0.9919\n",
            "Epoch 35/50\n",
            "\n",
            "Epoch 00035: LearningRateScheduler setting learning rate to 0.0006753334.\n",
            "60000/60000 [==============================] - 5s 87us/step - loss: 0.0084 - acc: 0.9972 - val_loss: 0.0235 - val_acc: 0.9932\n",
            "Epoch 36/50\n",
            "\n",
            "Epoch 00036: LearningRateScheduler setting learning rate to 0.0006576243.\n",
            "60000/60000 [==============================] - 5s 86us/step - loss: 0.0069 - acc: 0.9977 - val_loss: 0.0266 - val_acc: 0.9924\n",
            "Epoch 37/50\n",
            "\n",
            "Epoch 00037: LearningRateScheduler setting learning rate to 0.0006408202.\n",
            "60000/60000 [==============================] - 5s 86us/step - loss: 0.0079 - acc: 0.9970 - val_loss: 0.0286 - val_acc: 0.9922\n",
            "Epoch 38/50\n",
            "\n",
            "Epoch 00038: LearningRateScheduler setting learning rate to 0.0006248535.\n",
            "60000/60000 [==============================] - 5s 87us/step - loss: 0.0072 - acc: 0.9976 - val_loss: 0.0303 - val_acc: 0.9924\n",
            "Epoch 39/50\n",
            "\n",
            "Epoch 00039: LearningRateScheduler setting learning rate to 0.0006096632.\n",
            "60000/60000 [==============================] - 5s 86us/step - loss: 0.0070 - acc: 0.9975 - val_loss: 0.0262 - val_acc: 0.9931\n",
            "Epoch 40/50\n",
            "\n",
            "Epoch 00040: LearningRateScheduler setting learning rate to 0.0005951938.\n",
            "60000/60000 [==============================] - 5s 86us/step - loss: 0.0072 - acc: 0.9974 - val_loss: 0.0275 - val_acc: 0.9921\n",
            "Epoch 41/50\n",
            "\n",
            "Epoch 00041: LearningRateScheduler setting learning rate to 0.0005813953.\n",
            "60000/60000 [==============================] - 5s 87us/step - loss: 0.0070 - acc: 0.9974 - val_loss: 0.0264 - val_acc: 0.9921\n",
            "Epoch 42/50\n",
            "\n",
            "Epoch 00042: LearningRateScheduler setting learning rate to 0.0005682222.\n",
            "60000/60000 [==============================] - 5s 86us/step - loss: 0.0065 - acc: 0.9978 - val_loss: 0.0264 - val_acc: 0.9927\n",
            "Epoch 43/50\n",
            "\n",
            "Epoch 00043: LearningRateScheduler setting learning rate to 0.0005556327.\n",
            "60000/60000 [==============================] - 5s 86us/step - loss: 0.0061 - acc: 0.9980 - val_loss: 0.0249 - val_acc: 0.9932\n",
            "Epoch 44/50\n",
            "\n",
            "Epoch 00044: LearningRateScheduler setting learning rate to 0.000543589.\n",
            "60000/60000 [==============================] - 5s 86us/step - loss: 0.0065 - acc: 0.9976 - val_loss: 0.0275 - val_acc: 0.9925\n",
            "Epoch 45/50\n",
            "\n",
            "Epoch 00045: LearningRateScheduler setting learning rate to 0.0005320564.\n",
            "60000/60000 [==============================] - 5s 87us/step - loss: 0.0064 - acc: 0.9978 - val_loss: 0.0274 - val_acc: 0.9924\n",
            "Epoch 46/50\n",
            "\n",
            "Epoch 00046: LearningRateScheduler setting learning rate to 0.0005210029.\n",
            "60000/60000 [==============================] - 5s 86us/step - loss: 0.0060 - acc: 0.9979 - val_loss: 0.0307 - val_acc: 0.9923\n",
            "Epoch 47/50\n",
            "\n",
            "Epoch 00047: LearningRateScheduler setting learning rate to 0.0005103994.\n",
            "60000/60000 [==============================] - 5s 86us/step - loss: 0.0062 - acc: 0.9977 - val_loss: 0.0296 - val_acc: 0.9928\n",
            "Epoch 48/50\n",
            "\n",
            "Epoch 00048: LearningRateScheduler setting learning rate to 0.0005002188.\n",
            "60000/60000 [==============================] - 6s 93us/step - loss: 0.0057 - acc: 0.9980 - val_loss: 0.0279 - val_acc: 0.9926\n",
            "Epoch 49/50\n",
            "\n",
            "Epoch 00049: LearningRateScheduler setting learning rate to 0.0004904365.\n",
            "60000/60000 [==============================] - 6s 94us/step - loss: 0.0053 - acc: 0.9981 - val_loss: 0.0261 - val_acc: 0.9933\n",
            "Epoch 50/50\n",
            "\n",
            "Epoch 00050: LearningRateScheduler setting learning rate to 0.0004810294.\n",
            "60000/60000 [==============================] - 5s 86us/step - loss: 0.0060 - acc: 0.9979 - val_loss: 0.0290 - val_acc: 0.9919\n"
          ],
          "name": "stdout"
        }
      ]
    },
    {
      "cell_type": "markdown",
      "metadata": {
        "id": "3_0_UAU1M1wP",
        "colab_type": "text"
      },
      "source": [
        "Plotting training and validation accuracty as well as loss for every epoch"
      ]
    },
    {
      "cell_type": "code",
      "metadata": {
        "id": "9tvptcn8dxvp",
        "colab_type": "code",
        "outputId": "762b2c84-9ea9-4348-aea1-f74d736226ea",
        "colab": {
          "base_uri": "https://localhost:8080/",
          "height": 573
        }
      },
      "source": [
        "import matplotlib.pyplot as plt\n",
        "\n",
        "#history = model.fit(x, y, validation_split=0.25, epochs=50, batch_size=16, verbose=1)\n",
        "\n",
        "# Plot training & validation accuracy values\n",
        "plt.plot(history.history['acc'])\n",
        "plt.plot(history.history['val_acc'])\n",
        "plt.title('Model accuracy')\n",
        "plt.ylabel('Accuracy')\n",
        "plt.xlabel('Epoch')\n",
        "plt.legend(['Train', 'Test'], loc='upper left')\n",
        "plt.show()\n",
        "\n",
        "# Plot training & validation loss values\n",
        "plt.plot(history.history['loss'])\n",
        "plt.plot(history.history['val_loss'])\n",
        "plt.title('Model loss')\n",
        "plt.ylabel('Loss')\n",
        "plt.xlabel('Epoch')\n",
        "plt.legend(['Train', 'Test'], loc='upper left')\n",
        "plt.show()"
      ],
      "execution_count": 85,
      "outputs": [
        {
          "output_type": "display_data",
          "data": {
            "image/png": "[encoded data removed]",
            "text/plain": [
              "<Figure size 432x288 with 1 Axes>"
            ]
          },
          "metadata": {
            "tags": []
          }
        },
        {
          "output_type": "display_data",
          "data": {
            "image/png": "[encoded data removed]",
            "text/plain": [
              "<Figure size 432x288 with 1 Axes>"
            ]
          },
          "metadata": {
            "tags": []
          }
        }
      ]
    },
    {
      "cell_type": "markdown",
      "metadata": {
        "colab_type": "text",
        "id": "UyH8P1SaNYYZ"
      },
      "source": [
        "Evaluating model and storing score in a variable."
      ]
    },
    {
      "cell_type": "code",
      "metadata": {
        "colab_type": "code",
        "id": "_eDU0sXWNXmE",
        "colab": {}
      },
      "source": [
        "score = model.evaluate(X_test, Y_test, verbose=0)"
      ],
      "execution_count": 0,
      "outputs": []
    },
    {
      "cell_type": "markdown",
      "metadata": {
        "colab_type": "text",
        "id": "_weXQQMkNWk1"
      },
      "source": [
        "Printing loss and accuracy of model test done in last step"
      ]
    },
    {
      "cell_type": "code",
      "metadata": {
        "id": "mkX8JMv79q9r",
        "colab_type": "code",
        "outputId": "e3c9a4b0-03a5-4328-b089-a6ea2e032d58",
        "colab": {
          "base_uri": "https://localhost:8080/",
          "height": 34
        }
      },
      "source": [
        "print(score)"
      ],
      "execution_count": 87,
      "outputs": [
        {
          "output_type": "stream",
          "text": [
            "[0.029006030585735833, 0.9919]\n"
          ],
          "name": "stdout"
        }
      ]
    },
    {
      "cell_type": "markdown",
      "metadata": {
        "id": "Ed35zlSB37Mm",
        "colab_type": "text"
      },
      "source": [
        "Predicting out put for test inputs"
      ]
    },
    {
      "cell_type": "code",
      "metadata": {
        "id": "OCWoJkwE9suh",
        "colab_type": "code",
        "colab": {}
      },
      "source": [
        "y_pred = model.predict(X_test)"
      ],
      "execution_count": 0,
      "outputs": []
    },
    {
      "cell_type": "markdown",
      "metadata": {
        "id": "8INoWoRT4BBu",
        "colab_type": "text"
      },
      "source": [
        "Printing prediction and test out puts "
      ]
    },
    {
      "cell_type": "code",
      "metadata": {
        "id": "Ym7iCFBm9uBs",
        "colab_type": "code",
        "outputId": "1475ba57-c420-49c0-a79d-adfb85cb2b4c",
        "colab": {
          "base_uri": "https://localhost:8080/",
          "height": 493
        }
      },
      "source": [
        "print(y_pred[:9])\n",
        "print(y_test[:9])"
      ],
      "execution_count": 89,
      "outputs": [
        {
          "output_type": "stream",
          "text": [
            "[[3.71810574e-13 1.57346326e-12 7.31711621e-13 1.27383156e-11\n",
            "  1.11899339e-17 1.66806757e-14 3.21070518e-26 1.00000000e+00\n",
            "  1.16335708e-15 2.29786168e-09]\n",
            " [1.59490108e-12 5.11838960e-10 1.00000000e+00 1.98892060e-14\n",
            "  4.68970522e-12 4.07552896e-19 2.12071219e-13 9.19288788e-14\n",
            "  5.92081112e-14 4.66851448e-21]\n",
            " [7.17272992e-17 1.00000000e+00 5.84773115e-12 1.25780621e-17\n",
            "  1.09428475e-08 8.33405678e-14 3.90947040e-14 4.48443860e-09\n",
            "  5.32352076e-14 7.13698272e-15]\n",
            " [1.00000000e+00 6.05101488e-19 1.63842876e-12 1.11390399e-17\n",
            "  2.63831903e-12 9.35118974e-16 9.03516637e-11 5.80035897e-14\n",
            "  8.66385414e-13 3.05387660e-10]\n",
            " [2.33713670e-15 3.16014115e-13 2.72521779e-11 8.27748389e-18\n",
            "  1.00000000e+00 2.83957631e-16 4.32998753e-15 7.40595248e-13\n",
            "  3.17414706e-11 1.14139254e-09]\n",
            " [4.67839987e-17 9.99999881e-01 5.81124949e-12 1.14180251e-19\n",
            "  8.53575557e-08 5.13724297e-15 9.12729416e-15 5.83557522e-08\n",
            "  1.40398476e-13 2.27216351e-14]\n",
            " [3.73584212e-24 2.46647781e-13 5.21446459e-14 2.17725630e-21\n",
            "  1.00000000e+00 4.27694265e-17 2.87491869e-19 5.74982770e-12\n",
            "  5.83627938e-11 3.49327186e-12]\n",
            " [1.86796842e-18 7.58509249e-13 7.32614978e-13 2.61103010e-12\n",
            "  2.17443130e-06 1.54957395e-12 2.97687434e-18 1.30485228e-12\n",
            "  9.31575483e-10 9.99997854e-01]\n",
            " [1.55548310e-10 3.74942825e-19 2.12436324e-13 2.25724468e-13\n",
            "  1.26035760e-15 9.44886506e-01 5.51048331e-02 1.88461050e-13\n",
            "  8.63998775e-06 3.18639195e-08]]\n",
            "[7 2 1 0 4 1 4 9 5]\n"
          ],
          "name": "stdout"
        }
      ]
    },
    {
      "cell_type": "code",
      "metadata": {
        "id": "CT--y98_dr2T",
        "colab_type": "code",
        "outputId": "7c62fe04-3661-4ec5-8fbb-cb9e338d3765",
        "colab": {
          "base_uri": "https://localhost:8080/",
          "height": 442
        }
      },
      "source": [
        "layer_dict = dict([(layer.name, layer) for layer in model.layers])\n",
        "layer_dict"
      ],
      "execution_count": 19,
      "outputs": [
        {
          "output_type": "execute_result",
          "data": {
            "text/plain": [
              "{'activation_1': <keras.layers.core.Activation at 0x7f761061f160>,\n",
              " 'batch_normalization_1': <keras.layers.normalization.BatchNormalization at 0x7f76270c5588>,\n",
              " 'batch_normalization_10': <keras.layers.normalization.BatchNormalization at 0x7f7610772f98>,\n",
              " 'batch_normalization_2': <keras.layers.normalization.BatchNormalization at 0x7f76270c59e8>,\n",
              " 'batch_normalization_3': <keras.layers.normalization.BatchNormalization at 0x7f761a753b38>,\n",
              " 'batch_normalization_4': <keras.layers.normalization.BatchNormalization at 0x7f761a6e24e0>,\n",
              " 'batch_normalization_5': <keras.layers.normalization.BatchNormalization at 0x7f761a618c18>,\n",
              " 'batch_normalization_6': <keras.layers.normalization.BatchNormalization at 0x7f761a4405f8>,\n",
              " 'batch_normalization_7': <keras.layers.normalization.BatchNormalization at 0x7f761a3ad588>,\n",
              " 'batch_normalization_8': <keras.layers.normalization.BatchNormalization at 0x7f761a2b08d0>,\n",
              " 'batch_normalization_9': <keras.layers.normalization.BatchNormalization at 0x7f761a1e59b0>,\n",
              " 'conv2d_1': <keras.layers.convolutional.Conv2D at 0x7f76270c53c8>,\n",
              " 'conv2d_10': <keras.layers.convolutional.Conv2D at 0x7f761078af60>,\n",
              " 'conv2d_11': <keras.layers.convolutional.Conv2D at 0x7f761071d0f0>,\n",
              " 'conv2d_2': <keras.layers.convolutional.Conv2D at 0x7f76270c5978>,\n",
              " 'conv2d_3': <keras.layers.convolutional.Conv2D at 0x7f761a7e14a8>,\n",
              " 'conv2d_4': <keras.layers.convolutional.Conv2D at 0x7f761a72c6d8>,\n",
              " 'conv2d_5': <keras.layers.convolutional.Conv2D at 0x7f761a5e95c0>,\n",
              " 'conv2d_6': <keras.layers.convolutional.Conv2D at 0x7f761a457e10>,\n",
              " 'conv2d_7': <keras.layers.convolutional.Conv2D at 0x7f761a34c208>,\n",
              " 'conv2d_8': <keras.layers.convolutional.Conv2D at 0x7f761a24f4a8>,\n",
              " 'conv2d_9': <keras.layers.convolutional.Conv2D at 0x7f761a1a0b00>,\n",
              " 'dropout_1': <keras.layers.core.Dropout at 0x7f761a62fc88>,\n",
              " 'dropout_2': <keras.layers.core.Dropout at 0x7f761a1974a8>,\n",
              " 'flatten_1': <keras.layers.core.Flatten at 0x7f761066fe80>}"
            ]
          },
          "metadata": {
            "tags": []
          },
          "execution_count": 19
        }
      ]
    },
    {
      "cell_type": "code",
      "metadata": {
        "id": "2GY4Upv4dsUR",
        "colab_type": "code",
        "colab": {}
      },
      "source": [
        "import numpy as np\n",
        "from matplotlib import pyplot as plt\n",
        "from keras import backend as K\n",
        "%matplotlib inline\n",
        "# util function to convert a tensor into a valid image\n",
        "def deprocess_image(x):\n",
        "    # normalize tensor: center on 0., ensure std is 0.1\n",
        "    x -= x.mean()\n",
        "    x /= (x.std() + 1e-5)\n",
        "    x *= 0.1\n",
        "\n",
        "    # clip to [0, 1]\n",
        "    x += 0.5\n",
        "    x = np.clip(x, 0, 1)\n",
        "\n",
        "    # convert to RGB array\n",
        "    x *= 255\n",
        "    #x = x.transpose((1, 2, 0))\n",
        "    x = np.clip(x, 0, 255).astype('uint8')\n",
        "    return x\n",
        "\n",
        "def vis_img_in_filter(img = np.array(X_train[2]).reshape((1, 28, 28, 1)).astype(np.float64), \n",
        "                      layer_name = 'conv2d_2'):  \n",
        "    layer_output = layer_dict[layer_name].output\n",
        "    img_ascs = list()\n",
        "    for filter_index in range(layer_output.shape[3]):\n",
        "        # build a loss function that maximizes the activation\n",
        "        # of the nth filter of the layer considered\n",
        "        loss = K.mean(layer_output[:, :, :, filter_index])\n",
        "\n",
        "        # compute the gradient of the input picture wrt this loss\n",
        "        grads = K.gradients(loss, model.input)[0]\n",
        "\n",
        "        # normalization trick: we normalize the gradient\n",
        "        grads /= (K.sqrt(K.mean(K.square(grads))) + 1e-5)\n",
        "\n",
        "        # this function returns the loss and grads given the input picture\n",
        "        iterate = K.function([model.input], [loss, grads])\n",
        "\n",
        "        # step size for gradient ascent\n",
        "        step = 5.\n",
        "\n",
        "        img_asc = np.array(img)\n",
        "        # run gradient ascent for 20 steps\n",
        "        for i in range(20):\n",
        "            loss_value, grads_value = iterate([img_asc])\n",
        "            img_asc += grads_value * step\n",
        "\n",
        "        img_asc = img_asc[0]\n",
        "        img_ascs.append(deprocess_image(img_asc).reshape((28, 28)))\n",
        "        \n",
        "    if layer_output.shape[3] >= 35:\n",
        "        plot_x, plot_y = 6, 6\n",
        "    elif layer_output.shape[3] >= 23:\n",
        "        plot_x, plot_y = 4, 6\n",
        "    elif layer_output.shape[3] >= 11:\n",
        "        plot_x, plot_y = 2, 6\n",
        "    else:\n",
        "        plot_x, plot_y = 1, 2\n",
        "    fig, ax = plt.subplots(plot_x, plot_y, figsize = (12, 12))\n",
        "    ax[0, 0].imshow(img.reshape((28, 28)), cmap = 'gray')\n",
        "    ax[0, 0].set_title('Input image')\n",
        "    fig.suptitle('Input image and %s filters' % (layer_name,))\n",
        "    fig.tight_layout(pad = 0.3, rect = [0, 0, 0.9, 0.9])\n",
        "    for (x, y) in [(i, j) for i in range(plot_x) for j in range(plot_y)]:\n",
        "        if x == 0 and y == 0:\n",
        "            continue\n",
        "        ax[x, y].imshow(img_ascs[x * plot_y + y - 1], cmap = 'gray')\n",
        "        ax[x, y].set_title('filter %d' % (x * plot_y + y - 1))\n",
        "\n",
        "vis_img_in_filter()"
      ],
      "execution_count": 0,
      "outputs": []
    }
  ]
}