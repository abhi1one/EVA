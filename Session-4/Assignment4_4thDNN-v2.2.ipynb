{
  "nbformat": 4,
  "nbformat_minor": 0,
  "metadata": {
    "colab": {
      "name": "Assignment4-4thDNN.ipynb",
      "version": "0.3.2",
      "provenance": [],
      "collapsed_sections": []
    },
    "kernelspec": {
      "name": "python3",
      "display_name": "Python 3"
    },
    "accelerator": "GPU"
  },
  "cells": [
    {
      "cell_type": "markdown",
      "metadata": {
        "id": "aNyZv-Ec52ot",
        "colab_type": "text"
      },
      "source": [
        "# **4th DNN**\n",
        "\n",
        "**Thinking about**\n",
        "\n",
        "1. Number of Epochs and when to increase them,\n",
        "2. Batch Size, and effects of batch size\n",
        "3. How do we know our network is not going well, comparatively, very early\n",
        "4. When to add validation checks\n",
        "5. Learning Rate,\n",
        "6. LR schedule and concept behind it\n",
        "7. When do we stop convolutions and go ahead with a larger kernel or some other alternative (which we have not yet covered)\n",
        "\n",
        "**This is version 2.2 for Version 2.1 of 4th DNN  **\n",
        "\n",
        "  Batch size 128\n",
        "  Epoch 50\n",
        "  Learning rate schedule with starting lr .01 and scheduler defined as example from session material\n",
        "\n",
        "*Result*\n",
        "\n",
        "\n"
      ]
    },
    {
      "cell_type": "markdown",
      "metadata": {
        "id": "j8FDs1Hx0-o0",
        "colab_type": "text"
      },
      "source": [
        "installing and Importing Keras for current solution"
      ]
    },
    {
      "cell_type": "code",
      "metadata": {
        "id": "3m3w1Cw49Zkt",
        "colab_type": "code",
        "outputId": "8cfa1ad1-53e3-4490-92fa-a4380e76f1bd",
        "colab": {
          "base_uri": "https://localhost:8080/",
          "height": 34
        }
      },
      "source": [
        "# https://keras.io/\n",
        "!pip install -q keras\n",
        "import keras"
      ],
      "execution_count": 1,
      "outputs": [
        {
          "output_type": "stream",
          "text": [
            "Using TensorFlow backend.\n"
          ],
          "name": "stderr"
        }
      ]
    },
    {
      "cell_type": "markdown",
      "metadata": {
        "id": "N-qhHUhK1Ggp",
        "colab_type": "text"
      },
      "source": [
        "Importing Numpy and Keras modules as well as mnist data set."
      ]
    },
    {
      "cell_type": "code",
      "metadata": {
        "id": "Eso6UHE080D4",
        "colab_type": "code",
        "colab": {}
      },
      "source": [
        "import numpy as np\n",
        "\n",
        "from keras.models import Sequential\n",
        "from keras.layers import Dense, Dropout, Activation, Flatten, Add\n",
        "from keras.layers import Convolution2D, MaxPooling2D\n",
        "from keras.utils import np_utils\n",
        "\n",
        "from keras.datasets import mnist"
      ],
      "execution_count": 0,
      "outputs": []
    },
    {
      "cell_type": "markdown",
      "metadata": {
        "id": "zByEi95J86RD",
        "colab_type": "text"
      },
      "source": [
        "### Load pre-shuffled MNIST data into train and test sets"
      ]
    },
    {
      "cell_type": "markdown",
      "metadata": {
        "id": "yxPvMT_21Mhy",
        "colab_type": "text"
      },
      "source": [
        "Loading mnist data set in train and test variables."
      ]
    },
    {
      "cell_type": "code",
      "metadata": {
        "id": "7eRM0QWN83PV",
        "colab_type": "code",
        "colab": {}
      },
      "source": [
        "(X_train, y_train), (X_test, y_test) = mnist.load_data()"
      ],
      "execution_count": 0,
      "outputs": []
    },
    {
      "cell_type": "markdown",
      "metadata": {
        "id": "9SMpZZpo1Sv0",
        "colab_type": "text"
      },
      "source": [
        "Ploting sample from train data set."
      ]
    },
    {
      "cell_type": "code",
      "metadata": {
        "id": "4a4Be72j8-ZC",
        "colab_type": "code",
        "outputId": "568aad4e-c877-42cf-b525-b3b67dea81a6",
        "colab": {
          "base_uri": "https://localhost:8080/",
          "height": 303
        }
      },
      "source": [
        "print (X_train.shape)\n",
        "from matplotlib import pyplot as plt\n",
        "%matplotlib inline\n",
        "plt.imshow(X_train[0])"
      ],
      "execution_count": 4,
      "outputs": [
        {
          "output_type": "stream",
          "text": [
            "(60000, 28, 28)\n"
          ],
          "name": "stdout"
        },
        {
          "output_type": "execute_result",
          "data": {
            "text/plain": [
              "<matplotlib.image.AxesImage at 0x7f7629938b00>"
            ]
          },
          "metadata": {
            "tags": []
          },
          "execution_count": 4
        },
        {
          "output_type": "display_data",
          "data": {
            "image/png": "[encoded data removed]",
            "text/plain": [
              "<Figure size 432x288 with 1 Axes>"
            ]
          },
          "metadata": {
            "tags": []
          }
        }
      ]
    },
    {
      "cell_type": "markdown",
      "metadata": {
        "id": "N1AM8Fy81X1n",
        "colab_type": "text"
      },
      "source": [
        "Reshaping all train and test data to a uniform size."
      ]
    },
    {
      "cell_type": "code",
      "metadata": {
        "id": "dkmprriw9AnZ",
        "colab_type": "code",
        "colab": {}
      },
      "source": [
        "X_train = X_train.reshape(X_train.shape[0], 28, 28,1)\n",
        "X_test = X_test.reshape(X_test.shape[0], 28, 28,1)"
      ],
      "execution_count": 0,
      "outputs": []
    },
    {
      "cell_type": "markdown",
      "metadata": {
        "id": "tjr4ODS81eUc",
        "colab_type": "text"
      },
      "source": [
        "Regularizing train and test data for float data type and division wiht 255"
      ]
    },
    {
      "cell_type": "code",
      "metadata": {
        "id": "X2m4YS4E9CRh",
        "colab_type": "code",
        "colab": {}
      },
      "source": [
        "X_train = X_train.astype('float32')\n",
        "X_test = X_test.astype('float32')\n",
        "X_train /= 255\n",
        "X_test /= 255"
      ],
      "execution_count": 0,
      "outputs": []
    },
    {
      "cell_type": "markdown",
      "metadata": {
        "id": "lDZ-v1na1okY",
        "colab_type": "text"
      },
      "source": [
        "Visualizing train out put"
      ]
    },
    {
      "cell_type": "code",
      "metadata": {
        "id": "0Mn0vAYD9DvB",
        "colab_type": "code",
        "outputId": "0685ecd0-b725-4a37-ffc9-1a03cda02abd",
        "colab": {
          "base_uri": "https://localhost:8080/",
          "height": 34
        }
      },
      "source": [
        "y_train[:10]"
      ],
      "execution_count": 7,
      "outputs": [
        {
          "output_type": "execute_result",
          "data": {
            "text/plain": [
              "array([5, 0, 4, 1, 9, 2, 1, 3, 1, 4], dtype=uint8)"
            ]
          },
          "metadata": {
            "tags": []
          },
          "execution_count": 7
        }
      ]
    },
    {
      "cell_type": "markdown",
      "metadata": {
        "id": "ZCLqRA3o1wFq",
        "colab_type": "text"
      },
      "source": [
        "Convert 1-dimensional class arrays to 10-dimensional class matrices"
      ]
    },
    {
      "cell_type": "code",
      "metadata": {
        "id": "ZG8JiXR39FHC",
        "colab_type": "code",
        "colab": {}
      },
      "source": [
        "# Convert 1-dimensional class arrays to 10-dimensional class matrices\n",
        "Y_train = np_utils.to_categorical(y_train, 10)\n",
        "Y_test = np_utils.to_categorical(y_test, 10)"
      ],
      "execution_count": 0,
      "outputs": []
    },
    {
      "cell_type": "markdown",
      "metadata": {
        "id": "kXmnovfn1yew",
        "colab_type": "text"
      },
      "source": [
        "Viewing tranformed train out put matrix"
      ]
    },
    {
      "cell_type": "code",
      "metadata": {
        "id": "fYlFRvKS9HMB",
        "colab_type": "code",
        "outputId": "2cb8b023-387b-4580-8060-175682ad347e",
        "colab": {
          "base_uri": "https://localhost:8080/",
          "height": 187
        }
      },
      "source": [
        "Y_train[:10]\n"
      ],
      "execution_count": 9,
      "outputs": [
        {
          "output_type": "execute_result",
          "data": {
            "text/plain": [
              "array([[0., 0., 0., 0., 0., 1., 0., 0., 0., 0.],\n",
              "       [1., 0., 0., 0., 0., 0., 0., 0., 0., 0.],\n",
              "       [0., 0., 0., 0., 1., 0., 0., 0., 0., 0.],\n",
              "       [0., 1., 0., 0., 0., 0., 0., 0., 0., 0.],\n",
              "       [0., 0., 0., 0., 0., 0., 0., 0., 0., 1.],\n",
              "       [0., 0., 1., 0., 0., 0., 0., 0., 0., 0.],\n",
              "       [0., 1., 0., 0., 0., 0., 0., 0., 0., 0.],\n",
              "       [0., 0., 0., 1., 0., 0., 0., 0., 0., 0.],\n",
              "       [0., 1., 0., 0., 0., 0., 0., 0., 0., 0.],\n",
              "       [0., 0., 0., 0., 1., 0., 0., 0., 0., 0.]], dtype=float32)"
            ]
          },
          "metadata": {
            "tags": []
          },
          "execution_count": 9
        }
      ]
    },
    {
      "cell_type": "markdown",
      "metadata": {
        "id": "Z2PFtTZq127m",
        "colab_type": "text"
      },
      "source": [
        "Carrying form 4th  DNN Version 2.1"
      ]
    },
    {
      "cell_type": "code",
      "metadata": {
        "id": "osKqT73Q9JJB",
        "colab_type": "code",
        "outputId": "c3be5de6-5fa7-4b1f-a430-f7d05725694f",
        "colab": {
          "base_uri": "https://localhost:8080/",
          "height": 105
        }
      },
      "source": [
        "from keras.layers import Activation, BatchNormalization\n",
        "model = Sequential()\n",
        "\n",
        "#Vanilla\n",
        "''' \n",
        "model.add(Convolution2D(32, 3, 3, activation='relu', input_shape=(28,28,1)))\n",
        "model.add(Convolution2D(10, 1, activation='relu'))\n",
        "model.add(Convolution2D(10, 26))\n",
        "'''\n",
        "\n",
        "#1st version \n",
        "'''\n",
        "model.add(Convolution2D(8, 3, 3, activation='relu', input_shape=(28,28,1)))\n",
        "model.add(BatchNormalization())\n",
        "\n",
        "model.add(Convolution2D(8, 3, 3, activation='relu')) #input 26,26 #RF 3X3\n",
        "model.add(BatchNormalization())\n",
        "\n",
        "model.add(Convolution2D(8, 3, 3, activation='relu')) #input 24,24 #RF 7X7\n",
        "model.add(BatchNormalization())\n",
        "\n",
        "model.add(Convolution2D(8, 3, 3, activation='relu')) #input 22,22 #RF 9X9\n",
        "model.add(BatchNormalization())\n",
        "\n",
        "model.add(Dropout(0.2))\n",
        "\n",
        "model.add(Convolution2D(8, 3, 3, activation='relu')) #input 20,20 #RF 11X11\n",
        "model.add(BatchNormalization())\n",
        "\n",
        "model.add(Convolution2D(8, 3, 3, activation='relu')) #input 18,18 #RF 13X13\n",
        "model.add(BatchNormalization())\n",
        "\n",
        "model.add(Convolution2D(8, 3, 3, activation='relu')) #input 16,16 #RF 15X15\n",
        "model.add(BatchNormalization())\n",
        "\n",
        "model.add(Convolution2D(8, 3, 3, activation='relu')) #input 14,14 #RF 17X17\n",
        "model.add(BatchNormalization())\n",
        "\n",
        "model.add(Dropout(0.2))\n",
        "\n",
        "model.add(Convolution2D(4, 3, 3, activation='relu')) #input 12,12 #RF 19X19\n",
        "model.add(BatchNormalization())\n",
        "\n",
        "model.add(Convolution2D(10, 1)) #input 10,10 \n",
        "model.add(BatchNormalization())\n",
        "\n",
        "model.add(Convolution2D(10, 10)) #input 10,10\n",
        "'''\n",
        "\n",
        "#2nd version \n",
        "''''''\n",
        "model.add(Convolution2D(16, 3, 3, activation='relu', input_shape=(28,28,1)))\n",
        "model.add(BatchNormalization())\n",
        "\n",
        "model.add(Convolution2D(16, 3, 3, activation='relu')) #input 26,26 #RF 3X3\n",
        "model.add(BatchNormalization())\n",
        "\n",
        "model.add(Convolution2D(16, 3, 3, activation='relu')) #input 24,24 #RF 7X7\n",
        "model.add(BatchNormalization())\n",
        "\n",
        "model.add(Dropout(0.2))\n",
        "\n",
        "model.add(MaxPooling2D(pool_size=(2, 2))) #input 22,22 #RF 14X14\n",
        "model.add(Convolution2D(8, 3, 3, activation='relu')) #input 11,11 #RF 16X16\n",
        "model.add(BatchNormalization())\n",
        "\n",
        "model.add(Dropout(0.2))\n",
        "\n",
        "model.add(Convolution2D(10, 1, activation='relu')) #input 9,9\n",
        "model.add(Convolution2D(10, 9)) #input 9X9\n",
        "\n",
        "\n",
        "#3rd version \n",
        "'''\n",
        "model.add(Convolution2D(16, 3, 3, activation='relu', input_shape=(28,28,1)))\n",
        "model.add(BatchNormalization())\n",
        "\n",
        "model.add(Dropout(0.2))\n",
        "\n",
        "model.add(Convolution2D(16, 3, 3, activation='relu')) #input 26,26 #RF 3X3\n",
        "model.add(BatchNormalization())\n",
        "\n",
        "model.add(MaxPooling2D(pool_size=(2, 2))) #input 24,24 #RF 6X6\n",
        "\n",
        "model.add(Convolution2D(12, 3, 3, activation='relu')) #input 12,12 #RF 8X8\n",
        "model.add(BatchNormalization())\n",
        "\n",
        "model.add(Dropout(0.2))\n",
        "\n",
        "model.add(Convolution2D(10, 1, activation='relu')) #input 9,9\n",
        "model.add(Convolution2D(10, 10)) #input 9X9\n",
        "'''\n",
        "\n",
        "model.add(Flatten())\n",
        "model.add(Activation('softmax'))"
      ],
      "execution_count": 42,
      "outputs": [
        {
          "output_type": "stream",
          "text": [
            "/usr/local/lib/python3.6/dist-packages/ipykernel_launcher.py:52: UserWarning: Update your `Conv2D` call to the Keras 2 API: `Conv2D(16, (3, 3), activation=\"relu\", input_shape=(28, 28, 1...)`\n",
            "/usr/local/lib/python3.6/dist-packages/ipykernel_launcher.py:55: UserWarning: Update your `Conv2D` call to the Keras 2 API: `Conv2D(16, (3, 3), activation=\"relu\")`\n",
            "/usr/local/lib/python3.6/dist-packages/ipykernel_launcher.py:58: UserWarning: Update your `Conv2D` call to the Keras 2 API: `Conv2D(16, (3, 3), activation=\"relu\")`\n",
            "/usr/local/lib/python3.6/dist-packages/ipykernel_launcher.py:64: UserWarning: Update your `Conv2D` call to the Keras 2 API: `Conv2D(8, (3, 3), activation=\"relu\")`\n"
          ],
          "name": "stderr"
        }
      ]
    },
    {
      "cell_type": "markdown",
      "metadata": {
        "id": "T1mq9MtB2GgQ",
        "colab_type": "text"
      },
      "source": [
        "Printing model summary to understand current paramaters for the model. "
      ]
    },
    {
      "cell_type": "code",
      "metadata": {
        "id": "TzdAYg1k9K7Z",
        "colab_type": "code",
        "outputId": "6ca76878-c000-4a2d-8d59-42e28c3def9b",
        "colab": {
          "base_uri": "https://localhost:8080/",
          "height": 646
        }
      },
      "source": [
        "model.summary()"
      ],
      "execution_count": 43,
      "outputs": [
        {
          "output_type": "stream",
          "text": [
            "_________________________________________________________________\n",
            "Layer (type)                 Output Shape              Param #   \n",
            "=================================================================\n",
            "conv2d_30 (Conv2D)           (None, 26, 26, 16)        160       \n",
            "_________________________________________________________________\n",
            "batch_normalization_23 (Batc (None, 26, 26, 16)        64        \n",
            "_________________________________________________________________\n",
            "conv2d_31 (Conv2D)           (None, 24, 24, 16)        2320      \n",
            "_________________________________________________________________\n",
            "batch_normalization_24 (Batc (None, 24, 24, 16)        64        \n",
            "_________________________________________________________________\n",
            "conv2d_32 (Conv2D)           (None, 22, 22, 16)        2320      \n",
            "_________________________________________________________________\n",
            "batch_normalization_25 (Batc (None, 22, 22, 16)        64        \n",
            "_________________________________________________________________\n",
            "dropout_9 (Dropout)          (None, 22, 22, 16)        0         \n",
            "_________________________________________________________________\n",
            "max_pooling2d_4 (MaxPooling2 (None, 11, 11, 16)        0         \n",
            "_________________________________________________________________\n",
            "conv2d_33 (Conv2D)           (None, 9, 9, 8)           1160      \n",
            "_________________________________________________________________\n",
            "batch_normalization_26 (Batc (None, 9, 9, 8)           32        \n",
            "_________________________________________________________________\n",
            "dropout_10 (Dropout)         (None, 9, 9, 8)           0         \n",
            "_________________________________________________________________\n",
            "conv2d_34 (Conv2D)           (None, 9, 9, 10)          90        \n",
            "_________________________________________________________________\n",
            "conv2d_35 (Conv2D)           (None, 1, 1, 10)          8110      \n",
            "_________________________________________________________________\n",
            "flatten_5 (Flatten)          (None, 10)                0         \n",
            "_________________________________________________________________\n",
            "activation_5 (Activation)    (None, 10)                0         \n",
            "=================================================================\n",
            "Total params: 14,384\n",
            "Trainable params: 14,272\n",
            "Non-trainable params: 112\n",
            "_________________________________________________________________\n"
          ],
          "name": "stdout"
        }
      ]
    },
    {
      "cell_type": "markdown",
      "metadata": {
        "id": "VlnhdT4u2Owz",
        "colab_type": "text"
      },
      "source": [
        "Setting model's compile environment with loss function, optimizer and matrics."
      ]
    },
    {
      "cell_type": "code",
      "metadata": {
        "id": "Zp6SuGrL9M3h",
        "colab_type": "code",
        "colab": {}
      },
      "source": [
        "from keras.optimizers import Adam\n",
        "from keras.callbacks import LearningRateScheduler\n",
        "def scheduler(epoch, lr):\n",
        "  return round(0.01 * 1/(1 + 0.319 * epoch), 10)\n",
        "\n",
        "model.compile(loss='categorical_crossentropy',\n",
        "             optimizer=Adam(lr=0.01),\n",
        "             metrics=['accuracy'])"
      ],
      "execution_count": 0,
      "outputs": []
    },
    {
      "cell_type": "markdown",
      "metadata": {
        "id": "06jT2a0t2Vpj",
        "colab_type": "text"
      },
      "source": [
        "Training model for 50 epoch for 128 batch size"
      ]
    },
    {
      "cell_type": "code",
      "metadata": {
        "id": "4xWoKhPY9Of5",
        "colab_type": "code",
        "outputId": "5d1b1efc-803d-4cfd-bff2-179cb88d5bb4",
        "colab": {
          "base_uri": "https://localhost:8080/",
          "height": 3488
        }
      },
      "source": [
        "history = model.fit(X_train, Y_train, batch_size=128, nb_epoch=50, verbose=1, validation_data=(X_test, Y_test), callbacks=[LearningRateScheduler(scheduler, verbose=1)])"
      ],
      "execution_count": 46,
      "outputs": [
        {
          "output_type": "stream",
          "text": [
            "Train on 60000 samples, validate on 10000 samples\n",
            "Epoch 1/50\n",
            "\n",
            "Epoch 00001: LearningRateScheduler setting learning rate to 0.01.\n",
            "  640/60000 [..............................] - ETA: 14s - loss: 0.1476 - acc: 0.9516"
          ],
          "name": "stdout"
        },
        {
          "output_type": "stream",
          "text": [
            "/usr/local/lib/python3.6/dist-packages/ipykernel_launcher.py:1: UserWarning: The `nb_epoch` argument in `fit` has been renamed `epochs`.\n",
            "  \"\"\"Entry point for launching an IPython kernel.\n"
          ],
          "name": "stderr"
        },
        {
          "output_type": "stream",
          "text": [
            "60000/60000 [==============================] - 5s 88us/step - loss: 0.0819 - acc: 0.9745 - val_loss: 0.0566 - val_acc: 0.9823\n",
            "Epoch 2/50\n",
            "\n",
            "Epoch 00002: LearningRateScheduler setting learning rate to 0.0075815011.\n",
            "60000/60000 [==============================] - 5s 81us/step - loss: 0.0527 - acc: 0.9839 - val_loss: 0.0422 - val_acc: 0.9865\n",
            "Epoch 3/50\n",
            "\n",
            "Epoch 00003: LearningRateScheduler setting learning rate to 0.0061050061.\n",
            "60000/60000 [==============================] - 5s 81us/step - loss: 0.0419 - acc: 0.9869 - val_loss: 0.0373 - val_acc: 0.9875\n",
            "Epoch 4/50\n",
            "\n",
            "Epoch 00004: LearningRateScheduler setting learning rate to 0.005109862.\n",
            "60000/60000 [==============================] - 5s 80us/step - loss: 0.0369 - acc: 0.9887 - val_loss: 0.0327 - val_acc: 0.9896\n",
            "Epoch 5/50\n",
            "\n",
            "Epoch 00005: LearningRateScheduler setting learning rate to 0.0043936731.\n",
            "60000/60000 [==============================] - 5s 81us/step - loss: 0.0330 - acc: 0.9892 - val_loss: 0.0318 - val_acc: 0.9897\n",
            "Epoch 6/50\n",
            "\n",
            "Epoch 00006: LearningRateScheduler setting learning rate to 0.0038535645.\n",
            "60000/60000 [==============================] - 5s 81us/step - loss: 0.0295 - acc: 0.9905 - val_loss: 0.0331 - val_acc: 0.9909\n",
            "Epoch 7/50\n",
            "\n",
            "Epoch 00007: LearningRateScheduler setting learning rate to 0.003431709.\n",
            "60000/60000 [==============================] - 5s 81us/step - loss: 0.0266 - acc: 0.9912 - val_loss: 0.0313 - val_acc: 0.9898\n",
            "Epoch 8/50\n",
            "\n",
            "Epoch 00008: LearningRateScheduler setting learning rate to 0.0030931024.\n",
            "60000/60000 [==============================] - 5s 81us/step - loss: 0.0258 - acc: 0.9914 - val_loss: 0.0322 - val_acc: 0.9903\n",
            "Epoch 9/50\n",
            "\n",
            "Epoch 00009: LearningRateScheduler setting learning rate to 0.0028153153.\n",
            "60000/60000 [==============================] - 5s 80us/step - loss: 0.0214 - acc: 0.9931 - val_loss: 0.0273 - val_acc: 0.9918\n",
            "Epoch 10/50\n",
            "\n",
            "Epoch 00010: LearningRateScheduler setting learning rate to 0.0025833118.\n",
            "60000/60000 [==============================] - 5s 81us/step - loss: 0.0208 - acc: 0.9929 - val_loss: 0.0261 - val_acc: 0.9918\n",
            "Epoch 11/50\n",
            "\n",
            "Epoch 00011: LearningRateScheduler setting learning rate to 0.0023866348.\n",
            "60000/60000 [==============================] - 5s 81us/step - loss: 0.0202 - acc: 0.9929 - val_loss: 0.0367 - val_acc: 0.9893\n",
            "Epoch 12/50\n",
            "\n",
            "Epoch 00012: LearningRateScheduler setting learning rate to 0.0022177866.\n",
            "60000/60000 [==============================] - 5s 88us/step - loss: 0.0181 - acc: 0.9940 - val_loss: 0.0288 - val_acc: 0.9911\n",
            "Epoch 13/50\n",
            "\n",
            "Epoch 00013: LearningRateScheduler setting learning rate to 0.002071251.\n",
            "60000/60000 [==============================] - 5s 86us/step - loss: 0.0166 - acc: 0.9939 - val_loss: 0.0287 - val_acc: 0.9920\n",
            "Epoch 14/50\n",
            "\n",
            "Epoch 00014: LearningRateScheduler setting learning rate to 0.0019428793.\n",
            "60000/60000 [==============================] - 5s 80us/step - loss: 0.0157 - acc: 0.9945 - val_loss: 0.0264 - val_acc: 0.9927\n",
            "Epoch 15/50\n",
            "\n",
            "Epoch 00015: LearningRateScheduler setting learning rate to 0.0018294914.\n",
            "60000/60000 [==============================] - 5s 80us/step - loss: 0.0155 - acc: 0.9945 - val_loss: 0.0261 - val_acc: 0.9920\n",
            "Epoch 16/50\n",
            "\n",
            "Epoch 00016: LearningRateScheduler setting learning rate to 0.0017286085.\n",
            "60000/60000 [==============================] - 5s 80us/step - loss: 0.0167 - acc: 0.9941 - val_loss: 0.0279 - val_acc: 0.9923\n",
            "Epoch 17/50\n",
            "\n",
            "Epoch 00017: LearningRateScheduler setting learning rate to 0.00163827.\n",
            "60000/60000 [==============================] - 5s 80us/step - loss: 0.0134 - acc: 0.9954 - val_loss: 0.0290 - val_acc: 0.9907\n",
            "Epoch 18/50\n",
            "\n",
            "Epoch 00018: LearningRateScheduler setting learning rate to 0.0015569049.\n",
            "60000/60000 [==============================] - 5s 80us/step - loss: 0.0133 - acc: 0.9954 - val_loss: 0.0291 - val_acc: 0.9912\n",
            "Epoch 19/50\n",
            "\n",
            "Epoch 00019: LearningRateScheduler setting learning rate to 0.0014832394.\n",
            "60000/60000 [==============================] - 5s 80us/step - loss: 0.0127 - acc: 0.9957 - val_loss: 0.0249 - val_acc: 0.9932\n",
            "Epoch 20/50\n",
            "\n",
            "Epoch 00020: LearningRateScheduler setting learning rate to 0.00141623.\n",
            "60000/60000 [==============================] - 5s 86us/step - loss: 0.0123 - acc: 0.9958 - val_loss: 0.0325 - val_acc: 0.9916\n",
            "Epoch 21/50\n",
            "\n",
            "Epoch 00021: LearningRateScheduler setting learning rate to 0.0013550136.\n",
            "60000/60000 [==============================] - 5s 83us/step - loss: 0.0114 - acc: 0.9962 - val_loss: 0.0267 - val_acc: 0.9923\n",
            "Epoch 22/50\n",
            "\n",
            "Epoch 00022: LearningRateScheduler setting learning rate to 0.00129887.\n",
            "60000/60000 [==============================] - 5s 80us/step - loss: 0.0110 - acc: 0.9964 - val_loss: 0.0292 - val_acc: 0.9920\n",
            "Epoch 23/50\n",
            "\n",
            "Epoch 00023: LearningRateScheduler setting learning rate to 0.0012471938.\n",
            "60000/60000 [==============================] - 5s 81us/step - loss: 0.0104 - acc: 0.9964 - val_loss: 0.0352 - val_acc: 0.9910\n",
            "Epoch 24/50\n",
            "\n",
            "Epoch 00024: LearningRateScheduler setting learning rate to 0.0011994722.\n",
            "60000/60000 [==============================] - 5s 81us/step - loss: 0.0106 - acc: 0.9965 - val_loss: 0.0279 - val_acc: 0.9922\n",
            "Epoch 25/50\n",
            "\n",
            "Epoch 00025: LearningRateScheduler setting learning rate to 0.001155268.\n",
            "60000/60000 [==============================] - 5s 81us/step - loss: 0.0100 - acc: 0.9965 - val_loss: 0.0298 - val_acc: 0.9927\n",
            "Epoch 26/50\n",
            "\n",
            "Epoch 00026: LearningRateScheduler setting learning rate to 0.0011142061.\n",
            "60000/60000 [==============================] - 5s 81us/step - loss: 0.0092 - acc: 0.9967 - val_loss: 0.0301 - val_acc: 0.9922\n",
            "Epoch 27/50\n",
            "\n",
            "Epoch 00027: LearningRateScheduler setting learning rate to 0.001075963.\n",
            "60000/60000 [==============================] - 5s 80us/step - loss: 0.0086 - acc: 0.9969 - val_loss: 0.0263 - val_acc: 0.9929\n",
            "Epoch 28/50\n",
            "\n",
            "Epoch 00028: LearningRateScheduler setting learning rate to 0.001040258.\n",
            "60000/60000 [==============================] - 5s 87us/step - loss: 0.0085 - acc: 0.9969 - val_loss: 0.0349 - val_acc: 0.9900\n",
            "Epoch 29/50\n",
            "\n",
            "Epoch 00029: LearningRateScheduler setting learning rate to 0.0010068466.\n",
            "60000/60000 [==============================] - 5s 88us/step - loss: 0.0086 - acc: 0.9970 - val_loss: 0.0279 - val_acc: 0.9923\n",
            "Epoch 30/50\n",
            "\n",
            "Epoch 00030: LearningRateScheduler setting learning rate to 0.0009755146.\n",
            "60000/60000 [==============================] - 5s 81us/step - loss: 0.0087 - acc: 0.9967 - val_loss: 0.0276 - val_acc: 0.9932\n",
            "Epoch 31/50\n",
            "\n",
            "Epoch 00031: LearningRateScheduler setting learning rate to 0.0009460738.\n",
            "60000/60000 [==============================] - 5s 80us/step - loss: 0.0073 - acc: 0.9977 - val_loss: 0.0292 - val_acc: 0.9930\n",
            "Epoch 32/50\n",
            "\n",
            "Epoch 00032: LearningRateScheduler setting learning rate to 0.000918358.\n",
            "60000/60000 [==============================] - 5s 80us/step - loss: 0.0077 - acc: 0.9975 - val_loss: 0.0271 - val_acc: 0.9932\n",
            "Epoch 33/50\n",
            "\n",
            "Epoch 00033: LearningRateScheduler setting learning rate to 0.0008922198.\n",
            "60000/60000 [==============================] - 5s 80us/step - loss: 0.0077 - acc: 0.9971 - val_loss: 0.0285 - val_acc: 0.9928\n",
            "Epoch 34/50\n",
            "\n",
            "Epoch 00034: LearningRateScheduler setting learning rate to 0.0008675284.\n",
            "60000/60000 [==============================] - 5s 80us/step - loss: 0.0073 - acc: 0.9977 - val_loss: 0.0269 - val_acc: 0.9933\n",
            "Epoch 35/50\n",
            "\n",
            "Epoch 00035: LearningRateScheduler setting learning rate to 0.0008441668.\n",
            "60000/60000 [==============================] - 5s 80us/step - loss: 0.0075 - acc: 0.9974 - val_loss: 0.0301 - val_acc: 0.9925\n",
            "Epoch 36/50\n",
            "\n",
            "Epoch 00036: LearningRateScheduler setting learning rate to 0.0008220304.\n",
            "60000/60000 [==============================] - 5s 80us/step - loss: 0.0067 - acc: 0.9977 - val_loss: 0.0301 - val_acc: 0.9919\n",
            "Epoch 37/50\n",
            "\n",
            "Epoch 00037: LearningRateScheduler setting learning rate to 0.0008010253.\n",
            "60000/60000 [==============================] - 5s 80us/step - loss: 0.0074 - acc: 0.9974 - val_loss: 0.0275 - val_acc: 0.9926\n",
            "Epoch 38/50\n",
            "\n",
            "Epoch 00038: LearningRateScheduler setting learning rate to 0.0007810669.\n",
            "60000/60000 [==============================] - 5s 80us/step - loss: 0.0069 - acc: 0.9977 - val_loss: 0.0299 - val_acc: 0.9929\n",
            "Epoch 39/50\n",
            "\n",
            "Epoch 00039: LearningRateScheduler setting learning rate to 0.000762079.\n",
            "60000/60000 [==============================] - 5s 80us/step - loss: 0.0062 - acc: 0.9978 - val_loss: 0.0300 - val_acc: 0.9928\n",
            "Epoch 40/50\n",
            "\n",
            "Epoch 00040: LearningRateScheduler setting learning rate to 0.0007439923.\n",
            "60000/60000 [==============================] - 5s 80us/step - loss: 0.0064 - acc: 0.9978 - val_loss: 0.0319 - val_acc: 0.9924\n",
            "Epoch 41/50\n",
            "\n",
            "Epoch 00041: LearningRateScheduler setting learning rate to 0.0007267442.\n",
            "60000/60000 [==============================] - 5s 80us/step - loss: 0.0068 - acc: 0.9976 - val_loss: 0.0288 - val_acc: 0.9933\n",
            "Epoch 42/50\n",
            "\n",
            "Epoch 00042: LearningRateScheduler setting learning rate to 0.0007102777.\n",
            "60000/60000 [==============================] - 5s 80us/step - loss: 0.0062 - acc: 0.9978 - val_loss: 0.0305 - val_acc: 0.9933\n",
            "Epoch 43/50\n",
            "\n",
            "Epoch 00043: LearningRateScheduler setting learning rate to 0.0006945409.\n",
            "60000/60000 [==============================] - 5s 80us/step - loss: 0.0056 - acc: 0.9980 - val_loss: 0.0293 - val_acc: 0.9930\n",
            "Epoch 44/50\n",
            "\n",
            "Epoch 00044: LearningRateScheduler setting learning rate to 0.0006794863.\n",
            "60000/60000 [==============================] - 5s 83us/step - loss: 0.0064 - acc: 0.9978 - val_loss: 0.0312 - val_acc: 0.9920\n",
            "Epoch 45/50\n",
            "\n",
            "Epoch 00045: LearningRateScheduler setting learning rate to 0.0006650705.\n",
            "60000/60000 [==============================] - 5s 88us/step - loss: 0.0056 - acc: 0.9981 - val_loss: 0.0287 - val_acc: 0.9930\n",
            "Epoch 46/50\n",
            "\n",
            "Epoch 00046: LearningRateScheduler setting learning rate to 0.0006512537.\n",
            "60000/60000 [==============================] - 5s 86us/step - loss: 0.0055 - acc: 0.9981 - val_loss: 0.0291 - val_acc: 0.9933\n",
            "Epoch 47/50\n",
            "\n",
            "Epoch 00047: LearningRateScheduler setting learning rate to 0.0006379992.\n",
            "60000/60000 [==============================] - 5s 80us/step - loss: 0.0057 - acc: 0.9981 - val_loss: 0.0288 - val_acc: 0.9928\n",
            "Epoch 48/50\n",
            "\n",
            "Epoch 00048: LearningRateScheduler setting learning rate to 0.0006252736.\n",
            "60000/60000 [==============================] - 5s 81us/step - loss: 0.0052 - acc: 0.9982 - val_loss: 0.0293 - val_acc: 0.9928\n",
            "Epoch 49/50\n",
            "\n",
            "Epoch 00049: LearningRateScheduler setting learning rate to 0.0006130456.\n",
            "60000/60000 [==============================] - 5s 80us/step - loss: 0.0056 - acc: 0.9982 - val_loss: 0.0283 - val_acc: 0.9932\n",
            "Epoch 50/50\n",
            "\n",
            "Epoch 00050: LearningRateScheduler setting learning rate to 0.0006012868.\n",
            "60000/60000 [==============================] - 5s 81us/step - loss: 0.0049 - acc: 0.9983 - val_loss: 0.0320 - val_acc: 0.9919\n"
          ],
          "name": "stdout"
        }
      ]
    },
    {
      "cell_type": "markdown",
      "metadata": {
        "id": "3_0_UAU1M1wP",
        "colab_type": "text"
      },
      "source": [
        "Plotting training and validation accuracty as well as loss for every epoch"
      ]
    },
    {
      "cell_type": "code",
      "metadata": {
        "id": "9tvptcn8dxvp",
        "colab_type": "code",
        "outputId": "ffe60679-4932-49a8-e675-a1e2d29a5817",
        "colab": {
          "base_uri": "https://localhost:8080/",
          "height": 573
        }
      },
      "source": [
        "import matplotlib.pyplot as plt\n",
        "\n",
        "#history = model.fit(x, y, validation_split=0.25, epochs=50, batch_size=16, verbose=1)\n",
        "\n",
        "# Plot training & validation accuracy values\n",
        "plt.plot(history.history['acc'])\n",
        "plt.plot(history.history['val_acc'])\n",
        "plt.title('Model accuracy')\n",
        "plt.ylabel('Accuracy')\n",
        "plt.xlabel('Epoch')\n",
        "plt.legend(['Train', 'Test'], loc='upper left')\n",
        "plt.show()\n",
        "\n",
        "# Plot training & validation loss values\n",
        "plt.plot(history.history['loss'])\n",
        "plt.plot(history.history['val_loss'])\n",
        "plt.title('Model loss')\n",
        "plt.ylabel('Loss')\n",
        "plt.xlabel('Epoch')\n",
        "plt.legend(['Train', 'Test'], loc='upper left')\n",
        "plt.show()"
      ],
      "execution_count": 47,
      "outputs": [
        {
          "output_type": "display_data",
          "data": {
            "image/png": "[encoded data removed]",
            "text/plain": [
              "<Figure size 432x288 with 1 Axes>"
            ]
          },
          "metadata": {
            "tags": []
          }
        },
        {
          "output_type": "display_data",
          "data": {
            "image/png": "[encoded data removed]",
            "text/plain": [
              "<Figure size 432x288 with 1 Axes>"
            ]
          },
          "metadata": {
            "tags": []
          }
        }
      ]
    },
    {
      "cell_type": "markdown",
      "metadata": {
        "colab_type": "text",
        "id": "UyH8P1SaNYYZ"
      },
      "source": [
        "Evaluating model and storing score in a variable."
      ]
    },
    {
      "cell_type": "code",
      "metadata": {
        "colab_type": "code",
        "id": "_eDU0sXWNXmE",
        "colab": {}
      },
      "source": [
        "score = model.evaluate(X_test, Y_test, verbose=0)"
      ],
      "execution_count": 0,
      "outputs": []
    },
    {
      "cell_type": "markdown",
      "metadata": {
        "colab_type": "text",
        "id": "_weXQQMkNWk1"
      },
      "source": [
        "Printing loss and accuracy of model test done in last step"
      ]
    },
    {
      "cell_type": "code",
      "metadata": {
        "id": "mkX8JMv79q9r",
        "colab_type": "code",
        "outputId": "8aacca4b-86a1-4076-ca6c-268183b8b2f0",
        "colab": {
          "base_uri": "https://localhost:8080/",
          "height": 34
        }
      },
      "source": [
        "print(score)"
      ],
      "execution_count": 49,
      "outputs": [
        {
          "output_type": "stream",
          "text": [
            "[0.03204781630953785, 0.9919]\n"
          ],
          "name": "stdout"
        }
      ]
    },
    {
      "cell_type": "markdown",
      "metadata": {
        "id": "Ed35zlSB37Mm",
        "colab_type": "text"
      },
      "source": [
        "Predicting out put for test inputs"
      ]
    },
    {
      "cell_type": "code",
      "metadata": {
        "id": "OCWoJkwE9suh",
        "colab_type": "code",
        "colab": {}
      },
      "source": [
        "y_pred = model.predict(X_test)"
      ],
      "execution_count": 0,
      "outputs": []
    },
    {
      "cell_type": "markdown",
      "metadata": {
        "id": "8INoWoRT4BBu",
        "colab_type": "text"
      },
      "source": [
        "Printing prediction and test out puts "
      ]
    },
    {
      "cell_type": "code",
      "metadata": {
        "id": "Ym7iCFBm9uBs",
        "colab_type": "code",
        "outputId": "2e7d03e8-0ea1-43af-ace8-77f04602ee79",
        "colab": {
          "base_uri": "https://localhost:8080/",
          "height": 493
        }
      },
      "source": [
        "print(y_pred[:9])\n",
        "print(y_test[:9])"
      ],
      "execution_count": 51,
      "outputs": [
        {
          "output_type": "stream",
          "text": [
            "[[1.84203891e-17 1.97360547e-13 6.02430822e-12 3.02960268e-10\n",
            "  4.83944333e-18 1.24439728e-14 1.24292974e-24 1.00000000e+00\n",
            "  1.56241720e-18 3.86677655e-14]\n",
            " [3.89605774e-17 1.09036669e-10 1.00000000e+00 2.30815703e-21\n",
            "  1.77670289e-17 9.20207319e-23 2.50483770e-12 4.65408539e-17\n",
            "  1.78703487e-17 2.55308237e-23]\n",
            " [1.11709972e-17 1.00000000e+00 1.37199738e-10 1.20422102e-15\n",
            "  7.99569508e-11 8.03239159e-12 1.91363310e-12 6.40115461e-10\n",
            "  2.67865401e-13 1.29538095e-14]\n",
            " [9.99962926e-01 1.51249927e-20 4.73350607e-14 7.75492743e-17\n",
            "  4.95610591e-17 6.17779880e-15 3.70544149e-05 1.44262268e-17\n",
            "  3.81846561e-15 9.14435519e-13]\n",
            " [7.32105168e-21 2.32068329e-15 1.68703918e-13 6.71525335e-21\n",
            "  1.00000000e+00 4.69875149e-18 1.21267149e-14 1.39566982e-14\n",
            "  4.39189023e-14 1.11931877e-08]\n",
            " [3.89989230e-18 1.00000000e+00 9.81416250e-12 7.01202091e-19\n",
            "  3.79386592e-11 1.68033939e-14 1.36481768e-13 1.40342085e-08\n",
            "  9.45917268e-14 2.32567380e-14]\n",
            " [1.16401211e-26 2.71699777e-14 3.14808509e-13 7.17079035e-16\n",
            "  1.00000000e+00 9.66079788e-18 1.41241746e-22 1.28442798e-10\n",
            "  6.61601440e-09 2.88551014e-08]\n",
            " [6.69531267e-22 1.42595540e-14 2.00683572e-13 4.00495415e-10\n",
            "  1.62786205e-06 4.91380461e-12 3.38791937e-17 1.13320608e-13\n",
            "  4.24127983e-10 9.99998331e-01]\n",
            " [1.27957334e-09 7.93572693e-24 6.24751173e-14 6.22392572e-18\n",
            "  1.43482214e-15 9.99907374e-01 9.24738342e-05 1.06588943e-18\n",
            "  6.19551912e-08 6.26454930e-11]]\n",
            "[7 2 1 0 4 1 4 9 5]\n"
          ],
          "name": "stdout"
        }
      ]
    },
    {
      "cell_type": "code",
      "metadata": {
        "id": "CT--y98_dr2T",
        "colab_type": "code",
        "outputId": "7c62fe04-3661-4ec5-8fbb-cb9e338d3765",
        "colab": {
          "base_uri": "https://localhost:8080/",
          "height": 442
        }
      },
      "source": [
        "layer_dict = dict([(layer.name, layer) for layer in model.layers])\n",
        "layer_dict"
      ],
      "execution_count": 19,
      "outputs": [
        {
          "output_type": "execute_result",
          "data": {
            "text/plain": [
              "{'activation_1': <keras.layers.core.Activation at 0x7f761061f160>,\n",
              " 'batch_normalization_1': <keras.layers.normalization.BatchNormalization at 0x7f76270c5588>,\n",
              " 'batch_normalization_10': <keras.layers.normalization.BatchNormalization at 0x7f7610772f98>,\n",
              " 'batch_normalization_2': <keras.layers.normalization.BatchNormalization at 0x7f76270c59e8>,\n",
              " 'batch_normalization_3': <keras.layers.normalization.BatchNormalization at 0x7f761a753b38>,\n",
              " 'batch_normalization_4': <keras.layers.normalization.BatchNormalization at 0x7f761a6e24e0>,\n",
              " 'batch_normalization_5': <keras.layers.normalization.BatchNormalization at 0x7f761a618c18>,\n",
              " 'batch_normalization_6': <keras.layers.normalization.BatchNormalization at 0x7f761a4405f8>,\n",
              " 'batch_normalization_7': <keras.layers.normalization.BatchNormalization at 0x7f761a3ad588>,\n",
              " 'batch_normalization_8': <keras.layers.normalization.BatchNormalization at 0x7f761a2b08d0>,\n",
              " 'batch_normalization_9': <keras.layers.normalization.BatchNormalization at 0x7f761a1e59b0>,\n",
              " 'conv2d_1': <keras.layers.convolutional.Conv2D at 0x7f76270c53c8>,\n",
              " 'conv2d_10': <keras.layers.convolutional.Conv2D at 0x7f761078af60>,\n",
              " 'conv2d_11': <keras.layers.convolutional.Conv2D at 0x7f761071d0f0>,\n",
              " 'conv2d_2': <keras.layers.convolutional.Conv2D at 0x7f76270c5978>,\n",
              " 'conv2d_3': <keras.layers.convolutional.Conv2D at 0x7f761a7e14a8>,\n",
              " 'conv2d_4': <keras.layers.convolutional.Conv2D at 0x7f761a72c6d8>,\n",
              " 'conv2d_5': <keras.layers.convolutional.Conv2D at 0x7f761a5e95c0>,\n",
              " 'conv2d_6': <keras.layers.convolutional.Conv2D at 0x7f761a457e10>,\n",
              " 'conv2d_7': <keras.layers.convolutional.Conv2D at 0x7f761a34c208>,\n",
              " 'conv2d_8': <keras.layers.convolutional.Conv2D at 0x7f761a24f4a8>,\n",
              " 'conv2d_9': <keras.layers.convolutional.Conv2D at 0x7f761a1a0b00>,\n",
              " 'dropout_1': <keras.layers.core.Dropout at 0x7f761a62fc88>,\n",
              " 'dropout_2': <keras.layers.core.Dropout at 0x7f761a1974a8>,\n",
              " 'flatten_1': <keras.layers.core.Flatten at 0x7f761066fe80>}"
            ]
          },
          "metadata": {
            "tags": []
          },
          "execution_count": 19
        }
      ]
    },
    {
      "cell_type": "code",
      "metadata": {
        "id": "2GY4Upv4dsUR",
        "colab_type": "code",
        "colab": {}
      },
      "source": [
        "import numpy as np\n",
        "from matplotlib import pyplot as plt\n",
        "from keras import backend as K\n",
        "%matplotlib inline\n",
        "# util function to convert a tensor into a valid image\n",
        "def deprocess_image(x):\n",
        "    # normalize tensor: center on 0., ensure std is 0.1\n",
        "    x -= x.mean()\n",
        "    x /= (x.std() + 1e-5)\n",
        "    x *= 0.1\n",
        "\n",
        "    # clip to [0, 1]\n",
        "    x += 0.5\n",
        "    x = np.clip(x, 0, 1)\n",
        "\n",
        "    # convert to RGB array\n",
        "    x *= 255\n",
        "    #x = x.transpose((1, 2, 0))\n",
        "    x = np.clip(x, 0, 255).astype('uint8')\n",
        "    return x\n",
        "\n",
        "def vis_img_in_filter(img = np.array(X_train[2]).reshape((1, 28, 28, 1)).astype(np.float64), \n",
        "                      layer_name = 'conv2d_2'):  \n",
        "    layer_output = layer_dict[layer_name].output\n",
        "    img_ascs = list()\n",
        "    for filter_index in range(layer_output.shape[3]):\n",
        "        # build a loss function that maximizes the activation\n",
        "        # of the nth filter of the layer considered\n",
        "        loss = K.mean(layer_output[:, :, :, filter_index])\n",
        "\n",
        "        # compute the gradient of the input picture wrt this loss\n",
        "        grads = K.gradients(loss, model.input)[0]\n",
        "\n",
        "        # normalization trick: we normalize the gradient\n",
        "        grads /= (K.sqrt(K.mean(K.square(grads))) + 1e-5)\n",
        "\n",
        "        # this function returns the loss and grads given the input picture\n",
        "        iterate = K.function([model.input], [loss, grads])\n",
        "\n",
        "        # step size for gradient ascent\n",
        "        step = 5.\n",
        "\n",
        "        img_asc = np.array(img)\n",
        "        # run gradient ascent for 20 steps\n",
        "        for i in range(20):\n",
        "            loss_value, grads_value = iterate([img_asc])\n",
        "            img_asc += grads_value * step\n",
        "\n",
        "        img_asc = img_asc[0]\n",
        "        img_ascs.append(deprocess_image(img_asc).reshape((28, 28)))\n",
        "        \n",
        "    if layer_output.shape[3] >= 35:\n",
        "        plot_x, plot_y = 6, 6\n",
        "    elif layer_output.shape[3] >= 23:\n",
        "        plot_x, plot_y = 4, 6\n",
        "    elif layer_output.shape[3] >= 11:\n",
        "        plot_x, plot_y = 2, 6\n",
        "    else:\n",
        "        plot_x, plot_y = 1, 2\n",
        "    fig, ax = plt.subplots(plot_x, plot_y, figsize = (12, 12))\n",
        "    ax[0, 0].imshow(img.reshape((28, 28)), cmap = 'gray')\n",
        "    ax[0, 0].set_title('Input image')\n",
        "    fig.suptitle('Input image and %s filters' % (layer_name,))\n",
        "    fig.tight_layout(pad = 0.3, rect = [0, 0, 0.9, 0.9])\n",
        "    for (x, y) in [(i, j) for i in range(plot_x) for j in range(plot_y)]:\n",
        "        if x == 0 and y == 0:\n",
        "            continue\n",
        "        ax[x, y].imshow(img_ascs[x * plot_y + y - 1], cmap = 'gray')\n",
        "        ax[x, y].set_title('filter %d' % (x * plot_y + y - 1))\n",
        "\n",
        "vis_img_in_filter()"
      ],
      "execution_count": 0,
      "outputs": []
    }
  ]
}