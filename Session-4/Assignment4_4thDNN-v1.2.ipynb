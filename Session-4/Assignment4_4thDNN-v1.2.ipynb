{
  "nbformat": 4,
  "nbformat_minor": 0,
  "metadata": {
    "colab": {
      "name": "Assignment4-4thDNN.ipynb",
      "version": "0.3.2",
      "provenance": [],
      "collapsed_sections": []
    },
    "kernelspec": {
      "name": "python3",
      "display_name": "Python 3"
    },
    "accelerator": "GPU"
  },
  "cells": [
    {
      "cell_type": "markdown",
      "metadata": {
        "id": "aNyZv-Ec52ot",
        "colab_type": "text"
      },
      "source": [
        "# **4th DNN**\n",
        "\n",
        "**Thinking about**\n",
        "\n",
        "1. Number of Epochs and when to increase them,\n",
        "2. Batch Size, and effects of batch size\n",
        "3. How do we know our network is not going well, comparatively, very early\n",
        "4. When to add validation checks\n",
        "5. Learning Rate,\n",
        "6. LR schedule and concept behind it\n",
        "7. When do we stop convolutions and go ahead with a larger kernel or some other alternative (which we have not yet covered)\n",
        "\n",
        "**This is version 1.2 for Version 1.1 of 4th DNN  **\n",
        "\n",
        "  Batch size 128\n",
        "  Epoch 50\n",
        "  Learning rate schedule with starting lr .005 and scheduler defined as example from session material\n",
        "\n",
        "*Result*\n",
        "\n",
        "\n"
      ]
    },
    {
      "cell_type": "markdown",
      "metadata": {
        "id": "j8FDs1Hx0-o0",
        "colab_type": "text"
      },
      "source": [
        "installing and Importing Keras for current solution"
      ]
    },
    {
      "cell_type": "code",
      "metadata": {
        "id": "3m3w1Cw49Zkt",
        "colab_type": "code",
        "outputId": "8cfa1ad1-53e3-4490-92fa-a4380e76f1bd",
        "colab": {
          "base_uri": "https://localhost:8080/",
          "height": 34
        }
      },
      "source": [
        "# https://keras.io/\n",
        "!pip install -q keras\n",
        "import keras"
      ],
      "execution_count": 1,
      "outputs": [
        {
          "output_type": "stream",
          "text": [
            "Using TensorFlow backend.\n"
          ],
          "name": "stderr"
        }
      ]
    },
    {
      "cell_type": "markdown",
      "metadata": {
        "id": "N-qhHUhK1Ggp",
        "colab_type": "text"
      },
      "source": [
        "Importing Numpy and Keras modules as well as mnist data set."
      ]
    },
    {
      "cell_type": "code",
      "metadata": {
        "id": "Eso6UHE080D4",
        "colab_type": "code",
        "colab": {}
      },
      "source": [
        "import numpy as np\n",
        "\n",
        "from keras.models import Sequential\n",
        "from keras.layers import Dense, Dropout, Activation, Flatten, Add\n",
        "from keras.layers import Convolution2D, MaxPooling2D\n",
        "from keras.utils import np_utils\n",
        "\n",
        "from keras.datasets import mnist"
      ],
      "execution_count": 0,
      "outputs": []
    },
    {
      "cell_type": "markdown",
      "metadata": {
        "id": "zByEi95J86RD",
        "colab_type": "text"
      },
      "source": [
        "### Load pre-shuffled MNIST data into train and test sets"
      ]
    },
    {
      "cell_type": "markdown",
      "metadata": {
        "id": "yxPvMT_21Mhy",
        "colab_type": "text"
      },
      "source": [
        "Loading mnist data set in train and test variables."
      ]
    },
    {
      "cell_type": "code",
      "metadata": {
        "id": "7eRM0QWN83PV",
        "colab_type": "code",
        "colab": {}
      },
      "source": [
        "(X_train, y_train), (X_test, y_test) = mnist.load_data()"
      ],
      "execution_count": 0,
      "outputs": []
    },
    {
      "cell_type": "markdown",
      "metadata": {
        "id": "9SMpZZpo1Sv0",
        "colab_type": "text"
      },
      "source": [
        "Ploting sample from train data set."
      ]
    },
    {
      "cell_type": "code",
      "metadata": {
        "id": "4a4Be72j8-ZC",
        "colab_type": "code",
        "outputId": "568aad4e-c877-42cf-b525-b3b67dea81a6",
        "colab": {
          "base_uri": "https://localhost:8080/",
          "height": 303
        }
      },
      "source": [
        "print (X_train.shape)\n",
        "from matplotlib import pyplot as plt\n",
        "%matplotlib inline\n",
        "plt.imshow(X_train[0])"
      ],
      "execution_count": 4,
      "outputs": [
        {
          "output_type": "stream",
          "text": [
            "(60000, 28, 28)\n"
          ],
          "name": "stdout"
        },
        {
          "output_type": "execute_result",
          "data": {
            "text/plain": [
              "<matplotlib.image.AxesImage at 0x7f7629938b00>"
            ]
          },
          "metadata": {
            "tags": []
          },
          "execution_count": 4
        },
        {
          "output_type": "display_data",
          "data": {
            "image/png": "[encoded data removed]",
            "text/plain": [
              "<Figure size 432x288 with 1 Axes>"
            ]
          },
          "metadata": {
            "tags": []
          }
        }
      ]
    },
    {
      "cell_type": "markdown",
      "metadata": {
        "id": "N1AM8Fy81X1n",
        "colab_type": "text"
      },
      "source": [
        "Reshaping all train and test data to a uniform size."
      ]
    },
    {
      "cell_type": "code",
      "metadata": {
        "id": "dkmprriw9AnZ",
        "colab_type": "code",
        "colab": {}
      },
      "source": [
        "X_train = X_train.reshape(X_train.shape[0], 28, 28,1)\n",
        "X_test = X_test.reshape(X_test.shape[0], 28, 28,1)"
      ],
      "execution_count": 0,
      "outputs": []
    },
    {
      "cell_type": "markdown",
      "metadata": {
        "id": "tjr4ODS81eUc",
        "colab_type": "text"
      },
      "source": [
        "Regularizing train and test data for float data type and division wiht 255"
      ]
    },
    {
      "cell_type": "code",
      "metadata": {
        "id": "X2m4YS4E9CRh",
        "colab_type": "code",
        "colab": {}
      },
      "source": [
        "X_train = X_train.astype('float32')\n",
        "X_test = X_test.astype('float32')\n",
        "X_train /= 255\n",
        "X_test /= 255"
      ],
      "execution_count": 0,
      "outputs": []
    },
    {
      "cell_type": "markdown",
      "metadata": {
        "id": "lDZ-v1na1okY",
        "colab_type": "text"
      },
      "source": [
        "Visualizing train out put"
      ]
    },
    {
      "cell_type": "code",
      "metadata": {
        "id": "0Mn0vAYD9DvB",
        "colab_type": "code",
        "outputId": "0685ecd0-b725-4a37-ffc9-1a03cda02abd",
        "colab": {
          "base_uri": "https://localhost:8080/",
          "height": 34
        }
      },
      "source": [
        "y_train[:10]"
      ],
      "execution_count": 7,
      "outputs": [
        {
          "output_type": "execute_result",
          "data": {
            "text/plain": [
              "array([5, 0, 4, 1, 9, 2, 1, 3, 1, 4], dtype=uint8)"
            ]
          },
          "metadata": {
            "tags": []
          },
          "execution_count": 7
        }
      ]
    },
    {
      "cell_type": "markdown",
      "metadata": {
        "id": "ZCLqRA3o1wFq",
        "colab_type": "text"
      },
      "source": [
        "Convert 1-dimensional class arrays to 10-dimensional class matrices"
      ]
    },
    {
      "cell_type": "code",
      "metadata": {
        "id": "ZG8JiXR39FHC",
        "colab_type": "code",
        "colab": {}
      },
      "source": [
        "# Convert 1-dimensional class arrays to 10-dimensional class matrices\n",
        "Y_train = np_utils.to_categorical(y_train, 10)\n",
        "Y_test = np_utils.to_categorical(y_test, 10)"
      ],
      "execution_count": 0,
      "outputs": []
    },
    {
      "cell_type": "markdown",
      "metadata": {
        "id": "kXmnovfn1yew",
        "colab_type": "text"
      },
      "source": [
        "Viewing tranformed train out put matrix"
      ]
    },
    {
      "cell_type": "code",
      "metadata": {
        "id": "fYlFRvKS9HMB",
        "colab_type": "code",
        "outputId": "2cb8b023-387b-4580-8060-175682ad347e",
        "colab": {
          "base_uri": "https://localhost:8080/",
          "height": 187
        }
      },
      "source": [
        "Y_train[:10]\n"
      ],
      "execution_count": 9,
      "outputs": [
        {
          "output_type": "execute_result",
          "data": {
            "text/plain": [
              "array([[0., 0., 0., 0., 0., 1., 0., 0., 0., 0.],\n",
              "       [1., 0., 0., 0., 0., 0., 0., 0., 0., 0.],\n",
              "       [0., 0., 0., 0., 1., 0., 0., 0., 0., 0.],\n",
              "       [0., 1., 0., 0., 0., 0., 0., 0., 0., 0.],\n",
              "       [0., 0., 0., 0., 0., 0., 0., 0., 0., 1.],\n",
              "       [0., 0., 1., 0., 0., 0., 0., 0., 0., 0.],\n",
              "       [0., 1., 0., 0., 0., 0., 0., 0., 0., 0.],\n",
              "       [0., 0., 0., 1., 0., 0., 0., 0., 0., 0.],\n",
              "       [0., 1., 0., 0., 0., 0., 0., 0., 0., 0.],\n",
              "       [0., 0., 0., 0., 1., 0., 0., 0., 0., 0.]], dtype=float32)"
            ]
          },
          "metadata": {
            "tags": []
          },
          "execution_count": 9
        }
      ]
    },
    {
      "cell_type": "markdown",
      "metadata": {
        "id": "Z2PFtTZq127m",
        "colab_type": "text"
      },
      "source": [
        "Carrying form 3rd  DNN Version 1.2"
      ]
    },
    {
      "cell_type": "code",
      "metadata": {
        "id": "osKqT73Q9JJB",
        "colab_type": "code",
        "outputId": "4aa65e12-53e4-4967-950d-f72d1c96f395",
        "colab": {
          "base_uri": "https://localhost:8080/",
          "height": 224
        }
      },
      "source": [
        "from keras.layers import Activation, BatchNormalization\n",
        "model = Sequential()\n",
        "\n",
        "#Vanilla\n",
        "''' \n",
        "model.add(Convolution2D(32, 3, 3, activation='relu', input_shape=(28,28,1)))\n",
        "model.add(Convolution2D(10, 1, activation='relu'))\n",
        "model.add(Convolution2D(10, 26))\n",
        "'''\n",
        "\n",
        "#1st version \n",
        "''''''\n",
        "model.add(Convolution2D(8, 3, 3, activation='relu', input_shape=(28,28,1)))\n",
        "model.add(BatchNormalization())\n",
        "\n",
        "model.add(Convolution2D(8, 3, 3, activation='relu')) #input 26,26 #RF 3X3\n",
        "model.add(BatchNormalization())\n",
        "\n",
        "model.add(Convolution2D(8, 3, 3, activation='relu')) #input 24,24 #RF 7X7\n",
        "model.add(BatchNormalization())\n",
        "\n",
        "model.add(Convolution2D(8, 3, 3, activation='relu')) #input 22,22 #RF 9X9\n",
        "model.add(BatchNormalization())\n",
        "\n",
        "model.add(Dropout(0.2))\n",
        "\n",
        "model.add(Convolution2D(8, 3, 3, activation='relu')) #input 20,20 #RF 11X11\n",
        "model.add(BatchNormalization())\n",
        "\n",
        "model.add(Convolution2D(8, 3, 3, activation='relu')) #input 18,18 #RF 13X13\n",
        "model.add(BatchNormalization())\n",
        "\n",
        "model.add(Convolution2D(8, 3, 3, activation='relu')) #input 16,16 #RF 15X15\n",
        "model.add(BatchNormalization())\n",
        "\n",
        "model.add(Convolution2D(8, 3, 3, activation='relu')) #input 14,14 #RF 17X17\n",
        "model.add(BatchNormalization())\n",
        "\n",
        "model.add(Dropout(0.2))\n",
        "\n",
        "model.add(Convolution2D(4, 3, 3, activation='relu')) #input 12,12 #RF 19X19\n",
        "model.add(BatchNormalization())\n",
        "\n",
        "model.add(Convolution2D(10, 1)) #input 10,10 \n",
        "model.add(BatchNormalization())\n",
        "\n",
        "model.add(Convolution2D(10, 10)) #input 10,10\n",
        "\n",
        "\n",
        "#2nd version \n",
        "'''\n",
        "model.add(Convolution2D(16, 3, 3, activation='relu', input_shape=(28,28,1)))\n",
        "model.add(BatchNormalization())\n",
        "\n",
        "model.add(Convolution2D(16, 3, 3, activation='relu')) #input 26,26 #RF 3X3\n",
        "model.add(BatchNormalization())\n",
        "\n",
        "model.add(Convolution2D(16, 3, 3, activation='relu')) #input 24,24 #RF 7X7\n",
        "model.add(BatchNormalization())\n",
        "\n",
        "model.add(Dropout(0.2))\n",
        "\n",
        "model.add(MaxPooling2D(pool_size=(2, 2))) #input 22,22 #RF 14X14\n",
        "model.add(Convolution2D(8, 3, 3, activation='relu')) #input 11,11 #RF 16X16\n",
        "model.add(BatchNormalization())\n",
        "\n",
        "model.add(Dropout(0.2))\n",
        "\n",
        "model.add(Convolution2D(10, 1, activation='relu')) #input 9,9\n",
        "model.add(Convolution2D(10, 9)) #input 9X9\n",
        "'''\n",
        "\n",
        "#3rd version \n",
        "'''\n",
        "model.add(Convolution2D(16, 3, 3, activation='relu', input_shape=(28,28,1)))\n",
        "model.add(BatchNormalization())\n",
        "\n",
        "model.add(Dropout(0.2))\n",
        "\n",
        "model.add(Convolution2D(16, 3, 3, activation='relu')) #input 26,26 #RF 3X3\n",
        "model.add(BatchNormalization())\n",
        "\n",
        "model.add(MaxPooling2D(pool_size=(2, 2))) #input 24,24 #RF 6X6\n",
        "\n",
        "model.add(Convolution2D(12, 3, 3, activation='relu')) #input 12,12 #RF 8X8\n",
        "model.add(BatchNormalization())\n",
        "\n",
        "model.add(Dropout(0.2))\n",
        "\n",
        "model.add(Convolution2D(10, 1, activation='relu')) #input 9,9\n",
        "model.add(Convolution2D(10, 10)) #input 9X9\n",
        "'''\n",
        "\n",
        "model.add(Flatten())\n",
        "model.add(Activation('softmax'))"
      ],
      "execution_count": 63,
      "outputs": [
        {
          "output_type": "stream",
          "text": [
            "/usr/local/lib/python3.6/dist-packages/ipykernel_launcher.py:13: UserWarning: Update your `Conv2D` call to the Keras 2 API: `Conv2D(8, (3, 3), activation=\"relu\", input_shape=(28, 28, 1...)`\n",
            "  del sys.path[0]\n",
            "/usr/local/lib/python3.6/dist-packages/ipykernel_launcher.py:16: UserWarning: Update your `Conv2D` call to the Keras 2 API: `Conv2D(8, (3, 3), activation=\"relu\")`\n",
            "  app.launch_new_instance()\n",
            "/usr/local/lib/python3.6/dist-packages/ipykernel_launcher.py:19: UserWarning: Update your `Conv2D` call to the Keras 2 API: `Conv2D(8, (3, 3), activation=\"relu\")`\n",
            "/usr/local/lib/python3.6/dist-packages/ipykernel_launcher.py:22: UserWarning: Update your `Conv2D` call to the Keras 2 API: `Conv2D(8, (3, 3), activation=\"relu\")`\n",
            "/usr/local/lib/python3.6/dist-packages/ipykernel_launcher.py:27: UserWarning: Update your `Conv2D` call to the Keras 2 API: `Conv2D(8, (3, 3), activation=\"relu\")`\n",
            "/usr/local/lib/python3.6/dist-packages/ipykernel_launcher.py:30: UserWarning: Update your `Conv2D` call to the Keras 2 API: `Conv2D(8, (3, 3), activation=\"relu\")`\n",
            "/usr/local/lib/python3.6/dist-packages/ipykernel_launcher.py:33: UserWarning: Update your `Conv2D` call to the Keras 2 API: `Conv2D(8, (3, 3), activation=\"relu\")`\n",
            "/usr/local/lib/python3.6/dist-packages/ipykernel_launcher.py:36: UserWarning: Update your `Conv2D` call to the Keras 2 API: `Conv2D(8, (3, 3), activation=\"relu\")`\n",
            "/usr/local/lib/python3.6/dist-packages/ipykernel_launcher.py:41: UserWarning: Update your `Conv2D` call to the Keras 2 API: `Conv2D(4, (3, 3), activation=\"relu\")`\n"
          ],
          "name": "stderr"
        }
      ]
    },
    {
      "cell_type": "markdown",
      "metadata": {
        "id": "T1mq9MtB2GgQ",
        "colab_type": "text"
      },
      "source": [
        "Printing model summary to understand current paramaters for the model. "
      ]
    },
    {
      "cell_type": "code",
      "metadata": {
        "id": "TzdAYg1k9K7Z",
        "colab_type": "code",
        "outputId": "0f7008c9-d93a-4bab-d904-68806e242193",
        "colab": {
          "base_uri": "https://localhost:8080/",
          "height": 986
        }
      },
      "source": [
        "model.summary()"
      ],
      "execution_count": 64,
      "outputs": [
        {
          "output_type": "stream",
          "text": [
            "_________________________________________________________________\n",
            "Layer (type)                 Output Shape              Param #   \n",
            "=================================================================\n",
            "conv2d_47 (Conv2D)           (None, 26, 26, 8)         80        \n",
            "_________________________________________________________________\n",
            "batch_normalization_37 (Batc (None, 26, 26, 8)         32        \n",
            "_________________________________________________________________\n",
            "conv2d_48 (Conv2D)           (None, 24, 24, 8)         584       \n",
            "_________________________________________________________________\n",
            "batch_normalization_38 (Batc (None, 24, 24, 8)         32        \n",
            "_________________________________________________________________\n",
            "conv2d_49 (Conv2D)           (None, 22, 22, 8)         584       \n",
            "_________________________________________________________________\n",
            "batch_normalization_39 (Batc (None, 22, 22, 8)         32        \n",
            "_________________________________________________________________\n",
            "conv2d_50 (Conv2D)           (None, 20, 20, 8)         584       \n",
            "_________________________________________________________________\n",
            "batch_normalization_40 (Batc (None, 20, 20, 8)         32        \n",
            "_________________________________________________________________\n",
            "dropout_13 (Dropout)         (None, 20, 20, 8)         0         \n",
            "_________________________________________________________________\n",
            "conv2d_51 (Conv2D)           (None, 18, 18, 8)         584       \n",
            "_________________________________________________________________\n",
            "batch_normalization_41 (Batc (None, 18, 18, 8)         32        \n",
            "_________________________________________________________________\n",
            "conv2d_52 (Conv2D)           (None, 16, 16, 8)         584       \n",
            "_________________________________________________________________\n",
            "batch_normalization_42 (Batc (None, 16, 16, 8)         32        \n",
            "_________________________________________________________________\n",
            "conv2d_53 (Conv2D)           (None, 14, 14, 8)         584       \n",
            "_________________________________________________________________\n",
            "batch_normalization_43 (Batc (None, 14, 14, 8)         32        \n",
            "_________________________________________________________________\n",
            "conv2d_54 (Conv2D)           (None, 12, 12, 8)         584       \n",
            "_________________________________________________________________\n",
            "batch_normalization_44 (Batc (None, 12, 12, 8)         32        \n",
            "_________________________________________________________________\n",
            "dropout_14 (Dropout)         (None, 12, 12, 8)         0         \n",
            "_________________________________________________________________\n",
            "conv2d_55 (Conv2D)           (None, 10, 10, 4)         292       \n",
            "_________________________________________________________________\n",
            "batch_normalization_45 (Batc (None, 10, 10, 4)         16        \n",
            "_________________________________________________________________\n",
            "conv2d_56 (Conv2D)           (None, 10, 10, 10)        50        \n",
            "_________________________________________________________________\n",
            "batch_normalization_46 (Batc (None, 10, 10, 10)        40        \n",
            "_________________________________________________________________\n",
            "conv2d_57 (Conv2D)           (None, 1, 1, 10)          10010     \n",
            "_________________________________________________________________\n",
            "flatten_7 (Flatten)          (None, 10)                0         \n",
            "_________________________________________________________________\n",
            "activation_7 (Activation)    (None, 10)                0         \n",
            "=================================================================\n",
            "Total params: 14,832\n",
            "Trainable params: 14,676\n",
            "Non-trainable params: 156\n",
            "_________________________________________________________________\n"
          ],
          "name": "stdout"
        }
      ]
    },
    {
      "cell_type": "markdown",
      "metadata": {
        "id": "VlnhdT4u2Owz",
        "colab_type": "text"
      },
      "source": [
        "Setting model's compile environment with loss function, optimizer and matrics."
      ]
    },
    {
      "cell_type": "code",
      "metadata": {
        "id": "Zp6SuGrL9M3h",
        "colab_type": "code",
        "colab": {}
      },
      "source": [
        "from keras.optimizers import Adam\n",
        "from keras.callbacks import LearningRateScheduler\n",
        "def scheduler(epoch, lr):\n",
        "  return round(0.005 * 1/(1 + 0.319 * epoch), 10)\n",
        "\n",
        "model.compile(loss='categorical_crossentropy',\n",
        "             optimizer=Adam(lr=0.005),\n",
        "             metrics=['accuracy'])"
      ],
      "execution_count": 0,
      "outputs": []
    },
    {
      "cell_type": "markdown",
      "metadata": {
        "id": "06jT2a0t2Vpj",
        "colab_type": "text"
      },
      "source": [
        "Training model for 50 epoch for 128 batch size"
      ]
    },
    {
      "cell_type": "code",
      "metadata": {
        "id": "4xWoKhPY9Of5",
        "colab_type": "code",
        "outputId": "affd5344-f7ba-4667-b5bb-e6ddbc8d4815",
        "colab": {
          "base_uri": "https://localhost:8080/",
          "height": 3468
        }
      },
      "source": [
        "history = model.fit(X_train, Y_train, batch_size=128, nb_epoch=50, verbose=1, validation_data=(X_test, Y_test), callbacks=[LearningRateScheduler(scheduler, verbose=1)])"
      ],
      "execution_count": 67,
      "outputs": [
        {
          "output_type": "stream",
          "text": [
            "/usr/local/lib/python3.6/dist-packages/ipykernel_launcher.py:1: UserWarning: The `nb_epoch` argument in `fit` has been renamed `epochs`.\n",
            "  \"\"\"Entry point for launching an IPython kernel.\n"
          ],
          "name": "stderr"
        },
        {
          "output_type": "stream",
          "text": [
            "Train on 60000 samples, validate on 10000 samples\n",
            "Epoch 1/50\n",
            "\n",
            "Epoch 00001: LearningRateScheduler setting learning rate to 0.005.\n",
            "60000/60000 [==============================] - 12s 200us/step - loss: 0.2354 - acc: 0.9267 - val_loss: 0.1552 - val_acc: 0.9540\n",
            "Epoch 2/50\n",
            "\n",
            "Epoch 00002: LearningRateScheduler setting learning rate to 0.0037907506.\n",
            "60000/60000 [==============================] - 7s 122us/step - loss: 0.0941 - acc: 0.9707 - val_loss: 0.0873 - val_acc: 0.9709\n",
            "Epoch 3/50\n",
            "\n",
            "Epoch 00003: LearningRateScheduler setting learning rate to 0.0030525031.\n",
            "60000/60000 [==============================] - 7s 122us/step - loss: 0.0717 - acc: 0.9774 - val_loss: 0.0585 - val_acc: 0.9828\n",
            "Epoch 4/50\n",
            "\n",
            "Epoch 00004: LearningRateScheduler setting learning rate to 0.002554931.\n",
            "60000/60000 [==============================] - 7s 121us/step - loss: 0.0637 - acc: 0.9800 - val_loss: 0.0593 - val_acc: 0.9810\n",
            "Epoch 5/50\n",
            "\n",
            "Epoch 00005: LearningRateScheduler setting learning rate to 0.0021968366.\n",
            "60000/60000 [==============================] - 7s 121us/step - loss: 0.0555 - acc: 0.9826 - val_loss: 0.0529 - val_acc: 0.9840\n",
            "Epoch 6/50\n",
            "\n",
            "Epoch 00006: LearningRateScheduler setting learning rate to 0.0019267823.\n",
            "60000/60000 [==============================] - 7s 122us/step - loss: 0.0500 - acc: 0.9842 - val_loss: 0.0491 - val_acc: 0.9846\n",
            "Epoch 7/50\n",
            "\n",
            "Epoch 00007: LearningRateScheduler setting learning rate to 0.0017158545.\n",
            "60000/60000 [==============================] - 8s 134us/step - loss: 0.0465 - acc: 0.9854 - val_loss: 0.0456 - val_acc: 0.9862\n",
            "Epoch 8/50\n",
            "\n",
            "Epoch 00008: LearningRateScheduler setting learning rate to 0.0015465512.\n",
            "60000/60000 [==============================] - 8s 127us/step - loss: 0.0446 - acc: 0.9857 - val_loss: 0.0542 - val_acc: 0.9826\n",
            "Epoch 9/50\n",
            "\n",
            "Epoch 00009: LearningRateScheduler setting learning rate to 0.0014076577.\n",
            "60000/60000 [==============================] - 7s 122us/step - loss: 0.0415 - acc: 0.9868 - val_loss: 0.0378 - val_acc: 0.9880\n",
            "Epoch 10/50\n",
            "\n",
            "Epoch 00010: LearningRateScheduler setting learning rate to 0.0012916559.\n",
            "60000/60000 [==============================] - 7s 122us/step - loss: 0.0389 - acc: 0.9878 - val_loss: 0.0381 - val_acc: 0.9880\n",
            "Epoch 11/50\n",
            "\n",
            "Epoch 00011: LearningRateScheduler setting learning rate to 0.0011933174.\n",
            "60000/60000 [==============================] - 8s 141us/step - loss: 0.0384 - acc: 0.9881 - val_loss: 0.0344 - val_acc: 0.9893\n",
            "Epoch 12/50\n",
            "\n",
            "Epoch 00012: LearningRateScheduler setting learning rate to 0.0011088933.\n",
            "60000/60000 [==============================] - 8s 126us/step - loss: 0.0356 - acc: 0.9889 - val_loss: 0.0386 - val_acc: 0.9874\n",
            "Epoch 13/50\n",
            "\n",
            "Epoch 00013: LearningRateScheduler setting learning rate to 0.0010356255.\n",
            "60000/60000 [==============================] - 7s 122us/step - loss: 0.0338 - acc: 0.9896 - val_loss: 0.0399 - val_acc: 0.9876\n",
            "Epoch 14/50\n",
            "\n",
            "Epoch 00014: LearningRateScheduler setting learning rate to 0.0009714397.\n",
            "60000/60000 [==============================] - 7s 122us/step - loss: 0.0338 - acc: 0.9891 - val_loss: 0.0392 - val_acc: 0.9881\n",
            "Epoch 15/50\n",
            "\n",
            "Epoch 00015: LearningRateScheduler setting learning rate to 0.0009147457.\n",
            "60000/60000 [==============================] - 7s 121us/step - loss: 0.0302 - acc: 0.9906 - val_loss: 0.0356 - val_acc: 0.9891\n",
            "Epoch 16/50\n",
            "\n",
            "Epoch 00016: LearningRateScheduler setting learning rate to 0.0008643042.\n",
            "60000/60000 [==============================] - 7s 122us/step - loss: 0.0294 - acc: 0.9899 - val_loss: 0.0336 - val_acc: 0.9890\n",
            "Epoch 17/50\n",
            "\n",
            "Epoch 00017: LearningRateScheduler setting learning rate to 0.000819135.\n",
            "60000/60000 [==============================] - 7s 124us/step - loss: 0.0302 - acc: 0.9904 - val_loss: 0.0381 - val_acc: 0.9871\n",
            "Epoch 18/50\n",
            "\n",
            "Epoch 00018: LearningRateScheduler setting learning rate to 0.0007784524.\n",
            "60000/60000 [==============================] - 8s 135us/step - loss: 0.0295 - acc: 0.9906 - val_loss: 0.0379 - val_acc: 0.9885\n",
            "Epoch 19/50\n",
            "\n",
            "Epoch 00019: LearningRateScheduler setting learning rate to 0.0007416197.\n",
            "60000/60000 [==============================] - 7s 122us/step - loss: 0.0270 - acc: 0.9912 - val_loss: 0.0346 - val_acc: 0.9896\n",
            "Epoch 20/50\n",
            "\n",
            "Epoch 00020: LearningRateScheduler setting learning rate to 0.000708115.\n",
            "60000/60000 [==============================] - 7s 121us/step - loss: 0.0271 - acc: 0.9913 - val_loss: 0.0323 - val_acc: 0.9897\n",
            "Epoch 21/50\n",
            "\n",
            "Epoch 00021: LearningRateScheduler setting learning rate to 0.0006775068.\n",
            "60000/60000 [==============================] - 7s 121us/step - loss: 0.0260 - acc: 0.9916 - val_loss: 0.0365 - val_acc: 0.9896\n",
            "Epoch 22/50\n",
            "\n",
            "Epoch 00022: LearningRateScheduler setting learning rate to 0.000649435.\n",
            "60000/60000 [==============================] - 7s 121us/step - loss: 0.0254 - acc: 0.9915 - val_loss: 0.0318 - val_acc: 0.9901\n",
            "Epoch 23/50\n",
            "\n",
            "Epoch 00023: LearningRateScheduler setting learning rate to 0.0006235969.\n",
            "60000/60000 [==============================] - 7s 120us/step - loss: 0.0240 - acc: 0.9919 - val_loss: 0.0328 - val_acc: 0.9902\n",
            "Epoch 24/50\n",
            "\n",
            "Epoch 00024: LearningRateScheduler setting learning rate to 0.0005997361.\n",
            "60000/60000 [==============================] - 7s 121us/step - loss: 0.0239 - acc: 0.9921 - val_loss: 0.0329 - val_acc: 0.9899\n",
            "Epoch 25/50\n",
            "\n",
            "Epoch 00025: LearningRateScheduler setting learning rate to 0.000577634.\n",
            "60000/60000 [==============================] - 8s 129us/step - loss: 0.0228 - acc: 0.9927 - val_loss: 0.0330 - val_acc: 0.9901\n",
            "Epoch 26/50\n",
            "\n",
            "Epoch 00026: LearningRateScheduler setting learning rate to 0.0005571031.\n",
            "60000/60000 [==============================] - 7s 124us/step - loss: 0.0208 - acc: 0.9931 - val_loss: 0.0314 - val_acc: 0.9900\n",
            "Epoch 27/50\n",
            "\n",
            "Epoch 00027: LearningRateScheduler setting learning rate to 0.0005379815.\n",
            "60000/60000 [==============================] - 7s 121us/step - loss: 0.0226 - acc: 0.9920 - val_loss: 0.0325 - val_acc: 0.9901\n",
            "Epoch 28/50\n",
            "\n",
            "Epoch 00028: LearningRateScheduler setting learning rate to 0.000520129.\n",
            "60000/60000 [==============================] - 8s 126us/step - loss: 0.0212 - acc: 0.9932 - val_loss: 0.0346 - val_acc: 0.9897\n",
            "Epoch 29/50\n",
            "\n",
            "Epoch 00029: LearningRateScheduler setting learning rate to 0.0005034233.\n",
            "60000/60000 [==============================] - 8s 133us/step - loss: 0.0213 - acc: 0.9932 - val_loss: 0.0327 - val_acc: 0.9903\n",
            "Epoch 30/50\n",
            "\n",
            "Epoch 00030: LearningRateScheduler setting learning rate to 0.0004877573.\n",
            "60000/60000 [==============================] - 7s 121us/step - loss: 0.0197 - acc: 0.9931 - val_loss: 0.0316 - val_acc: 0.9899\n",
            "Epoch 31/50\n",
            "\n",
            "Epoch 00031: LearningRateScheduler setting learning rate to 0.0004730369.\n",
            "60000/60000 [==============================] - 7s 121us/step - loss: 0.0206 - acc: 0.9933 - val_loss: 0.0357 - val_acc: 0.9897\n",
            "Epoch 32/50\n",
            "\n",
            "Epoch 00032: LearningRateScheduler setting learning rate to 0.000459179.\n",
            "60000/60000 [==============================] - 7s 121us/step - loss: 0.0192 - acc: 0.9935 - val_loss: 0.0299 - val_acc: 0.9911\n",
            "Epoch 33/50\n",
            "\n",
            "Epoch 00033: LearningRateScheduler setting learning rate to 0.0004461099.\n",
            "60000/60000 [==============================] - 7s 120us/step - loss: 0.0194 - acc: 0.9936 - val_loss: 0.0326 - val_acc: 0.9900\n",
            "Epoch 34/50\n",
            "\n",
            "Epoch 00034: LearningRateScheduler setting learning rate to 0.0004337642.\n",
            "60000/60000 [==============================] - 7s 120us/step - loss: 0.0182 - acc: 0.9938 - val_loss: 0.0316 - val_acc: 0.9900\n",
            "Epoch 35/50\n",
            "\n",
            "Epoch 00035: LearningRateScheduler setting learning rate to 0.0004220834.\n",
            "60000/60000 [==============================] - 7s 121us/step - loss: 0.0185 - acc: 0.9938 - val_loss: 0.0319 - val_acc: 0.9911\n",
            "Epoch 36/50\n",
            "\n",
            "Epoch 00036: LearningRateScheduler setting learning rate to 0.0004110152.\n",
            "60000/60000 [==============================] - 7s 120us/step - loss: 0.0189 - acc: 0.9938 - val_loss: 0.0321 - val_acc: 0.9902\n",
            "Epoch 37/50\n",
            "\n",
            "Epoch 00037: LearningRateScheduler setting learning rate to 0.0004005127.\n",
            "60000/60000 [==============================] - 7s 121us/step - loss: 0.0178 - acc: 0.9942 - val_loss: 0.0330 - val_acc: 0.9907\n",
            "Epoch 38/50\n",
            "\n",
            "Epoch 00038: LearningRateScheduler setting learning rate to 0.0003905335.\n",
            "60000/60000 [==============================] - 7s 121us/step - loss: 0.0177 - acc: 0.9939 - val_loss: 0.0352 - val_acc: 0.9903\n",
            "Epoch 39/50\n",
            "\n",
            "Epoch 00039: LearningRateScheduler setting learning rate to 0.0003810395.\n",
            "60000/60000 [==============================] - 8s 127us/step - loss: 0.0173 - acc: 0.9942 - val_loss: 0.0314 - val_acc: 0.9906\n",
            "Epoch 40/50\n",
            "\n",
            "Epoch 00040: LearningRateScheduler setting learning rate to 0.0003719961.\n",
            "60000/60000 [==============================] - 8s 133us/step - loss: 0.0162 - acc: 0.9949 - val_loss: 0.0318 - val_acc: 0.9899\n",
            "Epoch 41/50\n",
            "\n",
            "Epoch 00041: LearningRateScheduler setting learning rate to 0.0003633721.\n",
            "60000/60000 [==============================] - 7s 121us/step - loss: 0.0168 - acc: 0.9942 - val_loss: 0.0349 - val_acc: 0.9896\n",
            "Epoch 42/50\n",
            "\n",
            "Epoch 00042: LearningRateScheduler setting learning rate to 0.0003551389.\n",
            "60000/60000 [==============================] - 7s 121us/step - loss: 0.0169 - acc: 0.9941 - val_loss: 0.0357 - val_acc: 0.9901\n",
            "Epoch 43/50\n",
            "\n",
            "Epoch 00043: LearningRateScheduler setting learning rate to 0.0003472705.\n",
            "60000/60000 [==============================] - 7s 121us/step - loss: 0.0165 - acc: 0.9945 - val_loss: 0.0354 - val_acc: 0.9901\n",
            "Epoch 44/50\n",
            "\n",
            "Epoch 00044: LearningRateScheduler setting learning rate to 0.0003397432.\n",
            "60000/60000 [==============================] - 7s 120us/step - loss: 0.0156 - acc: 0.9947 - val_loss: 0.0323 - val_acc: 0.9909\n",
            "Epoch 45/50\n",
            "\n",
            "Epoch 00045: LearningRateScheduler setting learning rate to 0.0003325352.\n",
            "60000/60000 [==============================] - 7s 121us/step - loss: 0.0153 - acc: 0.9949 - val_loss: 0.0368 - val_acc: 0.9902\n",
            "Epoch 46/50\n",
            "\n",
            "Epoch 00046: LearningRateScheduler setting learning rate to 0.0003256268.\n",
            "60000/60000 [==============================] - 7s 121us/step - loss: 0.0159 - acc: 0.9948 - val_loss: 0.0351 - val_acc: 0.9895\n",
            "Epoch 47/50\n",
            "\n",
            "Epoch 00047: LearningRateScheduler setting learning rate to 0.0003189996.\n",
            "60000/60000 [==============================] - 7s 121us/step - loss: 0.0158 - acc: 0.9946 - val_loss: 0.0340 - val_acc: 0.9899\n",
            "Epoch 48/50\n",
            "\n",
            "Epoch 00048: LearningRateScheduler setting learning rate to 0.0003126368.\n",
            "60000/60000 [==============================] - 7s 121us/step - loss: 0.0155 - acc: 0.9950 - val_loss: 0.0358 - val_acc: 0.9909\n",
            "Epoch 49/50\n",
            "\n",
            "Epoch 00049: LearningRateScheduler setting learning rate to 0.0003065228.\n",
            "60000/60000 [==============================] - 7s 121us/step - loss: 0.0161 - acc: 0.9944 - val_loss: 0.0332 - val_acc: 0.9898\n",
            "Epoch 50/50\n",
            "\n",
            "Epoch 00050: LearningRateScheduler setting learning rate to 0.0003006434.\n",
            "60000/60000 [==============================] - 8s 127us/step - loss: 0.0153 - acc: 0.9950 - val_loss: 0.0319 - val_acc: 0.9909\n"
          ],
          "name": "stdout"
        }
      ]
    },
    {
      "cell_type": "markdown",
      "metadata": {
        "id": "3_0_UAU1M1wP",
        "colab_type": "text"
      },
      "source": [
        "Plotting training and validation accuracty as well as loss for every epoch"
      ]
    },
    {
      "cell_type": "code",
      "metadata": {
        "id": "9tvptcn8dxvp",
        "colab_type": "code",
        "outputId": "5f4c8c3e-a627-4235-e7e3-acc49ffa9751",
        "colab": {
          "base_uri": "https://localhost:8080/",
          "height": 573
        }
      },
      "source": [
        "import matplotlib.pyplot as plt\n",
        "\n",
        "#history = model.fit(x, y, validation_split=0.25, epochs=50, batch_size=16, verbose=1)\n",
        "\n",
        "# Plot training & validation accuracy values\n",
        "plt.plot(history.history['acc'])\n",
        "plt.plot(history.history['val_acc'])\n",
        "plt.title('Model accuracy')\n",
        "plt.ylabel('Accuracy')\n",
        "plt.xlabel('Epoch')\n",
        "plt.legend(['Train', 'Test'], loc='upper left')\n",
        "plt.show()\n",
        "\n",
        "# Plot training & validation loss values\n",
        "plt.plot(history.history['loss'])\n",
        "plt.plot(history.history['val_loss'])\n",
        "plt.title('Model loss')\n",
        "plt.ylabel('Loss')\n",
        "plt.xlabel('Epoch')\n",
        "plt.legend(['Train', 'Test'], loc='upper left')\n",
        "plt.show()"
      ],
      "execution_count": 68,
      "outputs": [
        {
          "output_type": "display_data",
          "data": {
            "image/png": "[encoded data removed]",
            "text/plain": [
              "<Figure size 432x288 with 1 Axes>"
            ]
          },
          "metadata": {
            "tags": []
          }
        },
        {
          "output_type": "display_data",
          "data": {
            "image/png": "[encoded data removed]",
            "text/plain": [
              "<Figure size 432x288 with 1 Axes>"
            ]
          },
          "metadata": {
            "tags": []
          }
        }
      ]
    },
    {
      "cell_type": "markdown",
      "metadata": {
        "colab_type": "text",
        "id": "UyH8P1SaNYYZ"
      },
      "source": [
        "Evaluating model and storing score in a variable."
      ]
    },
    {
      "cell_type": "code",
      "metadata": {
        "colab_type": "code",
        "id": "_eDU0sXWNXmE",
        "colab": {}
      },
      "source": [
        "score = model.evaluate(X_test, Y_test, verbose=0)"
      ],
      "execution_count": 0,
      "outputs": []
    },
    {
      "cell_type": "markdown",
      "metadata": {
        "colab_type": "text",
        "id": "_weXQQMkNWk1"
      },
      "source": [
        "Printing loss and accuracy of model test done in last step"
      ]
    },
    {
      "cell_type": "code",
      "metadata": {
        "id": "mkX8JMv79q9r",
        "colab_type": "code",
        "outputId": "d3edc030-ac2f-45a3-e92b-0b7860741917",
        "colab": {
          "base_uri": "https://localhost:8080/",
          "height": 34
        }
      },
      "source": [
        "print(score)"
      ],
      "execution_count": 70,
      "outputs": [
        {
          "output_type": "stream",
          "text": [
            "[0.0319141925261003, 0.9909]\n"
          ],
          "name": "stdout"
        }
      ]
    },
    {
      "cell_type": "markdown",
      "metadata": {
        "id": "Ed35zlSB37Mm",
        "colab_type": "text"
      },
      "source": [
        "Predicting out put for test inputs"
      ]
    },
    {
      "cell_type": "code",
      "metadata": {
        "id": "OCWoJkwE9suh",
        "colab_type": "code",
        "colab": {}
      },
      "source": [
        "y_pred = model.predict(X_test)"
      ],
      "execution_count": 0,
      "outputs": []
    },
    {
      "cell_type": "markdown",
      "metadata": {
        "id": "8INoWoRT4BBu",
        "colab_type": "text"
      },
      "source": [
        "Printing prediction and test out puts "
      ]
    },
    {
      "cell_type": "code",
      "metadata": {
        "id": "Ym7iCFBm9uBs",
        "colab_type": "code",
        "outputId": "4c37ccbb-d6b0-4506-dfc0-1f70fc18db57",
        "colab": {
          "base_uri": "https://localhost:8080/",
          "height": 340
        }
      },
      "source": [
        "print(y_pred[:9])\n",
        "print(y_test[:9])"
      ],
      "execution_count": 62,
      "outputs": [
        {
          "output_type": "stream",
          "text": [
            "[[1.4714722e-08 1.9759131e-08 6.5332932e-07 1.9755696e-05 1.2454306e-11\n",
            "  5.3617515e-09 2.1021771e-16 9.9997783e-01 9.6184380e-08 1.6557022e-06]\n",
            " [3.5062811e-04 1.3740474e-04 9.9943405e-01 4.1514981e-05 5.5457052e-09\n",
            "  3.7970713e-07 3.4700897e-05 9.2768310e-12 1.4295778e-06 1.2506852e-09]\n",
            " [5.5395817e-09 9.9999428e-01 2.9717787e-08 5.9665723e-08 1.3477761e-06\n",
            "  3.3349050e-07 4.6683826e-07 3.2206713e-06 6.8809612e-08 1.2302043e-07]\n",
            " [9.9978811e-01 9.7302388e-10 5.6100589e-08 4.8327103e-10 3.8235717e-10\n",
            "  6.2279560e-07 2.1002923e-04 5.8542955e-11 4.0047961e-08 1.2736280e-06]\n",
            " [5.2599761e-11 1.0844868e-11 2.0051560e-10 1.7017536e-14 9.9998534e-01\n",
            "  8.8404241e-12 3.9925787e-09 4.2481552e-10 4.2813295e-09 1.4607306e-05]\n",
            " [5.2361770e-06 9.9985492e-01 1.3641660e-05 4.2785771e-08 1.5857235e-05\n",
            "  1.6411461e-07 6.6560910e-06 9.8212367e-05 1.6112641e-06 3.5895687e-06]\n",
            " [8.3362001e-13 8.4117055e-08 5.6270349e-10 1.3791371e-11 9.9999726e-01\n",
            "  1.0064516e-11 3.7638795e-11 6.1648819e-09 8.1404545e-07 1.8559923e-06]\n",
            " [2.5005710e-08 3.6148653e-09 1.7777023e-07 8.5643915e-05 1.2623807e-03\n",
            "  4.7955916e-07 8.1214291e-10 4.5015736e-06 1.7781033e-06 9.9864501e-01]\n",
            " [3.2199902e-04 8.6760134e-16 8.5265878e-10 1.9651826e-07 3.7085721e-10\n",
            "  7.7328426e-01 2.2625954e-01 2.3090907e-10 3.6719983e-05 9.7254531e-05]]\n",
            "[7 2 1 0 4 1 4 9 5]\n"
          ],
          "name": "stdout"
        }
      ]
    },
    {
      "cell_type": "code",
      "metadata": {
        "id": "CT--y98_dr2T",
        "colab_type": "code",
        "outputId": "7c62fe04-3661-4ec5-8fbb-cb9e338d3765",
        "colab": {
          "base_uri": "https://localhost:8080/",
          "height": 442
        }
      },
      "source": [
        "layer_dict = dict([(layer.name, layer) for layer in model.layers])\n",
        "layer_dict"
      ],
      "execution_count": 19,
      "outputs": [
        {
          "output_type": "execute_result",
          "data": {
            "text/plain": [
              "{'activation_1': <keras.layers.core.Activation at 0x7f761061f160>,\n",
              " 'batch_normalization_1': <keras.layers.normalization.BatchNormalization at 0x7f76270c5588>,\n",
              " 'batch_normalization_10': <keras.layers.normalization.BatchNormalization at 0x7f7610772f98>,\n",
              " 'batch_normalization_2': <keras.layers.normalization.BatchNormalization at 0x7f76270c59e8>,\n",
              " 'batch_normalization_3': <keras.layers.normalization.BatchNormalization at 0x7f761a753b38>,\n",
              " 'batch_normalization_4': <keras.layers.normalization.BatchNormalization at 0x7f761a6e24e0>,\n",
              " 'batch_normalization_5': <keras.layers.normalization.BatchNormalization at 0x7f761a618c18>,\n",
              " 'batch_normalization_6': <keras.layers.normalization.BatchNormalization at 0x7f761a4405f8>,\n",
              " 'batch_normalization_7': <keras.layers.normalization.BatchNormalization at 0x7f761a3ad588>,\n",
              " 'batch_normalization_8': <keras.layers.normalization.BatchNormalization at 0x7f761a2b08d0>,\n",
              " 'batch_normalization_9': <keras.layers.normalization.BatchNormalization at 0x7f761a1e59b0>,\n",
              " 'conv2d_1': <keras.layers.convolutional.Conv2D at 0x7f76270c53c8>,\n",
              " 'conv2d_10': <keras.layers.convolutional.Conv2D at 0x7f761078af60>,\n",
              " 'conv2d_11': <keras.layers.convolutional.Conv2D at 0x7f761071d0f0>,\n",
              " 'conv2d_2': <keras.layers.convolutional.Conv2D at 0x7f76270c5978>,\n",
              " 'conv2d_3': <keras.layers.convolutional.Conv2D at 0x7f761a7e14a8>,\n",
              " 'conv2d_4': <keras.layers.convolutional.Conv2D at 0x7f761a72c6d8>,\n",
              " 'conv2d_5': <keras.layers.convolutional.Conv2D at 0x7f761a5e95c0>,\n",
              " 'conv2d_6': <keras.layers.convolutional.Conv2D at 0x7f761a457e10>,\n",
              " 'conv2d_7': <keras.layers.convolutional.Conv2D at 0x7f761a34c208>,\n",
              " 'conv2d_8': <keras.layers.convolutional.Conv2D at 0x7f761a24f4a8>,\n",
              " 'conv2d_9': <keras.layers.convolutional.Conv2D at 0x7f761a1a0b00>,\n",
              " 'dropout_1': <keras.layers.core.Dropout at 0x7f761a62fc88>,\n",
              " 'dropout_2': <keras.layers.core.Dropout at 0x7f761a1974a8>,\n",
              " 'flatten_1': <keras.layers.core.Flatten at 0x7f761066fe80>}"
            ]
          },
          "metadata": {
            "tags": []
          },
          "execution_count": 19
        }
      ]
    },
    {
      "cell_type": "code",
      "metadata": {
        "id": "2GY4Upv4dsUR",
        "colab_type": "code",
        "colab": {}
      },
      "source": [
        "import numpy as np\n",
        "from matplotlib import pyplot as plt\n",
        "from keras import backend as K\n",
        "%matplotlib inline\n",
        "# util function to convert a tensor into a valid image\n",
        "def deprocess_image(x):\n",
        "    # normalize tensor: center on 0., ensure std is 0.1\n",
        "    x -= x.mean()\n",
        "    x /= (x.std() + 1e-5)\n",
        "    x *= 0.1\n",
        "\n",
        "    # clip to [0, 1]\n",
        "    x += 0.5\n",
        "    x = np.clip(x, 0, 1)\n",
        "\n",
        "    # convert to RGB array\n",
        "    x *= 255\n",
        "    #x = x.transpose((1, 2, 0))\n",
        "    x = np.clip(x, 0, 255).astype('uint8')\n",
        "    return x\n",
        "\n",
        "def vis_img_in_filter(img = np.array(X_train[2]).reshape((1, 28, 28, 1)).astype(np.float64), \n",
        "                      layer_name = 'conv2d_2'):  \n",
        "    layer_output = layer_dict[layer_name].output\n",
        "    img_ascs = list()\n",
        "    for filter_index in range(layer_output.shape[3]):\n",
        "        # build a loss function that maximizes the activation\n",
        "        # of the nth filter of the layer considered\n",
        "        loss = K.mean(layer_output[:, :, :, filter_index])\n",
        "\n",
        "        # compute the gradient of the input picture wrt this loss\n",
        "        grads = K.gradients(loss, model.input)[0]\n",
        "\n",
        "        # normalization trick: we normalize the gradient\n",
        "        grads /= (K.sqrt(K.mean(K.square(grads))) + 1e-5)\n",
        "\n",
        "        # this function returns the loss and grads given the input picture\n",
        "        iterate = K.function([model.input], [loss, grads])\n",
        "\n",
        "        # step size for gradient ascent\n",
        "        step = 5.\n",
        "\n",
        "        img_asc = np.array(img)\n",
        "        # run gradient ascent for 20 steps\n",
        "        for i in range(20):\n",
        "            loss_value, grads_value = iterate([img_asc])\n",
        "            img_asc += grads_value * step\n",
        "\n",
        "        img_asc = img_asc[0]\n",
        "        img_ascs.append(deprocess_image(img_asc).reshape((28, 28)))\n",
        "        \n",
        "    if layer_output.shape[3] >= 35:\n",
        "        plot_x, plot_y = 6, 6\n",
        "    elif layer_output.shape[3] >= 23:\n",
        "        plot_x, plot_y = 4, 6\n",
        "    elif layer_output.shape[3] >= 11:\n",
        "        plot_x, plot_y = 2, 6\n",
        "    else:\n",
        "        plot_x, plot_y = 1, 2\n",
        "    fig, ax = plt.subplots(plot_x, plot_y, figsize = (12, 12))\n",
        "    ax[0, 0].imshow(img.reshape((28, 28)), cmap = 'gray')\n",
        "    ax[0, 0].set_title('Input image')\n",
        "    fig.suptitle('Input image and %s filters' % (layer_name,))\n",
        "    fig.tight_layout(pad = 0.3, rect = [0, 0, 0.9, 0.9])\n",
        "    for (x, y) in [(i, j) for i in range(plot_x) for j in range(plot_y)]:\n",
        "        if x == 0 and y == 0:\n",
        "            continue\n",
        "        ax[x, y].imshow(img_ascs[x * plot_y + y - 1], cmap = 'gray')\n",
        "        ax[x, y].set_title('filter %d' % (x * plot_y + y - 1))\n",
        "\n",
        "vis_img_in_filter()"
      ],
      "execution_count": 0,
      "outputs": []
    }
  ]
}